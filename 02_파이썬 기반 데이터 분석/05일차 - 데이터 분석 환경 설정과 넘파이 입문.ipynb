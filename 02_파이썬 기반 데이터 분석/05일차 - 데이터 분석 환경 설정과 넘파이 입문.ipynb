{
 "cells": [
  {
   "cell_type": "markdown",
   "id": "75b496ec-67ef-46f7-bd6a-11f8de565156",
   "metadata": {
    "tags": []
   },
   "source": [
    "# 데이터 분석 환경 설정과 넘파이 입문"
   ]
  },
  {
   "cell_type": "markdown",
   "id": "7780599a-2f08-4dda-a890-d3b937b1a478",
   "metadata": {},
   "source": [
    "## sckit-learn, 머신러닝 패키지 버전 설치하기\n",
    "아나콘다 프롬프트에서 설치를 진행해야 한다. !를 제외한 명령어를 실행하면 된다."
   ]
  },
  {
   "cell_type": "code",
   "execution_count": 9,
   "id": "5774c544-6d84-4682-8460-d872178e328c",
   "metadata": {},
   "outputs": [
    {
     "name": "stdout",
     "output_type": "stream",
     "text": [
      "Requirement already satisfied: scikit-learn==1.0.2 in c:\\users\\isc03\\anaconda3\\lib\\site-packages (1.0.2)\n",
      "Requirement already satisfied: joblib>=0.11 in c:\\users\\isc03\\anaconda3\\lib\\site-packages (from scikit-learn==1.0.2) (1.1.0)\n",
      "Requirement already satisfied: scipy>=1.1.0 in c:\\users\\isc03\\anaconda3\\lib\\site-packages (from scikit-learn==1.0.2) (1.7.3)\n",
      "Requirement already satisfied: numpy>=1.14.6 in c:\\users\\isc03\\anaconda3\\lib\\site-packages (from scikit-learn==1.0.2) (1.21.5)\n",
      "Requirement already satisfied: threadpoolctl>=2.0.0 in c:\\users\\isc03\\anaconda3\\lib\\site-packages (from scikit-learn==1.0.2) (2.2.0)\n"
     ]
    }
   ],
   "source": [
    "!pip install scikit-learn==1.0.2"
   ]
  },
  {
   "cell_type": "code",
   "execution_count": 10,
   "id": "77140eb8-efc0-461b-ab15-66e05b9cf2d0",
   "metadata": {},
   "outputs": [
    {
     "name": "stdout",
     "output_type": "stream",
     "text": [
      "Collecting package metadata (current_repodata.json): ...working... done\n",
      "Solving environment: ...working... done\n",
      "\n",
      "# All requested packages already installed.\n",
      "\n",
      "Retrieving notices: ...working... done\n"
     ]
    }
   ],
   "source": [
    "!conda install py-xgboost==1.5.0"
   ]
  },
  {
   "cell_type": "code",
   "execution_count": 11,
   "id": "2ad4940e-b56b-472d-9503-b2c250429e8d",
   "metadata": {},
   "outputs": [
    {
     "name": "stdout",
     "output_type": "stream",
     "text": [
      "^C\n"
     ]
    }
   ],
   "source": [
    "!conda install -c conda-forge lightgbm==3.3.2"
   ]
  },
  {
   "cell_type": "markdown",
   "id": "cd1f012f-142b-4654-b7ed-c7a25afd9432",
   "metadata": {},
   "source": [
    "설치된 라이브러리의 버전을 확인한다."
   ]
  },
  {
   "cell_type": "code",
   "execution_count": 1,
   "id": "c6cd3c0e-b035-4f9d-9fd8-19b73acdf1d7",
   "metadata": {},
   "outputs": [
    {
     "data": {
      "text/plain": [
       "'1.0.2'"
      ]
     },
     "execution_count": 1,
     "metadata": {},
     "output_type": "execute_result"
    }
   ],
   "source": [
    "import sklearn\n",
    "\n",
    "sklearn.__version__"
   ]
  },
  {
   "cell_type": "code",
   "execution_count": 2,
   "id": "854ca973-bc8b-4ce8-80be-c24bf1ae434a",
   "metadata": {},
   "outputs": [
    {
     "name": "stderr",
     "output_type": "stream",
     "text": [
      "C:\\Users\\isc03\\anaconda3\\lib\\site-packages\\xgboost\\compat.py:36: FutureWarning: pandas.Int64Index is deprecated and will be removed from pandas in a future version. Use pandas.Index with the appropriate dtype instead.\n",
      "  from pandas import MultiIndex, Int64Index\n"
     ]
    },
    {
     "data": {
      "text/plain": [
       "'1.5.0'"
      ]
     },
     "execution_count": 2,
     "metadata": {},
     "output_type": "execute_result"
    }
   ],
   "source": [
    "import xgboost\n",
    "\n",
    "xgboost.__version__"
   ]
  },
  {
   "cell_type": "code",
   "execution_count": 3,
   "id": "ddd189ce-ef5a-46a2-9e07-2da8e840538f",
   "metadata": {},
   "outputs": [
    {
     "data": {
      "text/plain": [
       "'3.3.2'"
      ]
     },
     "execution_count": 3,
     "metadata": {},
     "output_type": "execute_result"
    }
   ],
   "source": [
    "import lightgbm\n",
    "\n",
    "lightgbm.__version__"
   ]
  },
  {
   "cell_type": "markdown",
   "id": "1da63b11-ff50-4d22-a8d7-46aee4c554ff",
   "metadata": {},
   "source": [
    "# 넘파이\n",
    "## 넘파이 배열 생성하기\n",
    "numpy는 아나콘다 설치 시 기본으로 설치되어 있다."
   ]
  },
  {
   "cell_type": "code",
   "execution_count": 4,
   "id": "8cf2105d-c2d4-47c3-9d84-261df2d11e77",
   "metadata": {},
   "outputs": [],
   "source": [
    "import numpy as np # 별칭을 사용해서 임포트한다."
   ]
  },
  {
   "cell_type": "markdown",
   "id": "3b1633df-139b-4c86-8f78-5236b8871fbc",
   "metadata": {},
   "source": [
    "np의 기능을 활용해 배열을 생성한다."
   ]
  },
  {
   "cell_type": "code",
   "execution_count": 5,
   "id": "6a8b5f58-3203-4c3a-b447-6f10273d4d1c",
   "metadata": {},
   "outputs": [
    {
     "data": {
      "text/plain": [
       "array([0, 1, 2, 3, 4, 5, 6, 7, 8, 9])"
      ]
     },
     "execution_count": 5,
     "metadata": {},
     "output_type": "execute_result"
    }
   ],
   "source": [
    "arr0 = np.arange(0,10) # 파이썬의 range 와 기능이 유사하다.\n",
    "arr0"
   ]
  },
  {
   "cell_type": "markdown",
   "id": "a8f14c0a-e0eb-42df-9590-2f343f5d0858",
   "metadata": {},
   "source": [
    "arr0의 인덱스를 사용하면 데이터를 각각 추출해서 확인할 수 있다."
   ]
  },
  {
   "cell_type": "code",
   "execution_count": 6,
   "id": "d34d92df-b50c-4c8b-8462-3c26ae074a98",
   "metadata": {},
   "outputs": [
    {
     "data": {
      "text/plain": [
       "0"
      ]
     },
     "execution_count": 6,
     "metadata": {},
     "output_type": "execute_result"
    }
   ],
   "source": [
    "arr0[0]"
   ]
  },
  {
   "cell_type": "code",
   "execution_count": 7,
   "id": "f6af9093-96e6-4a77-8bd9-2244ae1ba444",
   "metadata": {},
   "outputs": [
    {
     "data": {
      "text/plain": [
       "9"
      ]
     },
     "execution_count": 7,
     "metadata": {},
     "output_type": "execute_result"
    }
   ],
   "source": [
    "arr0[-1]"
   ]
  },
  {
   "cell_type": "code",
   "execution_count": 8,
   "id": "009f8e8a-9cff-4395-bc1b-ef2b3f6d9688",
   "metadata": {},
   "outputs": [
    {
     "data": {
      "text/plain": [
       "array([5, 6])"
      ]
     },
     "execution_count": 8,
     "metadata": {},
     "output_type": "execute_result"
    }
   ],
   "source": [
    "arr0[5:7]"
   ]
  },
  {
   "cell_type": "markdown",
   "id": "6714cebf-b056-4224-8f00-9c0554035794",
   "metadata": {},
   "source": [
    "shape를 확인하면 현재 리스트가 어떤 모양으로 구성되었는지 확인할 수 있다."
   ]
  },
  {
   "cell_type": "code",
   "execution_count": 9,
   "id": "c91a9899-1819-4bed-83f4-fa66c21aebdc",
   "metadata": {},
   "outputs": [
    {
     "data": {
      "text/plain": [
       "(10,)"
      ]
     },
     "execution_count": 9,
     "metadata": {},
     "output_type": "execute_result"
    }
   ],
   "source": [
    "arr0.shape # 행렬의 모양을 설명한다."
   ]
  },
  {
   "cell_type": "markdown",
   "id": "994971cc-4f17-43ba-9de2-6a3c6e6fc0e9",
   "metadata": {},
   "source": [
    "기본 파이썬 리스트를 사용해서 ndarray을 생성할 수 있다."
   ]
  },
  {
   "cell_type": "code",
   "execution_count": 10,
   "id": "96a974e0-3998-4342-86a5-525155995905",
   "metadata": {},
   "outputs": [
    {
     "data": {
      "text/plain": [
       "array([1, 2, 3, 4, 5])"
      ]
     },
     "execution_count": 10,
     "metadata": {},
     "output_type": "execute_result"
    }
   ],
   "source": [
    "# 리스트 생성\n",
    "list0 = [1, 2, 3, 4, 5]\n",
    "arr1 = np.array(list0) # 리스트를 ndarray로 변환해서 반환\n",
    "arr1"
   ]
  },
  {
   "cell_type": "markdown",
   "id": "2b7fd3e5-be5a-40b8-a038-46afd777dba5",
   "metadata": {},
   "source": [
    "각 요소에 담은 데이터 형을 출력해보자."
   ]
  },
  {
   "cell_type": "code",
   "execution_count": 11,
   "id": "e2034801-4f20-42ee-92f5-9dd3f38b2248",
   "metadata": {},
   "outputs": [
    {
     "data": {
      "text/plain": [
       "dtype('int32')"
      ]
     },
     "execution_count": 11,
     "metadata": {},
     "output_type": "execute_result"
    }
   ],
   "source": [
    "arr1.dtype # 현재는 기본 설정으로 int32가 구성된다."
   ]
  },
  {
   "cell_type": "markdown",
   "id": "cd20abc3-faf9-4700-b675-fec0049ab480",
   "metadata": {},
   "source": [
    "데이터 타입을 정하고 싶은 경우에는 int32나 int64와 같이 데이터형을 정해주는 것이 좋다."
   ]
  },
  {
   "cell_type": "code",
   "execution_count": 12,
   "id": "60ec8995-f895-4923-9232-465abdd7469c",
   "metadata": {},
   "outputs": [
    {
     "data": {
      "text/plain": [
       "dtype('int64')"
      ]
     },
     "execution_count": 12,
     "metadata": {},
     "output_type": "execute_result"
    }
   ],
   "source": [
    "arr2 = np.array(list0, dtype=\"int64\")\n",
    "arr2.dtype"
   ]
  },
  {
   "cell_type": "markdown",
   "id": "d677f187-a254-4c07-bc1a-9425da959ffc",
   "metadata": {},
   "source": [
    "## 2차원 배열 만들기"
   ]
  },
  {
   "cell_type": "code",
   "execution_count": 13,
   "id": "40f61497-67fd-44c4-a48b-ecd78fcf4af0",
   "metadata": {},
   "outputs": [
    {
     "data": {
      "text/plain": [
       "array([[1, 2],\n",
       "       [3, 4]])"
      ]
     },
     "execution_count": 13,
     "metadata": {},
     "output_type": "execute_result"
    }
   ],
   "source": [
    "list1 = [[1, 2],\n",
    "         [3, 4]] # 2차원 데이터 2x2\n",
    "\n",
    "# 2차원 ndarray 구성하기\n",
    "arr1 = np.array(list1)\n",
    "arr1"
   ]
  },
  {
   "cell_type": "code",
   "execution_count": 14,
   "id": "943d4822-a3de-4283-a3d2-6676e26d7ed9",
   "metadata": {},
   "outputs": [
    {
     "data": {
      "text/plain": [
       "(2, 2)"
      ]
     },
     "execution_count": 14,
     "metadata": {},
     "output_type": "execute_result"
    }
   ],
   "source": [
    "arr1.shape"
   ]
  },
  {
   "cell_type": "markdown",
   "id": "4e324c1e-320a-4022-9627-a98ef27ee9e3",
   "metadata": {},
   "source": [
    "2차원 배열도 인덱싱이 가능하다."
   ]
  },
  {
   "cell_type": "code",
   "execution_count": 15,
   "id": "5ae5060c-4f0e-4c71-9d37-2295e51d0b84",
   "metadata": {},
   "outputs": [
    {
     "data": {
      "text/plain": [
       "array([1, 2])"
      ]
     },
     "execution_count": 15,
     "metadata": {},
     "output_type": "execute_result"
    }
   ],
   "source": [
    "arr1[0] # 0번째 행을 가져옴"
   ]
  },
  {
   "cell_type": "code",
   "execution_count": 16,
   "id": "3726ea8d-7f15-45d9-952f-ee9b7256ed16",
   "metadata": {},
   "outputs": [
    {
     "data": {
      "text/plain": [
       "1"
      ]
     },
     "execution_count": 16,
     "metadata": {},
     "output_type": "execute_result"
    }
   ],
   "source": [
    "arr1[0][0] # 0번쨰 행에서 0번째 열을 가져온다."
   ]
  },
  {
   "cell_type": "code",
   "execution_count": 17,
   "id": "909e896d-1771-42fd-b974-87fc02c1bd11",
   "metadata": {},
   "outputs": [
    {
     "data": {
      "text/plain": [
       "2"
      ]
     },
     "execution_count": 17,
     "metadata": {},
     "output_type": "execute_result"
    }
   ],
   "source": [
    "arr1[0][1] # 0번쨰 행에서 1번째 열을 가져온다."
   ]
  },
  {
   "cell_type": "code",
   "execution_count": 18,
   "id": "43c4f9e0-58a1-4f54-8165-951df5fa4e63",
   "metadata": {},
   "outputs": [
    {
     "data": {
      "text/plain": [
       "3"
      ]
     },
     "execution_count": 18,
     "metadata": {},
     "output_type": "execute_result"
    }
   ],
   "source": [
    "arr1[1][0] # 1번째 행에서 0번째 열을 가져온다."
   ]
  },
  {
   "cell_type": "code",
   "execution_count": 19,
   "id": "ae94f0be-4edd-413e-93f5-7da6b4244659",
   "metadata": {},
   "outputs": [
    {
     "data": {
      "text/plain": [
       "4"
      ]
     },
     "execution_count": 19,
     "metadata": {},
     "output_type": "execute_result"
    }
   ],
   "source": [
    "arr1[1][1] # 1번째 행에서 1번째 열을 가져온다."
   ]
  },
  {
   "cell_type": "markdown",
   "id": "b4db4cdb-bdb5-41c1-910d-2cca1c7e12e2",
   "metadata": {},
   "source": [
    "배열의 연산"
   ]
  },
  {
   "cell_type": "code",
   "execution_count": 20,
   "id": "a6fef015-b5ff-43f2-8fa4-57c8c0323fa6",
   "metadata": {},
   "outputs": [
    {
     "data": {
      "text/plain": [
       "array([[3, 4],\n",
       "       [5, 6]])"
      ]
     },
     "execution_count": 20,
     "metadata": {},
     "output_type": "execute_result"
    }
   ],
   "source": [
    "arr1 + 2 # +2는 각각의 요소에 분배되어 연산된다."
   ]
  },
  {
   "cell_type": "code",
   "execution_count": 21,
   "id": "754d0d5a-3fc0-4208-a963-72c7a034837a",
   "metadata": {},
   "outputs": [
    {
     "data": {
      "text/plain": [
       "array([[2, 4],\n",
       "       [6, 8]])"
      ]
     },
     "execution_count": 21,
     "metadata": {},
     "output_type": "execute_result"
    }
   ],
   "source": [
    "arr1 * 2 # *2는 각각의 요소에 분배되어 연산된다."
   ]
  },
  {
   "cell_type": "markdown",
   "id": "b1fbe143-3b2b-4357-bed8-d540eebd5961",
   "metadata": {},
   "source": [
    "2차원 배열 인덱싱"
   ]
  },
  {
   "cell_type": "code",
   "execution_count": 25,
   "id": "2a59d888-c216-433b-94a7-6be069384e96",
   "metadata": {},
   "outputs": [
    {
     "data": {
      "text/plain": [
       "array([[3, 4]])"
      ]
     },
     "execution_count": 25,
     "metadata": {},
     "output_type": "execute_result"
    }
   ],
   "source": [
    "arr1[1:3] # 2번째 행을 반환하며 뒤에 내용이 없어도 오류는 없다. 1,2"
   ]
  },
  {
   "cell_type": "code",
   "execution_count": 28,
   "id": "da3a9f47-56e3-4568-acc8-3b918b661ddf",
   "metadata": {},
   "outputs": [
    {
     "data": {
      "text/plain": [
       "array([[3, 4]])"
      ]
     },
     "execution_count": 28,
     "metadata": {},
     "output_type": "execute_result"
    }
   ],
   "source": [
    "arr1[1:2] # 1"
   ]
  },
  {
   "cell_type": "code",
   "execution_count": 26,
   "id": "4fffa09a-5d40-41a7-bbcc-312c345838d3",
   "metadata": {},
   "outputs": [
    {
     "data": {
      "text/plain": [
       "array([2])"
      ]
     },
     "execution_count": 26,
     "metadata": {},
     "output_type": "execute_result"
    }
   ],
   "source": [
    "arr1[0,1:] # 배열을 반환"
   ]
  },
  {
   "cell_type": "code",
   "execution_count": 27,
   "id": "c92a9708-ee69-499a-bfb5-30abee06ae08",
   "metadata": {},
   "outputs": [
    {
     "data": {
      "text/plain": [
       "2"
      ]
     },
     "execution_count": 27,
     "metadata": {},
     "output_type": "execute_result"
    }
   ],
   "source": [
    "arr1[0,1] # 정확히 하나만 인덱싱하면 그 데이터가 나온다."
   ]
  },
  {
   "cell_type": "markdown",
   "id": "c38c61f7-25e2-4df0-82a8-8d3028d6333b",
   "metadata": {},
   "source": [
    "## 넘파이 비어있는 배열 생성하기\n",
    "값을 초기화하지 않은 배열"
   ]
  },
  {
   "cell_type": "code",
   "execution_count": 29,
   "id": "4d07d62b-188e-421f-bd1c-9e504246caf7",
   "metadata": {},
   "outputs": [
    {
     "data": {
      "text/plain": [
       "array([[6.23042070e-307, 4.67296746e-307],\n",
       "       [1.69121096e-306, 8.45606157e-307]])"
      ]
     },
     "execution_count": 29,
     "metadata": {},
     "output_type": "execute_result"
    }
   ],
   "source": [
    "np.empty([2,2])"
   ]
  },
  {
   "cell_type": "markdown",
   "id": "76c731b5-fd4a-4797-ad96-cdc5079831aa",
   "metadata": {},
   "source": [
    "값을 0으로 초기화한 배열"
   ]
  },
  {
   "cell_type": "code",
   "execution_count": 30,
   "id": "b80716d9-891d-4477-8e2a-f80a40d19ed0",
   "metadata": {},
   "outputs": [
    {
     "data": {
      "text/plain": [
       "array([[0., 0.],\n",
       "       [0., 0.]])"
      ]
     },
     "execution_count": 30,
     "metadata": {},
     "output_type": "execute_result"
    }
   ],
   "source": [
    "np.zeros([2,2])"
   ]
  },
  {
   "cell_type": "code",
   "execution_count": 31,
   "id": "c85598d4-45eb-40c9-9150-c699013a79a8",
   "metadata": {},
   "outputs": [
    {
     "data": {
      "text/plain": [
       "array([[0, 0],\n",
       "       [0, 0]])"
      ]
     },
     "execution_count": 31,
     "metadata": {},
     "output_type": "execute_result"
    }
   ],
   "source": [
    "np.zeros([2,2], dtype=\"int32\")"
   ]
  },
  {
   "cell_type": "markdown",
   "id": "4a51278a-091d-410a-8a3a-4d73b45383ed",
   "metadata": {},
   "source": [
    "## 랜덤한 배열 생성하기"
   ]
  },
  {
   "cell_type": "code",
   "execution_count": 32,
   "id": "05b97a54-a902-49ee-a685-ebe1da0a20ff",
   "metadata": {},
   "outputs": [
    {
     "data": {
      "text/plain": [
       "array([[ 0.21827943, -0.04595795, -1.39059641, -0.19313528,  2.78106248,\n",
       "        -0.71637128],\n",
       "       [-0.59036992, -1.40245047, -0.26960825,  0.97443089,  1.64306249,\n",
       "        -0.38094676],\n",
       "       [-0.10952019, -1.54461366, -1.61641559, -0.94838961, -0.75770153,\n",
       "        -1.58303134],\n",
       "       [ 1.73944857,  0.81562923, -0.5625429 , -0.59447634,  0.43586411,\n",
       "        -0.42478941]])"
      ]
     },
     "execution_count": 32,
     "metadata": {},
     "output_type": "execute_result"
    }
   ],
   "source": [
    "np.random.randn(4,6) # 정규화된 랜덤 값을 리턴 "
   ]
  },
  {
   "cell_type": "code",
   "execution_count": 38,
   "id": "480f4c31-94a9-420c-9b81-853afcfd7255",
   "metadata": {},
   "outputs": [
    {
     "data": {
      "text/plain": [
       "array([[7, 9, 6, 1, 9, 9, 1, 3, 5, 6, 5, 9, 6, 6, 1, 8, 3, 7, 2, 1, 9, 4],\n",
       "       [1, 2, 9, 3, 8, 5, 3, 2, 2, 4, 3, 7, 4, 1, 1, 3, 4, 9, 1, 1, 2, 5],\n",
       "       [3, 8, 3, 2, 3, 1, 2, 6, 4, 6, 4, 6, 8, 9, 9, 2, 3, 1, 1, 2, 6, 2],\n",
       "       [7, 4, 2, 1, 8, 2, 2, 4, 8, 6, 1, 7, 5, 4, 9, 2, 9, 5, 3, 9, 2, 3],\n",
       "       [7, 4, 8, 9, 4, 4, 5, 9, 6, 5, 7, 1, 6, 3, 1, 5, 2, 8, 9, 5, 9, 7],\n",
       "       [3, 1, 2, 1, 9, 6, 3, 6, 3, 1, 6, 3, 7, 3, 5, 1, 3, 1, 7, 2, 4, 5],\n",
       "       [6, 6, 3, 2, 9, 4, 7, 9, 1, 7, 7, 8, 1, 2, 5, 3, 7, 7, 9, 3, 7, 4],\n",
       "       [4, 4, 2, 1, 9, 2, 1, 3, 9, 5, 5, 5, 7, 3, 1, 2, 4, 6, 4, 6, 1, 6],\n",
       "       [1, 4, 5, 8, 3, 2, 8, 7, 1, 6, 8, 3, 7, 8, 4, 9, 6, 9, 1, 3, 7, 3],\n",
       "       [4, 5, 5, 5, 4, 6, 8, 8, 8, 6, 2, 3, 7, 9, 9, 5, 6, 8, 1, 8, 2, 3]])"
      ]
     },
     "execution_count": 38,
     "metadata": {},
     "output_type": "execute_result"
    }
   ],
   "source": [
    "np.random.randint(1,10, size=[10,22]) # 정수 범위 1~10, 배열의 모양은 10,22"
   ]
  },
  {
   "cell_type": "code",
   "execution_count": null,
   "id": "82b921e6-6d89-4af7-8ea3-f06143a32094",
   "metadata": {},
   "outputs": [],
   "source": []
  }
 ],
 "metadata": {
  "kernelspec": {
   "display_name": "Python 3 (ipykernel)",
   "language": "python",
   "name": "python3"
  },
  "language_info": {
   "codemirror_mode": {
    "name": "ipython",
    "version": 3
   },
   "file_extension": ".py",
   "mimetype": "text/x-python",
   "name": "python",
   "nbconvert_exporter": "python",
   "pygments_lexer": "ipython3",
   "version": "3.9.13"
  },
  "toc-showmarkdowntxt": false
 },
 "nbformat": 4,
 "nbformat_minor": 5
}
