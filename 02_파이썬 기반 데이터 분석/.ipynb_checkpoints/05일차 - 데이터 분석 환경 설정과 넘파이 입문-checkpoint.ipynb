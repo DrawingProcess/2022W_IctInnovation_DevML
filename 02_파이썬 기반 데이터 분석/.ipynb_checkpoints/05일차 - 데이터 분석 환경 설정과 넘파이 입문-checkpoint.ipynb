{
 "cells": [
  {
   "cell_type": "markdown",
   "id": "75b496ec-67ef-46f7-bd6a-11f8de565156",
   "metadata": {
    "tags": []
   },
   "source": [
    "# 데이터 분석 환경 설정과 넘파이 입문"
   ]
  },
  {
   "cell_type": "markdown",
   "id": "7780599a-2f08-4dda-a890-d3b937b1a478",
   "metadata": {},
   "source": [
    "## sckit-learn, 머신러닝 패키지 버전 설치하기\n",
    "아나콘다 프롬프트에서 설치를 진행해야 한다. !를 제외한 명령어를 실행하면 된다."
   ]
  },
  {
   "cell_type": "code",
   "execution_count": 9,
   "id": "5774c544-6d84-4682-8460-d872178e328c",
   "metadata": {},
   "outputs": [
    {
     "name": "stdout",
     "output_type": "stream",
     "text": [
      "Requirement already satisfied: scikit-learn==1.0.2 in c:\\users\\isc03\\anaconda3\\lib\\site-packages (1.0.2)\n",
      "Requirement already satisfied: joblib>=0.11 in c:\\users\\isc03\\anaconda3\\lib\\site-packages (from scikit-learn==1.0.2) (1.1.0)\n",
      "Requirement already satisfied: scipy>=1.1.0 in c:\\users\\isc03\\anaconda3\\lib\\site-packages (from scikit-learn==1.0.2) (1.7.3)\n",
      "Requirement already satisfied: numpy>=1.14.6 in c:\\users\\isc03\\anaconda3\\lib\\site-packages (from scikit-learn==1.0.2) (1.21.5)\n",
      "Requirement already satisfied: threadpoolctl>=2.0.0 in c:\\users\\isc03\\anaconda3\\lib\\site-packages (from scikit-learn==1.0.2) (2.2.0)\n"
     ]
    }
   ],
   "source": [
    "!pip install scikit-learn==1.0.2"
   ]
  },
  {
   "cell_type": "code",
   "execution_count": 10,
   "id": "77140eb8-efc0-461b-ab15-66e05b9cf2d0",
   "metadata": {},
   "outputs": [
    {
     "name": "stdout",
     "output_type": "stream",
     "text": [
      "Collecting package metadata (current_repodata.json): ...working... done\n",
      "Solving environment: ...working... done\n",
      "\n",
      "# All requested packages already installed.\n",
      "\n",
      "Retrieving notices: ...working... done\n"
     ]
    }
   ],
   "source": [
    "!conda install py-xgboost==1.5.0"
   ]
  },
  {
   "cell_type": "code",
   "execution_count": 11,
   "id": "2ad4940e-b56b-472d-9503-b2c250429e8d",
   "metadata": {},
   "outputs": [
    {
     "name": "stdout",
     "output_type": "stream",
     "text": [
      "^C\n"
     ]
    }
   ],
   "source": [
    "!conda install -c conda-forge lightgbm==3.3.2"
   ]
  },
  {
   "cell_type": "markdown",
   "id": "cd1f012f-142b-4654-b7ed-c7a25afd9432",
   "metadata": {},
   "source": [
    "설치된 라이브러리의 버전을 확인한다."
   ]
  },
  {
   "cell_type": "code",
   "execution_count": 6,
   "id": "c6cd3c0e-b035-4f9d-9fd8-19b73acdf1d7",
   "metadata": {},
   "outputs": [
    {
     "data": {
      "text/plain": [
       "'1.0.2'"
      ]
     },
     "execution_count": 6,
     "metadata": {},
     "output_type": "execute_result"
    }
   ],
   "source": [
    "import sklearn\n",
    "\n",
    "sklearn.__version__"
   ]
  },
  {
   "cell_type": "code",
   "execution_count": 7,
   "id": "854ca973-bc8b-4ce8-80be-c24bf1ae434a",
   "metadata": {},
   "outputs": [
    {
     "name": "stderr",
     "output_type": "stream",
     "text": [
      "C:\\Users\\isc03\\anaconda3\\lib\\site-packages\\xgboost\\compat.py:36: FutureWarning: pandas.Int64Index is deprecated and will be removed from pandas in a future version. Use pandas.Index with the appropriate dtype instead.\n",
      "  from pandas import MultiIndex, Int64Index\n"
     ]
    },
    {
     "data": {
      "text/plain": [
       "'1.5.0'"
      ]
     },
     "execution_count": 7,
     "metadata": {},
     "output_type": "execute_result"
    }
   ],
   "source": [
    "import xgboost\n",
    "\n",
    "xgboost.__version__"
   ]
  },
  {
   "cell_type": "code",
   "execution_count": 8,
   "id": "ddd189ce-ef5a-46a2-9e07-2da8e840538f",
   "metadata": {},
   "outputs": [
    {
     "ename": "ModuleNotFoundError",
     "evalue": "No module named 'lightgbm'",
     "output_type": "error",
     "traceback": [
      "\u001b[1;31m---------------------------------------------------------------------------\u001b[0m",
      "\u001b[1;31mModuleNotFoundError\u001b[0m                       Traceback (most recent call last)",
      "Input \u001b[1;32mIn [8]\u001b[0m, in \u001b[0;36m<cell line: 1>\u001b[1;34m()\u001b[0m\n\u001b[1;32m----> 1\u001b[0m \u001b[38;5;28;01mimport\u001b[39;00m \u001b[38;5;21;01mlightgbm\u001b[39;00m\n\u001b[0;32m      3\u001b[0m lightgbm\u001b[38;5;241m.\u001b[39m__version__\n",
      "\u001b[1;31mModuleNotFoundError\u001b[0m: No module named 'lightgbm'"
     ]
    }
   ],
   "source": [
    "import lightgbm\n",
    "\n",
    "lightgbm.__version__"
   ]
  },
  {
   "cell_type": "markdown",
   "id": "1da63b11-ff50-4d22-a8d7-46aee4c554ff",
   "metadata": {},
   "source": [
    "# 넘파이\n",
    "## 넘파이 배열 생성하기\n",
    "numpy는 아나콘다 설치 시 기본으로 설치되어 있다."
   ]
  },
  {
   "cell_type": "code",
   "execution_count": 13,
   "id": "8cf2105d-c2d4-47c3-9d84-261df2d11e77",
   "metadata": {},
   "outputs": [],
   "source": [
    "import numpy as np # 별칭을 사용해서 임포트한다."
   ]
  },
  {
   "cell_type": "markdown",
   "id": "3b1633df-139b-4c86-8f78-5236b8871fbc",
   "metadata": {},
   "source": [
    "np의 기능을 활용해 배열을 생성한다."
   ]
  },
  {
   "cell_type": "code",
   "execution_count": 15,
   "id": "6a8b5f58-3203-4c3a-b447-6f10273d4d1c",
   "metadata": {},
   "outputs": [
    {
     "data": {
      "text/plain": [
       "array([0, 1, 2, 3, 4, 5, 6, 7, 8, 9])"
      ]
     },
     "execution_count": 15,
     "metadata": {},
     "output_type": "execute_result"
    }
   ],
   "source": [
    "arr0 = np.arange(0,10) # 파이썬의 range 와 기능이 유사하다.\n",
    "arr0"
   ]
  },
  {
   "cell_type": "markdown",
   "id": "a8f14c0a-e0eb-42df-9590-2f343f5d0858",
   "metadata": {},
   "source": [
    "arr0의 인덱스를 사용하면 데이터를 각각 추출해서 확인할 수 있다."
   ]
  },
  {
   "cell_type": "code",
   "execution_count": 16,
   "id": "d34d92df-b50c-4c8b-8462-3c26ae074a98",
   "metadata": {},
   "outputs": [
    {
     "data": {
      "text/plain": [
       "0"
      ]
     },
     "execution_count": 16,
     "metadata": {},
     "output_type": "execute_result"
    }
   ],
   "source": [
    "arr0[0]"
   ]
  },
  {
   "cell_type": "code",
   "execution_count": 17,
   "id": "f6af9093-96e6-4a77-8bd9-2244ae1ba444",
   "metadata": {},
   "outputs": [
    {
     "data": {
      "text/plain": [
       "9"
      ]
     },
     "execution_count": 17,
     "metadata": {},
     "output_type": "execute_result"
    }
   ],
   "source": [
    "arr0[-1]"
   ]
  },
  {
   "cell_type": "code",
   "execution_count": 18,
   "id": "009f8e8a-9cff-4395-bc1b-ef2b3f6d9688",
   "metadata": {},
   "outputs": [
    {
     "data": {
      "text/plain": [
       "array([5, 6])"
      ]
     },
     "execution_count": 18,
     "metadata": {},
     "output_type": "execute_result"
    }
   ],
   "source": [
    "arr0[5:7]"
   ]
  },
  {
   "cell_type": "markdown",
   "id": "6714cebf-b056-4224-8f00-9c0554035794",
   "metadata": {},
   "source": [
    "shape를 확인하면 현재 리스트가 어떤 모양으로 구성되었는지 확인할 수 있다."
   ]
  },
  {
   "cell_type": "code",
   "execution_count": 20,
   "id": "c91a9899-1819-4bed-83f4-fa66c21aebdc",
   "metadata": {},
   "outputs": [
    {
     "data": {
      "text/plain": [
       "(10,)"
      ]
     },
     "execution_count": 20,
     "metadata": {},
     "output_type": "execute_result"
    }
   ],
   "source": [
    "arr0.shape # 행렬의 모양을 설명한다."
   ]
  },
  {
   "cell_type": "markdown",
   "id": "994971cc-4f17-43ba-9de2-6a3c6e6fc0e9",
   "metadata": {},
   "source": [
    "기본 파이썬 리스트를 사용해서 ndarray을 생성할 수 있다."
   ]
  },
  {
   "cell_type": "code",
   "execution_count": 23,
   "id": "96a974e0-3998-4342-86a5-525155995905",
   "metadata": {},
   "outputs": [
    {
     "data": {
      "text/plain": [
       "array([1, 2, 3, 4, 5])"
      ]
     },
     "execution_count": 23,
     "metadata": {},
     "output_type": "execute_result"
    }
   ],
   "source": [
    "# 리스트 생성\n",
    "list0 = [1, 2, 3, 4, 5]\n",
    "arr1 = np.array(list0) # 리스트를 ndarray로 변환해서 반환\n",
    "arr1"
   ]
  },
  {
   "cell_type": "markdown",
   "id": "2b7fd3e5-be5a-40b8-a038-46afd777dba5",
   "metadata": {},
   "source": [
    "각 요소에 담은 데이터 형을 출력해보자."
   ]
  },
  {
   "cell_type": "code",
   "execution_count": 24,
   "id": "e2034801-4f20-42ee-92f5-9dd3f38b2248",
   "metadata": {},
   "outputs": [
    {
     "data": {
      "text/plain": [
       "dtype('int32')"
      ]
     },
     "execution_count": 24,
     "metadata": {},
     "output_type": "execute_result"
    }
   ],
   "source": [
    "arr1.dtype # "
   ]
  },
  {
   "cell_type": "code",
   "execution_count": null,
   "id": "60ec8995-f895-4923-9232-465abdd7469c",
   "metadata": {},
   "outputs": [],
   "source": []
  }
 ],
 "metadata": {
  "kernelspec": {
   "display_name": "Python 3 (ipykernel)",
   "language": "python",
   "name": "python3"
  },
  "language_info": {
   "codemirror_mode": {
    "name": "ipython",
    "version": 3
   },
   "file_extension": ".py",
   "mimetype": "text/x-python",
   "name": "python",
   "nbconvert_exporter": "python",
   "pygments_lexer": "ipython3",
   "version": "3.9.12"
  }
 },
 "nbformat": 4,
 "nbformat_minor": 5
}
