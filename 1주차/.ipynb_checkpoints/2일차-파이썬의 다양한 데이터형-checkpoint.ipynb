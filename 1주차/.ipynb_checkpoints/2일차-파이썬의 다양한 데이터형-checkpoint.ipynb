{
 "cells": [
  {
   "cell_type": "markdown",
   "id": "e796c5e3-0789-40e6-9613-72a47a94692e",
   "metadata": {},
   "source": [
    "# 2일차 - 파이썬의 다양한 데이터형\n",
    "1. 아나콘다 설치와 주피터랩 실행\n",
    "2. 파이썬의 다양한 데이터형"
   ]
  },
  {
   "cell_type": "code",
   "execution_count": 1,
   "id": "4cc010c3-dd6d-44b7-9da9-03f2ceb3c041",
   "metadata": {},
   "outputs": [
    {
     "name": "stdout",
     "output_type": "stream",
     "text": [
      "Hello Jupyter Lab.\n"
     ]
    }
   ],
   "source": [
    "print(\"Hello Jupyter Lab.\")"
   ]
  },
  {
   "cell_type": "markdown",
   "id": "5c406fbd-86af-4ca9-acfd-6459fbfab372",
   "metadata": {},
   "source": [
    "## 리스트\n",
    "리스트 생성"
   ]
  },
  {
   "cell_type": "code",
   "execution_count": 2,
   "id": "ecccc9f5-c69d-451f-bf77-466dce723c17",
   "metadata": {},
   "outputs": [
    {
     "data": {
      "text/plain": [
       "[1, 2, 3, 4, 5, 6]"
      ]
     },
     "execution_count": 2,
     "metadata": {},
     "output_type": "execute_result"
    }
   ],
   "source": [
    "a = [1,2,3,4,5,6]\n",
    "b = ['a', 'b', 'c', 'd', 'e']\n",
    "a"
   ]
  },
  {
   "cell_type": "code",
   "execution_count": 3,
   "id": "711c95ca-94e0-44bf-aad4-b6b5ba333ffc",
   "metadata": {},
   "outputs": [
    {
     "data": {
      "text/plain": [
       "['a', 'b', 'c', 'd', 'e']"
      ]
     },
     "execution_count": 3,
     "metadata": {},
     "output_type": "execute_result"
    }
   ],
   "source": [
    "b"
   ]
  },
  {
   "cell_type": "markdown",
   "id": "6eb93153-eed9-4abd-8574-e85686342cbe",
   "metadata": {},
   "source": [
    "인덱싱 수행하기"
   ]
  },
  {
   "cell_type": "code",
   "execution_count": 4,
   "id": "eca73a52-9093-4d8b-b6bc-8795b1ef72d7",
   "metadata": {},
   "outputs": [
    {
     "data": {
      "text/plain": [
       "1"
      ]
     },
     "execution_count": 4,
     "metadata": {},
     "output_type": "execute_result"
    }
   ],
   "source": [
    "a[0]"
   ]
  },
  {
   "cell_type": "code",
   "execution_count": 5,
   "id": "8e946c1b-a88b-4a88-9398-198d35b49125",
   "metadata": {},
   "outputs": [
    {
     "data": {
      "text/plain": [
       "4"
      ]
     },
     "execution_count": 5,
     "metadata": {},
     "output_type": "execute_result"
    }
   ],
   "source": [
    "a[-3]"
   ]
  },
  {
   "cell_type": "code",
   "execution_count": 6,
   "id": "26e9d40a-22c9-4a71-9846-425c48cfdfcd",
   "metadata": {},
   "outputs": [
    {
     "data": {
      "text/plain": [
       "['c', 'd', 'e']"
      ]
     },
     "execution_count": 6,
     "metadata": {},
     "output_type": "execute_result"
    }
   ],
   "source": [
    "b[2:6]"
   ]
  },
  {
   "cell_type": "markdown",
   "id": "2820ad8c-13ec-430f-8d8e-e75e73e6d60a",
   "metadata": {},
   "source": [
    "in 문법과 index를 활용한 데이터 확인"
   ]
  },
  {
   "cell_type": "code",
   "execution_count": 7,
   "id": "f1ae1075-22dd-4ecc-9b30-b371dd6d40a3",
   "metadata": {},
   "outputs": [
    {
     "data": {
      "text/plain": [
       "False"
      ]
     },
     "execution_count": 7,
     "metadata": {},
     "output_type": "execute_result"
    }
   ],
   "source": [
    "'a' in a"
   ]
  },
  {
   "cell_type": "code",
   "execution_count": 8,
   "id": "4cc15826-de25-4af8-bfc4-9c02431798c2",
   "metadata": {},
   "outputs": [
    {
     "data": {
      "text/plain": [
       "True"
      ]
     },
     "execution_count": 8,
     "metadata": {},
     "output_type": "execute_result"
    }
   ],
   "source": [
    "'a' in b"
   ]
  },
  {
   "cell_type": "code",
   "execution_count": 9,
   "id": "f47dca0d-eb9c-4e2f-989c-53f69112c83c",
   "metadata": {},
   "outputs": [
    {
     "data": {
      "text/plain": [
       "0"
      ]
     },
     "execution_count": 9,
     "metadata": {},
     "output_type": "execute_result"
    }
   ],
   "source": [
    "b.index('a')"
   ]
  },
  {
   "cell_type": "code",
   "execution_count": 10,
   "id": "9e7df01a-1d8c-4597-a31f-585e66ffc88e",
   "metadata": {},
   "outputs": [
    {
     "data": {
      "text/plain": [
       "2"
      ]
     },
     "execution_count": 10,
     "metadata": {},
     "output_type": "execute_result"
    }
   ],
   "source": [
    "b.index('c')"
   ]
  },
  {
   "cell_type": "markdown",
   "id": "3e5ce552-5000-4e92-b147-04b3f8fb6e0c",
   "metadata": {},
   "source": [
    "리스트에 데이터 입력"
   ]
  },
  {
   "cell_type": "code",
   "execution_count": 11,
   "id": "aa038578-4efd-4230-89a6-86233cd951dc",
   "metadata": {},
   "outputs": [
    {
     "data": {
      "text/plain": [
       "[1, 2, 3, 1004, 5, 6]"
      ]
     },
     "execution_count": 11,
     "metadata": {},
     "output_type": "execute_result"
    }
   ],
   "source": [
    "# 데이터 교체\n",
    "a[3] = 1004\n",
    "a"
   ]
  },
  {
   "cell_type": "code",
   "execution_count": 12,
   "id": "579e03ae-bc6d-4935-9573-5b635032f322",
   "metadata": {},
   "outputs": [
    {
     "data": {
      "text/plain": [
       "[1, 2, 3, 1004, 5, 6, 7]"
      ]
     },
     "execution_count": 12,
     "metadata": {},
     "output_type": "execute_result"
    }
   ],
   "source": [
    "a.append(7) # 제일 뒤에 데이터 추가\n",
    "a"
   ]
  },
  {
   "cell_type": "code",
   "execution_count": 13,
   "id": "0e3a5fab-0769-4a0f-8dc6-ffdc533487ca",
   "metadata": {},
   "outputs": [
    {
     "data": {
      "text/plain": [
       "[1, 2, 3, 1004, 5, 6, 7, 8, 9, 10]"
      ]
     },
     "execution_count": 13,
     "metadata": {},
     "output_type": "execute_result"
    }
   ],
   "source": [
    "a + [8,9,10] # 리턴값에만 리스트가 추가된다."
   ]
  },
  {
   "cell_type": "code",
   "execution_count": 14,
   "id": "c1b8639e-7539-4684-b0d8-10dc24912460",
   "metadata": {},
   "outputs": [
    {
     "data": {
      "text/plain": [
       "[1, 2, 3, 1004, 5, 6, 7, 8, 9, 10]"
      ]
     },
     "execution_count": 14,
     "metadata": {},
     "output_type": "execute_result"
    }
   ],
   "source": [
    "a = a + [8,9,10] # 데이터를 영구히 추가\n",
    "a"
   ]
  },
  {
   "cell_type": "code",
   "execution_count": 15,
   "id": "35139406-3538-43b3-8cfa-c3fd4fbf6479",
   "metadata": {},
   "outputs": [
    {
     "data": {
      "text/plain": [
       "[1, 2, 3, 1004, 5, 6, 7, 8, 9, 10, 11, 12, 13]"
      ]
     },
     "execution_count": 15,
     "metadata": {},
     "output_type": "execute_result"
    }
   ],
   "source": [
    "a.extend([11,12,13]) # 데이터를 영구히 추가\n",
    "a"
   ]
  },
  {
   "cell_type": "markdown",
   "id": "6b1169c1-1ef7-4c83-9e73-923a4de47141",
   "metadata": {},
   "source": [
    "문자열 쪼개기\n",
    "\n",
    "split을 사용하면 다수의 문자열로 구성된 리스트를 생성할 수 있다."
   ]
  },
  {
   "cell_type": "code",
   "execution_count": 16,
   "id": "7b540fb3-500e-4077-b516-d334a56bd146",
   "metadata": {},
   "outputs": [
    {
     "data": {
      "text/plain": [
       "['This', 'is', 'sparta.']"
      ]
     },
     "execution_count": 16,
     "metadata": {},
     "output_type": "execute_result"
    }
   ],
   "source": [
    "str0 = \"This is sparta.\"\n",
    "str_list = str0.split() # split(',') 라고 입력하면 ,를 기준으로 나눌 수 있다.\n",
    "str_list"
   ]
  },
  {
   "cell_type": "markdown",
   "id": "70503f91-d3e9-48be-89d6-1e13303ec764",
   "metadata": {},
   "source": [
    "리스트에서 특정 요소 카운트"
   ]
  },
  {
   "cell_type": "code",
   "execution_count": 17,
   "id": "06dd16c1-a19c-407d-8ead-67bbed6b608c",
   "metadata": {},
   "outputs": [
    {
     "data": {
      "text/plain": [
       "1"
      ]
     },
     "execution_count": 17,
     "metadata": {},
     "output_type": "execute_result"
    }
   ],
   "source": [
    "str_list.count('is')"
   ]
  },
  {
   "cell_type": "markdown",
   "id": "3bde82f5-53c6-49cb-8550-8063eb4a5129",
   "metadata": {},
   "source": [
    "len을 사용하면 길이를 구할 수 있다."
   ]
  },
  {
   "cell_type": "code",
   "execution_count": 18,
   "id": "ae518628-4785-45bc-b6f2-63647e5266f0",
   "metadata": {},
   "outputs": [
    {
     "data": {
      "text/plain": [
       "3"
      ]
     },
     "execution_count": 18,
     "metadata": {},
     "output_type": "execute_result"
    }
   ],
   "source": [
    "len(str_list)"
   ]
  },
  {
   "cell_type": "markdown",
   "id": "ba0b2aff-0a5d-4849-aadb-c23ad6df6614",
   "metadata": {},
   "source": [
    "## 리스트(list) 연습문제\n",
    "1. 정수 1, 2, 3과 문자열 ‘string’을 포함하는 리스트를 생성하고 다음 내용을 진행하라.\n",
    "  - 생성한 리스트에 ‘a’, ‘b’, ’c’, 1, 2, 3 원소를 추가하라.\n",
    "  - 리스트의 1~3 위치를 조회하라.\n",
    "  - ‘string’의 위치를 파악하라.\n",
    "  - 리스트에 1의 개수를 파악하라."
   ]
  },
  {
   "cell_type": "code",
   "execution_count": 19,
   "id": "3e910332-bdd6-4a86-80f3-11cdd98f05b4",
   "metadata": {},
   "outputs": [
    {
     "name": "stdout",
     "output_type": "stream",
     "text": [
      "list0 데이터 확인: [1, 2, 3, 'string', 'a', 'b', 'c', 1, 2, 3]\n",
      "리스트의 1~3의 위치: [2, 3, 'string']\n",
      "string의 위치: 3\n",
      "1의 개수: 2\n"
     ]
    }
   ],
   "source": [
    "list0 = [1,2,3,'string']\n",
    "\n",
    "list0.extend(['a', 'b', 'c', 1, 2, 3])\n",
    "print(\"list0 데이터 확인:\", list0)\n",
    "print('리스트의 1~3의 위치:', list0[1:4])\n",
    "print('string의 위치:', list0.index('string'))\n",
    "print('1의 개수:', list0.count(1))"
   ]
  },
  {
   "cell_type": "markdown",
   "id": "fd15fcce-a5f1-4d3a-a202-542fadb5fc19",
   "metadata": {},
   "source": [
    "2. \"I love you, John!”이라는 문자열을 생성하고 다음을 구현하라.\n",
    "  - 위 문자열을 공백을 기준으로 나누어 배열 a에 저장하라.\n",
    "  - John!이 들어있는 배열은 a의 몇 번째 배열에 저장되어 있는가.\n",
    "  - 배열 a의 길이를 구하라."
   ]
  },
  {
   "cell_type": "code",
   "execution_count": 20,
   "id": "99fb39a4-d81e-4896-93d5-533b3f6e86a0",
   "metadata": {},
   "outputs": [
    {
     "name": "stdout",
     "output_type": "stream",
     "text": [
      "a의 배열: ['I', 'love', 'you,', 'John!']\n",
      "John!의 위치: 3\n",
      "a의 개수: 4\n"
     ]
    }
   ],
   "source": [
    "str0 = \"I love you, John!\"\n",
    "a = str0.split()\n",
    "\n",
    "print('a의 배열:', a)\n",
    "print('John!의 위치:', a.index('John!'))\n",
    "print('a의 개수:', len(a))"
   ]
  },
  {
   "cell_type": "markdown",
   "id": "c5787608-ff15-4daa-b03a-f37c15c01f5f",
   "metadata": {},
   "source": [
    "## Set\n",
    "set은 중복을 제거하는 속성을 가진 집합이다."
   ]
  },
  {
   "cell_type": "code",
   "execution_count": 21,
   "id": "dba44a2b-1ad4-4643-8d4a-516a5dc52300",
   "metadata": {},
   "outputs": [
    {
     "data": {
      "text/plain": [
       "{'beef', 'lamb', 'pork'}"
      ]
     },
     "execution_count": 21,
     "metadata": {},
     "output_type": "execute_result"
    }
   ],
   "source": [
    "market = {'beef', 'pork', 'lamb', 'beef', 'pork', 'lamb', 'beef', 'pork', 'lamb',}\n",
    "market"
   ]
  },
  {
   "cell_type": "code",
   "execution_count": 22,
   "id": "fd5e500e-dbfd-403a-b531-e1d22442df55",
   "metadata": {},
   "outputs": [
    {
     "data": {
      "text/plain": [
       "True"
      ]
     },
     "execution_count": 22,
     "metadata": {},
     "output_type": "execute_result"
    }
   ],
   "source": [
    "'beef' in market"
   ]
  },
  {
   "cell_type": "code",
   "execution_count": 23,
   "id": "45166f82-9ed3-400f-9c68-d6e8ab2620b5",
   "metadata": {},
   "outputs": [
    {
     "data": {
      "text/plain": [
       "False"
      ]
     },
     "execution_count": 23,
     "metadata": {},
     "output_type": "execute_result"
    }
   ],
   "source": [
    "'perl' in market"
   ]
  },
  {
   "cell_type": "markdown",
   "id": "87206288-e31a-4e93-9f35-1b67e9f603f3",
   "metadata": {},
   "source": [
    "set을 사용해 집합 연산을 수행해보자."
   ]
  },
  {
   "cell_type": "code",
   "execution_count": 24,
   "id": "5234764c-26de-45b5-98dc-44b94a56e380",
   "metadata": {},
   "outputs": [
    {
     "name": "stdout",
     "output_type": "stream",
     "text": [
      "a - b: {'3', '2', '1'}\n",
      "a | b: {'7', '8', '0', '6', '2', '5', '1', '9', '3', '4'}\n",
      "a & b: {'7', '4', '6', '5'}\n",
      "a ^ b: {'8', '0', '2', '1', '9', '3'}\n"
     ]
    }
   ],
   "source": [
    "a = set('1234567') # a 집합\n",
    "b = set('4567890')\n",
    "\n",
    "# a와 b의 차집합\n",
    "print('a - b:', a - b)\n",
    "\n",
    "# a와 b의 합집합\n",
    "print('a | b:', a | b)\n",
    "\n",
    "# a와 b 교집합\n",
    "print('a & b:', a & b)\n",
    "\n",
    "# a와 b 합집합에서 교집합을 제외한 집합\n",
    "print('a ^ b:', a ^ b)"
   ]
  },
  {
   "cell_type": "markdown",
   "id": "5a3f764b-c7eb-4bea-9bb7-36f3c4dc2db6",
   "metadata": {},
   "source": [
    "## 세트(set) 연습문제\n",
    "1. 오른쪽 그림과 같은 집합을 생성하고 다음 물음에 답하라.\n",
    "  - 집합 A, B, C를 각각 선언하라.\n",
    "  - 집합 A와 B의 합집합을 구하라.\n",
    "  - 집합 A와 C의 차집합을 구하라.\n",
    "  - 집합 A와 B, C의 교집합을 구하라."
   ]
  },
  {
   "cell_type": "code",
   "execution_count": 25,
   "id": "5ca2516b-cd96-4c86-a5ae-e274e08cbadf",
   "metadata": {},
   "outputs": [
    {
     "name": "stdout",
     "output_type": "stream",
     "text": [
      "A | B: {'c', 'm', 'b', 'f', 'a', 'k', 'i', 'g', 'o', 'e', 'h', 'd', 'l'}\n",
      "A - C: {'c', 'b', 'a', 'h', 'd'}\n",
      "A&B&C: {'e', 'f'}\n"
     ]
    }
   ],
   "source": [
    "#  <img src='https://cdn.pixabay.com/photo/2018/05/13/16/57/dog-3397110__480.jpg'>\n",
    "\n",
    "# A, B, C 선언\n",
    "A = set('aabbcadhhefgg')\n",
    "B = set('hdhefikkmmllo')\n",
    "C = set('ggefijjppnn')\n",
    "\n",
    "# A와 B의 합집합\n",
    "print('A | B:', A | B)\n",
    "# A와 C의 차집합\n",
    "print('A - C:', A - C)\n",
    "# A, B, C의 교집합\n",
    "print('A&B&C:', A&B&C)\n"
   ]
  },
  {
   "cell_type": "markdown",
   "id": "10f4f1f2-27b1-47f3-8e08-6f9b3bd30aa5",
   "metadata": {},
   "source": [
    "2. 과일에 대한 데이터를 다음과 같이 입력했을 때 중복된 값이 제외된 상태로 출력되도록 변수를 선언하고 출력하십시오.\n",
    "  - 입력 : melon banana strawberry melon banana blueberry banana strawberry\n",
    "  - 출력 : {'strawberry', 'blueberry', 'melon', 'banana'}"
   ]
  },
  {
   "cell_type": "code",
   "execution_count": 26,
   "id": "18c2b391-5a44-4d2f-ac0f-77fa6cbdb858",
   "metadata": {},
   "outputs": [
    {
     "name": "stdin",
     "output_type": "stream",
     "text": [
      "과일 이름을 띄어쓰기로 구분해서 입력해주세요.  melon banana strawberry melon banana blueberry banana strawberry\n"
     ]
    },
    {
     "name": "stdout",
     "output_type": "stream",
     "text": [
      "중복이 제거된 과일들: {'banana', 'blueberry', 'strawberry', 'melon'}\n"
     ]
    }
   ],
   "source": [
    "fruits = input('과일 이름을 띄어쓰기로 구분해서 입력해주세요. ')\n",
    "fruit_set = set(fruits.split())\n",
    "print(\"중복이 제거된 과일들:\", fruit_set)"
   ]
  },
  {
   "cell_type": "markdown",
   "id": "742f13a7-7d09-46b2-be33-937ca46407ea",
   "metadata": {},
   "source": [
    "## 딕셔너리\n",
    "딕셔너리는 키와 밸류로 이루어진 데이터 쌍을 여럿 포함한 데이터형이다."
   ]
  },
  {
   "cell_type": "code",
   "execution_count": 27,
   "id": "c6456570-515e-4cf6-9cfc-fd4c81f17a1c",
   "metadata": {},
   "outputs": [
    {
     "data": {
      "text/plain": [
       "{'영어': 80, '수학': 90}"
      ]
     },
     "execution_count": 27,
     "metadata": {},
     "output_type": "execute_result"
    }
   ],
   "source": [
    "kim = {'영어': 80, '수학': 90}\n",
    "kim"
   ]
  },
  {
   "cell_type": "code",
   "execution_count": 28,
   "id": "064a06d1-405f-42d9-80bf-d26b900fefb1",
   "metadata": {},
   "outputs": [
    {
     "data": {
      "text/plain": [
       "{'영어': 70, '국어': 100}"
      ]
     },
     "execution_count": 28,
     "metadata": {},
     "output_type": "execute_result"
    }
   ],
   "source": [
    "choi = {'영어': 70, '국어': 100}\n",
    "choi"
   ]
  },
  {
   "cell_type": "code",
   "execution_count": 35,
   "id": "ac7cf17a-37f5-4597-9f3c-9cf4e90fe629",
   "metadata": {},
   "outputs": [
    {
     "data": {
      "text/plain": [
       "{'김영수': {'영어': 80, '수학': 100, '국어': 100}, '최희수': {'영어': 70, '국어': 100}}"
      ]
     },
     "execution_count": 35,
     "metadata": {},
     "output_type": "execute_result"
    }
   ],
   "source": [
    "# 딕셔너리 결합\n",
    "score = {\"김영수\": kim,\n",
    "        \"최희수\": choi}\n",
    "score"
   ]
  },
  {
   "cell_type": "code",
   "execution_count": 36,
   "id": "2bfb4f23-e935-43c3-87ba-18557321b331",
   "metadata": {},
   "outputs": [
    {
     "data": {
      "text/plain": [
       "80"
      ]
     },
     "execution_count": 36,
     "metadata": {},
     "output_type": "execute_result"
    }
   ],
   "source": [
    "score['김영수']['영어'] # 데이터 조회"
   ]
  },
  {
   "cell_type": "code",
   "execution_count": 37,
   "id": "45e03c0f-cad5-4e6d-9bee-b5318aadf31d",
   "metadata": {},
   "outputs": [
    {
     "data": {
      "text/plain": [
       "{'영어': 80, '수학': 100, '국어': 100}"
      ]
     },
     "execution_count": 37,
     "metadata": {},
     "output_type": "execute_result"
    }
   ],
   "source": [
    "score['김영수']['국어'] = 100 # 데이터 입력\n",
    "score['김영수']"
   ]
  },
  {
   "cell_type": "code",
   "execution_count": 38,
   "id": "c5a45c7e-ff1f-414e-aec0-1ec66047cf9e",
   "metadata": {},
   "outputs": [
    {
     "data": {
      "text/plain": [
       "{'영어': 80, '수학': 100, '국어': 100}"
      ]
     },
     "execution_count": 38,
     "metadata": {},
     "output_type": "execute_result"
    }
   ],
   "source": [
    "score['김영수']['수학'] = 100 # 수정\n",
    "score['김영수']"
   ]
  },
  {
   "cell_type": "code",
   "execution_count": 39,
   "id": "37116e24-28dc-4181-acc5-6e377f31a313",
   "metadata": {},
   "outputs": [
    {
     "data": {
      "text/plain": [
       "dict_keys(['김영수', '최희수'])"
      ]
     },
     "execution_count": 39,
     "metadata": {},
     "output_type": "execute_result"
    }
   ],
   "source": [
    "score.keys() # 키 목록 조회"
   ]
  },
  {
   "cell_type": "code",
   "execution_count": 40,
   "id": "5e1c27fe-d585-4ef0-bde7-cd606e4c974f",
   "metadata": {},
   "outputs": [
    {
     "data": {
      "text/plain": [
       "dict_values([{'영어': 80, '수학': 100, '국어': 100}, {'영어': 70, '국어': 100}])"
      ]
     },
     "execution_count": 40,
     "metadata": {},
     "output_type": "execute_result"
    }
   ],
   "source": [
    "score.values() # 밸류 목록 조회"
   ]
  },
  {
   "cell_type": "markdown",
   "id": "b0e74fc5-d162-45ad-a88e-d97a30bab0ef",
   "metadata": {},
   "source": [
    "## dict 연습 문제\n",
    "다음 표를 토대로 dict b를 만들고 다음을 구현하라.\n",
    "1. dict b에서 name 데이터를 찾으라.\n",
    "2. dict b에서 birth 데이터를 101010으로 바꿔라.\n",
    "3. dict b에 key가 city이고 value가 Seoul인 데이터를 추가하라.\n"
   ]
  },
  {
   "cell_type": "code",
   "execution_count": 42,
   "id": "98bbee67-0a43-45ea-9c3e-2fb22be42f2d",
   "metadata": {},
   "outputs": [
    {
     "name": "stdout",
     "output_type": "stream",
     "text": [
      "이름: John\n",
      "생일: 101010\n",
      "도시: seoul\n"
     ]
    }
   ],
   "source": [
    "b = {\n",
    "    \"name\": \"John\",\n",
    "    \"phone\": \"010123455432\",\n",
    "    \"email\": \"test@test.com\",\n",
    "    \"birth\": 111111\n",
    "}\n",
    "\n",
    "print(\"이름:\", b['name'])\n",
    "b['birth'] = 101010\n",
    "print(\"생일:\", b['birth'])\n",
    "b['city'] = 'seoul'\n",
    "print(\"도시:\", b['city'])"
   ]
  },
  {
   "cell_type": "markdown",
   "id": "31e8fcfd-0358-4f37-82ba-d4f14467ec8f",
   "metadata": {},
   "source": [
    "## 딕셔너리를 활용한 IP 변환 프로그램 작성\n",
    "\n",
    "도메인이나 IP를 입력하면 ip-api.com 로 접속해서 정보를 정리해주는 프로그램을 구성해보자."
   ]
  },
  {
   "cell_type": "code",
   "execution_count": 43,
   "id": "085581a8-5efe-4cb7-bcb7-85db3f3c1d0e",
   "metadata": {},
   "outputs": [
    {
     "name": "stdout",
     "output_type": "stream",
     "text": [
      "Requirement already satisfied: requests in c:\\users\\isc03\\anaconda3\\lib\\site-packages (2.27.1)\n",
      "Requirement already satisfied: urllib3<1.27,>=1.21.1 in c:\\users\\isc03\\anaconda3\\lib\\site-packages (from requests) (1.26.9)\n",
      "Requirement already satisfied: certifi>=2017.4.17 in c:\\users\\isc03\\anaconda3\\lib\\site-packages (from requests) (2021.10.8)\n",
      "Requirement already satisfied: idna<4,>=2.5 in c:\\users\\isc03\\anaconda3\\lib\\site-packages (from requests) (3.3)\n",
      "Requirement already satisfied: charset-normalizer~=2.0.0 in c:\\users\\isc03\\anaconda3\\lib\\site-packages (from requests) (2.0.4)\n"
     ]
    }
   ],
   "source": [
    "# 웹 요청을 수행하는 라이브러를 설치해보자.\n",
    "!pip install requests"
   ]
  },
  {
   "cell_type": "code",
   "execution_count": 48,
   "id": "eabc7917-591e-47bc-8927-482038f70f07",
   "metadata": {},
   "outputs": [
    {
     "name": "stdin",
     "output_type": "stream",
     "text": [
      "도메인이나 IP를 입력해주세요.  naver.com\n"
     ]
    },
    {
     "name": "stdout",
     "output_type": "stream",
     "text": [
      "\n",
      "ip: 223.130.195.95\n",
      "국가: South Korea\n",
      "도시: Seongnam-si\n",
      "경도: 127.119\n",
      "위도: 37.3827\n",
      "\n"
     ]
    }
   ],
   "source": [
    "# http://ip-api.com/json/24.48.0.1\n",
    "import requests # 웹 요청을 수행하는 라이브러리\n",
    "import json     # json을 dict으로 변환하는 라이브러리\n",
    "\n",
    "ip = input(\"도메인이나 IP를 입력해주세요. \")\n",
    "res = requests.get(f'http://ip-api.com/json/{ip}') # Get 요청 수행\n",
    "geo_data = json.loads(res.text) # 바디 데이터를 json에서 dict으로 변경\n",
    "# print(type(geo_data)) # 데이터 타입 확인\n",
    "\n",
    "#geo_data # 데이터 확인\n",
    "print(f'''\n",
    "ip: {geo_data[\"query\"]}\n",
    "국가: {geo_data[\"country\"]}\n",
    "도시: {geo_data[\"city\"]}\n",
    "경도: {geo_data[\"lon\"]}\n",
    "위도: {geo_data[\"lat\"]}\n",
    "''')"
   ]
  },
  {
   "cell_type": "code",
   "execution_count": null,
   "id": "c45314d3-49a6-4b07-a5f9-434ec5e27730",
   "metadata": {},
   "outputs": [],
   "source": []
  }
 ],
 "metadata": {
  "kernelspec": {
   "display_name": "Python 3 (ipykernel)",
   "language": "python",
   "name": "python3"
  },
  "language_info": {
   "codemirror_mode": {
    "name": "ipython",
    "version": 3
   },
   "file_extension": ".py",
   "mimetype": "text/x-python",
   "name": "python",
   "nbconvert_exporter": "python",
   "pygments_lexer": "ipython3",
   "version": "3.9.12"
  }
 },
 "nbformat": 4,
 "nbformat_minor": 5
}
