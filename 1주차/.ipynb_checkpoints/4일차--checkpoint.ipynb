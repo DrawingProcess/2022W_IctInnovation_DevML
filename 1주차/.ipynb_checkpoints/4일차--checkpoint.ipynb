{
 "cells": [
  {
   "cell_type": "markdown",
   "id": "5c5976ff-116b-49f2-8948-68c2d331b9d4",
   "metadata": {},
   "source": [
    "# 파이썬을 활용한 파일 입출력"
   ]
  },
  {
   "cell_type": "markdown",
   "id": "c2f0d55a-724b-45a7-b478-298b06f19bc1",
   "metadata": {},
   "source": [
    "## 파일 쓰기\n",
    "세 가지 기억하자. 열고, 쓰고, 닫고"
   ]
  },
  {
   "cell_type": "code",
   "execution_count": 8,
   "id": "2eb62e6e-2284-46f2-8bab-5f51d340cc1b",
   "metadata": {},
   "outputs": [],
   "source": [
    "f = open('test.txt', 'w', encoding=\"UTF-8\") # UTF-8로 저장\n",
    "f.write(\"안녕하세요!\")\n",
    "f.close()"
   ]
  },
  {
   "cell_type": "markdown",
   "id": "23c9a2d3-39c7-4754-8738-f6e8d8d0ae1f",
   "metadata": {},
   "source": [
    "## 파일 읽기"
   ]
  },
  {
   "cell_type": "code",
   "execution_count": 5,
   "id": "bb5f7a16-8d3b-413c-8096-04771e59066f",
   "metadata": {},
   "outputs": [
    {
     "name": "stdout",
     "output_type": "stream",
     "text": [
      "안녕하세요!\n"
     ]
    }
   ],
   "source": [
    "f = open('test.txt', 'r', encoding=\"UTF-8\")\n",
    "file_data = f.read()\n",
    "f.close()\n",
    "\n",
    "print(file_data)"
   ]
  },
  {
   "cell_type": "markdown",
   "id": "547a0a9d-f48f-44ac-8ea7-ae9ec6af48d0",
   "metadata": {},
   "source": [
    "## 파일 내용 추가"
   ]
  },
  {
   "cell_type": "code",
   "execution_count": 11,
   "id": "97f0db01-2410-4182-b828-a9dfb7daa32d",
   "metadata": {},
   "outputs": [],
   "source": [
    "f = open('test.txt', 'a', encoding=\"UTF-8\")\n",
    "f.write(\"\\n두 번째 내용!\")\n",
    "f.close()\n",
    "\n",
    "f = open('test.txt', 'r', encoding=\"UTF-8\")\n",
    "file_data = f.read()\n",
    "f.close()"
   ]
  },
  {
   "cell_type": "code",
   "execution_count": 13,
   "id": "0083b418-68f9-4375-bf6d-88fbfa339b30",
   "metadata": {},
   "outputs": [
    {
     "name": "stdout",
     "output_type": "stream",
     "text": [
      "안녕하세요!\n",
      "두 번째 내용!\n"
     ]
    }
   ],
   "source": [
    "print(file_data)"
   ]
  },
  {
   "cell_type": "markdown",
   "id": "e31e8889-c5f3-40ea-be5a-ab82b9e2c293",
   "metadata": {},
   "source": [
    "## 바이너리로 오픈하기"
   ]
  },
  {
   "cell_type": "code",
   "execution_count": 15,
   "id": "fa07ce06-1053-4503-9e07-6aec6417962f",
   "metadata": {},
   "outputs": [
    {
     "name": "stdout",
     "output_type": "stream",
     "text": [
      "b'\\xec\\x95\\x88\\xeb\\x85\\x95\\xed\\x95\\x98\\xec\\x84\\xb8\\xec\\x9a\\x94!\\r\\n\\xeb\\x91\\x90 \\xeb\\xb2\\x88\\xec\\xa7\\xb8 \\xeb\\x82\\xb4\\xec\\x9a\\xa9!'\n"
     ]
    }
   ],
   "source": [
    "f = open('test.txt', 'rb')\n",
    "file_data = f.read()\n",
    "f.close()\n",
    "\n",
    "print(file_data)"
   ]
  },
  {
   "cell_type": "code",
   "execution_count": 17,
   "id": "c99e9063-bb0f-42f6-b073-822a5a4bcc00",
   "metadata": {},
   "outputs": [
    {
     "name": "stdout",
     "output_type": "stream",
     "text": [
      "안녕하세요!\n",
      "두 번째 내용!\n"
     ]
    }
   ],
   "source": [
    "print(file_data.decode())"
   ]
  },
  {
   "cell_type": "markdown",
   "id": "738d083c-3d0e-4c39-b72f-7b82e6faef6f",
   "metadata": {},
   "source": [
    "## 상대 경로와 절대 경로"
   ]
  },
  {
   "cell_type": "code",
   "execution_count": 21,
   "id": "4fa3f85c-e239-445f-b986-54472d7aef95",
   "metadata": {},
   "outputs": [
    {
     "name": "stdout",
     "output_type": "stream",
     "text": [
      "현재 위치: C:\\Users\\isc03\\ML20221011\\1주차\n"
     ]
    }
   ],
   "source": [
    "# 절대 경로 'C:\\\\users\\\\isc03\\\\ML20221011\\\\1주차'\n",
    "# 상대 경로 test.txt -> 'C:\\\\users\\\\isc03\\\\ML20221011\\\\1주차\\\\test.txt'\n",
    "\n",
    "import os\n",
    "\n",
    "current_path = os.getcwd() # 현재 경로를 절대경로로 반환\n",
    "print(\"현재 위치:\", current_path)\n",
    "\n",
    "f = open(current_path + '\\\\test2.txt', 'w', encoding=\"UTF-8\")\n",
    "f.write(f\"절대 경로로 파일 생성: {current_path}'\\\\test2.txt'\")\n",
    "f.close()"
   ]
  },
  {
   "cell_type": "code",
   "execution_count": 22,
   "id": "4ca64ce8-4394-417b-b43b-e03d3eba0ac2",
   "metadata": {},
   "outputs": [
    {
     "data": {
      "text/plain": [
       "'C:\\\\Users\\\\isc03\\\\ML20221011\\\\1주차'"
      ]
     },
     "execution_count": 22,
     "metadata": {},
     "output_type": "execute_result"
    }
   ],
   "source": [
    "current_path"
   ]
  },
  {
   "cell_type": "markdown",
   "id": "eb5f87f9-a1aa-4371-901e-81614eb567a1",
   "metadata": {},
   "source": [
    "## with 문법을 활용한 파일 입출력"
   ]
  },
  {
   "cell_type": "code",
   "execution_count": 23,
   "id": "6e4d00dd-d652-4dce-a005-fe26a968ded2",
   "metadata": {},
   "outputs": [
    {
     "name": "stdout",
     "output_type": "stream",
     "text": [
      "절대 경로로 파일 생성: C:\\Users\\isc03\\ML20221011\\1주차'\\test2.txt'\n"
     ]
    }
   ],
   "source": [
    "with open('test2.txt', 'r', encoding=\"UTF-8\") as f:\n",
    "    file_data = f.read()\n",
    "\n",
    "print(file_data)"
   ]
  },
  {
   "cell_type": "code",
   "execution_count": null,
   "id": "d7a0626c-48d0-4296-81d3-f48e27c24057",
   "metadata": {},
   "outputs": [],
   "source": []
  }
 ],
 "metadata": {
  "kernelspec": {
   "display_name": "Python 3 (ipykernel)",
   "language": "python",
   "name": "python3"
  },
  "language_info": {
   "codemirror_mode": {
    "name": "ipython",
    "version": 3
   },
   "file_extension": ".py",
   "mimetype": "text/x-python",
   "name": "python",
   "nbconvert_exporter": "python",
   "pygments_lexer": "ipython3",
   "version": "3.9.12"
  }
 },
 "nbformat": 4,
 "nbformat_minor": 5
}
