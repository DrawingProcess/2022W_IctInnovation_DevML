{
 "cells": [
  {
   "cell_type": "markdown",
   "id": "b9a58d21-737a-45c9-a0be-ad2f8f87fe16",
   "metadata": {},
   "source": [
    "# 함수와 흐름 제어\n"
   ]
  },
  {
   "cell_type": "markdown",
   "id": "b60b0dec-9e48-4339-867b-db16ce1f30ed",
   "metadata": {},
   "source": [
    "## 함수 선언하기"
   ]
  },
  {
   "cell_type": "code",
   "execution_count": 1,
   "id": "b5bde94f-31b1-43e9-8959-949b31b4fc5f",
   "metadata": {},
   "outputs": [
    {
     "data": {
      "text/plain": [
       "4"
      ]
     },
     "execution_count": 1,
     "metadata": {},
     "output_type": "execute_result"
    }
   ],
   "source": [
    "def add(a, b):\n",
    "    return a + b\n",
    "\n",
    "result = add(1, 3)\n",
    "result"
   ]
  },
  {
   "cell_type": "markdown",
   "id": "4cc303f0-746b-45ff-b6f3-4f605950937b",
   "metadata": {},
   "source": [
    "## 파이썬 함수 선언과 활용 연습 문제\n",
    "1. 사용자의 입력을 받아 다음과 같은 출력 형태를 갖는 add_num2()를 작성하십시오. 형 변환을 위해 int를 사용하세요!\n",
    "\n"
   ]
  },
  {
   "cell_type": "code",
   "execution_count": 3,
   "id": "e242041d-3573-4f5a-b734-eaae765f2cb8",
   "metadata": {},
   "outputs": [
    {
     "name": "stdin",
     "output_type": "stream",
     "text": [
      "띄어쓰기로 나눠서 숫자를 4개만 입력하세요: 1 2 3 4\n"
     ]
    },
    {
     "name": "stdout",
     "output_type": "stream",
     "text": [
      "10\n"
     ]
    }
   ],
   "source": [
    "def add_num2():\n",
    "    ans = input(\"띄어쓰기로 나눠서 숫자를 4개만 입력하세요:\")\n",
    "    a, b, c, d = ans.split() # [1,2,3,4]\n",
    "    print(int(a) + int(b) + int(c) + int(d))\n",
    "    \n",
    "add_num2()"
   ]
  },
  {
   "cell_type": "markdown",
   "id": "4a2b6448-f4c4-4242-a376-d05bd86791ec",
   "metadata": {},
   "source": [
    "2. IP 주소로 실제 위치 찾기 프로그램을 함수로 만들기: getLocation(ip)"
   ]
  },
  {
   "cell_type": "code",
   "execution_count": 4,
   "id": "b4e8a988-3e9d-4eb2-a730-8265df13d230",
   "metadata": {},
   "outputs": [
    {
     "name": "stdout",
     "output_type": "stream",
     "text": [
      "\n",
      "    ip: 223.130.195.95\n",
      "    국가: South Korea\n",
      "    도시: Seongnam-si\n",
      "    경도: 127.119\n",
      "    위도: 37.3827\n",
      "    \n"
     ]
    }
   ],
   "source": [
    "# http://ip-api.com/json/24.48.0.1\n",
    "import requests # 웹 요청을 수행하는 라이브러리\n",
    "import json     # json을 dict으로 변환하는 라이브러리\n",
    "\n",
    "def getLocation(ip):\n",
    "    res = requests.get(f'http://ip-api.com/json/{ip}') # Get 요청 수행\n",
    "    geo_data = json.loads(res.text) # 바디 데이터를 json에서 dict으로 변경\n",
    "    # print(type(geo_data)) # 데이터 타입 확인\n",
    "\n",
    "    #geo_data # 데이터 확인\n",
    "    print(f'''\n",
    "    ip: {geo_data[\"query\"]}\n",
    "    국가: {geo_data[\"country\"]}\n",
    "    도시: {geo_data[\"city\"]}\n",
    "    경도: {geo_data[\"lon\"]}\n",
    "    위도: {geo_data[\"lat\"]}\n",
    "    ''')\n",
    "    \n",
    "getLocation(\"naver.com\")"
   ]
  },
  {
   "cell_type": "code",
   "execution_count": 5,
   "id": "3b35e8b3-b97e-410a-8a77-795fb6d24ed7",
   "metadata": {},
   "outputs": [
    {
     "name": "stdout",
     "output_type": "stream",
     "text": [
      "\n",
      "    ip: 211.249.221.105\n",
      "    국가: South Korea\n",
      "    도시: Jeju-si\n",
      "    경도: 126.571\n",
      "    위도: 33.4565\n",
      "    \n"
     ]
    }
   ],
   "source": [
    "getLocation(\"kakao.com\")"
   ]
  },
  {
   "cell_type": "markdown",
   "id": "030d188f-55d0-4536-ae2c-b32bbe22a32f",
   "metadata": {},
   "source": [
    "## 흐름제어"
   ]
  },
  {
   "cell_type": "markdown",
   "id": "224dd6a8-4651-4d9d-ba81-d4bbe8776398",
   "metadata": {},
   "source": [
    "## if, else, elif\n",
    "if 조건에 따라서 어떤 코드를 실행할지 결정하는 역할을 수행"
   ]
  },
  {
   "cell_type": "code",
   "execution_count": 14,
   "id": "6d650fe6-e035-4011-972f-6f5a1f2f7f06",
   "metadata": {},
   "outputs": [
    {
     "name": "stdout",
     "output_type": "stream",
     "text": [
      "0보다 작다!\n"
     ]
    }
   ],
   "source": [
    "num = -1\n",
    "\n",
    "if num > 0: # True\n",
    "    # 실행됨\n",
    "    print(\"0보다 크다!\")\n",
    "elif num == 0:\n",
    "    print(\"0과 같다!\")\n",
    "elif num < 0:\n",
    "    print(\"0보다 작다!\")\n",
    "else: # 조건이 맞지 않으면 실행\n",
    "    print(\"조건이 맞지 않다!\")"
   ]
  },
  {
   "cell_type": "markdown",
   "id": "fa152850-8e8d-44eb-829f-4fc16ff77669",
   "metadata": {},
   "source": [
    "## for 문\n",
    "for문은 배열을 순차적으로 돌리면서 코드를 반복 실행한다.\n"
   ]
  },
  {
   "cell_type": "code",
   "execution_count": 1,
   "id": "f4a199d6-509b-452f-8d11-0cbd48d912b1",
   "metadata": {},
   "outputs": [
    {
     "name": "stdout",
     "output_type": "stream",
     "text": [
      "1\n",
      "2\n",
      "3\n",
      "4\n",
      "5\n"
     ]
    }
   ],
   "source": [
    "for i in [1,2,3,4,5]:\n",
    "    print(i)"
   ]
  },
  {
   "cell_type": "code",
   "execution_count": 2,
   "id": "017590c7-aa60-463d-89a9-3d8162bfe9a8",
   "metadata": {},
   "outputs": [
    {
     "name": "stdout",
     "output_type": "stream",
     "text": [
      "this\n",
      "a\n",
      "sparta.\n"
     ]
    }
   ],
   "source": [
    "for i in ['this', 'a', 'sparta.']:\n",
    "    print(i)"
   ]
  },
  {
   "cell_type": "code",
   "execution_count": 3,
   "id": "4db3a437-bd47-4feb-a5c8-278bb72c1478",
   "metadata": {},
   "outputs": [
    {
     "name": "stdout",
     "output_type": "stream",
     "text": [
      "s\n",
      "p\n",
      "a\n",
      "r\n",
      "t\n",
      "a\n"
     ]
    }
   ],
   "source": [
    "for i in 'sparta':\n",
    "    print(i)"
   ]
  },
  {
   "cell_type": "markdown",
   "id": "cd1134db-92a0-44b2-bb16-8d58bb911438",
   "metadata": {},
   "source": [
    "range는 첫 숫자, 끝 숫자, 증감숫자를 사용해 리스트를 만든다."
   ]
  },
  {
   "cell_type": "code",
   "execution_count": 4,
   "id": "82ba6f5e-eebe-4690-816e-e04bce62077a",
   "metadata": {},
   "outputs": [
    {
     "name": "stdout",
     "output_type": "stream",
     "text": [
      "0\n",
      "1\n",
      "2\n",
      "3\n",
      "4\n",
      "5\n",
      "6\n",
      "7\n",
      "8\n",
      "9\n"
     ]
    }
   ],
   "source": [
    "for i in range(10): # 하나만 인자(argument)를 전달하면 끝 숫자\n",
    "    print(i)"
   ]
  },
  {
   "cell_type": "code",
   "execution_count": 5,
   "id": "048874a6-12d4-495f-8074-4fdf3e2480ca",
   "metadata": {},
   "outputs": [
    {
     "name": "stdout",
     "output_type": "stream",
     "text": [
      "4\n",
      "5\n",
      "6\n",
      "7\n",
      "8\n",
      "9\n"
     ]
    }
   ],
   "source": [
    "for i in range(4, 10): # 4는 첫 숫자, 10은 끝 숫자\n",
    "    print(i)"
   ]
  },
  {
   "cell_type": "code",
   "execution_count": 6,
   "id": "dfabefa3-ef04-4232-8458-4b2bc3e8c8a7",
   "metadata": {},
   "outputs": [
    {
     "name": "stdout",
     "output_type": "stream",
     "text": [
      "0\n",
      "-2\n",
      "-4\n",
      "-6\n",
      "-8\n"
     ]
    }
   ],
   "source": [
    "for i in range(0, -10, -2): # 0 첫숫자, -10 끝 숫자, -2 증감\n",
    "    print(i)"
   ]
  },
  {
   "cell_type": "markdown",
   "id": "ec6d0308-540c-4f14-a8c1-cf4462d83306",
   "metadata": {},
   "source": [
    "## for 루프 – range 연습문제\n",
    "1. 구구단 2단 출력하기\n",
    "2. for문을 사용해서 다음과 같은 결과를 출력하라.\n",
    "3. 2 x 1 = 2와 같은 형태로 출력해야 한다.\n",
    "4. 라인수는 3줄 이하"
   ]
  },
  {
   "cell_type": "code",
   "execution_count": 7,
   "id": "ad836f28-551e-4e40-800f-1d3a07176f68",
   "metadata": {},
   "outputs": [
    {
     "name": "stdout",
     "output_type": "stream",
     "text": [
      "2 x 1 = 2\n",
      "2 x 2 = 4\n",
      "2 x 3 = 6\n",
      "2 x 4 = 8\n",
      "2 x 5 = 10\n",
      "2 x 6 = 12\n",
      "2 x 7 = 14\n",
      "2 x 8 = 16\n",
      "2 x 9 = 18\n"
     ]
    }
   ],
   "source": [
    "for i in range(1,10):\n",
    "    print(f'2 x {i} = {i*2}')"
   ]
  },
  {
   "cell_type": "code",
   "execution_count": 8,
   "id": "6cbc7e76-977f-493f-a8dc-1de6c6391bda",
   "metadata": {},
   "outputs": [],
   "source": [
    "import webbrowser # 웹브라우저\n",
    "import time       # 시간\n",
    "\n",
    "blog_url = [\n",
    "    'https://blog.naver.com/isc0304/222570611200',\n",
    "    'https://blog.naver.com/isc0304/222416447874',\n",
    "    'https://blog.naver.com/isc0304/221906215536'\n",
    "]\n",
    "\n",
    "for url in blog_url:\n",
    "    webbrowser.open(url)\n",
    "    time.sleep(2)"
   ]
  },
  {
   "cell_type": "markdown",
   "id": "edb3e55d-b7c0-4c0d-8d8c-fac2b800ef60",
   "metadata": {},
   "source": [
    "이중 for문을 활용한 구구단 출력"
   ]
  },
  {
   "cell_type": "code",
   "execution_count": 11,
   "id": "28d633cf-5018-4043-96fc-e548592a13a4",
   "metadata": {
    "scrolled": true,
    "tags": []
   },
   "outputs": [
    {
     "name": "stdout",
     "output_type": "stream",
     "text": [
      "2단!\n",
      "2 x 1 = 2\n",
      "2 x 2 = 4\n",
      "2 x 3 = 6\n",
      "2 x 4 = 8\n",
      "2 x 5 = 10\n",
      "2 x 6 = 12\n",
      "2 x 7 = 14\n",
      "2 x 8 = 16\n",
      "2 x 9 = 18\n",
      "2 x 10 = 20\n",
      "2 x 11 = 22\n",
      "2 x 12 = 24\n",
      "2 x 13 = 26\n",
      "2 x 14 = 28\n",
      "2 x 15 = 30\n",
      "2 x 16 = 32\n",
      "2 x 17 = 34\n",
      "2 x 18 = 36\n",
      "2 x 19 = 38\n",
      "\n",
      "3단!\n",
      "3 x 1 = 3\n",
      "3 x 2 = 6\n",
      "3 x 3 = 9\n",
      "3 x 4 = 12\n",
      "3 x 5 = 15\n",
      "3 x 6 = 18\n",
      "3 x 7 = 21\n",
      "3 x 8 = 24\n",
      "3 x 9 = 27\n",
      "3 x 10 = 30\n",
      "3 x 11 = 33\n",
      "3 x 12 = 36\n",
      "3 x 13 = 39\n",
      "3 x 14 = 42\n",
      "3 x 15 = 45\n",
      "3 x 16 = 48\n",
      "3 x 17 = 51\n",
      "3 x 18 = 54\n",
      "3 x 19 = 57\n",
      "\n",
      "4단!\n",
      "4 x 1 = 4\n",
      "4 x 2 = 8\n",
      "4 x 3 = 12\n",
      "4 x 4 = 16\n",
      "4 x 5 = 20\n",
      "4 x 6 = 24\n",
      "4 x 7 = 28\n",
      "4 x 8 = 32\n",
      "4 x 9 = 36\n",
      "4 x 10 = 40\n",
      "4 x 11 = 44\n",
      "4 x 12 = 48\n",
      "4 x 13 = 52\n",
      "4 x 14 = 56\n",
      "4 x 15 = 60\n",
      "4 x 16 = 64\n",
      "4 x 17 = 68\n",
      "4 x 18 = 72\n",
      "4 x 19 = 76\n",
      "\n",
      "5단!\n",
      "5 x 1 = 5\n",
      "5 x 2 = 10\n",
      "5 x 3 = 15\n",
      "5 x 4 = 20\n",
      "5 x 5 = 25\n",
      "5 x 6 = 30\n",
      "5 x 7 = 35\n",
      "5 x 8 = 40\n",
      "5 x 9 = 45\n",
      "5 x 10 = 50\n",
      "5 x 11 = 55\n",
      "5 x 12 = 60\n",
      "5 x 13 = 65\n",
      "5 x 14 = 70\n",
      "5 x 15 = 75\n",
      "5 x 16 = 80\n",
      "5 x 17 = 85\n",
      "5 x 18 = 90\n",
      "5 x 19 = 95\n",
      "\n",
      "6단!\n",
      "6 x 1 = 6\n",
      "6 x 2 = 12\n",
      "6 x 3 = 18\n",
      "6 x 4 = 24\n",
      "6 x 5 = 30\n",
      "6 x 6 = 36\n",
      "6 x 7 = 42\n",
      "6 x 8 = 48\n",
      "6 x 9 = 54\n",
      "6 x 10 = 60\n",
      "6 x 11 = 66\n",
      "6 x 12 = 72\n",
      "6 x 13 = 78\n",
      "6 x 14 = 84\n",
      "6 x 15 = 90\n",
      "6 x 16 = 96\n",
      "6 x 17 = 102\n",
      "6 x 18 = 108\n",
      "6 x 19 = 114\n",
      "\n",
      "7단!\n",
      "7 x 1 = 7\n",
      "7 x 2 = 14\n",
      "7 x 3 = 21\n",
      "7 x 4 = 28\n",
      "7 x 5 = 35\n",
      "7 x 6 = 42\n",
      "7 x 7 = 49\n",
      "7 x 8 = 56\n",
      "7 x 9 = 63\n",
      "7 x 10 = 70\n",
      "7 x 11 = 77\n",
      "7 x 12 = 84\n",
      "7 x 13 = 91\n",
      "7 x 14 = 98\n",
      "7 x 15 = 105\n",
      "7 x 16 = 112\n",
      "7 x 17 = 119\n",
      "7 x 18 = 126\n",
      "7 x 19 = 133\n",
      "\n",
      "8단!\n",
      "8 x 1 = 8\n",
      "8 x 2 = 16\n",
      "8 x 3 = 24\n",
      "8 x 4 = 32\n",
      "8 x 5 = 40\n",
      "8 x 6 = 48\n",
      "8 x 7 = 56\n",
      "8 x 8 = 64\n",
      "8 x 9 = 72\n",
      "8 x 10 = 80\n",
      "8 x 11 = 88\n",
      "8 x 12 = 96\n",
      "8 x 13 = 104\n",
      "8 x 14 = 112\n",
      "8 x 15 = 120\n",
      "8 x 16 = 128\n",
      "8 x 17 = 136\n",
      "8 x 18 = 144\n",
      "8 x 19 = 152\n",
      "\n",
      "9단!\n",
      "9 x 1 = 9\n",
      "9 x 2 = 18\n",
      "9 x 3 = 27\n",
      "9 x 4 = 36\n",
      "9 x 5 = 45\n",
      "9 x 6 = 54\n",
      "9 x 7 = 63\n",
      "9 x 8 = 72\n",
      "9 x 9 = 81\n",
      "9 x 10 = 90\n",
      "9 x 11 = 99\n",
      "9 x 12 = 108\n",
      "9 x 13 = 117\n",
      "9 x 14 = 126\n",
      "9 x 15 = 135\n",
      "9 x 16 = 144\n",
      "9 x 17 = 153\n",
      "9 x 18 = 162\n",
      "9 x 19 = 171\n",
      "\n",
      "10단!\n",
      "10 x 1 = 10\n",
      "10 x 2 = 20\n",
      "10 x 3 = 30\n",
      "10 x 4 = 40\n",
      "10 x 5 = 50\n",
      "10 x 6 = 60\n",
      "10 x 7 = 70\n",
      "10 x 8 = 80\n",
      "10 x 9 = 90\n",
      "10 x 10 = 100\n",
      "10 x 11 = 110\n",
      "10 x 12 = 120\n",
      "10 x 13 = 130\n",
      "10 x 14 = 140\n",
      "10 x 15 = 150\n",
      "10 x 16 = 160\n",
      "10 x 17 = 170\n",
      "10 x 18 = 180\n",
      "10 x 19 = 190\n",
      "\n",
      "11단!\n",
      "11 x 1 = 11\n",
      "11 x 2 = 22\n",
      "11 x 3 = 33\n",
      "11 x 4 = 44\n",
      "11 x 5 = 55\n",
      "11 x 6 = 66\n",
      "11 x 7 = 77\n",
      "11 x 8 = 88\n",
      "11 x 9 = 99\n",
      "11 x 10 = 110\n",
      "11 x 11 = 121\n",
      "11 x 12 = 132\n",
      "11 x 13 = 143\n",
      "11 x 14 = 154\n",
      "11 x 15 = 165\n",
      "11 x 16 = 176\n",
      "11 x 17 = 187\n",
      "11 x 18 = 198\n",
      "11 x 19 = 209\n",
      "\n",
      "12단!\n",
      "12 x 1 = 12\n",
      "12 x 2 = 24\n",
      "12 x 3 = 36\n",
      "12 x 4 = 48\n",
      "12 x 5 = 60\n",
      "12 x 6 = 72\n",
      "12 x 7 = 84\n",
      "12 x 8 = 96\n",
      "12 x 9 = 108\n",
      "12 x 10 = 120\n",
      "12 x 11 = 132\n",
      "12 x 12 = 144\n",
      "12 x 13 = 156\n",
      "12 x 14 = 168\n",
      "12 x 15 = 180\n",
      "12 x 16 = 192\n",
      "12 x 17 = 204\n",
      "12 x 18 = 216\n",
      "12 x 19 = 228\n",
      "\n",
      "13단!\n",
      "13 x 1 = 13\n",
      "13 x 2 = 26\n",
      "13 x 3 = 39\n",
      "13 x 4 = 52\n",
      "13 x 5 = 65\n",
      "13 x 6 = 78\n",
      "13 x 7 = 91\n",
      "13 x 8 = 104\n",
      "13 x 9 = 117\n",
      "13 x 10 = 130\n",
      "13 x 11 = 143\n",
      "13 x 12 = 156\n",
      "13 x 13 = 169\n",
      "13 x 14 = 182\n",
      "13 x 15 = 195\n",
      "13 x 16 = 208\n",
      "13 x 17 = 221\n",
      "13 x 18 = 234\n",
      "13 x 19 = 247\n",
      "\n",
      "14단!\n",
      "14 x 1 = 14\n",
      "14 x 2 = 28\n",
      "14 x 3 = 42\n",
      "14 x 4 = 56\n",
      "14 x 5 = 70\n",
      "14 x 6 = 84\n",
      "14 x 7 = 98\n",
      "14 x 8 = 112\n",
      "14 x 9 = 126\n",
      "14 x 10 = 140\n",
      "14 x 11 = 154\n",
      "14 x 12 = 168\n",
      "14 x 13 = 182\n",
      "14 x 14 = 196\n",
      "14 x 15 = 210\n",
      "14 x 16 = 224\n",
      "14 x 17 = 238\n",
      "14 x 18 = 252\n",
      "14 x 19 = 266\n",
      "\n",
      "15단!\n",
      "15 x 1 = 15\n",
      "15 x 2 = 30\n",
      "15 x 3 = 45\n",
      "15 x 4 = 60\n",
      "15 x 5 = 75\n",
      "15 x 6 = 90\n",
      "15 x 7 = 105\n",
      "15 x 8 = 120\n",
      "15 x 9 = 135\n",
      "15 x 10 = 150\n",
      "15 x 11 = 165\n",
      "15 x 12 = 180\n",
      "15 x 13 = 195\n",
      "15 x 14 = 210\n",
      "15 x 15 = 225\n",
      "15 x 16 = 240\n",
      "15 x 17 = 255\n",
      "15 x 18 = 270\n",
      "15 x 19 = 285\n",
      "\n",
      "16단!\n",
      "16 x 1 = 16\n",
      "16 x 2 = 32\n",
      "16 x 3 = 48\n",
      "16 x 4 = 64\n",
      "16 x 5 = 80\n",
      "16 x 6 = 96\n",
      "16 x 7 = 112\n",
      "16 x 8 = 128\n",
      "16 x 9 = 144\n",
      "16 x 10 = 160\n",
      "16 x 11 = 176\n",
      "16 x 12 = 192\n",
      "16 x 13 = 208\n",
      "16 x 14 = 224\n",
      "16 x 15 = 240\n",
      "16 x 16 = 256\n",
      "16 x 17 = 272\n",
      "16 x 18 = 288\n",
      "16 x 19 = 304\n",
      "\n",
      "17단!\n",
      "17 x 1 = 17\n",
      "17 x 2 = 34\n",
      "17 x 3 = 51\n",
      "17 x 4 = 68\n",
      "17 x 5 = 85\n",
      "17 x 6 = 102\n",
      "17 x 7 = 119\n",
      "17 x 8 = 136\n",
      "17 x 9 = 153\n",
      "17 x 10 = 170\n",
      "17 x 11 = 187\n",
      "17 x 12 = 204\n",
      "17 x 13 = 221\n",
      "17 x 14 = 238\n",
      "17 x 15 = 255\n",
      "17 x 16 = 272\n",
      "17 x 17 = 289\n",
      "17 x 18 = 306\n",
      "17 x 19 = 323\n",
      "\n",
      "18단!\n",
      "18 x 1 = 18\n",
      "18 x 2 = 36\n",
      "18 x 3 = 54\n",
      "18 x 4 = 72\n",
      "18 x 5 = 90\n",
      "18 x 6 = 108\n",
      "18 x 7 = 126\n",
      "18 x 8 = 144\n",
      "18 x 9 = 162\n",
      "18 x 10 = 180\n",
      "18 x 11 = 198\n",
      "18 x 12 = 216\n",
      "18 x 13 = 234\n",
      "18 x 14 = 252\n",
      "18 x 15 = 270\n",
      "18 x 16 = 288\n",
      "18 x 17 = 306\n",
      "18 x 18 = 324\n",
      "18 x 19 = 342\n",
      "\n",
      "19단!\n",
      "19 x 1 = 19\n",
      "19 x 2 = 38\n",
      "19 x 3 = 57\n",
      "19 x 4 = 76\n",
      "19 x 5 = 95\n",
      "19 x 6 = 114\n",
      "19 x 7 = 133\n",
      "19 x 8 = 152\n",
      "19 x 9 = 171\n",
      "19 x 10 = 190\n",
      "19 x 11 = 209\n",
      "19 x 12 = 228\n",
      "19 x 13 = 247\n",
      "19 x 14 = 266\n",
      "19 x 15 = 285\n",
      "19 x 16 = 304\n",
      "19 x 17 = 323\n",
      "19 x 18 = 342\n",
      "19 x 19 = 361\n",
      "\n"
     ]
    }
   ],
   "source": [
    "for i in range(2,20):\n",
    "    print(f\"{i}단!\")\n",
    "    for j in range(1,20):\n",
    "        print(f\"{i} x {j} = {i*j}\")\n",
    "    print()"
   ]
  },
  {
   "cell_type": "markdown",
   "id": "471c276b-2fb0-4e79-9333-fa23f3af2b88",
   "metadata": {},
   "source": [
    "## 이중 for 루프 연습문제\n",
    "구글 입사 문제 풀어보기\n",
    "- 1부터 10,000까지 8이라는 숫자가 총 몇 번 나오는가?\n",
    "- 8이 포함되어 있는 숫자의 개수를 카운팅하는 것이 아니라 8이라는 숫자를 모두 카운팅해야 한다.\n",
    "\n",
    "※ 예를들어 8808은 3, 8888은 4로 카운팅해야 함\n"
   ]
  },
  {
   "cell_type": "code",
   "execution_count": 15,
   "id": "88cb8aa9-d5b5-4e1e-b606-8b9852bf196d",
   "metadata": {},
   "outputs": [
    {
     "data": {
      "text/plain": [
       "4000"
      ]
     },
     "execution_count": 15,
     "metadata": {},
     "output_type": "execute_result"
    }
   ],
   "source": [
    "def google_solve():\n",
    "    count = 0 \n",
    "\n",
    "    for i in range(1,10000):\n",
    "        for ii in str(i):\n",
    "            if ii == '8':\n",
    "                count = count + 1\n",
    "\n",
    "    return count\n",
    "\n",
    "google_solve()"
   ]
  },
  {
   "cell_type": "code",
   "execution_count": 16,
   "id": "71690a01-2058-4187-b396-40751d398d9c",
   "metadata": {},
   "outputs": [
    {
     "data": {
      "text/plain": [
       "4000"
      ]
     },
     "execution_count": 16,
     "metadata": {},
     "output_type": "execute_result"
    }
   ],
   "source": [
    "str(list(range(1,10000))).count('8')"
   ]
  },
  {
   "cell_type": "markdown",
   "id": "4df088c2-32d8-43d3-a14b-233cf50ec472",
   "metadata": {},
   "source": [
    "함수로 구현해두면 timeit을 사용해 성능 평가를 할 수 있다."
   ]
  },
  {
   "cell_type": "code",
   "execution_count": 17,
   "id": "5aacc50a-1eb6-426d-9382-7bd64a8ab6fa",
   "metadata": {},
   "outputs": [
    {
     "name": "stdout",
     "output_type": "stream",
     "text": [
      "641 µs ± 8.57 µs per loop (mean ± std. dev. of 7 runs, 1,000 loops each)\n"
     ]
    }
   ],
   "source": [
    "%timeit str(list(range(1,10000))).count('8')"
   ]
  },
  {
   "cell_type": "code",
   "execution_count": 18,
   "id": "3137dc40-1fcd-4543-b382-a2926f5aba92",
   "metadata": {},
   "outputs": [
    {
     "name": "stdout",
     "output_type": "stream",
     "text": [
      "2.72 ms ± 26.9 µs per loop (mean ± std. dev. of 7 runs, 100 loops each)\n"
     ]
    }
   ],
   "source": [
    "%timeit google_solve()"
   ]
  },
  {
   "cell_type": "markdown",
   "id": "5b7988f8-6d2d-4413-bd18-f4620df66cc2",
   "metadata": {},
   "source": [
    "## While 문\n",
    "- while 문을 사용하면 for문과 유사하게 루프를 반복할 수 있다.\n",
    "- while은 조건을 전달하여 참이면 실행, 거짓이면 while문을 중단한다."
   ]
  },
  {
   "cell_type": "code",
   "execution_count": 19,
   "id": "0fb0677a-f51f-416d-b65d-d26d7efef2e1",
   "metadata": {},
   "outputs": [
    {
     "name": "stdout",
     "output_type": "stream",
     "text": [
      "1\n",
      "2\n",
      "3\n",
      "4\n",
      "5\n"
     ]
    }
   ],
   "source": [
    "spoon = 0\n",
    "\n",
    "while(spoon < 5):\n",
    "    spoon = spoon + 1\n",
    "    print(spoon)"
   ]
  },
  {
   "cell_type": "markdown",
   "id": "66354791-4ec3-458e-a6c4-de6931219a8f",
   "metadata": {},
   "source": [
    "break, continue는 while 문과 for 문에서 모두 동작한다.\n",
    "- break: 반복문을 중단하는 기능을 갖는다.\n",
    "- continue: 이번 회차는 종료하고 계속한다."
   ]
  },
  {
   "cell_type": "code",
   "execution_count": 20,
   "id": "22903968-7852-4206-b5a4-07e987430d2b",
   "metadata": {},
   "outputs": [
    {
     "name": "stdout",
     "output_type": "stream",
     "text": [
      "0\n",
      "1\n",
      "2\n",
      "3\n",
      "4\n",
      "5는 안돼.\n"
     ]
    }
   ],
   "source": [
    "for i in range(10):\n",
    "    if i == 5:\n",
    "        print(\"5는 안돼.\")\n",
    "        break\n",
    "    print(i)"
   ]
  },
  {
   "cell_type": "code",
   "execution_count": 21,
   "id": "ed0116b7-8b9b-4ada-9b89-0f1a1d784c27",
   "metadata": {},
   "outputs": [
    {
     "name": "stdout",
     "output_type": "stream",
     "text": [
      "1\n",
      "3\n",
      "5\n",
      "7\n",
      "9\n"
     ]
    }
   ],
   "source": [
    "for i in range(10):\n",
    "    if i % 2 == 0: # mod, 나머지, 2의 배수\n",
    "        continue\n",
    "    print(i)"
   ]
  },
  {
   "cell_type": "code",
   "execution_count": 23,
   "id": "bdbbb209-7131-4c40-b463-2b2d3c35e3b1",
   "metadata": {},
   "outputs": [],
   "source": [
    "def add():\n",
    "    pass\n"
   ]
  },
  {
   "cell_type": "markdown",
   "id": "c2ea6cde-180f-4184-8c8e-474a5100980e",
   "metadata": {},
   "source": [
    "## while 루프 연습문제\n",
    "- 무한 에코 프로그램 작성하기\n",
    "1. 일반적인 문자열을 입력하면 입력한 내용을 세 번씩 프린트함(공백을 붙여서)\n",
    "2. help를 입력하면 “에코를 해주는 프로그램입니다.”라는 문구가 떠야 함\n",
    "3. quit를 누르면 “정말 종료하시겠습니까?(Y/N)”라는 문구를 띄움\n",
    "4. 위 질문에서 Y를 누르면 프로그램 종료 N를 누르면 계속 실행\n",
    "\n"
   ]
  },
  {
   "cell_type": "code",
   "execution_count": 5,
   "id": "cf82d78a-1302-4f6d-9250-f1cb52305b30",
   "metadata": {},
   "outputs": [
    {
     "name": "stdin",
     "output_type": "stream",
     "text": [
      ">  quit\n",
      "정말 종료하시겠습니까?(Y/N) N\n",
      ">  asdfsadf\n"
     ]
    },
    {
     "name": "stdout",
     "output_type": "stream",
     "text": [
      "asdfsadf asdfsadf asdfsadf\n"
     ]
    },
    {
     "name": "stdin",
     "output_type": "stream",
     "text": [
      ">  quit\n",
      "정말 종료하시겠습니까?(Y/N) Y\n"
     ]
    }
   ],
   "source": [
    "while(True):\n",
    "    input_data = input(\"> \")\n",
    "    if input_data == \"help\":\n",
    "        print(\"에코를 해주는 프로그램입니다.\")\n",
    "    elif input_data == \"quit\":\n",
    "        ans = input(\"정말 종료하시겠습니까?(Y/N)\")\n",
    "        if ans == \"Y\":\n",
    "            break\n",
    "    else:\n",
    "        print(f\"{input_data} {input_data} {input_data}\")"
   ]
  },
  {
   "cell_type": "code",
   "execution_count": null,
   "id": "b10b2f5f-ff92-4950-abdc-93e22976b80d",
   "metadata": {},
   "outputs": [],
   "source": []
  }
 ],
 "metadata": {
  "kernelspec": {
   "display_name": "Python 3 (ipykernel)",
   "language": "python",
   "name": "python3"
  },
  "language_info": {
   "codemirror_mode": {
    "name": "ipython",
    "version": 3
   },
   "file_extension": ".py",
   "mimetype": "text/x-python",
   "name": "python",
   "nbconvert_exporter": "python",
   "pygments_lexer": "ipython3",
   "version": "3.9.12"
  }
 },
 "nbformat": 4,
 "nbformat_minor": 5
}
