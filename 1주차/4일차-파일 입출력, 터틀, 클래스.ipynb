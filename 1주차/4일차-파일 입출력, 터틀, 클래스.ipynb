{
 "cells": [
  {
   "cell_type": "markdown",
   "id": "5c5976ff-116b-49f2-8948-68c2d331b9d4",
   "metadata": {},
   "source": [
    "# 파이썬을 활용한 파일 입출력"
   ]
  },
  {
   "cell_type": "markdown",
   "id": "c2f0d55a-724b-45a7-b478-298b06f19bc1",
   "metadata": {},
   "source": [
    "## 파일 쓰기\n",
    "세 가지 기억하자. 열고, 쓰고, 닫고"
   ]
  },
  {
   "cell_type": "code",
   "execution_count": 8,
   "id": "2eb62e6e-2284-46f2-8bab-5f51d340cc1b",
   "metadata": {},
   "outputs": [],
   "source": [
    "f = open('test.txt', 'w', encoding=\"UTF-8\") # UTF-8로 저장\n",
    "f.write(\"안녕하세요!\")\n",
    "f.close()"
   ]
  },
  {
   "cell_type": "markdown",
   "id": "23c9a2d3-39c7-4754-8738-f6e8d8d0ae1f",
   "metadata": {},
   "source": [
    "## 파일 읽기"
   ]
  },
  {
   "cell_type": "code",
   "execution_count": 5,
   "id": "bb5f7a16-8d3b-413c-8096-04771e59066f",
   "metadata": {},
   "outputs": [
    {
     "name": "stdout",
     "output_type": "stream",
     "text": [
      "안녕하세요!\n"
     ]
    }
   ],
   "source": [
    "f = open('test.txt', 'r', encoding=\"UTF-8\")\n",
    "file_data = f.read()\n",
    "f.close()\n",
    "\n",
    "print(file_data)"
   ]
  },
  {
   "cell_type": "markdown",
   "id": "547a0a9d-f48f-44ac-8ea7-ae9ec6af48d0",
   "metadata": {},
   "source": [
    "## 파일 내용 추가"
   ]
  },
  {
   "cell_type": "code",
   "execution_count": 11,
   "id": "97f0db01-2410-4182-b828-a9dfb7daa32d",
   "metadata": {},
   "outputs": [],
   "source": [
    "f = open('test.txt', 'a', encoding=\"UTF-8\")\n",
    "f.write(\"\\n두 번째 내용!\")\n",
    "f.close()\n",
    "\n",
    "f = open('test.txt', 'r', encoding=\"UTF-8\")\n",
    "file_data = f.read()\n",
    "f.close()"
   ]
  },
  {
   "cell_type": "code",
   "execution_count": 13,
   "id": "0083b418-68f9-4375-bf6d-88fbfa339b30",
   "metadata": {},
   "outputs": [
    {
     "name": "stdout",
     "output_type": "stream",
     "text": [
      "안녕하세요!\n",
      "두 번째 내용!\n"
     ]
    }
   ],
   "source": [
    "print(file_data)"
   ]
  },
  {
   "cell_type": "markdown",
   "id": "e31e8889-c5f3-40ea-be5a-ab82b9e2c293",
   "metadata": {},
   "source": [
    "## 바이너리로 오픈하기"
   ]
  },
  {
   "cell_type": "code",
   "execution_count": 15,
   "id": "fa07ce06-1053-4503-9e07-6aec6417962f",
   "metadata": {},
   "outputs": [
    {
     "name": "stdout",
     "output_type": "stream",
     "text": [
      "b'\\xec\\x95\\x88\\xeb\\x85\\x95\\xed\\x95\\x98\\xec\\x84\\xb8\\xec\\x9a\\x94!\\r\\n\\xeb\\x91\\x90 \\xeb\\xb2\\x88\\xec\\xa7\\xb8 \\xeb\\x82\\xb4\\xec\\x9a\\xa9!'\n"
     ]
    }
   ],
   "source": [
    "f = open('test.txt', 'rb')\n",
    "file_data = f.read()\n",
    "f.close()\n",
    "\n",
    "print(file_data)"
   ]
  },
  {
   "cell_type": "code",
   "execution_count": 17,
   "id": "c99e9063-bb0f-42f6-b073-822a5a4bcc00",
   "metadata": {},
   "outputs": [
    {
     "name": "stdout",
     "output_type": "stream",
     "text": [
      "안녕하세요!\n",
      "두 번째 내용!\n"
     ]
    }
   ],
   "source": [
    "print(file_data.decode())"
   ]
  },
  {
   "cell_type": "markdown",
   "id": "738d083c-3d0e-4c39-b72f-7b82e6faef6f",
   "metadata": {},
   "source": [
    "## 상대 경로와 절대 경로"
   ]
  },
  {
   "cell_type": "code",
   "execution_count": 21,
   "id": "4fa3f85c-e239-445f-b986-54472d7aef95",
   "metadata": {},
   "outputs": [
    {
     "name": "stdout",
     "output_type": "stream",
     "text": [
      "현재 위치: C:\\Users\\isc03\\ML20221011\\1주차\n"
     ]
    }
   ],
   "source": [
    "# 절대 경로 'C:\\\\users\\\\isc03\\\\ML20221011\\\\1주차'\n",
    "# 상대 경로 test.txt -> 'C:\\\\users\\\\isc03\\\\ML20221011\\\\1주차\\\\test.txt'\n",
    "\n",
    "import os\n",
    "\n",
    "current_path = os.getcwd() # 현재 경로를 절대경로로 반환\n",
    "print(\"현재 위치:\", current_path)\n",
    "\n",
    "f = open(current_path + '\\\\test2.txt', 'w', encoding=\"UTF-8\")\n",
    "f.write(f\"절대 경로로 파일 생성: {current_path}'\\\\test2.txt'\")\n",
    "f.close()"
   ]
  },
  {
   "cell_type": "code",
   "execution_count": 22,
   "id": "4ca64ce8-4394-417b-b43b-e03d3eba0ac2",
   "metadata": {},
   "outputs": [
    {
     "data": {
      "text/plain": [
       "'C:\\\\Users\\\\isc03\\\\ML20221011\\\\1주차'"
      ]
     },
     "execution_count": 22,
     "metadata": {},
     "output_type": "execute_result"
    }
   ],
   "source": [
    "current_path"
   ]
  },
  {
   "cell_type": "markdown",
   "id": "eb5f87f9-a1aa-4371-901e-81614eb567a1",
   "metadata": {},
   "source": [
    "## with 문법을 활용한 파일 입출력"
   ]
  },
  {
   "cell_type": "code",
   "execution_count": 24,
   "id": "6e4d00dd-d652-4dce-a005-fe26a968ded2",
   "metadata": {},
   "outputs": [
    {
     "name": "stdout",
     "output_type": "stream",
     "text": [
      "절대 경로로 파일 생성: C:\\Users\\isc03\\ML20221011\\1주차'\\test2.txt'\n"
     ]
    }
   ],
   "source": [
    "with open('test2.txt', 'r', encoding=\"UTF-8\") as f:\n",
    "    file_data = f.read()\n",
    "\n",
    "print(file_data)"
   ]
  },
  {
   "cell_type": "markdown",
   "id": "016823d5-ea15-47d7-bc29-89f6c699f8a7",
   "metadata": {},
   "source": [
    "# 거북이 경주 시뮬레이션 만들기"
   ]
  },
  {
   "cell_type": "markdown",
   "id": "ed2fe9fb-e086-44eb-a589-3c0540d05f59",
   "metadata": {},
   "source": [
    "터틀 라이브러리를 사용해 그림을 그려보자. 다음 프로그램을 실행해 idle로 코드를 생성해서 실행해보자.\n",
    "- `C:\\Users\\%USERNAME%\\anaconda3\\Scripts\\idle.exe`\n"
   ]
  },
  {
   "cell_type": "markdown",
   "id": "4001b0d5-d52b-43b8-9405-4cdcd79bbf59",
   "metadata": {},
   "source": [
    "삼각형 그리기"
   ]
  },
  {
   "cell_type": "code",
   "execution_count": 8,
   "id": "ee8de0c5-1dc9-4b70-ac92-35e5cce30ff0",
   "metadata": {},
   "outputs": [],
   "source": [
    "import turtle as t\n",
    "\n",
    "t.forward(100)\n",
    "t.left(120)\n",
    "t.forward(100)\n",
    "t.left(120)\n",
    "t.forward(100)\n",
    "t.left(120)\n"
   ]
  },
  {
   "cell_type": "markdown",
   "id": "f5697a74-bef9-4e2c-999c-eb76bc98886d",
   "metadata": {},
   "source": [
    "정사각형 그리기"
   ]
  },
  {
   "cell_type": "code",
   "execution_count": null,
   "id": "d6853f1e-9246-4266-b173-95f590d8ebef",
   "metadata": {},
   "outputs": [],
   "source": [
    "import turtle as t\n",
    "\n",
    "t.forward(100)\n",
    "t.left(90)\n",
    "t.forward(100)\n",
    "t.left(90)\n",
    "t.forward(100)\n",
    "t.left(90)\n",
    "t.forward(100)\n",
    "t.left(90)"
   ]
  },
  {
   "cell_type": "markdown",
   "id": "1a0420c9-be5b-4e71-b79c-a39acbd161bc",
   "metadata": {},
   "source": [
    "기울어진 사다리꼴 사각형 그리기"
   ]
  },
  {
   "cell_type": "code",
   "execution_count": 10,
   "id": "aff5dcbf-4f4b-4a74-9813-f20dff380f39",
   "metadata": {},
   "outputs": [],
   "source": [
    "import turtle as t\n",
    "\n",
    "t.forward(120)\n",
    "t.left(120)\n",
    "t.forward(60)\n",
    "t.left(60)\n",
    "t.forward(60)\n",
    "t.left(60)\n",
    "t.forward(60)\n",
    "t.left(120)\n"
   ]
  },
  {
   "cell_type": "markdown",
   "id": "972648a8-504f-4312-bf24-bd69384e872a",
   "metadata": {},
   "source": [
    "별 모양"
   ]
  },
  {
   "cell_type": "code",
   "execution_count": null,
   "id": "480932e0-648c-437d-a03b-2d9c60b3dfc1",
   "metadata": {},
   "outputs": [],
   "source": [
    "import turtle as t\n",
    "\n",
    "angle = 720/5\n",
    "for i in range(5):\n",
    "    t.forward(120)\n",
    "    t.left(angle)\n"
   ]
  },
  {
   "cell_type": "markdown",
   "id": "74e48786-a472-4aa6-ad61-65f2a7898726",
   "metadata": {},
   "source": [
    "https://docs.python.org/ko/3/library/turtle.html 페이지에 다음 코드가 나타나 있다.\n",
    "<img src=\"https://docs.python.org/ko/3/_images/turtle-star.png\">"
   ]
  },
  {
   "cell_type": "code",
   "execution_count": null,
   "id": "fd04306b-f606-469c-9107-bc076c152d9f",
   "metadata": {},
   "outputs": [],
   "source": [
    "from turtle import *\n",
    "speed(10)\n",
    "color('red', 'yellow')\n",
    "begin_fill()\n",
    "while True:\n",
    "    forward(200)\n",
    "    left(170)\n",
    "    if abs(pos()) < 1:\n",
    "        break\n",
    "end_fill()\n",
    "done()"
   ]
  },
  {
   "cell_type": "code",
   "execution_count": 12,
   "id": "90bec5a5-105e-41a1-95ae-3f2063c15e98",
   "metadata": {},
   "outputs": [
    {
     "ename": "SyntaxError",
     "evalue": "unexpected EOF while parsing (936460772.py, line 3)",
     "output_type": "error",
     "traceback": [
      "\u001b[1;36m  Input \u001b[1;32mIn [12]\u001b[1;36m\u001b[0m\n\u001b[1;33m    t.speed(\u001b[0m\n\u001b[1;37m             ^\u001b[0m\n\u001b[1;31mSyntaxError\u001b[0m\u001b[1;31m:\u001b[0m unexpected EOF while parsing\n"
     ]
    }
   ],
   "source": [
    "import turtle as t\n",
    "\n",
    "t.\n",
    "# tab을 누르면 t.에 무엇이 포함되는지 알 수 있다.\n",
    "\n",
    "t.speed( \n",
    "# 시프트 탭을 누르면 함수에 대한 설명이 나온다."
   ]
  },
  {
   "cell_type": "markdown",
   "id": "f34b59b7-405d-4d89-90a6-35dab571276c",
   "metadata": {},
   "source": [
    "# 클래스"
   ]
  },
  {
   "cell_type": "markdown",
   "id": "09b09858-387b-4e67-8323-57bf74231414",
   "metadata": {},
   "source": [
    "클래스 선언해보기"
   ]
  },
  {
   "cell_type": "code",
   "execution_count": 13,
   "id": "71ca952f-f424-4faa-9860-5c3b5633f401",
   "metadata": {},
   "outputs": [],
   "source": [
    "# 클래스를 선언\n",
    "class PersonEmpty:\n",
    "    pass\n",
    "\n",
    "person_a = PersonEmpty()"
   ]
  },
  {
   "cell_type": "code",
   "execution_count": 15,
   "id": "8a194dd8-ff50-4734-9114-af913588acc6",
   "metadata": {},
   "outputs": [
    {
     "name": "stdout",
     "output_type": "stream",
     "text": [
      "안녕\n",
      "안녕\n"
     ]
    }
   ],
   "source": [
    "class Person:\n",
    "    def greeting(self):\n",
    "        print(\"안녕\")\n",
    "        \n",
    "    def hello(self):\n",
    "        self.greeting()\n",
    "        \n",
    "person_b = Person()\n",
    "\n",
    "person_b.hello()\n",
    "person_b.greeting()"
   ]
  },
  {
   "cell_type": "markdown",
   "id": "97fc9815-ac9c-4f84-8391-26c7be775cee",
   "metadata": {},
   "source": [
    "클래스 초기화"
   ]
  },
  {
   "cell_type": "code",
   "execution_count": 16,
   "id": "3b13106c-e4e2-4273-aa21-2b9c82cffd41",
   "metadata": {},
   "outputs": [],
   "source": [
    "class Person:\n",
    "    # 객체가 생성될 때 실행되는 함수\n",
    "    def __init__(self, name, age, phone_number):\n",
    "        self.hello = \"안녕\"\n",
    "        self.name = name\n",
    "        self.age = age\n",
    "        self.phone_number = phone_number\n",
    "    \n",
    "    def greeting(self):\n",
    "        print(self.hello)\n",
    "        \n",
    "    def introduce(self):\n",
    "        print(f'내 이름은 {self.name}이고 나이는 {self.age}살이야.')\n",
    "        print(f'전화번호는 {self.phone_number}야.')\n",
    "        \n",
    "name = '일선'\n",
    "age = 1234\n",
    "phone_number = '010-1234-5678'\n",
    "ilsun = Person(name, age, phone_number)"
   ]
  },
  {
   "cell_type": "code",
   "execution_count": 18,
   "id": "77de2fe8-213a-4844-bc08-b84ea4a74bcd",
   "metadata": {},
   "outputs": [
    {
     "name": "stdout",
     "output_type": "stream",
     "text": [
      "안녕\n"
     ]
    }
   ],
   "source": [
    "ilsun.greeting()"
   ]
  },
  {
   "cell_type": "code",
   "execution_count": 19,
   "id": "3e122ffc-2c59-4692-bbc9-4babb522dde0",
   "metadata": {},
   "outputs": [
    {
     "name": "stdout",
     "output_type": "stream",
     "text": [
      "내 이름은 일선이고 나이는 1234살이야.\n",
      "전화번호는 010-1234-5678야.\n"
     ]
    }
   ],
   "source": [
    "ilsun.introduce()"
   ]
  },
  {
   "cell_type": "markdown",
   "id": "d606496b-dcfe-47d0-bea7-3494b31287e6",
   "metadata": {},
   "source": [
    "## 클래스 연습 문제\n",
    "- 게임 캐릭터를 구성하는 Character라는 클래스를 구성하라.\n",
    "\n",
    "1. 캐릭터를 초기화할 때는 id와 att, def, hp, st를 설정해야 한다. 이 값은 1보다 큰 값으로 랜덤하게 구성되며 총합은 20이어야 한다. (att=공격력, def=방어력, hp=헬스포인트, st=스태미나)\n",
    "2. 캐릭터는 다른 캐릭터에 공격을 수행할 수 있어야 하며 공격 데미지는 att이며 공격 받은 캐릭터는 att에서 def를 뺀 만큼 hp가 차감 된다.\n",
    "3. 한번 공격을 수행할 때마다 st가 1씩 차감되고 st가 없으면 한 턴을 쉬고 st를 회복한다.\n",
    "4. A와 B 캐릭터를 생성하고 hp가 차감되도록 설정하고 한 캐릭터의 hp가 0되면 캐릭터는 사망하며 게임이 끝나도록 프로그램을 구성하라.\n"
   ]
  },
  {
   "cell_type": "code",
   "execution_count": 1,
   "id": "073d8be1-6b3b-4af2-b343-eab93fd9f3dc",
   "metadata": {},
   "outputs": [],
   "source": [
    "class Character:\n",
    "    # 초기화 코드\n",
    "    def __init__(self, _id, _att, _def, _hp, _st):\n",
    "        self.id  = _id\n",
    "        self.att = _att\n",
    "        self.defense = _def \n",
    "        self.hp  = _hp\n",
    "        self.st  = _st\n",
    "        self.live = True\n",
    "    \n",
    "    # 상대 캐릭터 공격\n",
    "    def attack(self, target):\n",
    "        # 캐릭터가 죽었다면 return\n",
    "        if not self.live:\n",
    "            notified_death(self)\n",
    "            return\n",
    "        \n",
    "        # st가 부족하면 rest 함수 실행 후 return\n",
    "        if self.st == 0:\n",
    "            print(f\"{self.id}(은)는 스태미나가 부족해 공격을 수행할 수 없습니다.\")\n",
    "            self.rest()\n",
    "            return\n",
    "        \n",
    "        self.st = self.st - 1\n",
    "        \n",
    "        print(f\"{self.id}(이)가 {target.id}(을)를 공격합니다.\")\n",
    "        target.damaged(self)\n",
    "    \n",
    "    # 공격 받음\n",
    "    def damaged(self, target):\n",
    "        damage = target.att - self.defense\n",
    "        if damage < 0:\n",
    "            damage = 0\n",
    "            \n",
    "        self.hp = self.hp - damage\n",
    "        \n",
    "        print(f\"{self.id}(은)는 {damage}의 피해를 입었습니다.\")\n",
    "        \n",
    "        if self.hp < 1:\n",
    "            self.die()\n",
    "    \n",
    "    # 쉴 때마다 스태미나 회복\n",
    "    def rest(self):\n",
    "        self.st += 1\n",
    "        print(f\"{self.id}(은)는 1 스태미나를 회복했습니다.\")\n",
    "            \n",
    "    # 죽을 때 실행되는 함수\n",
    "    def die(self):\n",
    "        print(f\"{self.id}(은)는 죽었습니다.\")\n",
    "        self.hp  = 0\n",
    "        self.live = False\n",
    "    \n",
    "    # 죽은 사실을 알리는 기능\n",
    "    def notified_death(self):\n",
    "        print(f\"{self.id}(은)는 죽었습니다. 아무 동작도 할 수 없습니다.\")\n",
    "        "
   ]
  },
  {
   "cell_type": "code",
   "execution_count": 3,
   "id": "e78f6e76-a517-46bb-aa4e-c76a6e673c23",
   "metadata": {},
   "outputs": [
    {
     "name": "stdout",
     "output_type": "stream",
     "text": [
      "1턴\n",
      "A(이)가 B(을)를 공격합니다.\n",
      "B(은)는 4의 피해를 입었습니다.\n",
      "B(이)가 A(을)를 공격합니다.\n",
      "A(은)는 3의 피해를 입었습니다.\n",
      "\n",
      "2턴\n",
      "A(은)는 스태미나가 부족해 공격을 수행할 수 없습니다.\n",
      "A(은)는 1 스태미나를 회복했습니다.\n",
      "B(은)는 스태미나가 부족해 공격을 수행할 수 없습니다.\n",
      "B(은)는 1 스태미나를 회복했습니다.\n",
      "\n",
      "3턴\n",
      "A(이)가 B(을)를 공격합니다.\n",
      "B(은)는 4의 피해를 입었습니다.\n",
      "B(이)가 A(을)를 공격합니다.\n",
      "A(은)는 3의 피해를 입었습니다.\n",
      "\n",
      "4턴\n",
      "A(은)는 스태미나가 부족해 공격을 수행할 수 없습니다.\n",
      "A(은)는 1 스태미나를 회복했습니다.\n",
      "B(은)는 스태미나가 부족해 공격을 수행할 수 없습니다.\n",
      "B(은)는 1 스태미나를 회복했습니다.\n",
      "\n",
      "5턴\n",
      "A(이)가 B(을)를 공격합니다.\n",
      "B(은)는 4의 피해를 입었습니다.\n",
      "B(이)가 A(을)를 공격합니다.\n",
      "A(은)는 3의 피해를 입었습니다.\n",
      "\n",
      "6턴\n",
      "A(은)는 스태미나가 부족해 공격을 수행할 수 없습니다.\n",
      "A(은)는 1 스태미나를 회복했습니다.\n",
      "B(은)는 스태미나가 부족해 공격을 수행할 수 없습니다.\n",
      "B(은)는 1 스태미나를 회복했습니다.\n",
      "\n",
      "7턴\n",
      "A(이)가 B(을)를 공격합니다.\n",
      "B(은)는 4의 피해를 입었습니다.\n",
      "B(이)가 A(을)를 공격합니다.\n",
      "A(은)는 3의 피해를 입었습니다.\n",
      "\n",
      "8턴\n",
      "A(은)는 스태미나가 부족해 공격을 수행할 수 없습니다.\n",
      "A(은)는 1 스태미나를 회복했습니다.\n",
      "B(은)는 스태미나가 부족해 공격을 수행할 수 없습니다.\n",
      "B(은)는 1 스태미나를 회복했습니다.\n",
      "\n",
      "9턴\n",
      "A(이)가 B(을)를 공격합니다.\n",
      "B(은)는 4의 피해를 입었습니다.\n",
      "B(은)는 죽었습니다.\n",
      "A hp: 8\n",
      "B hp: 0\n"
     ]
    }
   ],
   "source": [
    "A = Character('A',5,1,20,1)\n",
    "B = Character('B',4,1,20,1)\n",
    "\n",
    "for i in range(1,21):\n",
    "    print(f\"{i}턴\")\n",
    "    \n",
    "    A.attack(B)\n",
    "    if not B.live:\n",
    "        break\n",
    "        \n",
    "    B.attack(A)\n",
    "    if not A.live:\n",
    "        break\n",
    "\n",
    "    print()\n",
    "print(\"A hp:\", A.hp)\n",
    "print(\"B hp:\", B.hp)"
   ]
  },
  {
   "cell_type": "code",
   "execution_count": 52,
   "id": "5bcc6168-41e4-4821-b6c1-44c48630ad96",
   "metadata": {},
   "outputs": [
    {
     "data": {
      "text/plain": [
       "10"
      ]
     },
     "execution_count": 52,
     "metadata": {},
     "output_type": "execute_result"
    }
   ],
   "source": [
    "B.hp"
   ]
  },
  {
   "cell_type": "code",
   "execution_count": 38,
   "id": "c99dd3a7-1d5c-4f46-9388-4ce7a2f1ec6d",
   "metadata": {},
   "outputs": [
    {
     "data": {
      "text/plain": [
       "4"
      ]
     },
     "execution_count": 38,
     "metadata": {},
     "output_type": "execute_result"
    }
   ],
   "source": [
    "A.hp"
   ]
  },
  {
   "cell_type": "code",
   "execution_count": null,
   "id": "22eb8d9a-d01d-4f93-896e-fffd9eb3bc35",
   "metadata": {},
   "outputs": [],
   "source": []
  }
 ],
 "metadata": {
  "kernelspec": {
   "display_name": "Python 3 (ipykernel)",
   "language": "python",
   "name": "python3"
  },
  "language_info": {
   "codemirror_mode": {
    "name": "ipython",
    "version": 3
   },
   "file_extension": ".py",
   "mimetype": "text/x-python",
   "name": "python",
   "nbconvert_exporter": "python",
   "pygments_lexer": "ipython3",
   "version": "3.9.12"
  }
 },
 "nbformat": 4,
 "nbformat_minor": 5
}
