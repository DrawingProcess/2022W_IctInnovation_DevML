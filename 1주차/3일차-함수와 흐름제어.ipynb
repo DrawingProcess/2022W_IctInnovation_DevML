{
 "cells": [
  {
   "cell_type": "markdown",
   "id": "b9a58d21-737a-45c9-a0be-ad2f8f87fe16",
   "metadata": {},
   "source": [
    "# 함수와 흐름 제어\n"
   ]
  },
  {
   "cell_type": "markdown",
   "id": "b60b0dec-9e48-4339-867b-db16ce1f30ed",
   "metadata": {},
   "source": [
    "## 함수 선언하기"
   ]
  },
  {
   "cell_type": "code",
   "execution_count": 1,
   "id": "b5bde94f-31b1-43e9-8959-949b31b4fc5f",
   "metadata": {},
   "outputs": [
    {
     "data": {
      "text/plain": [
       "4"
      ]
     },
     "execution_count": 1,
     "metadata": {},
     "output_type": "execute_result"
    }
   ],
   "source": [
    "def add(a, b):\n",
    "    return a + b\n",
    "\n",
    "result = add(1, 3)\n",
    "result"
   ]
  },
  {
   "cell_type": "markdown",
   "id": "4cc303f0-746b-45ff-b6f3-4f605950937b",
   "metadata": {},
   "source": [
    "## 파이썬 함수 선언과 활용 연습 문제\n",
    "1. 사용자의 입력을 받아 다음과 같은 출력 형태를 갖는 add_num2()를 작성하십시오. 형 변환을 위해 int를 사용하세요!\n",
    "\n"
   ]
  },
  {
   "cell_type": "code",
   "execution_count": 3,
   "id": "e242041d-3573-4f5a-b734-eaae765f2cb8",
   "metadata": {},
   "outputs": [
    {
     "name": "stdin",
     "output_type": "stream",
     "text": [
      "띄어쓰기로 나눠서 숫자를 4개만 입력하세요: 1 2 3 4\n"
     ]
    },
    {
     "name": "stdout",
     "output_type": "stream",
     "text": [
      "10\n"
     ]
    }
   ],
   "source": [
    "def add_num2():\n",
    "    ans = input(\"띄어쓰기로 나눠서 숫자를 4개만 입력하세요:\")\n",
    "    a, b, c, d = ans.split() # [1,2,3,4]\n",
    "    print(int(a) + int(b) + int(c) + int(d))\n",
    "    \n",
    "add_num2()"
   ]
  },
  {
   "cell_type": "markdown",
   "id": "4a2b6448-f4c4-4242-a376-d05bd86791ec",
   "metadata": {},
   "source": [
    "2. IP 주소로 실제 위치 찾기 프로그램을 함수로 만들기: getLocation(ip)"
   ]
  },
  {
   "cell_type": "code",
   "execution_count": 4,
   "id": "b4e8a988-3e9d-4eb2-a730-8265df13d230",
   "metadata": {},
   "outputs": [
    {
     "name": "stdout",
     "output_type": "stream",
     "text": [
      "\n",
      "    ip: 223.130.195.95\n",
      "    국가: South Korea\n",
      "    도시: Seongnam-si\n",
      "    경도: 127.119\n",
      "    위도: 37.3827\n",
      "    \n"
     ]
    }
   ],
   "source": [
    "# http://ip-api.com/json/24.48.0.1\n",
    "import requests # 웹 요청을 수행하는 라이브러리\n",
    "import json     # json을 dict으로 변환하는 라이브러리\n",
    "\n",
    "def getLocation(ip):\n",
    "    res = requests.get(f'http://ip-api.com/json/{ip}') # Get 요청 수행\n",
    "    geo_data = json.loads(res.text) # 바디 데이터를 json에서 dict으로 변경\n",
    "    # print(type(geo_data)) # 데이터 타입 확인\n",
    "\n",
    "    #geo_data # 데이터 확인\n",
    "    print(f'''\n",
    "    ip: {geo_data[\"query\"]}\n",
    "    국가: {geo_data[\"country\"]}\n",
    "    도시: {geo_data[\"city\"]}\n",
    "    경도: {geo_data[\"lon\"]}\n",
    "    위도: {geo_data[\"lat\"]}\n",
    "    ''')\n",
    "    \n",
    "getLocation(\"naver.com\")"
   ]
  },
  {
   "cell_type": "code",
   "execution_count": 5,
   "id": "3b35e8b3-b97e-410a-8a77-795fb6d24ed7",
   "metadata": {},
   "outputs": [
    {
     "name": "stdout",
     "output_type": "stream",
     "text": [
      "\n",
      "    ip: 211.249.221.105\n",
      "    국가: South Korea\n",
      "    도시: Jeju-si\n",
      "    경도: 126.571\n",
      "    위도: 33.4565\n",
      "    \n"
     ]
    }
   ],
   "source": [
    "getLocation(\"kakao.com\")"
   ]
  },
  {
   "cell_type": "markdown",
   "id": "030d188f-55d0-4536-ae2c-b32bbe22a32f",
   "metadata": {},
   "source": [
    "## 흐름제어"
   ]
  },
  {
   "cell_type": "markdown",
   "id": "224dd6a8-4651-4d9d-ba81-d4bbe8776398",
   "metadata": {},
   "source": [
    "## if, else, elif\n",
    "if 조건에 따라서 어떤 코드를 실행할지 결정하는 역할을 수행"
   ]
  },
  {
   "cell_type": "code",
   "execution_count": 14,
   "id": "6d650fe6-e035-4011-972f-6f5a1f2f7f06",
   "metadata": {},
   "outputs": [
    {
     "name": "stdout",
     "output_type": "stream",
     "text": [
      "0보다 작다!\n"
     ]
    }
   ],
   "source": [
    "num = -1\n",
    "\n",
    "if num > 0: # True\n",
    "    # 실행됨\n",
    "    print(\"0보다 크다!\")\n",
    "elif num == 0:\n",
    "    print(\"0과 같다!\")\n",
    "elif num < 0:\n",
    "    print(\"0보다 작다!\")\n",
    "else: # 조건이 맞지 않으면 실행\n",
    "    print(\"조건이 맞지 않다!\")"
   ]
  },
  {
   "cell_type": "code",
   "execution_count": null,
   "id": "6947e412-a159-48e6-be9c-181e876ffd0c",
   "metadata": {},
   "outputs": [],
   "source": []
  }
 ],
 "metadata": {
  "kernelspec": {
   "display_name": "Python 3 (ipykernel)",
   "language": "python",
   "name": "python3"
  },
  "language_info": {
   "codemirror_mode": {
    "name": "ipython",
    "version": 3
   },
   "file_extension": ".py",
   "mimetype": "text/x-python",
   "name": "python",
   "nbconvert_exporter": "python",
   "pygments_lexer": "ipython3",
   "version": "3.9.12"
  }
 },
 "nbformat": 4,
 "nbformat_minor": 5
}
