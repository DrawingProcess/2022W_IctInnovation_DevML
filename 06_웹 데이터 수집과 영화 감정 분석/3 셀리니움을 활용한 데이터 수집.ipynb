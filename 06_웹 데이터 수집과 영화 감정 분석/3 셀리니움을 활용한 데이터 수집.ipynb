{
 "cells": [
  {
   "cell_type": "markdown",
   "id": "1ef1232b-e515-4fe7-9645-4dacfada9fba",
   "metadata": {
    "tags": []
   },
   "source": [
    "# 셀리니움을 활용한 데이터 수집\n",
    "## 셀리니움 설치하기"
   ]
  },
  {
   "cell_type": "code",
   "execution_count": null,
   "id": "6323f066-1569-4a55-abfe-3a3bf2ddca30",
   "metadata": {},
   "outputs": [],
   "source": [
    "!pip install selenium\n",
    "# https://chromedriver.chromium.org/downloads에서 크롬 드라이버를 설치"
   ]
  },
  {
   "cell_type": "markdown",
   "id": "e5a5d2b6-aa69-4b1f-9700-c3f5f527d9ed",
   "metadata": {},
   "source": [
    "## 네이버 로그인 자동화"
   ]
  },
  {
   "cell_type": "code",
   "execution_count": 11,
   "id": "0d3d7a33-c2c7-40c2-bd9a-3c7dba0d8eec",
   "metadata": {},
   "outputs": [
    {
     "name": "stderr",
     "output_type": "stream",
     "text": [
      "C:\\Users\\isc03\\AppData\\Local\\Temp\\ipykernel_12600\\1522807132.py:4: DeprecationWarning: executable_path has been deprecated, please pass in a Service object\n",
      "  driver = webdriver.Chrome('chromedriver.exe') # 드라이버 실행\n"
     ]
    }
   ],
   "source": [
    "from selenium import webdriver\n",
    "import time\n",
    "\n",
    "driver = webdriver.Chrome('chromedriver.exe') # 드라이버 실행\n",
    "driver.implicitly_wait(3)\n",
    "\n",
    "driver.get('https://nid.naver.com/nidlogin.login')\n",
    "\n",
    "# css 꾸미기 기능인데 \n",
    "# 개발자 도구에서 네이버 로그인창의 아이디 부분을 클릭하고 CSS 셀렉터를 카피한다.\n",
    "driver.find_element(\"css selector\", '#id').send_keys('gasbugs') # ID 정보 입력\n",
    "driver.find_element(\"css selector\", '#pw').send_keys('password') # 패스워드 정보 입력\n",
    "time.sleep(3)\n",
    "\n",
    "driver.find_element(\"css selector\", \"#log\\.login\").click() # 로그인 수행"
   ]
  },
  {
   "cell_type": "code",
   "execution_count": null,
   "id": "78863172-4941-4076-9933-77479f0bf65e",
   "metadata": {},
   "outputs": [],
   "source": []
  }
 ],
 "metadata": {
  "kernelspec": {
   "display_name": "Python 3 (ipykernel)",
   "language": "python",
   "name": "python3"
  },
  "language_info": {
   "codemirror_mode": {
    "name": "ipython",
    "version": 3
   },
   "file_extension": ".py",
   "mimetype": "text/x-python",
   "name": "python",
   "nbconvert_exporter": "python",
   "pygments_lexer": "ipython3",
   "version": "3.9.12"
  }
 },
 "nbformat": 4,
 "nbformat_minor": 5
}
