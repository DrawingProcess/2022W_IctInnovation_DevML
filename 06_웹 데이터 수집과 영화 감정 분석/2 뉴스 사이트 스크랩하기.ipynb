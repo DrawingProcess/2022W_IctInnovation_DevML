{
 "cells": [
  {
   "cell_type": "code",
   "execution_count": 2,
   "id": "8a311b63-85bb-4399-b406-616c4c8271db",
   "metadata": {},
   "outputs": [
    {
     "name": "stderr",
     "output_type": "stream",
     "text": [
      "C:\\Users\\isc03\\anaconda3\\lib\\site-packages\\urllib3\\connectionpool.py:1043: InsecureRequestWarning: Unverified HTTPS request is being made to host 'www.boannews.com'. Adding certificate verification is strongly advised. See: https://urllib3.readthedocs.io/en/1.26.x/advanced-usage.html#ssl-warnings\n",
      "  warnings.warn(\n"
     ]
    },
    {
     "data": {
      "text/plain": [
       "200"
      ]
     },
     "execution_count": 2,
     "metadata": {},
     "output_type": "execute_result"
    }
   ],
   "source": [
    "import requests \n",
    "\n",
    "url = 'https://www.boannews.com/media/t_list.asp'\n",
    "\n",
    "res = requests.get(url, verify=False)\n",
    "res.status_code"
   ]
  },
  {
   "cell_type": "code",
   "execution_count": 4,
   "id": "e98fc595-91de-40e5-b026-2f7a7742b559",
   "metadata": {},
   "outputs": [
    {
     "data": {
      "text/plain": [
       "<title>보안뉴스_뉴스</title>"
      ]
     },
     "execution_count": 4,
     "metadata": {},
     "output_type": "execute_result"
    }
   ],
   "source": [
    "from bs4 import BeautifulSoup\n",
    "\n",
    "bs4obj = BeautifulSoup(res.text, 'html.parser') # html을 파서를 사용해 우리가 받아온 뉴스 페이지를 분석한다.\n",
    "bs4obj.title"
   ]
  },
  {
   "cell_type": "markdown",
   "id": "99e5322d-0054-4001-862a-e49bb8b5937d",
   "metadata": {},
   "source": [
    "# bs4의 검색 기능 사용\n",
    "\n",
    "div 객체의 class가 news_list인 것을 검색해보자."
   ]
  },
  {
   "cell_type": "code",
   "execution_count": 7,
   "id": "77290233-6b3c-4078-b495-02262fcfb7f1",
   "metadata": {},
   "outputs": [
    {
     "data": {
      "text/plain": [
       "30"
      ]
     },
     "execution_count": 7,
     "metadata": {},
     "output_type": "execute_result"
    }
   ],
   "source": [
    "news_list = bs4obj.find_all('div', {'class':'news_list'})\n",
    "len(news_list)"
   ]
  },
  {
   "cell_type": "markdown",
   "id": "20bc5b15-7e9f-464a-9af8-8e4d3603b1bc",
   "metadata": {},
   "source": [
    "# 테이블 정리"
   ]
  },
  {
   "cell_type": "code",
   "execution_count": 20,
   "id": "fdc23f3f-6c8d-4017-b75c-d40297deefdb",
   "metadata": {},
   "outputs": [
    {
     "data": {
      "text/plain": [
       "'올해 보안분야 최고 명강연자는? ISEC 2022 ‘Best Speaker Award’ 개최'"
      ]
     },
     "execution_count": 20,
     "metadata": {},
     "output_type": "execute_result"
    }
   ],
   "source": [
    "# 제목 뽑기\n",
    "news_list[0].img.text.strip()"
   ]
  },
  {
   "cell_type": "code",
   "execution_count": 27,
   "id": "d171c861-eda9-4d68-b1ec-0d43c14f6d53",
   "metadata": {},
   "outputs": [
    {
     "data": {
      "text/plain": [
       "'/media/view.asp?idx=111780&page=1&kind=3'"
      ]
     },
     "execution_count": 27,
     "metadata": {},
     "output_type": "execute_result"
    }
   ],
   "source": [
    "# 해당 기사의 URL 뽑기\n",
    "news_list[0].a['href']"
   ]
  },
  {
   "cell_type": "code",
   "execution_count": 41,
   "id": "de38cbd0-d99e-4d29-adf9-e001857fd97d",
   "metadata": {},
   "outputs": [
    {
     "data": {
      "text/html": [
       "<div>\n",
       "<style scoped>\n",
       "    .dataframe tbody tr th:only-of-type {\n",
       "        vertical-align: middle;\n",
       "    }\n",
       "\n",
       "    .dataframe tbody tr th {\n",
       "        vertical-align: top;\n",
       "    }\n",
       "\n",
       "    .dataframe thead th {\n",
       "        text-align: right;\n",
       "    }\n",
       "</style>\n",
       "<table border=\"1\" class=\"dataframe\">\n",
       "  <thead>\n",
       "    <tr style=\"text-align: right;\">\n",
       "      <th></th>\n",
       "      <th>title</th>\n",
       "      <th>url</th>\n",
       "    </tr>\n",
       "  </thead>\n",
       "  <tbody>\n",
       "    <tr>\n",
       "      <th>0</th>\n",
       "      <td>올해 보안분야 최고 명강연자는? ISEC 2022 ‘Best Speaker Awar...</td>\n",
       "      <td>https://www.boannews.com/media/view.asp?idx=11...</td>\n",
       "    </tr>\n",
       "    <tr>\n",
       "      <th>1</th>\n",
       "      <td>카카오 사태 잊었나? 케이뱅크·우체국·IBK기업은행 줄줄이 시스템 장애</td>\n",
       "      <td>https://www.boannews.com/media/view.asp?idx=11...</td>\n",
       "    </tr>\n",
       "    <tr>\n",
       "      <th>2</th>\n",
       "      <td>[보.알.남] RAID, 훼손 위협으로부터 데이터 안정성 확보하기 위한 분산 전략</td>\n",
       "      <td>https://www.boannews.com/media/view.asp?idx=11...</td>\n",
       "    </tr>\n",
       "    <tr>\n",
       "      <th>3</th>\n",
       "      <td>새로운 랜섬웨어 액스락커, 디스코드 계정 노려</td>\n",
       "      <td>https://www.boannews.com/media/view.asp?idx=11...</td>\n",
       "    </tr>\n",
       "    <tr>\n",
       "      <th>4</th>\n",
       "      <td>구글 애드와 가짜 소프트웨어 이용하는 새로운 랜섬웨어, 로얄</td>\n",
       "      <td>https://www.boannews.com/media/view.asp?idx=11...</td>\n",
       "    </tr>\n",
       "    <tr>\n",
       "      <th>5</th>\n",
       "      <td>중국의 무스탕판다, 전 세계 정부 기관들을 활발하게 공격 중</td>\n",
       "      <td>https://www.boannews.com/media/view.asp?idx=11...</td>\n",
       "    </tr>\n",
       "    <tr>\n",
       "      <th>6</th>\n",
       "      <td>옴론 PLC의 취약점, 고급 ICS 멀웨어가 노리기 시작해</td>\n",
       "      <td>https://www.boannews.com/media/view.asp?idx=11...</td>\n",
       "    </tr>\n",
       "    <tr>\n",
       "      <th>7</th>\n",
       "      <td>프록시낫셸 취약점에 대한 개념증명용 익스플로잇 코드 공개돼</td>\n",
       "      <td>https://www.boannews.com/media/view.asp?idx=11...</td>\n",
       "    </tr>\n",
       "    <tr>\n",
       "      <th>8</th>\n",
       "      <td>호주 정부의 보복 해킹 선언, 제대로 실현될 수 있을까?</td>\n",
       "      <td>https://www.boannews.com/media/view.asp?idx=11...</td>\n",
       "    </tr>\n",
       "    <tr>\n",
       "      <th>9</th>\n",
       "      <td>비밀번호가 사라진 시대를 준비하기</td>\n",
       "      <td>https://www.boannews.com/media/view.asp?idx=11...</td>\n",
       "    </tr>\n",
       "    <tr>\n",
       "      <th>10</th>\n",
       "      <td>지에스티, 동반성장 유공 중소벤처기업부 장관 표창 수상</td>\n",
       "      <td>https://www.boannews.com/media/view.asp?idx=11...</td>\n",
       "    </tr>\n",
       "    <tr>\n",
       "      <th>11</th>\n",
       "      <td>[부고] 김수균 한국인터넷정보학회 부회장 부친상</td>\n",
       "      <td>https://www.boannews.com/media/view.asp?idx=11...</td>\n",
       "    </tr>\n",
       "    <tr>\n",
       "      <th>12</th>\n",
       "      <td>KISA, ‘비대면 서비스 보안강화 시범사업’ 성과공유회 개최</td>\n",
       "      <td>https://www.boannews.com/media/view.asp?idx=11...</td>\n",
       "    </tr>\n",
       "    <tr>\n",
       "      <th>13</th>\n",
       "      <td>성현시스템, 소상공인 무인매장 선착순 100곳 출입통제 솔루션 무상지원</td>\n",
       "      <td>https://www.boannews.com/media/view.asp?idx=11...</td>\n",
       "    </tr>\n",
       "    <tr>\n",
       "      <th>14</th>\n",
       "      <td>마크애니, 방범용 CCTV 관제화면 기반 차번인식 솔루션 개발 완료</td>\n",
       "      <td>https://www.boannews.com/media/view.asp?idx=11...</td>\n",
       "    </tr>\n",
       "    <tr>\n",
       "      <th>15</th>\n",
       "      <td>SK쉴더스 경호팀, 범죄피해자 인권대회서 고양지청장상 수상</td>\n",
       "      <td>https://www.boannews.com/media/view.asp?idx=11...</td>\n",
       "    </tr>\n",
       "    <tr>\n",
       "      <th>16</th>\n",
       "      <td>프로그래밍 언어, 몇 개나 알고 있어야 경쟁력이 생길까?</td>\n",
       "      <td>https://www.boannews.com/media/view.asp?idx=11...</td>\n",
       "    </tr>\n",
       "    <tr>\n",
       "      <th>17</th>\n",
       "      <td>[긴급] 이력서 사칭한 ‘LockBit 3.0’ 랜섬웨어, 국내 유포중</td>\n",
       "      <td>https://www.boannews.com/media/view.asp?idx=11...</td>\n",
       "    </tr>\n",
       "    <tr>\n",
       "      <th>18</th>\n",
       "      <td>글로벌 해킹그룹 공격 동향 살펴보니... ‘사이버보안 대연합’ 2차 보고서 발표</td>\n",
       "      <td>https://www.boannews.com/media/view.asp?idx=11...</td>\n",
       "    </tr>\n",
       "    <tr>\n",
       "      <th>19</th>\n",
       "      <td>공익신고자의 범죄행위 감면될까? 이용우 의원 관련법 발의</td>\n",
       "      <td>https://www.boannews.com/media/view.asp?idx=11...</td>\n",
       "    </tr>\n",
       "    <tr>\n",
       "      <th>20</th>\n",
       "      <td>CBPR, APEC 넘어 글로벌 공동 ‘개인정보보호 인증’으로 도약한다</td>\n",
       "      <td>https://www.boannews.com/media/view.asp?idx=11...</td>\n",
       "    </tr>\n",
       "    <tr>\n",
       "      <th>21</th>\n",
       "      <td>[주말판] 머스크의 트위터 직원 대량 해고, IT 업계는 어떤 미래가 기다리고 있나</td>\n",
       "      <td>https://www.boannews.com/media/view.asp?idx=11...</td>\n",
       "    </tr>\n",
       "    <tr>\n",
       "      <th>22</th>\n",
       "      <td>Wiki 랜섬웨어 국내 유포 포착... 정상 프로그램으로 위장</td>\n",
       "      <td>https://www.boannews.com/media/view.asp?idx=11...</td>\n",
       "    </tr>\n",
       "    <tr>\n",
       "      <th>23</th>\n",
       "      <td>경남도, 디지털 혁신 인재 양성 위한 ‘2022 경남 IT 엑스포’ 개최</td>\n",
       "      <td>https://www.boannews.com/media/view.asp?idx=11...</td>\n",
       "    </tr>\n",
       "    <tr>\n",
       "      <th>24</th>\n",
       "      <td>현대차그룹, 소프트웨어로 정의되는 미래 모빌리티 핵심 기술 공개</td>\n",
       "      <td>https://www.boannews.com/media/view.asp?idx=11...</td>\n",
       "    </tr>\n",
       "    <tr>\n",
       "      <th>25</th>\n",
       "      <td>융기원-AI사업단, 국가 인공지능 혁신 거점 조성을 위한 업무협약 체결</td>\n",
       "      <td>https://www.boannews.com/media/view.asp?idx=11...</td>\n",
       "    </tr>\n",
       "    <tr>\n",
       "      <th>26</th>\n",
       "      <td>SK온, 한양대·연세대와 차세대 배터리 연구 손잡는다</td>\n",
       "      <td>https://www.boannews.com/media/view.asp?idx=11...</td>\n",
       "    </tr>\n",
       "    <tr>\n",
       "      <th>27</th>\n",
       "      <td>강의 추천 챗봇과 AI 전자 채색 기술, SKT와 미래 AI 인재가 함께 만들었어요</td>\n",
       "      <td>https://www.boannews.com/media/view.asp?idx=11...</td>\n",
       "    </tr>\n",
       "    <tr>\n",
       "      <th>28</th>\n",
       "      <td>경찰청, 2022년 사이버사기·사이버금융범죄 집중 단속 중간 결과 발표</td>\n",
       "      <td>https://www.boannews.com/media/view.asp?idx=11...</td>\n",
       "    </tr>\n",
       "    <tr>\n",
       "      <th>29</th>\n",
       "      <td>한국형 스마트시티 기술, 세계 속으로</td>\n",
       "      <td>https://www.boannews.com/media/view.asp?idx=11...</td>\n",
       "    </tr>\n",
       "  </tbody>\n",
       "</table>\n",
       "</div>"
      ],
      "text/plain": [
       "                                                title  \\\n",
       "0   올해 보안분야 최고 명강연자는? ISEC 2022 ‘Best Speaker Awar...   \n",
       "1             카카오 사태 잊었나? 케이뱅크·우체국·IBK기업은행 줄줄이 시스템 장애   \n",
       "2       [보.알.남] RAID, 훼손 위협으로부터 데이터 안정성 확보하기 위한 분산 전략   \n",
       "3                           새로운 랜섬웨어 액스락커, 디스코드 계정 노려   \n",
       "4                   구글 애드와 가짜 소프트웨어 이용하는 새로운 랜섬웨어, 로얄   \n",
       "5                   중국의 무스탕판다, 전 세계 정부 기관들을 활발하게 공격 중   \n",
       "6                    옴론 PLC의 취약점, 고급 ICS 멀웨어가 노리기 시작해   \n",
       "7                    프록시낫셸 취약점에 대한 개념증명용 익스플로잇 코드 공개돼   \n",
       "8                     호주 정부의 보복 해킹 선언, 제대로 실현될 수 있을까?   \n",
       "9                                  비밀번호가 사라진 시대를 준비하기   \n",
       "10                     지에스티, 동반성장 유공 중소벤처기업부 장관 표창 수상   \n",
       "11                         [부고] 김수균 한국인터넷정보학회 부회장 부친상   \n",
       "12                 KISA, ‘비대면 서비스 보안강화 시범사업’ 성과공유회 개최   \n",
       "13            성현시스템, 소상공인 무인매장 선착순 100곳 출입통제 솔루션 무상지원   \n",
       "14              마크애니, 방범용 CCTV 관제화면 기반 차번인식 솔루션 개발 완료   \n",
       "15                   SK쉴더스 경호팀, 범죄피해자 인권대회서 고양지청장상 수상   \n",
       "16                    프로그래밍 언어, 몇 개나 알고 있어야 경쟁력이 생길까?   \n",
       "17            [긴급] 이력서 사칭한 ‘LockBit 3.0’ 랜섬웨어, 국내 유포중   \n",
       "18       글로벌 해킹그룹 공격 동향 살펴보니... ‘사이버보안 대연합’ 2차 보고서 발표   \n",
       "19                    공익신고자의 범죄행위 감면될까? 이용우 의원 관련법 발의   \n",
       "20            CBPR, APEC 넘어 글로벌 공동 ‘개인정보보호 인증’으로 도약한다   \n",
       "21     [주말판] 머스크의 트위터 직원 대량 해고, IT 업계는 어떤 미래가 기다리고 있나   \n",
       "22                 Wiki 랜섬웨어 국내 유포 포착... 정상 프로그램으로 위장   \n",
       "23           경남도, 디지털 혁신 인재 양성 위한 ‘2022 경남 IT 엑스포’ 개최   \n",
       "24                현대차그룹, 소프트웨어로 정의되는 미래 모빌리티 핵심 기술 공개   \n",
       "25            융기원-AI사업단, 국가 인공지능 혁신 거점 조성을 위한 업무협약 체결   \n",
       "26                      SK온, 한양대·연세대와 차세대 배터리 연구 손잡는다   \n",
       "27     강의 추천 챗봇과 AI 전자 채색 기술, SKT와 미래 AI 인재가 함께 만들었어요   \n",
       "28            경찰청, 2022년 사이버사기·사이버금융범죄 집중 단속 중간 결과 발표   \n",
       "29                               한국형 스마트시티 기술, 세계 속으로   \n",
       "\n",
       "                                                  url  \n",
       "0   https://www.boannews.com/media/view.asp?idx=11...  \n",
       "1   https://www.boannews.com/media/view.asp?idx=11...  \n",
       "2   https://www.boannews.com/media/view.asp?idx=11...  \n",
       "3   https://www.boannews.com/media/view.asp?idx=11...  \n",
       "4   https://www.boannews.com/media/view.asp?idx=11...  \n",
       "5   https://www.boannews.com/media/view.asp?idx=11...  \n",
       "6   https://www.boannews.com/media/view.asp?idx=11...  \n",
       "7   https://www.boannews.com/media/view.asp?idx=11...  \n",
       "8   https://www.boannews.com/media/view.asp?idx=11...  \n",
       "9   https://www.boannews.com/media/view.asp?idx=11...  \n",
       "10  https://www.boannews.com/media/view.asp?idx=11...  \n",
       "11  https://www.boannews.com/media/view.asp?idx=11...  \n",
       "12  https://www.boannews.com/media/view.asp?idx=11...  \n",
       "13  https://www.boannews.com/media/view.asp?idx=11...  \n",
       "14  https://www.boannews.com/media/view.asp?idx=11...  \n",
       "15  https://www.boannews.com/media/view.asp?idx=11...  \n",
       "16  https://www.boannews.com/media/view.asp?idx=11...  \n",
       "17  https://www.boannews.com/media/view.asp?idx=11...  \n",
       "18  https://www.boannews.com/media/view.asp?idx=11...  \n",
       "19  https://www.boannews.com/media/view.asp?idx=11...  \n",
       "20  https://www.boannews.com/media/view.asp?idx=11...  \n",
       "21  https://www.boannews.com/media/view.asp?idx=11...  \n",
       "22  https://www.boannews.com/media/view.asp?idx=11...  \n",
       "23  https://www.boannews.com/media/view.asp?idx=11...  \n",
       "24  https://www.boannews.com/media/view.asp?idx=11...  \n",
       "25  https://www.boannews.com/media/view.asp?idx=11...  \n",
       "26  https://www.boannews.com/media/view.asp?idx=11...  \n",
       "27  https://www.boannews.com/media/view.asp?idx=11...  \n",
       "28  https://www.boannews.com/media/view.asp?idx=11...  \n",
       "29  https://www.boannews.com/media/view.asp?idx=11...  "
      ]
     },
     "execution_count": 41,
     "metadata": {},
     "output_type": "execute_result"
    }
   ],
   "source": [
    "import pandas as pd \n",
    "news_dict = dict()\n",
    "for i, news in enumerate(news_list):\n",
    "    # 제목 뽑기\n",
    "    title = news.span.text.strip()\n",
    "    # 해당 기사의 URL 뽑기\n",
    "    url = news.a['href']\n",
    "    news_dict[i] = [title, 'https://www.boannews.com' + url]\n",
    "\n",
    "pd.DataFrame(news_dict, index=['title', 'url']).T"
   ]
  },
  {
   "cell_type": "code",
   "execution_count": 35,
   "id": "dc9fb64e-2b4d-4ed2-ae44-0e0616be7fcf",
   "metadata": {},
   "outputs": [
    {
     "data": {
      "text/plain": [
       "{'올해 보안분야 최고 명강연자는? ISEC 2022 ‘Best Speaker Award’ 개최': '/media/view.asp?idx=111780&page=1&kind=3',\n",
       " '카카오 사태 잊었나? 케이뱅크·우체국·IBK기업은행 줄줄이 시스템 장애': '/media/view.asp?idx=111777&page=1&kind=1',\n",
       " '[보.알.남] RAID, 훼손 위협으로부터 데이터 안정성 확보하기 위한 분산 전략': '/media/view.asp?idx=111595&page=1&kind=5',\n",
       " '새로운 랜섬웨어 액스락커, 디스코드 계정 노려': '/media/view.asp?idx=111775&page=1&kind=1',\n",
       " '구글 애드와 가짜 소프트웨어 이용하는 새로운 랜섬웨어, 로얄': '/media/view.asp?idx=111774&page=1&kind=1',\n",
       " '중국의 무스탕판다, 전 세계 정부 기관들을 활발하게 공격 중': '/media/view.asp?idx=111773&page=1&kind=1',\n",
       " '옴론 PLC의 취약점, 고급 ICS 멀웨어가 노리기 시작해': '/media/view.asp?idx=111772&page=1&kind=1',\n",
       " '프록시낫셸 취약점에 대한 개념증명용 익스플로잇 코드 공개돼': '/media/view.asp?idx=111771&page=1&kind=1',\n",
       " '호주 정부의 보복 해킹 선언, 제대로 실현될 수 있을까?': '/media/view.asp?idx=111769&page=1&kind=1',\n",
       " '비밀번호가 사라진 시대를 준비하기': '/media/view.asp?idx=111763&page=1&kind=4',\n",
       " '지에스티, 동반성장 유공 중소벤처기업부 장관 표창 수상': '/media/view.asp?idx=111778&page=1&kind=3',\n",
       " '[부고] 김수균 한국인터넷정보학회 부회장 부친상': '/media/view.asp?idx=111776&page=1&kind=1',\n",
       " 'KISA, ‘비대면 서비스 보안강화 시범사업’ 성과공유회 개최': '/media/view.asp?idx=111765&page=1&kind=2',\n",
       " '성현시스템, 소상공인 무인매장 선착순 100곳 출입통제 솔루션 무상지원': '/media/view.asp?idx=111768&page=1&kind=3',\n",
       " '마크애니, 방범용 CCTV 관제화면 기반 차번인식 솔루션 개발 완료': '/media/view.asp?idx=111767&page=1&kind=3',\n",
       " 'SK쉴더스 경호팀, 범죄피해자 인권대회서 고양지청장상 수상': '/media/view.asp?idx=111766&page=1&kind=3',\n",
       " '프로그래밍 언어, 몇 개나 알고 있어야 경쟁력이 생길까?': '/media/view.asp?idx=111759&page=1&kind=4',\n",
       " '[긴급] 이력서 사칭한 ‘LockBit 3.0’ 랜섬웨어, 국내 유포중': '/media/view.asp?idx=111762&page=1&kind=1',\n",
       " '글로벌 해킹그룹 공격 동향 살펴보니... ‘사이버보안 대연합’ 2차 보고서 발표': '/media/view.asp?idx=111706&page=1&kind=1',\n",
       " '공익신고자의 범죄행위 감면될까? 이용우 의원 관련법 발의': '/media/view.asp?idx=111764&page=1&kind=2',\n",
       " 'CBPR, APEC 넘어 글로벌 공동 ‘개인정보보호 인증’으로 도약한다': '/media/view.asp?idx=111744&page=1&kind=2',\n",
       " '[주말판] 머스크의 트위터 직원 대량 해고, IT 업계는 어떤 미래가 기다리고 있나': '/media/view.asp?idx=111569&page=1&kind=1',\n",
       " 'Wiki 랜섬웨어 국내 유포 포착... 정상 프로그램으로 위장': '/media/view.asp?idx=111731&page=1&kind=1',\n",
       " '경남도, 디지털 혁신 인재 양성 위한 ‘2022 경남 IT 엑스포’ 개최': '/media/view.asp?idx=111758&page=1&kind=2',\n",
       " '현대차그룹, 소프트웨어로 정의되는 미래 모빌리티 핵심 기술 공개': '/media/view.asp?idx=111757&page=1&kind=3',\n",
       " '융기원-AI사업단, 국가 인공지능 혁신 거점 조성을 위한 업무협약 체결': '/media/view.asp?idx=111756&page=1&kind=2',\n",
       " 'SK온, 한양대·연세대와 차세대 배터리 연구 손잡는다': '/media/view.asp?idx=111755&page=1&kind=3',\n",
       " '강의 추천 챗봇과 AI 전자 채색 기술, SKT와 미래 AI 인재가 함께 만들었어요': '/media/view.asp?idx=111754&page=1&kind=2',\n",
       " '경찰청, 2022년 사이버사기·사이버금융범죄 집중 단속 중간 결과 발표': '/media/view.asp?idx=111753&page=1&kind=2',\n",
       " '한국형 스마트시티 기술, 세계 속으로': '/media/view.asp?idx=111752&page=1&kind=2'}"
      ]
     },
     "execution_count": 35,
     "metadata": {},
     "output_type": "execute_result"
    }
   ],
   "source": []
  },
  {
   "cell_type": "code",
   "execution_count": 33,
   "id": "d2ba93ba-dda4-40c1-a5cc-b772fd304fbe",
   "metadata": {},
   "outputs": [
    {
     "data": {
      "text/plain": [
       "<span class=\"news_txt\">[부고] 김수균 한국인터넷정보학회 부회장 부친상</span>"
      ]
     },
     "execution_count": 33,
     "metadata": {},
     "output_type": "execute_result"
    }
   ],
   "source": []
  },
  {
   "cell_type": "code",
   "execution_count": null,
   "id": "c78b6802-3dca-413a-8959-e8c9c164a9fc",
   "metadata": {},
   "outputs": [],
   "source": []
  }
 ],
 "metadata": {
  "kernelspec": {
   "display_name": "Python 3 (ipykernel)",
   "language": "python",
   "name": "python3"
  },
  "language_info": {
   "codemirror_mode": {
    "name": "ipython",
    "version": 3
   },
   "file_extension": ".py",
   "mimetype": "text/x-python",
   "name": "python",
   "nbconvert_exporter": "python",
   "pygments_lexer": "ipython3",
   "version": "3.9.12"
  }
 },
 "nbformat": 4,
 "nbformat_minor": 5
}
