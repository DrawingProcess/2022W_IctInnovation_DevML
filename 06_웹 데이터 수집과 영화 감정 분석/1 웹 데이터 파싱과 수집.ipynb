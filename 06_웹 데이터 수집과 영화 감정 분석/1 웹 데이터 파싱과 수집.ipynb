{
 "cells": [
  {
   "cell_type": "markdown",
   "id": "c1ec53e2-2b5f-4b3a-ad4a-021ad88a1bbe",
   "metadata": {},
   "source": [
    "# requests 를 활용한 웹 요청 수행"
   ]
  },
  {
   "cell_type": "code",
   "execution_count": 6,
   "id": "763fc2ad-000e-434b-b8d5-e66160dddc79",
   "metadata": {},
   "outputs": [
    {
     "name": "stdout",
     "output_type": "stream",
     "text": [
      "200\n",
      "None\n",
      "\n",
      "<!doctype html>                          <html lang=\"ko\" data-dark=\"false\"> <head> <meta charset=\"u\n",
      "\n",
      "<!doctype html>                          <html lang=\"ko\" data-dark=\"false\"> <head> <meta charset=\"u\n"
     ]
    }
   ],
   "source": [
    "import requests\n",
    "\n",
    "host = \"https://www.naver.com\"\n",
    "res = requests.get(host)\n",
    "\n",
    "print(res.status_code) # 서버 상태 코드\n",
    "print(res.raise_for_status()) # 200 ok가 아닌 경우 오류 실행\n",
    "print(res.content.decode()[:100]) # 본문 \n",
    "print(res.text[:100]) # 본문"
   ]
  },
  {
   "cell_type": "markdown",
   "id": "f6e78d87-0737-49a2-ada7-11f910531513",
   "metadata": {},
   "source": [
    "# 구글에 검색 수행하기"
   ]
  },
  {
   "cell_type": "code",
   "execution_count": 7,
   "id": "d034c5e0-5bc4-443f-9174-cce9b05c4cb4",
   "metadata": {},
   "outputs": [
    {
     "name": "stdout",
     "output_type": "stream",
     "text": [
      "200\n",
      "<!doctype html><html lang=\"ko\"><head><meta charset=\"UTF-8\"><meta content=\"/images/branding/googleg/1\n"
     ]
    }
   ],
   "source": [
    "import requests\n",
    "\n",
    "host = \"https://www.google.com/search\"\n",
    "my_param = {'q': 'test'}\n",
    "res = requests.get(host, params=my_param)\n",
    "\n",
    "print(res.status_code) # 서버 상태 코드\n",
    "print(res.text[:100]) # 본문"
   ]
  },
  {
   "cell_type": "code",
   "execution_count": 8,
   "id": "ec1e1371-1650-4c92-b0ed-8310e39003ea",
   "metadata": {},
   "outputs": [
    {
     "data": {
      "text/plain": [
       "154"
      ]
     },
     "execution_count": 8,
     "metadata": {},
     "output_type": "execute_result"
    }
   ],
   "source": [
    "res.text.find(\"title\")"
   ]
  },
  {
   "cell_type": "code",
   "execution_count": 10,
   "id": "71848b38-6d8e-4777-b374-2c1f4d4d6a74",
   "metadata": {},
   "outputs": [
    {
     "data": {
      "text/plain": [
       "'title>test - Google &#44160;&#49353;</title><scrip'"
      ]
     },
     "execution_count": 10,
     "metadata": {},
     "output_type": "execute_result"
    }
   ],
   "source": [
    "res.text[154: 154+50] # test - Google 검색"
   ]
  },
  {
   "cell_type": "markdown",
   "id": "8f3879b9-8ec3-4653-af38-a3bcbcafd5b6",
   "metadata": {},
   "source": [
    "# POST 요청 수행하기"
   ]
  },
  {
   "cell_type": "code",
   "execution_count": 13,
   "id": "2f8d91f5-e712-4b2c-8874-b6f2c404b1b6",
   "metadata": {},
   "outputs": [
    {
     "data": {
      "text/plain": [
       "200"
      ]
     },
     "execution_count": 13,
     "metadata": {},
     "output_type": "execute_result"
    }
   ],
   "source": [
    "import requests, json\n",
    "\n",
    "host = \"https://naver.com\"\n",
    "my_data = {'id': 'gasbugs', 'pw':'password'}\n",
    "res = requests.get(host, data=my_data)\n",
    "res.status_code"
   ]
  },
  {
   "cell_type": "code",
   "execution_count": 16,
   "id": "cc8b780f-75a6-44e3-a8be-4f5be4946f91",
   "metadata": {},
   "outputs": [
    {
     "data": {
      "text/plain": [
       "'\\n<!doctype html>                          <html lang=\"ko\" data-dark=\"false\"> <head> <meta charset=\"u'"
      ]
     },
     "execution_count": 16,
     "metadata": {},
     "output_type": "execute_result"
    }
   ],
   "source": [
    "res.text[:100] # 실제 로그인하는 페이지는 아니기 때문에 그냥 웹 요청으로 인한 결과가 돌아옴"
   ]
  },
  {
   "cell_type": "code",
   "execution_count": null,
   "id": "a785a683-6bf5-4400-b9dd-cc4a77c41b65",
   "metadata": {},
   "outputs": [],
   "source": []
  }
 ],
 "metadata": {
  "kernelspec": {
   "display_name": "Python 3 (ipykernel)",
   "language": "python",
   "name": "python3"
  },
  "language_info": {
   "codemirror_mode": {
    "name": "ipython",
    "version": 3
   },
   "file_extension": ".py",
   "mimetype": "text/x-python",
   "name": "python",
   "nbconvert_exporter": "python",
   "pygments_lexer": "ipython3",
   "version": "3.9.12"
  }
 },
 "nbformat": 4,
 "nbformat_minor": 5
}
