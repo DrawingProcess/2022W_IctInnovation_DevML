{
 "cells": [
  {
   "cell_type": "code",
   "execution_count": 12,
   "id": "571fcf41-0d42-48b0-a12c-4b2d9a870be3",
   "metadata": {},
   "outputs": [
    {
     "data": {
      "text/plain": [
       "array([[ 1,  2,  3,  4],\n",
       "       [ 5,  6,  7,  8],\n",
       "       [ 9, 10, 11, 12]])"
      ]
     },
     "execution_count": 12,
     "metadata": {},
     "output_type": "execute_result"
    }
   ],
   "source": [
    "import numpy as np\n",
    "\n",
    "x = np.arange(1, 13 ,1)\n",
    "x.shape = 3, 4\n",
    "x"
   ]
  },
  {
   "cell_type": "code",
   "execution_count": 20,
   "id": "e32a31ae-c83c-4dce-a7a0-4f12b5646e5c",
   "metadata": {},
   "outputs": [
    {
     "name": "stdout",
     "output_type": "stream",
     "text": [
      "[[ 1  2  3  4]\n",
      " [ 9 10 11 12]]\n"
     ]
    }
   ],
   "source": [
    "print(x[[0, 2],:]) # 0과 2행을 선택"
   ]
  },
  {
   "cell_type": "code",
   "execution_count": 21,
   "id": "4785d1d4-b6da-4b17-a3b7-205c7ff2882f",
   "metadata": {},
   "outputs": [
    {
     "name": "stdout",
     "output_type": "stream",
     "text": [
      "3\n"
     ]
    }
   ],
   "source": [
    "print(x[0, 2]) # 첫번째 0은 대괄호를 벗겨냄, 그 안의 리스트에서 2를 선택"
   ]
  },
  {
   "cell_type": "code",
   "execution_count": 22,
   "id": "41cea610-8f1a-4bb1-a5de-5a6d5dfeae1f",
   "metadata": {},
   "outputs": [
    {
     "data": {
      "text/plain": [
       "(1, 3)"
      ]
     },
     "execution_count": 22,
     "metadata": {},
     "output_type": "execute_result"
    }
   ],
   "source": [
    "a1 = np.array([[1, 2, 3]]) # 행이 한 개임\n",
    "a1.shape"
   ]
  },
  {
   "cell_type": "code",
   "execution_count": 23,
   "id": "6a1fcf3a-90fc-4534-96b3-540b3682cfe9",
   "metadata": {},
   "outputs": [
    {
     "data": {
      "text/plain": [
       "(3,)"
      ]
     },
     "execution_count": 23,
     "metadata": {},
     "output_type": "execute_result"
    }
   ],
   "source": [
    "a2 = np.array([1, 2, 3]) # 행이 세 개임\n",
    "a2.shape"
   ]
  },
  {
   "cell_type": "markdown",
   "id": "1a91196d-018c-472f-beb9-6f6b871f4605",
   "metadata": {},
   "source": [
    "reshape([5,20]) 과 reshape(5,20)은 같다.\n",
    "https://numpy.org/doc/stable/reference/generated/numpy.ndarray.reshape.html"
   ]
  },
  {
   "cell_type": "code",
   "execution_count": 10,
   "id": "93ec2a9e-82fd-4533-8a68-d1fd8502bd67",
   "metadata": {},
   "outputs": [
    {
     "data": {
      "text/plain": [
       "array([[ 0,  1,  2,  3,  4,  5,  6,  7,  8,  9, 10, 11, 12, 13, 14, 15,\n",
       "        16, 17, 18, 19],\n",
       "       [20, 21, 22, 23, 24, 25, 26, 27, 28, 29, 30, 31, 32, 33, 34, 35,\n",
       "        36, 37, 38, 39],\n",
       "       [40, 41, 42, 43, 44, 45, 46, 47, 48, 49, 50, 51, 52, 53, 54, 55,\n",
       "        56, 57, 58, 59],\n",
       "       [60, 61, 62, 63, 64, 65, 66, 67, 68, 69, 70, 71, 72, 73, 74, 75,\n",
       "        76, 77, 78, 79],\n",
       "       [80, 81, 82, 83, 84, 85, 86, 87, 88, 89, 90, 91, 92, 93, 94, 95,\n",
       "        96, 97, 98, 99]])"
      ]
     },
     "execution_count": 10,
     "metadata": {},
     "output_type": "execute_result"
    }
   ],
   "source": [
    "test_arr = np.arange(100)\n",
    "test_arr = test_arr.reshape([5,20])\n",
    "test_arr"
   ]
  },
  {
   "cell_type": "code",
   "execution_count": 11,
   "id": "708e8ee6-d5db-4534-97f6-f26a1e5f2602",
   "metadata": {},
   "outputs": [
    {
     "data": {
      "text/plain": [
       "array([[ 0,  1,  2,  3,  4,  5,  6,  7,  8,  9, 10, 11, 12, 13, 14, 15,\n",
       "        16, 17, 18, 19],\n",
       "       [20, 21, 22, 23, 24, 25, 26, 27, 28, 29, 30, 31, 32, 33, 34, 35,\n",
       "        36, 37, 38, 39],\n",
       "       [40, 41, 42, 43, 44, 45, 46, 47, 48, 49, 50, 51, 52, 53, 54, 55,\n",
       "        56, 57, 58, 59],\n",
       "       [60, 61, 62, 63, 64, 65, 66, 67, 68, 69, 70, 71, 72, 73, 74, 75,\n",
       "        76, 77, 78, 79],\n",
       "       [80, 81, 82, 83, 84, 85, 86, 87, 88, 89, 90, 91, 92, 93, 94, 95,\n",
       "        96, 97, 98, 99]])"
      ]
     },
     "execution_count": 11,
     "metadata": {},
     "output_type": "execute_result"
    }
   ],
   "source": [
    "test_arr = test_arr.reshape(5,20)\n",
    "test_arr"
   ]
  },
  {
   "cell_type": "code",
   "execution_count": null,
   "id": "b40610b1-8669-494b-a68f-a94fac8c7d7a",
   "metadata": {},
   "outputs": [],
   "source": []
  }
 ],
 "metadata": {
  "kernelspec": {
   "display_name": "Python 3 (ipykernel)",
   "language": "python",
   "name": "python3"
  },
  "language_info": {
   "codemirror_mode": {
    "name": "ipython",
    "version": 3
   },
   "file_extension": ".py",
   "mimetype": "text/x-python",
   "name": "python",
   "nbconvert_exporter": "python",
   "pygments_lexer": "ipython3",
   "version": "3.9.12"
  }
 },
 "nbformat": 4,
 "nbformat_minor": 5
}
