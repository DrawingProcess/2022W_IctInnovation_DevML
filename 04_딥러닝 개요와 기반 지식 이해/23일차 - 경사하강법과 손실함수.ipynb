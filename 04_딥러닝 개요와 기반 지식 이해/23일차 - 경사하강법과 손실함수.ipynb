{
 "cells": [
  {
   "cell_type": "markdown",
   "id": "8a7d6741-6c4a-4a27-b10e-ffe10731e0a7",
   "metadata": {},
   "source": [
    "# 경사하강법과 손실 함수\n",
    "\n",
    "## Cross Entropy\n",
    "하나의 변수가 가질 수 있는 서로 다른 분포(p,q)를 가질 경우 해당 분포들의 차이를 의미"
   ]
  },
  {
   "cell_type": "code",
   "execution_count": 1,
   "id": "276d6132-9867-4744-bde9-1127c6ba37cd",
   "metadata": {},
   "outputs": [
    {
     "name": "stdout",
     "output_type": "stream",
     "text": [
      "0.35667494393873245\n"
     ]
    }
   ],
   "source": [
    "import numpy as np\n",
    "\n",
    "def crossEntropyError(s, l):\n",
    "    return -np.sum(l*np.log(s))\n",
    "\n",
    "s = np.array([0.7, 0.2, 0.1])\n",
    "l = np.array([1, 0, 0])\n",
    "\n",
    "ce = crossEntropyError(s, l)\n",
    "print(ce)"
   ]
  },
  {
   "cell_type": "markdown",
   "id": "98cb7a80-66d1-499d-a795-16996caffc03",
   "metadata": {},
   "source": [
    "cross entropy를 계산할 때 log에 0이 전달된다면 log(0)는 -inf가 된다. "
   ]
  },
  {
   "cell_type": "code",
   "execution_count": 2,
   "id": "50cdd089-ba41-4d92-ade3-bf471d816bd5",
   "metadata": {},
   "outputs": [
    {
     "name": "stdout",
     "output_type": "stream",
     "text": [
      "nan\n"
     ]
    },
    {
     "name": "stderr",
     "output_type": "stream",
     "text": [
      "C:\\Users\\isc03\\AppData\\Local\\Temp\\ipykernel_6616\\1009463558.py:4: RuntimeWarning: divide by zero encountered in log\n",
      "  return -np.sum(l*np.log(s))\n",
      "C:\\Users\\isc03\\AppData\\Local\\Temp\\ipykernel_6616\\1009463558.py:4: RuntimeWarning: invalid value encountered in multiply\n",
      "  return -np.sum(l*np.log(s))\n"
     ]
    }
   ],
   "source": [
    "s = np.array([0, 1, 0])\n",
    "l = np.array([1, 0, 0])\n",
    "ce = crossEntropyError(s, l)\n",
    "print(ce)"
   ]
  },
  {
   "cell_type": "code",
   "execution_count": 3,
   "id": "2e595602-01a4-482c-95c1-eaaaec0cf4c6",
   "metadata": {},
   "outputs": [
    {
     "name": "stderr",
     "output_type": "stream",
     "text": [
      "C:\\Users\\isc03\\AppData\\Local\\Temp\\ipykernel_6616\\2869289095.py:1: RuntimeWarning: divide by zero encountered in log\n",
      "  -np.log(0)\n"
     ]
    },
    {
     "data": {
      "text/plain": [
       "inf"
      ]
     },
     "execution_count": 3,
     "metadata": {},
     "output_type": "execute_result"
    }
   ],
   "source": [
    "-np.log(0)"
   ]
  },
  {
   "cell_type": "markdown",
   "id": "197262ab-79fc-492e-90bd-87b2f2fb4930",
   "metadata": {},
   "source": [
    "따라서 이것을 제어할 delta 변수를 설정해야 한다. 로그에 아주 작은 값을 추가해 실행하면 오류가 발생하지 않는다."
   ]
  },
  {
   "cell_type": "code",
   "execution_count": 4,
   "id": "7ea30fbe-4b83-44f3-b513-6ca5d521da11",
   "metadata": {},
   "outputs": [
    {
     "name": "stdout",
     "output_type": "stream",
     "text": [
      "23.025850929940457\n"
     ]
    }
   ],
   "source": [
    "# 개선된 cross entropy\n",
    "def crossEntropyError(s, l):\n",
    "    delta = 1e-10\n",
    "    return -np.sum(l*np.log(s+delta))\n",
    "\n",
    "s = np.array([0, 1, 0])\n",
    "l = np.array([1, 0, 0])\n",
    "ce = crossEntropyError(s, l)\n",
    "print(ce)"
   ]
  },
  {
   "cell_type": "code",
   "execution_count": 5,
   "id": "3ec8a557-176d-40ef-986a-f5f2dc3662f7",
   "metadata": {},
   "outputs": [
    {
     "name": "stdout",
     "output_type": "stream",
     "text": [
      "0.3566749437958753\n"
     ]
    }
   ],
   "source": [
    "s = np.array([0.7, 0.2, 0.1])\n",
    "l = np.array([1, 0, 0])\n",
    "\n",
    "ce = crossEntropyError(s, l)\n",
    "print(ce) # 오리자날 함수로 계산한 결과 0.35667494393873245"
   ]
  },
  {
   "cell_type": "markdown",
   "id": "354978ee-1ab5-42c4-89ac-73c53716bcd7",
   "metadata": {},
   "source": [
    "크로스엔트로피의 그래프를 그려보자.\n"
   ]
  },
  {
   "cell_type": "code",
   "execution_count": 6,
   "id": "3e22222d-a76c-484b-829c-6f6b5f5a1a44",
   "metadata": {},
   "outputs": [
    {
     "data": {
      "text/plain": [
       "[<matplotlib.lines.Line2D at 0x21e2f4dd7f0>]"
      ]
     },
     "execution_count": 6,
     "metadata": {},
     "output_type": "execute_result"
    },
    {
     "data": {
      "image/png": "[encoded data removed]",
      "text/plain": [
       "<Figure size 432x288 with 1 Axes>"
      ]
     },
     "metadata": {
      "needs_background": "light"
     },
     "output_type": "display_data"
    }
   ],
   "source": [
    "s_arr = np.arange(0.01, 1.01, 0.01)\n",
    "l_arr = np.array(len(s_arr) * [1])\n",
    "results = []\n",
    "\n",
    "for s, l in zip(s_arr, l_arr):\n",
    "    results.append(crossEntropyError(s, l))\n",
    "\n",
    "import matplotlib.pyplot as plt\n",
    "plt.plot(s_arr, results)"
   ]
  },
  {
   "cell_type": "markdown",
   "id": "fc61c0f7-2105-4dc9-94ae-5503c21b0273",
   "metadata": {},
   "source": [
    "## 연습 문제\n",
    "다음 내용을 참조해 신경망을 구성하고 h, output, error, error_term, del_w를 구하라.\n",
    "\n",
    "- 입력값은 [0.5, -0.3], 가중치는 [0.4, 0.6], 실제 값은 0.5, 학습률은 0.1\n",
    "- h : 가중치 연산 후 출력\n",
    "- output : 시그모이드 함수 적용 후 output\n",
    "- error : 실제 값에서 연산 값(output)을 감산\n",
    "- error_term : error와 h의 기울기 곱셈\n",
    "- del_w : 학습률 * error_term * x\n"
   ]
  },
  {
   "cell_type": "code",
   "execution_count": 7,
   "id": "d324cba1-28c5-4bec-a0e4-351ccb83a3bb",
   "metadata": {},
   "outputs": [
    {
     "name": "stdout",
     "output_type": "stream",
     "text": [
      "가중치 연산 후 출력: 0.020000000000000018\n",
      "시그모이드 적용 후: 0.5049998333399998\n",
      "error: 0.00499983333999976\n",
      "error_term: 0.0012498333474990232\n",
      "del_w: [ 6.24916674e-05 -3.74950004e-05]\n"
     ]
    }
   ],
   "source": [
    "def sigmoid(x):\n",
    "    return 1 / (1 +np.exp(-x))\n",
    "\n",
    "def sigmoid_prime(x):\n",
    "    return sigmoid(x) * (1-sigmoid(x))\n",
    "\n",
    "# 파라미터 정의\n",
    "inputs = np.array([0.5, -0.3])\n",
    "weights = np.array([0.4, 0.6])\n",
    "true_y = 0.5\n",
    "learning_rate = 0.1\n",
    "\n",
    "h = np.dot(inputs, weights) # w*x\n",
    "output = sigmoid(h) # sigmoid(w*x) => pred_y\n",
    "error = abs(true_y - output) # 잔차\n",
    "error_term = error * sigmoid_prime(h) # error * pred_y의 미분\n",
    "del_w = learning_rate * error_term * inputs\n",
    "\n",
    "\n",
    "print(\"가중치 연산 후 출력:\", h)\n",
    "print(\"시그모이드 적용 후:\", output)\n",
    "print(\"error:\", error)\n",
    "print(\"error_term:\", error_term)\n",
    "print(\"del_w:\", del_w)"
   ]
  },
  {
   "cell_type": "code",
   "execution_count": 8,
   "id": "2e7bb3d7-0749-4d1b-9aaf-fa7d598b4aa1",
   "metadata": {},
   "outputs": [
    {
     "data": {
      "text/plain": [
       "array([0.39993751, 0.6000375 ])"
      ]
     },
     "execution_count": 8,
     "metadata": {},
     "output_type": "execute_result"
    }
   ],
   "source": [
    "weights - del_w # 업데이트"
   ]
  },
  {
   "cell_type": "code",
   "execution_count": 10,
   "id": "42fa5a12-4a97-4249-b6c5-0645b04d584a",
   "metadata": {},
   "outputs": [
    {
     "name": "stdout",
     "output_type": "stream",
     "text": [
      "loss: 0.00499983333999976\n",
      "loss: 0.003937560252352368\n",
      "loss: 0.003100922235307113\n",
      "loss: 0.0024420219454585057\n",
      "loss: 0.001923114594782227\n",
      "loss: 0.0015144636407333767\n",
      "loss: 0.001192645439168305\n",
      "loss: 0.0009392108825478918\n",
      "loss: 0.000739629839398348\n",
      "loss: 0.0005824591184663275\n",
      "loss: 0.0004586868585553239\n",
      "loss: 0.00036121604897398907\n",
      "loss: 0.0002844577107787849\n",
      "loss: 0.00022401048250453304\n",
      "loss: 0.00017640827219544963\n",
      "loss: 0.00013892152276517855\n",
      "loss: 0.00010940070328546714\n",
      "loss: 8.615305584347421e-05\n",
      "loss: 6.784553245642311e-05\n",
      "loss: 5.3428357287943484e-05\n",
      "loss: 4.2074831597904705e-05\n",
      "loss: 3.3133929997597455e-05\n",
      "loss: 2.609296992883703e-05\n",
      "loss: 2.0548213846116603e-05\n",
      "loss: 1.6181718417107582e-05\n",
      "loss: 1.2743103260048905e-05\n",
      "loss: 1.0035193820479016e-05\n",
      "loss: 7.902715135066352e-06\n",
      "loss: 6.22338816969048e-06\n",
      "loss: 4.900918184058689e-06\n",
      "loss: 3.8594730700225455e-06\n",
      "loss: 3.039335042753777e-06\n",
      "loss: 2.3934763462296615e-06\n",
      "loss: 1.8848626226475318e-06\n",
      "loss: 1.484329315348809e-06\n",
      "loss: 1.1689093358802083e-06\n",
      "loss: 9.205161020098274e-07\n",
      "loss: 7.249064303271879e-07\n",
      "loss: 5.708638138868238e-07\n",
      "loss: 4.495552534677927e-07\n",
      "loss: 3.540247620614778e-07\n",
      "loss: 2.7879450015255713e-07\n",
      "loss: 2.1955066886736319e-07\n",
      "loss: 1.7289615172888517e-07\n",
      "loss: 1.3615571947678262e-07\n",
      "loss: 1.07222629108783e-07\n",
      "loss: 8.443782040234993e-08\n",
      "loss: 6.649478356823835e-08\n",
      "loss: 5.236464206692659e-08\n",
      "loss: 4.1237155690154736e-08\n",
      "loss: 3.2474260058812376e-08\n",
      "loss: 2.5573479778273622e-08\n",
      "loss: 2.0139115375350514e-08\n",
      "loss: 1.5859553337271848e-08\n",
      "loss: 1.2489398293347165e-08\n",
      "loss: 9.835401160174229e-09\n",
      "loss: 7.745378338697151e-09\n",
      "loss: 6.0994854722551395e-09\n",
      "loss: 4.803344832993162e-09\n",
      "loss: 3.782633983817618e-09\n",
      "loss: 2.9788242983386226e-09\n",
      "loss: 2.3458242015550468e-09\n",
      "loss: 1.8473365059890057e-09\n",
      "loss: 1.4547775206708025e-09\n",
      "loss: 1.1456372517315572e-09\n",
      "loss: 9.021894342708947e-10\n",
      "loss: 7.104741239771784e-10\n",
      "loss: 5.594983365497797e-10\n",
      "loss: 4.406049969318815e-10\n",
      "loss: 3.469764475738657e-10\n",
      "loss: 2.732439829955524e-10\n",
      "loss: 2.1517954085226165e-10\n",
      "loss: 1.6945389536004996e-10\n",
      "loss: 1.334450328016601e-10\n",
      "loss: 1.0508793835128927e-10\n",
      "loss: 8.275669038937394e-11\n",
      "loss: 6.517097972391639e-11\n",
      "loss: 5.1322057714742186e-11\n",
      "loss: 4.041611489924435e-11\n",
      "loss: 3.1827762647651525e-11\n",
      "loss: 2.506428398163507e-11\n",
      "loss: 1.9738211065600808e-11\n",
      "loss: 1.5543788478566967e-11\n",
      "loss: 1.2240763958004663e-11\n",
      "loss: 9.639622433610384e-12\n",
      "loss: 7.591149930874508e-12\n",
      "loss: 5.978106898396618e-12\n",
      "loss: 4.707678691318051e-12\n",
      "loss: 3.707367746130785e-12\n",
      "loss: 2.919553487856774e-12\n",
      "loss: 2.2991608616962367e-12\n",
      "loss: 1.8105517085587053e-12\n",
      "loss: 1.425748408223626e-12\n",
      "loss: 1.1228795671058833e-12\n",
      "loss: 8.841816168114747e-13\n",
      "loss: 6.963318810448982e-13\n",
      "loss: 5.483391518623648e-13\n",
      "loss: 4.318767565791859e-13\n",
      "loss: 3.4006131244268545e-13\n",
      "loss: 2.6778579353958776e-13\n"
     ]
    },
    {
     "data": {
      "text/plain": [
       "<AxesSubplot:>"
      ]
     },
     "execution_count": 10,
     "metadata": {},
     "output_type": "execute_result"
    },
    {
     "data": {
      "image/png": "[encoded data removed]",
      "text/plain": [
       "<Figure size 432x288 with 1 Axes>"
      ]
     },
     "metadata": {
      "needs_background": "light"
     },
     "output_type": "display_data"
    }
   ],
   "source": [
    "import pandas as pd\n",
    "\n",
    "# 파라미터 정의\n",
    "inputs = np.array([0.5, -0.3])\n",
    "weights = np.array([0.4, 0.6])\n",
    "true_y = 0.5\n",
    "learning_rate = 0.1\n",
    "\n",
    "def sigmoid(x):\n",
    "    return 1 / (1 +np.exp(-x))\n",
    "\n",
    "def sigmoid_prime(x):\n",
    "    return sigmoid(x) * (1-sigmoid(x))\n",
    "\n",
    "learning_rate =  10\n",
    "err_list = [] # histroy 백업용\n",
    "\n",
    "for i in range(100): # epoch\n",
    "    h = np.dot(inputs, weights)\n",
    "    output = sigmoid(h) # 출력값\n",
    "    error = abs(true_y - output) # 오차 계산\n",
    "    error_term = error * sigmoid_prime(h) # 에러텀 확인\n",
    "    del_w = learning_rate * error_term * inputs # 얼마만큼 Weight를 업데이트할지...\n",
    "    weights -= del_w # 업데이트 \n",
    "    err_list.append(error)\n",
    "    print(\"loss:\", error)\n",
    "    \n",
    "pd.Series(err_list).plot()"
   ]
  },
  {
   "cell_type": "code",
   "execution_count": 12,
   "id": "0c052675-7188-45e4-a1fd-1eb4fa258634",
   "metadata": {},
   "outputs": [
    {
     "data": {
      "text/plain": [
       "(0.5000000000002109, 0.5)"
      ]
     },
     "execution_count": 12,
     "metadata": {},
     "output_type": "execute_result"
    }
   ],
   "source": [
    "sigmoid(np.dot(inputs, weights)), true_y"
   ]
  },
  {
   "cell_type": "code",
   "execution_count": null,
   "id": "874c2592-5e24-4f60-9231-eacab051857a",
   "metadata": {},
   "outputs": [],
   "source": []
  }
 ],
 "metadata": {
  "kernelspec": {
   "display_name": "Python 3 (ipykernel)",
   "language": "python",
   "name": "python3"
  },
  "language_info": {
   "codemirror_mode": {
    "name": "ipython",
    "version": 3
   },
   "file_extension": ".py",
   "mimetype": "text/x-python",
   "name": "python",
   "nbconvert_exporter": "python",
   "pygments_lexer": "ipython3",
   "version": "3.9.12"
  }
 },
 "nbformat": 4,
 "nbformat_minor": 5
}
