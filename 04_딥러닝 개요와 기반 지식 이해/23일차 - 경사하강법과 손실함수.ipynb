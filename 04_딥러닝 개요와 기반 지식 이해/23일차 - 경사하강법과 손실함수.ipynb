{
 "cells": [
  {
   "cell_type": "markdown",
   "id": "8a7d6741-6c4a-4a27-b10e-ffe10731e0a7",
   "metadata": {},
   "source": [
    "# 경사하강법과 손실 함수\n",
    "\n",
    "## Cross Entropy\n",
    "하나의 변수가 가질 수 있는 서로 다른 분포(p,q)를 가질 경우 해당 분포들의 차이를 의미"
   ]
  },
  {
   "cell_type": "code",
   "execution_count": 3,
   "id": "276d6132-9867-4744-bde9-1127c6ba37cd",
   "metadata": {},
   "outputs": [
    {
     "name": "stdout",
     "output_type": "stream",
     "text": [
      "0.35667494393873245\n"
     ]
    }
   ],
   "source": [
    "import numpy as np\n",
    "\n",
    "def crossEntropyError(s, l):\n",
    "    return -np.sum(l*np.log(s))\n",
    "\n",
    "s = np.array([0.7, 0.2, 0.1])\n",
    "l = np.array([1, 0, 0])\n",
    "\n",
    "ce = crossEntropyError(s, l)\n",
    "print(ce)"
   ]
  },
  {
   "cell_type": "markdown",
   "id": "98cb7a80-66d1-499d-a795-16996caffc03",
   "metadata": {},
   "source": [
    "cross entropy를 계산할 때 log에 0이 전달된다면 log(0)는 -inf가 된다. "
   ]
  },
  {
   "cell_type": "code",
   "execution_count": 6,
   "id": "50cdd089-ba41-4d92-ade3-bf471d816bd5",
   "metadata": {},
   "outputs": [
    {
     "name": "stdout",
     "output_type": "stream",
     "text": [
      "nan\n"
     ]
    },
    {
     "name": "stderr",
     "output_type": "stream",
     "text": [
      "C:\\Users\\isc03\\AppData\\Local\\Temp\\ipykernel_3712\\1009463558.py:4: RuntimeWarning: divide by zero encountered in log\n",
      "  return -np.sum(l*np.log(s))\n",
      "C:\\Users\\isc03\\AppData\\Local\\Temp\\ipykernel_3712\\1009463558.py:4: RuntimeWarning: invalid value encountered in multiply\n",
      "  return -np.sum(l*np.log(s))\n"
     ]
    }
   ],
   "source": [
    "s = np.array([0, 1, 0])\n",
    "l = np.array([1, 0, 0])\n",
    "ce = crossEntropyError(s, l)\n",
    "print(ce)"
   ]
  },
  {
   "cell_type": "code",
   "execution_count": 8,
   "id": "2e595602-01a4-482c-95c1-eaaaec0cf4c6",
   "metadata": {},
   "outputs": [
    {
     "name": "stderr",
     "output_type": "stream",
     "text": [
      "C:\\Users\\isc03\\AppData\\Local\\Temp\\ipykernel_3712\\2869289095.py:1: RuntimeWarning: divide by zero encountered in log\n",
      "  -np.log(0)\n"
     ]
    },
    {
     "data": {
      "text/plain": [
       "inf"
      ]
     },
     "execution_count": 8,
     "metadata": {},
     "output_type": "execute_result"
    }
   ],
   "source": [
    "-np.log(0)"
   ]
  },
  {
   "cell_type": "markdown",
   "id": "197262ab-79fc-492e-90bd-87b2f2fb4930",
   "metadata": {},
   "source": [
    "따라서 이것을 제어할 delta 변수를 설정해야 한다. 아주 작은 값을 넣어서 실행하면 오류가 발생하지 "
   ]
  },
  {
   "cell_type": "code",
   "execution_count": 9,
   "id": "7ea30fbe-4b83-44f3-b513-6ca5d521da11",
   "metadata": {},
   "outputs": [
    {
     "name": "stdout",
     "output_type": "stream",
     "text": [
      "23.025850929940457\n"
     ]
    }
   ],
   "source": [
    "# 개선된 cross entropy\n",
    "def crossEntropyError(s, l):\n",
    "    delta = 1e-10\n",
    "    return -np.sum(l*np.log(s+delta))\n",
    "\n",
    "s = np.array([0, 1, 0])\n",
    "l = np.array([1, 0, 0])\n",
    "ce = crossEntropyError(s, l)\n",
    "print(ce)"
   ]
  },
  {
   "cell_type": "code",
   "execution_count": null,
   "id": "3ec8a557-176d-40ef-986a-f5f2dc3662f7",
   "metadata": {},
   "outputs": [],
   "source": []
  }
 ],
 "metadata": {
  "kernelspec": {
   "display_name": "Python 3 (ipykernel)",
   "language": "python",
   "name": "python3"
  },
  "language_info": {
   "codemirror_mode": {
    "name": "ipython",
    "version": 3
   },
   "file_extension": ".py",
   "mimetype": "text/x-python",
   "name": "python",
   "nbconvert_exporter": "python",
   "pygments_lexer": "ipython3",
   "version": "3.9.12"
  }
 },
 "nbformat": 4,
 "nbformat_minor": 5
}
