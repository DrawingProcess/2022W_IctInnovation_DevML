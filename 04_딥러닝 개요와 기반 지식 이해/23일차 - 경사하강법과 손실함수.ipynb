{
 "cells": [
  {
   "cell_type": "markdown",
   "id": "8a7d6741-6c4a-4a27-b10e-ffe10731e0a7",
   "metadata": {},
   "source": [
    "# 경사하강법과 손실 함수\n",
    "\n",
    "## Cross Entropy\n",
    "하나의 변수가 가질 수 있는 서로 다른 분포(p,q)를 가질 경우 해당 분포들의 차이를 의미"
   ]
  },
  {
   "cell_type": "code",
   "execution_count": 3,
   "id": "276d6132-9867-4744-bde9-1127c6ba37cd",
   "metadata": {},
   "outputs": [
    {
     "name": "stdout",
     "output_type": "stream",
     "text": [
      "0.35667494393873245\n"
     ]
    }
   ],
   "source": [
    "import numpy as np\n",
    "\n",
    "def crossEntropyError(s, l):\n",
    "    return -np.sum(l*np.log(s))\n",
    "\n",
    "s = np.array([0.7, 0.2, 0.1])\n",
    "l = np.array([1, 0, 0])\n",
    "\n",
    "ce = crossEntropyError(s, l)\n",
    "print(ce)"
   ]
  },
  {
   "cell_type": "markdown",
   "id": "98cb7a80-66d1-499d-a795-16996caffc03",
   "metadata": {},
   "source": [
    "cross entropy를 계산할 때 log에 0이 전달된다면 log(0)는 -inf가 된다. "
   ]
  },
  {
   "cell_type": "code",
   "execution_count": 6,
   "id": "50cdd089-ba41-4d92-ade3-bf471d816bd5",
   "metadata": {},
   "outputs": [
    {
     "name": "stdout",
     "output_type": "stream",
     "text": [
      "nan\n"
     ]
    },
    {
     "name": "stderr",
     "output_type": "stream",
     "text": [
      "C:\\Users\\isc03\\AppData\\Local\\Temp\\ipykernel_3712\\1009463558.py:4: RuntimeWarning: divide by zero encountered in log\n",
      "  return -np.sum(l*np.log(s))\n",
      "C:\\Users\\isc03\\AppData\\Local\\Temp\\ipykernel_3712\\1009463558.py:4: RuntimeWarning: invalid value encountered in multiply\n",
      "  return -np.sum(l*np.log(s))\n"
     ]
    }
   ],
   "source": [
    "s = np.array([0, 1, 0])\n",
    "l = np.array([1, 0, 0])\n",
    "ce = crossEntropyError(s, l)\n",
    "print(ce)"
   ]
  },
  {
   "cell_type": "code",
   "execution_count": 8,
   "id": "2e595602-01a4-482c-95c1-eaaaec0cf4c6",
   "metadata": {},
   "outputs": [
    {
     "name": "stderr",
     "output_type": "stream",
     "text": [
      "C:\\Users\\isc03\\AppData\\Local\\Temp\\ipykernel_3712\\2869289095.py:1: RuntimeWarning: divide by zero encountered in log\n",
      "  -np.log(0)\n"
     ]
    },
    {
     "data": {
      "text/plain": [
       "inf"
      ]
     },
     "execution_count": 8,
     "metadata": {},
     "output_type": "execute_result"
    }
   ],
   "source": [
    "-np.log(0)"
   ]
  },
  {
   "cell_type": "markdown",
   "id": "197262ab-79fc-492e-90bd-87b2f2fb4930",
   "metadata": {},
   "source": [
    "따라서 이것을 제어할 delta 변수를 설정해야 한다. 로그에 아주 작은 값을 추가해 실행하면 오류가 발생하지 않는다."
   ]
  },
  {
   "cell_type": "code",
   "execution_count": 9,
   "id": "7ea30fbe-4b83-44f3-b513-6ca5d521da11",
   "metadata": {},
   "outputs": [
    {
     "name": "stdout",
     "output_type": "stream",
     "text": [
      "23.025850929940457\n"
     ]
    }
   ],
   "source": [
    "# 개선된 cross entropy\n",
    "def crossEntropyError(s, l):\n",
    "    delta = 1e-10\n",
    "    return -np.sum(l*np.log(s+delta))\n",
    "\n",
    "s = np.array([0, 1, 0])\n",
    "l = np.array([1, 0, 0])\n",
    "ce = crossEntropyError(s, l)\n",
    "print(ce)"
   ]
  },
  {
   "cell_type": "code",
   "execution_count": 11,
   "id": "3ec8a557-176d-40ef-986a-f5f2dc3662f7",
   "metadata": {},
   "outputs": [
    {
     "name": "stdout",
     "output_type": "stream",
     "text": [
      "0.3566749437958753\n"
     ]
    }
   ],
   "source": [
    "s = np.array([0.7, 0.2, 0.1])\n",
    "l = np.array([1, 0, 0])\n",
    "\n",
    "ce = crossEntropyError(s, l)\n",
    "print(ce) # 오리자날 함수로 계산한 결과 0.35667494393873245"
   ]
  },
  {
   "cell_type": "markdown",
   "id": "354978ee-1ab5-42c4-89ac-73c53716bcd7",
   "metadata": {},
   "source": [
    "크로스엔트로피의 그래프를 그려보자.\n"
   ]
  },
  {
   "cell_type": "code",
   "execution_count": 20,
   "id": "3e22222d-a76c-484b-829c-6f6b5f5a1a44",
   "metadata": {},
   "outputs": [
    {
     "data": {
      "text/plain": [
       "[<matplotlib.lines.Line2D at 0x25448a08e80>]"
      ]
     },
     "execution_count": 20,
     "metadata": {},
     "output_type": "execute_result"
    },
    {
     "data": {
      "image/png": "[encoded data removed]",
      "text/plain": [
       "<Figure size 432x288 with 1 Axes>"
      ]
     },
     "metadata": {
      "needs_background": "light"
     },
     "output_type": "display_data"
    }
   ],
   "source": [
    "s_arr = np.arange(0.01, 1.01, 0.01)\n",
    "l_arr = np.array(len(s_arr) * [1])\n",
    "results = []\n",
    "\n",
    "for s, l in zip(s_arr, l_arr):\n",
    "    results.append(crossEntropyError(s, l))\n",
    "\n",
    "import matplotlib.pyplot as plt\n",
    "plt.plot(s_arr, results)"
   ]
  },
  {
   "cell_type": "markdown",
   "id": "fc61c0f7-2105-4dc9-94ae-5503c21b0273",
   "metadata": {},
   "source": [
    "## 연습 문제\n",
    "다음 내용을 참조해 신경망을 구성하고 h, output, error, error_term, del_w를 구하라.\n",
    "\n",
    "- 입력값은 [0.5, -0.3], 가중치는 [0.4, 0.6], 실제 값은 0.5, 학습률은 0.1\n",
    "- h : 가중치 연산 후 출력\n",
    "- output : 시그모이드 함수 적용 후 output\n",
    "- error : 실제 값에서 연산 값(output)을 감산\n",
    "- error_term : error와 h의 기울기 곱셈\n",
    "- del_w : 학습률 * error_term * x\n"
   ]
  },
  {
   "cell_type": "code",
   "execution_count": 32,
   "id": "d324cba1-28c5-4bec-a0e4-351ccb83a3bb",
   "metadata": {},
   "outputs": [
    {
     "name": "stdout",
     "output_type": "stream",
     "text": [
      "가중치 연산 후 출력: 0.020000000000000018\n",
      "시그모이드 적용 후: 0.5049998333399998\n",
      "error: 0.00499983333999976\n",
      "error_term: 0.0012498333474990232\n",
      "del_w: [ 6.24916674e-05 -3.74950004e-05]\n"
     ]
    }
   ],
   "source": [
    "def sigmoid(x):\n",
    "    return 1 / (1 +np.exp(-x))\n",
    "\n",
    "def sigmoid_prime(x):\n",
    "    return sigmoid(x) * (1-sigmoid(x))\n",
    "\n",
    "# 파라미터 정의\n",
    "inputs = np.array([0.5, -0.3])\n",
    "weights = np.array([0.4, 0.6])\n",
    "true_y = 0.5\n",
    "learning_rate = 0.1\n",
    "\n",
    "h = np.dot(inputs, weights)\n",
    "output = sigmoid(h)\n",
    "error = abs(true_y - output)\n",
    "error_term = error * sigmoid_prime(h)\n",
    "del_w = learning_rate * error_term * inputs\n",
    "\n",
    "\n",
    "print(\"가중치 연산 후 출력:\", h)\n",
    "print(\"시그모이드 적용 후:\", output)\n",
    "print(\"error:\", error)\n",
    "print(\"error_term:\", error_term)\n",
    "print(\"del_w:\", del_w)"
   ]
  },
  {
   "cell_type": "code",
   "execution_count": 33,
   "id": "ea691564-3faa-4b69-8f18-5cbd3921c2d4",
   "metadata": {},
   "outputs": [
    {
     "data": {
      "text/plain": [
       "array([1, 2])"
      ]
     },
     "execution_count": 33,
     "metadata": {},
     "output_type": "execute_result"
    }
   ],
   "source": [
    "np.dot(1, [1,2])"
   ]
  },
  {
   "cell_type": "code",
   "execution_count": 34,
   "id": "068b9193-dda4-445f-ab01-d9563d5c0c9e",
   "metadata": {},
   "outputs": [
    {
     "data": {
      "text/plain": [
       "array([ 6.24916674e-05, -3.74950004e-05])"
      ]
     },
     "execution_count": 34,
     "metadata": {},
     "output_type": "execute_result"
    }
   ],
   "source": [
    "np.dot(learning_rate * error_term,  inputs) \n"
   ]
  },
  {
   "cell_type": "code",
   "execution_count": null,
   "id": "2e7bb3d7-0749-4d1b-9aaf-fa7d598b4aa1",
   "metadata": {},
   "outputs": [],
   "source": []
  }
 ],
 "metadata": {
  "kernelspec": {
   "display_name": "Python 3 (ipykernel)",
   "language": "python",
   "name": "python3"
  },
  "language_info": {
   "codemirror_mode": {
    "name": "ipython",
    "version": 3
   },
   "file_extension": ".py",
   "mimetype": "text/x-python",
   "name": "python",
   "nbconvert_exporter": "python",
   "pygments_lexer": "ipython3",
   "version": "3.9.12"
  }
 },
 "nbformat": 4,
 "nbformat_minor": 5
}
