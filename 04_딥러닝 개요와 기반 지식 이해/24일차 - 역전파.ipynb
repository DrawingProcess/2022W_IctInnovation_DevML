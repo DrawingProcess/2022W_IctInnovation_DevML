{
 "cells": [
  {
   "cell_type": "markdown",
   "id": "205c5346-2cf3-4222-82c4-e9d00624c845",
   "metadata": {},
   "source": [
    "# 역전파\n",
    "\n",
    "역전파를 수행하면 최종적으로 나온 오류를 다시 뒤로 전달해야 한다. 그 과정을 코드로 나타내보자."
   ]
  },
  {
   "cell_type": "code",
   "execution_count": 8,
   "id": "0ae1216c-106d-41da-bc75-e1decdc42573",
   "metadata": {},
   "outputs": [
    {
     "name": "stdout",
     "output_type": "stream",
     "text": [
      "pred_y: 0.512372477962617\n",
      "error: 0.487627522037383\n",
      "output_error_term: 0.1218322353606694\n",
      "hidden_error_term: 0.003045501323732555\n",
      "del_w_output: 0.030153488404045865\n",
      "del_w_hidden: [0.00015228 0.00045683]\n",
      "l2_weights: 0.06984651159595415\n",
      "l1_weights: [ 0.39984772 -0.20045683]\n",
      "\n"
     ]
    }
   ],
   "source": [
    "import numpy as np\n",
    "\n",
    "\n",
    "# 시그모이드\n",
    "def sigmoid(x):\n",
    "    return 1/(1+np.exp(-x))\n",
    "\n",
    "\n",
    "# 시그모이드 기울기\n",
    "def sigmoid_prime(x): \n",
    "    return sigmoid(x) * (1-sigmoid(x))\n",
    "\n",
    "\n",
    "# 입력값과 레이블, 변수를 정의한다.\n",
    "input1 = np.array([0.1, 0.3])\n",
    "weights = np.array([0.4, -0.2])\n",
    "hidden_weight = 0.1\n",
    "true_y = 1\n",
    "\n",
    "# 포워드 패스\n",
    "l1 = sigmoid(np.dot(input1, weights))\n",
    "l2 = sigmoid(np.dot(l1, hidden_weight))\n",
    "pred_y = l2\n",
    "\n",
    "# 오차와 에러텀 계산\n",
    "error = abs(true_y - l2)\n",
    "output_error_term = error * sigmoid_prime(np.dot(l1, hidden_weight))\n",
    "hidden_error_term = output_error_term * hidden_weight * sigmoid_prime(np.dot(input1, weights))\n",
    "\n",
    "# 업데이트할 w를 계산\n",
    "learning_rate = 0.5\n",
    "del_w_output = learning_rate * output_error_term * l1 # 출력층에서는 l1의 결과가 입력값이 된다.\n",
    "del_w_hidden = learning_rate * hidden_error_term * input1\n",
    "\n",
    "# 업데이트 수행\n",
    "hidden_weight -= del_w_output\n",
    "weights -= del_w_hidden\n",
    "\n",
    "print(f'''\\\n",
    "pred_y: {l2}\n",
    "error: {error}\n",
    "output_error_term: {output_error_term}\n",
    "hidden_error_term: {hidden_error_term}\n",
    "del_w_output: {del_w_output}\n",
    "del_w_hidden: {del_w_hidden}\n",
    "l2_weights: {hidden_weight}\n",
    "l1_weights: {weights}\n",
    "''')"
   ]
  },
  {
   "cell_type": "code",
   "execution_count": null,
   "id": "4f8faa76-6cb0-4722-9129-1aa149cee050",
   "metadata": {},
   "outputs": [],
   "source": []
  }
 ],
 "metadata": {
  "kernelspec": {
   "display_name": "Python 3 (ipykernel)",
   "language": "python",
   "name": "python3"
  },
  "language_info": {
   "codemirror_mode": {
    "name": "ipython",
    "version": 3
   },
   "file_extension": ".py",
   "mimetype": "text/x-python",
   "name": "python",
   "nbconvert_exporter": "python",
   "pygments_lexer": "ipython3",
   "version": "3.9.12"
  }
 },
 "nbformat": 4,
 "nbformat_minor": 5
}
