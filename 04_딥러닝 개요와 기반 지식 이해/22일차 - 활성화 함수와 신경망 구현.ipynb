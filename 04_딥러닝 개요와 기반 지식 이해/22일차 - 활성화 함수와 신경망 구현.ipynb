{
 "cells": [
  {
   "cell_type": "markdown",
   "id": "f67b1050-ec2a-4525-b815-89a805d33bad",
   "metadata": {},
   "source": [
    "# 활성화 함수와 신경망 구현"
   ]
  },
  {
   "cell_type": "markdown",
   "id": "1dd683e8-099e-434a-a2ee-5ccc73648f75",
   "metadata": {},
   "source": [
    "## sigmoid 구현하기\n"
   ]
  },
  {
   "cell_type": "code",
   "execution_count": 2,
   "id": "abf49772-8dd4-4ca2-a1ce-8652798de33b",
   "metadata": {},
   "outputs": [
    {
     "data": {
      "text/plain": [
       "0.9820137900379085"
      ]
     },
     "execution_count": 2,
     "metadata": {},
     "output_type": "execute_result"
    }
   ],
   "source": [
    "import numpy as np\n",
    "\n",
    "def sigmoid(x):\n",
    "    return 1/(1+np.exp(-x))\n",
    "\n",
    "sigmoid(4)"
   ]
  },
  {
   "cell_type": "code",
   "execution_count": 4,
   "id": "ece1ed3d-5356-4f7e-bd21-3b457140d372",
   "metadata": {},
   "outputs": [
    {
     "data": {
      "text/plain": [
       "[<matplotlib.lines.Line2D at 0x1cea91f8fa0>]"
      ]
     },
     "execution_count": 4,
     "metadata": {},
     "output_type": "execute_result"
    },
    {
     "data": {
      "image/png": "[encoded data removed]",
      "text/plain": [
       "<Figure size 432x288 with 1 Axes>"
      ]
     },
     "metadata": {
      "needs_background": "light"
     },
     "output_type": "display_data"
    }
   ],
   "source": [
    "import matplotlib.pyplot as plt\n",
    "\n",
    "x = np.arange(-10, 10, 0.01)\n",
    "y = sigmoid(x)\n",
    "plt.plot(x, y)"
   ]
  },
  {
   "cell_type": "markdown",
   "id": "10e70d98-4ec2-4c2c-8af7-daf55208446e",
   "metadata": {},
   "source": [
    "## ReLU 함수"
   ]
  },
  {
   "cell_type": "code",
   "execution_count": 10,
   "id": "0f3c3213-4b04-4efd-a437-f6d1a492a4b1",
   "metadata": {},
   "outputs": [],
   "source": [
    "def relu(x):\n",
    "    return np.maximum(0, x)"
   ]
  },
  {
   "cell_type": "code",
   "execution_count": 11,
   "id": "82835666-6150-43d7-8d5d-eda2e3d43ab2",
   "metadata": {},
   "outputs": [
    {
     "data": {
      "text/plain": [
       "[<matplotlib.lines.Line2D at 0x1cea9a81220>]"
      ]
     },
     "execution_count": 11,
     "metadata": {},
     "output_type": "execute_result"
    },
    {
     "data": {
      "image/png": "[encoded data removed]",
      "text/plain": [
       "<Figure size 432x288 with 1 Axes>"
      ]
     },
     "metadata": {
      "needs_background": "light"
     },
     "output_type": "display_data"
    }
   ],
   "source": [
    "x = np.arange(-10, 10, 0.01)\n",
    "y = relu(x)\n",
    "plt.plot(x, y)"
   ]
  },
  {
   "cell_type": "markdown",
   "id": "e1231c11-1f0f-4e8b-bc3b-3df50b10b9eb",
   "metadata": {},
   "source": [
    "## 신경망 구현하기 연습 문제\n",
    "Numpy를 사용하여 2개의 입력 노드와 1개의 출력 노드가 있는 간단한 네트워크의 출력을 Sigmoid 활성화 함수로 계산하는 코드를 구성하라\n",
    "- 입력값은 [0.5, -0.3], 가중치는 [0.4, 0.6], 편향값은 -0.5\n",
    "- ndarray의 곱셈은 np.dot으로 연산\n",
    "- 시그모이드 함수를 구현 (Numpy의 지수 함수 np.exp를 사용)\n",
    "- 네트워크 출력을 계산\n",
    "- 최종 출력은 0.382252125230751이어야 함.\n",
    "\n"
   ]
  },
  {
   "cell_type": "code",
   "execution_count": 20,
   "id": "df3034f8-be48-4294-b43e-60766a207509",
   "metadata": {},
   "outputs": [
    {
     "name": "stdout",
     "output_type": "stream",
     "text": [
      "0.382252125230751\n"
     ]
    }
   ],
   "source": [
    "inputs = np.array([0.5, -0.3])\n",
    "weights = np.array([0.4, 0.6])\n",
    "bias = -0.5\n",
    "\n",
    "y = sigmoid(np.dot(inputs, weights.T) + bias)\n",
    "print(y)"
   ]
  },
  {
   "cell_type": "markdown",
   "id": "41ac6009-d23e-4ca2-bf6f-3fc5ffaae41f",
   "metadata": {},
   "source": [
    "다층 신경망도 구성해보자."
   ]
  },
  {
   "cell_type": "code",
   "execution_count": 23,
   "id": "72564d98-eda6-4be8-880e-f7b2fd3b749a",
   "metadata": {},
   "outputs": [
    {
     "name": "stdout",
     "output_type": "stream",
     "text": [
      "[0.59065816 0.64523766]\n"
     ]
    }
   ],
   "source": [
    "inputs = [1.0, 0.5] # 1x2 행렬\n",
    "w1 = np.array([[0.1, 0.2, 0.3], [0.2, 0.3, 0.4]]) # 2x3 행렬\n",
    "b1 = np.array([0.2, 0.3, 0.4]) # 3개 노드\n",
    "w2 = np.array([[0.1, 0.2], [0.3, 0.2], [0.3, 0.4]]) # 3x2행렬\n",
    "b2 = np.array([0.1, 0.2]) # 2개 노드\n",
    "w3 = np.array([[0.1, 0.2], [0.3, 0.4]]) # 2x2행렬\n",
    "b3 = np.array([0.1, 0.2]) # 2개 노드\n",
    "\n",
    "# 신경망 구성 (포워딩)\n",
    "l1_output = np.dot(inputs, w1) + b1\n",
    "l1_y = sigmoid(l1_output)\n",
    "l2_output = np.dot(l1_y, w2) + b2\n",
    "l2_y = sigmoid(l2_output)\n",
    "l3_output = np.dot(l2_y, w3) + b3\n",
    "# 마지막 레이어에서는 경우에 따라서 다른 활성화 함수를 쓰거나 쓰지 않는 경우도 있음\n",
    "l3_y = sigmoid(l3_output)\n",
    "print(l3_y)"
   ]
  },
  {
   "cell_type": "markdown",
   "id": "1a1c8032-af85-40e4-ab68-751cb84e5a6e",
   "metadata": {},
   "source": [
    "## 소프트 맥스 함수 구현하기"
   ]
  },
  {
   "cell_type": "code",
   "execution_count": 32,
   "id": "3f0cf96e-416b-4524-b6c2-dd299a4c0271",
   "metadata": {},
   "outputs": [
    {
     "data": {
      "text/plain": [
       "array([0.02019046, 0.90253769, 0.04966053, 0.01108076, 0.01653055])"
      ]
     },
     "execution_count": 32,
     "metadata": {},
     "output_type": "execute_result"
    }
   ],
   "source": [
    "def origin_softmax(x):\n",
    "    f_x = np.exp(x) / np.sum(np.exp(x))\n",
    "    return f_x\n",
    "\n",
    "x = np.array([1.3, 5.1, 2.2, 0.7, 1.1])\n",
    "softmax_x = origin_softmax(x)\n",
    "softmax_x"
   ]
  },
  {
   "cell_type": "code",
   "execution_count": 33,
   "id": "d0b03871-3b67-413e-b3bc-132fbe037c82",
   "metadata": {},
   "outputs": [
    {
     "data": {
      "text/plain": [
       "1.0"
      ]
     },
     "execution_count": 33,
     "metadata": {},
     "output_type": "execute_result"
    }
   ],
   "source": [
    "np.sum(softmax_x) # 소프트맥스의 총 합은 0이다."
   ]
  },
  {
   "cell_type": "markdown",
   "id": "ec39d034-b1d4-4a87-9c89-758ffd496de2",
   "metadata": {},
   "source": [
    "계산이 불가능한 숫자를 넣어보자."
   ]
  },
  {
   "cell_type": "code",
   "execution_count": 34,
   "id": "88e5fa47-68c6-4431-8573-50c03b9ee248",
   "metadata": {},
   "outputs": [
    {
     "name": "stderr",
     "output_type": "stream",
     "text": [
      "C:\\Users\\isc03\\AppData\\Local\\Temp\\ipykernel_9188\\3339709200.py:2: RuntimeWarning: overflow encountered in exp\n",
      "  f_x = np.exp(x) / np.sum(np.exp(x))\n",
      "C:\\Users\\isc03\\AppData\\Local\\Temp\\ipykernel_9188\\3339709200.py:2: RuntimeWarning: invalid value encountered in true_divide\n",
      "  f_x = np.exp(x) / np.sum(np.exp(x))\n"
     ]
    },
    {
     "data": {
      "text/plain": [
       "array([nan,  0., nan,  0.,  0.])"
      ]
     },
     "execution_count": 34,
     "metadata": {},
     "output_type": "execute_result"
    }
   ],
   "source": [
    "x = np.array([10000, 10, 99999, 1, 2])\n",
    "softmax_x = origin_softmax(x)\n",
    "softmax_x"
   ]
  },
  {
   "cell_type": "markdown",
   "id": "0636acfe-c621-4891-bda0-8d4b6ac5c0c6",
   "metadata": {},
   "source": [
    "따라서 소프트맥스에 입력되는 조금이라도 크면 연산이 불가능하다. 따라서 입력된 값을 일괄적으로 낮춰주는 작업이 필요하다."
   ]
  },
  {
   "cell_type": "code",
   "execution_count": 31,
   "id": "6fa4bf8a-8c99-41bd-99a0-aa9d1486c453",
   "metadata": {},
   "outputs": [
    {
     "data": {
      "text/plain": [
       "array([0., 0., 1., 0., 0.])"
      ]
     },
     "execution_count": 31,
     "metadata": {},
     "output_type": "execute_result"
    }
   ],
   "source": [
    "def softmax(x):\n",
    "    x = x - np.max(x) # x의 최대값을 모든 항에서 감산한다.\n",
    "    f_x = np.exp(x) / np.sum(np.exp(x))\n",
    "    return f_x\n",
    "\n",
    "x = np.array([10000, 10, 99999, 1, 2])\n",
    "softmax_x = softmax(x)\n",
    "softmax_x"
   ]
  },
  {
   "cell_type": "code",
   "execution_count": null,
   "id": "fc2ce9a3-99cb-4e92-8736-74b9166ef425",
   "metadata": {},
   "outputs": [],
   "source": []
  }
 ],
 "metadata": {
  "kernelspec": {
   "display_name": "Python 3 (ipykernel)",
   "language": "python",
   "name": "python3"
  },
  "language_info": {
   "codemirror_mode": {
    "name": "ipython",
    "version": 3
   },
   "file_extension": ".py",
   "mimetype": "text/x-python",
   "name": "python",
   "nbconvert_exporter": "python",
   "pygments_lexer": "ipython3",
   "version": "3.9.12"
  }
 },
 "nbformat": 4,
 "nbformat_minor": 5
}
