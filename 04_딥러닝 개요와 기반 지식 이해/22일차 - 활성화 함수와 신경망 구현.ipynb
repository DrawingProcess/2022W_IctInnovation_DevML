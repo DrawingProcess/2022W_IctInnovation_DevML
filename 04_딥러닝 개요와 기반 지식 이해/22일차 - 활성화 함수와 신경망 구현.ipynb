{
 "cells": [
  {
   "cell_type": "markdown",
   "id": "f67b1050-ec2a-4525-b815-89a805d33bad",
   "metadata": {},
   "source": [
    "# 활성화 함수와 신경망 구현"
   ]
  },
  {
   "cell_type": "markdown",
   "id": "1dd683e8-099e-434a-a2ee-5ccc73648f75",
   "metadata": {},
   "source": [
    "## sigmoid 구현하기\n"
   ]
  },
  {
   "cell_type": "code",
   "execution_count": 2,
   "id": "abf49772-8dd4-4ca2-a1ce-8652798de33b",
   "metadata": {},
   "outputs": [
    {
     "data": {
      "text/plain": [
       "0.9820137900379085"
      ]
     },
     "execution_count": 2,
     "metadata": {},
     "output_type": "execute_result"
    }
   ],
   "source": [
    "import numpy as np\n",
    "\n",
    "def sigmoid(x):\n",
    "    return 1/(1+np.exp(-x))\n",
    "\n",
    "sigmoid(4)"
   ]
  },
  {
   "cell_type": "code",
   "execution_count": 4,
   "id": "ece1ed3d-5356-4f7e-bd21-3b457140d372",
   "metadata": {},
   "outputs": [
    {
     "data": {
      "text/plain": [
       "[<matplotlib.lines.Line2D at 0x1cea91f8fa0>]"
      ]
     },
     "execution_count": 4,
     "metadata": {},
     "output_type": "execute_result"
    },
    {
     "data": {
      "image/png": "[encoded data removed]",
      "text/plain": [
       "<Figure size 432x288 with 1 Axes>"
      ]
     },
     "metadata": {
      "needs_background": "light"
     },
     "output_type": "display_data"
    }
   ],
   "source": [
    "import matplotlib.pyplot as plt\n",
    "\n",
    "x = np.arange(-10, 10, 0.01)\n",
    "y = sigmoid(x)\n",
    "plt.plot(x, y)"
   ]
  },
  {
   "cell_type": "code",
   "execution_count": null,
   "id": "c7f127d8-eec3-4c66-ba48-98f61b33e45b",
   "metadata": {},
   "outputs": [],
   "source": []
  }
 ],
 "metadata": {
  "kernelspec": {
   "display_name": "Python 3 (ipykernel)",
   "language": "python",
   "name": "python3"
  },
  "language_info": {
   "codemirror_mode": {
    "name": "ipython",
    "version": 3
   },
   "file_extension": ".py",
   "mimetype": "text/x-python",
   "name": "python",
   "nbconvert_exporter": "python",
   "pygments_lexer": "ipython3",
   "version": "3.9.12"
  }
 },
 "nbformat": 4,
 "nbformat_minor": 5
}
