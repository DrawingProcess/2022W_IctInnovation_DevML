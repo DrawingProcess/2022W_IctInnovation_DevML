{
 "cells": [
  {
   "cell_type": "markdown",
   "id": "4e173f6a-e453-4c5d-9e67-4ca796a57bc1",
   "metadata": {},
   "source": [
    "# 퍼셉트론"
   ]
  },
  {
   "cell_type": "markdown",
   "id": "2da58121-8f1c-4a03-847b-5df17fcc6499",
   "metadata": {},
   "source": [
    "## 행렬의 연산\n",
    "\n",
    "내신과 수능 성적을 결합해서 합격 여부를 예측하는 네트워크"
   ]
  },
  {
   "cell_type": "code",
   "execution_count": null,
   "id": "370c6ee7-83f3-4f33-808a-1374a2d691a4",
   "metadata": {},
   "outputs": [],
   "source": [
    "import numpy as np\n",
    "\n",
    "grade = 10\n",
    "test = 20\n",
    "\n",
    "# 1x2\n",
    "input0 = np.array([grade, test])\n",
    "\n",
    "# 2x2\n",
    "w1 = np.array(\n",
    "     [[0.5, 0.12]\n",
    "      [0.3, 0.4]])\n",
    "\n",
    "# 2x1\n",
    "w2 = np.array([[0.4],\n",
    "               [0.5]])\n",
    "\n",
    "result_0 = np.dot(input0, w1)\n",
    "result_1 = np.dot(result_0, w2)\n",
    "print(result1)"
   ]
  }
 ],
 "metadata": {
  "kernelspec": {
   "display_name": "Python 3 (ipykernel)",
   "language": "python",
   "name": "python3"
  },
  "language_info": {
   "codemirror_mode": {
    "name": "ipython",
    "version": 3
   },
   "file_extension": ".py",
   "mimetype": "text/x-python",
   "name": "python",
   "nbconvert_exporter": "python",
   "pygments_lexer": "ipython3",
   "version": "3.9.12"
  }
 },
 "nbformat": 4,
 "nbformat_minor": 5
}
