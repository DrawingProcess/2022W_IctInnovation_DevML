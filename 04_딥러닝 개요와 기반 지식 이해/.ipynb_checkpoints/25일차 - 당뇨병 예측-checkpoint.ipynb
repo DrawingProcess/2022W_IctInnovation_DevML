{
 "cells": [
  {
   "cell_type": "markdown",
   "id": "ec8a03e1-ebec-4cb3-9545-55da8cc27a4e",
   "metadata": {},
   "source": [
    "# Pima Indians Diabetes Database\n",
    "\n",
    "## 데이터 로드"
   ]
  },
  {
   "cell_type": "code",
   "execution_count": 9,
   "id": "3fece590-95fa-4975-ae1c-01f459afac32",
   "metadata": {},
   "outputs": [
    {
     "data": {
      "text/plain": [
       "Pregnancies                 0\n",
       "Glucose                     0\n",
       "BloodPressure               0\n",
       "SkinThickness               0\n",
       "Insulin                     0\n",
       "BMI                         0\n",
       "DiabetesPedigreeFunction    0\n",
       "Age                         0\n",
       "Outcome                     0\n",
       "dtype: int64"
      ]
     },
     "execution_count": 9,
     "metadata": {},
     "output_type": "execute_result"
    }
   ],
   "source": [
    "import pandas as pd\n",
    "\n",
    "df = pd.read_csv(\"diabetes.csv\")\n",
    "df.isnull().sum() # 비어있는 값 없음"
   ]
  },
  {
   "cell_type": "code",
   "execution_count": 10,
   "id": "caada5c9-6f85-44dc-99ec-d525a421e643",
   "metadata": {},
   "outputs": [
    {
     "data": {
      "text/plain": [
       "array([1, 0, 1, 0, 1, 0, 1, 0, 1, 1, 0, 1, 0, 1, 1, 1, 1, 1, 0, 1, 0, 0,\n",
       "       1, 1, 1, 1, 1, 0, 0, 0, 0, 1, 0, 0, 0, 0, 0, 1, 1, 1, 0, 0, 0, 1,\n",
       "       0, 1, 0, 0, 1, 0, 0, 0, 0, 1, 0, 0, 1, 0, 0, 0, 0, 1, 0, 0, 1, 0,\n",
       "       1, 0, 0, 0, 1, 0, 1, 0, 0, 0, 0, 0, 1, 0, 0, 0, 0, 0, 1, 0, 0, 0,\n",
       "       1, 0, 0, 0, 0, 1, 0, 0, 0, 0, 0, 1, 1, 0, 0, 0, 0, 0, 0, 0, 0, 1,\n",
       "       1, 1, 0, 0, 1, 1, 1, 0, 0, 0, 1, 0, 0, 0, 1, 1, 0, 0, 1, 1, 1, 1,\n",
       "       1, 0, 0, 0, 0, 0, 0, 0, 0, 0, 0, 1, 0, 0, 0, 0, 0, 0, 0, 0, 1, 0,\n",
       "       1, 1, 0, 0, 0, 1, 0, 0, 0, 0, 1, 1, 0, 0, 0, 0, 1, 1, 0, 0, 0, 1,\n",
       "       0, 1, 0, 1, 0, 0, 0, 0, 0, 1, 1, 1, 1, 1, 0, 0, 1, 1, 0, 1, 0, 1,\n",
       "       1, 1, 0, 0, 0, 0, 0, 0, 1, 1, 0, 1, 0, 0, 0, 1, 1, 1, 1, 0, 1, 1,\n",
       "       1, 1, 0, 0, 0, 0, 0, 1, 0, 0, 1, 1, 0, 0, 0, 1, 1, 1, 1, 0, 0, 0,\n",
       "       1, 1, 0, 1, 0, 0, 0, 0, 0, 0, 0, 0, 1, 1, 0, 0, 0, 1, 0, 1, 0, 0,\n",
       "       1, 0, 1, 0, 0, 1, 1, 0, 0, 0, 0, 0, 1, 0, 0, 0, 1, 0, 0, 1, 1, 0,\n",
       "       0, 1, 0, 0, 0, 1, 1, 1, 0, 0, 1, 0, 1, 0, 1, 1, 0, 1, 0, 0, 1, 0,\n",
       "       1, 1, 0, 0, 1, 0, 1, 0, 0, 1, 0, 1, 0, 1, 1, 1, 0, 0, 1, 0, 1, 0,\n",
       "       0, 0, 1, 0, 0, 0, 0, 1, 1, 1, 0, 0, 0, 0, 0, 0, 0, 0, 0, 1, 0, 0,\n",
       "       0, 0, 0, 1, 1, 1, 0, 1, 1, 0, 0, 1, 0, 0, 1, 0, 0, 1, 1, 0, 0, 0,\n",
       "       0, 1, 0, 0, 1, 0, 0, 0, 0, 0, 0, 0, 1, 1, 1, 0, 0, 1, 0, 0, 1, 0,\n",
       "       0, 1, 0, 1, 1, 0, 1, 0, 1, 0, 1, 0, 1, 1, 0, 0, 0, 0, 1, 1, 0, 1,\n",
       "       0, 1, 0, 0, 0, 0, 1, 1, 0, 1, 0, 1, 0, 0, 0, 0, 0, 1, 0, 0, 0, 0,\n",
       "       1, 0, 0, 1, 1, 1, 0, 0, 1, 0, 0, 1, 0, 0, 0, 1, 0, 0, 1, 0, 0, 0,\n",
       "       0, 0, 0, 0, 0, 0, 1, 0, 0, 0, 0, 0, 0, 0, 1, 0, 0, 0, 1, 0, 0, 0,\n",
       "       1, 1, 0, 0, 0, 0, 0, 0, 0, 1, 0, 0, 0, 0, 1, 0, 0, 0, 1, 0, 0, 0,\n",
       "       1, 0, 0, 0, 1, 0, 0, 0, 0, 1, 1, 0, 0, 0, 0, 0, 0, 1, 0, 0, 0, 0,\n",
       "       0, 0, 0, 0, 0, 0, 0, 1, 0, 0, 0, 1, 1, 1, 1, 0, 0, 1, 1, 0, 0, 0,\n",
       "       0, 0, 0, 0, 0, 0, 0, 0, 0, 0, 1, 1, 0, 0, 0, 0, 0, 0, 0, 1, 0, 0,\n",
       "       0, 0, 0, 0, 0, 1, 0, 1, 1, 0, 0, 0, 1, 0, 1, 0, 1, 0, 1, 0, 1, 0,\n",
       "       0, 1, 0, 0, 1, 0, 0, 0, 0, 1, 1, 0, 1, 0, 0, 0, 0, 1, 1, 0, 1, 0,\n",
       "       0, 0, 1, 1, 0, 0, 0, 0, 0, 0, 0, 0, 0, 0, 1, 0, 0, 0, 0, 1, 0, 0,\n",
       "       1, 0, 0, 0, 1, 0, 0, 0, 1, 1, 1, 0, 0, 0, 0, 0, 0, 1, 0, 0, 0, 1,\n",
       "       0, 1, 1, 1, 1, 0, 1, 1, 0, 0, 0, 0, 0, 0, 0, 1, 1, 0, 1, 0, 0, 1,\n",
       "       0, 1, 0, 0, 0, 0, 0, 1, 0, 1, 0, 1, 0, 1, 1, 0, 0, 0, 0, 1, 1, 0,\n",
       "       0, 0, 1, 0, 1, 1, 0, 0, 1, 0, 0, 1, 1, 0, 0, 1, 0, 0, 1, 0, 0, 0,\n",
       "       0, 0, 0, 0, 1, 1, 1, 0, 0, 0, 0, 0, 0, 1, 1, 0, 0, 1, 0, 0, 1, 0,\n",
       "       1, 1, 1, 0, 0, 1, 1, 1, 0, 1, 0, 1, 0, 1, 0, 0, 0, 0, 1, 0],\n",
       "      dtype=int64)"
      ]
     },
     "execution_count": 10,
     "metadata": {},
     "output_type": "execute_result"
    }
   ],
   "source": [
    "y = df['Outcome'].values\n",
    "y"
   ]
  },
  {
   "cell_type": "code",
   "execution_count": 11,
   "id": "0a3e2560-30ae-49dc-87b6-1dde09d7bb77",
   "metadata": {},
   "outputs": [
    {
     "data": {
      "text/plain": [
       "array([[  6.   , 148.   ,  72.   , ...,  33.6  ,   0.627,  50.   ],\n",
       "       [  1.   ,  85.   ,  66.   , ...,  26.6  ,   0.351,  31.   ],\n",
       "       [  8.   , 183.   ,  64.   , ...,  23.3  ,   0.672,  32.   ],\n",
       "       ...,\n",
       "       [  5.   , 121.   ,  72.   , ...,  26.2  ,   0.245,  30.   ],\n",
       "       [  1.   , 126.   ,  60.   , ...,  30.1  ,   0.349,  47.   ],\n",
       "       [  1.   ,  93.   ,  70.   , ...,  30.4  ,   0.315,  23.   ]])"
      ]
     },
     "execution_count": 11,
     "metadata": {},
     "output_type": "execute_result"
    }
   ],
   "source": [
    "x = df.drop(['Outcome'], axis=1).values\n",
    "x"
   ]
  },
  {
   "cell_type": "markdown",
   "id": "966d21fd-9c99-481e-9ddb-191b3896e46e",
   "metadata": {},
   "source": [
    "## X에 대해 정규화를 수행"
   ]
  },
  {
   "cell_type": "code",
   "execution_count": 37,
   "id": "82747803-cd4a-47f0-abbc-73afaeb577c2",
   "metadata": {},
   "outputs": [
    {
     "data": {
      "text/plain": [
       "array([[ 0.63994726,  0.84832379,  0.14964075, ...,  0.20401277,\n",
       "         0.46849198,  1.4259954 ],\n",
       "       [-0.84488505, -1.12339636, -0.16054575, ..., -0.68442195,\n",
       "        -0.36506078, -0.19067191],\n",
       "       [ 1.23388019,  1.94372388, -0.26394125, ..., -1.10325546,\n",
       "         0.60439732, -0.10558415],\n",
       "       ...,\n",
       "       [ 0.3429808 ,  0.00330087,  0.14964075, ..., -0.73518964,\n",
       "        -0.68519336, -0.27575966],\n",
       "       [-0.84488505,  0.1597866 , -0.47073225, ..., -0.24020459,\n",
       "        -0.37110101,  1.17073215],\n",
       "       [-0.84488505, -0.8730192 ,  0.04624525, ..., -0.20212881,\n",
       "        -0.47378505, -0.87137393]])"
      ]
     },
     "execution_count": 37,
     "metadata": {},
     "output_type": "execute_result"
    }
   ],
   "source": [
    "from sklearn.preprocessing import StandardScaler\n",
    "scaler = StandardScaler()\n",
    "scaler.fit(x)\n",
    "x = scaler.transform(x)\n",
    "x"
   ]
  },
  {
   "cell_type": "code",
   "execution_count": 38,
   "id": "7bb44e87-45dc-4f91-bea3-494d8babbbd2",
   "metadata": {},
   "outputs": [
    {
     "data": {
      "text/plain": [
       "((768, 8), (768,))"
      ]
     },
     "execution_count": 38,
     "metadata": {},
     "output_type": "execute_result"
    }
   ],
   "source": [
    "x.shape, y.shape"
   ]
  },
  {
   "cell_type": "markdown",
   "id": "783e19f0-d0f8-4087-952d-ef2f13a1f12c",
   "metadata": {
    "tags": []
   },
   "source": [
    "## 트레인셋과 테스트 셋을 분리"
   ]
  },
  {
   "cell_type": "code",
   "execution_count": 41,
   "id": "424ee020-be53-4176-91d1-bebf5e7817e1",
   "metadata": {},
   "outputs": [],
   "source": [
    "from sklearn.model_selection import train_test_split\n",
    "\n",
    "train_x, test_x, train_y, test_y = train_test_split(x, y, test_size=0.2, random_state=1234)"
   ]
  },
  {
   "cell_type": "markdown",
   "id": "a25e0fcb-cc25-4dcd-b099-9cf223058f72",
   "metadata": {},
   "source": [
    "## 딥러닝 모델을 구성"
   ]
  },
  {
   "cell_type": "code",
   "execution_count": 42,
   "id": "b79d8f5f-c298-4063-9f91-93aacbd35e87",
   "metadata": {},
   "outputs": [
    {
     "name": "stdout",
     "output_type": "stream",
     "text": [
      "Epoch: 0 Training set error: 153.330 Traing set accuracy: 0.679 Test set error: 38.459 Test set accuracy: 0.714 \n",
      "Epoch: 1 Training set error: 153.330 Traing set accuracy: 0.679 Test set error: 38.459 Test set accuracy: 0.714 \n",
      "Epoch: 2 Training set error: 153.329 Traing set accuracy: 0.679 Test set error: 38.458 Test set accuracy: 0.714 \n",
      "Epoch: 3 Training set error: 153.328 Traing set accuracy: 0.679 Test set error: 38.458 Test set accuracy: 0.714 \n",
      "Epoch: 4 Training set error: 153.327 Traing set accuracy: 0.681 Test set error: 38.458 Test set accuracy: 0.714 \n",
      "Epoch: 5 Training set error: 153.327 Traing set accuracy: 0.681 Test set error: 38.458 Test set accuracy: 0.714 \n",
      "Epoch: 6 Training set error: 153.326 Traing set accuracy: 0.682 Test set error: 38.458 Test set accuracy: 0.714 \n",
      "Epoch: 7 Training set error: 153.325 Traing set accuracy: 0.682 Test set error: 38.458 Test set accuracy: 0.714 \n",
      "Epoch: 8 Training set error: 153.324 Traing set accuracy: 0.682 Test set error: 38.457 Test set accuracy: 0.714 \n",
      "Epoch: 9 Training set error: 153.324 Traing set accuracy: 0.682 Test set error: 38.457 Test set accuracy: 0.714 \n",
      "Epoch: 10 Training set error: 153.323 Traing set accuracy: 0.684 Test set error: 38.457 Test set accuracy: 0.714 \n",
      "Epoch: 11 Training set error: 153.322 Traing set accuracy: 0.684 Test set error: 38.457 Test set accuracy: 0.714 \n",
      "Epoch: 12 Training set error: 153.321 Traing set accuracy: 0.684 Test set error: 38.457 Test set accuracy: 0.714 \n",
      "Epoch: 13 Training set error: 153.321 Traing set accuracy: 0.686 Test set error: 38.456 Test set accuracy: 0.721 \n",
      "Epoch: 14 Training set error: 153.320 Traing set accuracy: 0.686 Test set error: 38.456 Test set accuracy: 0.721 \n",
      "Epoch: 15 Training set error: 153.319 Traing set accuracy: 0.686 Test set error: 38.456 Test set accuracy: 0.721 \n",
      "Epoch: 16 Training set error: 153.318 Traing set accuracy: 0.686 Test set error: 38.456 Test set accuracy: 0.721 \n",
      "Epoch: 17 Training set error: 153.318 Traing set accuracy: 0.687 Test set error: 38.456 Test set accuracy: 0.721 \n",
      "Epoch: 18 Training set error: 153.317 Traing set accuracy: 0.689 Test set error: 38.456 Test set accuracy: 0.721 \n",
      "Epoch: 19 Training set error: 153.316 Traing set accuracy: 0.689 Test set error: 38.455 Test set accuracy: 0.721 \n",
      "Epoch: 20 Training set error: 153.315 Traing set accuracy: 0.689 Test set error: 38.455 Test set accuracy: 0.721 \n",
      "Epoch: 21 Training set error: 153.314 Traing set accuracy: 0.689 Test set error: 38.455 Test set accuracy: 0.721 \n",
      "Epoch: 22 Training set error: 153.314 Traing set accuracy: 0.689 Test set error: 38.455 Test set accuracy: 0.721 \n",
      "Epoch: 23 Training set error: 153.313 Traing set accuracy: 0.689 Test set error: 38.455 Test set accuracy: 0.721 \n",
      "Epoch: 24 Training set error: 153.312 Traing set accuracy: 0.689 Test set error: 38.454 Test set accuracy: 0.721 \n",
      "Epoch: 25 Training set error: 153.311 Traing set accuracy: 0.689 Test set error: 38.454 Test set accuracy: 0.721 \n",
      "Epoch: 26 Training set error: 153.310 Traing set accuracy: 0.691 Test set error: 38.454 Test set accuracy: 0.721 \n",
      "Epoch: 27 Training set error: 153.310 Traing set accuracy: 0.691 Test set error: 38.454 Test set accuracy: 0.721 \n",
      "Epoch: 28 Training set error: 153.309 Traing set accuracy: 0.691 Test set error: 38.454 Test set accuracy: 0.727 \n",
      "Epoch: 29 Training set error: 153.308 Traing set accuracy: 0.691 Test set error: 38.453 Test set accuracy: 0.727 \n",
      "Epoch: 30 Training set error: 153.307 Traing set accuracy: 0.694 Test set error: 38.453 Test set accuracy: 0.727 \n",
      "Epoch: 31 Training set error: 153.306 Traing set accuracy: 0.694 Test set error: 38.453 Test set accuracy: 0.727 \n",
      "Epoch: 32 Training set error: 153.305 Traing set accuracy: 0.694 Test set error: 38.453 Test set accuracy: 0.727 \n",
      "Epoch: 33 Training set error: 153.305 Traing set accuracy: 0.695 Test set error: 38.453 Test set accuracy: 0.727 \n",
      "Epoch: 34 Training set error: 153.304 Traing set accuracy: 0.697 Test set error: 38.452 Test set accuracy: 0.727 \n",
      "Epoch: 35 Training set error: 153.303 Traing set accuracy: 0.697 Test set error: 38.452 Test set accuracy: 0.721 \n",
      "Epoch: 36 Training set error: 153.302 Traing set accuracy: 0.697 Test set error: 38.452 Test set accuracy: 0.721 \n",
      "Epoch: 37 Training set error: 153.301 Traing set accuracy: 0.697 Test set error: 38.452 Test set accuracy: 0.721 \n",
      "Epoch: 38 Training set error: 153.300 Traing set accuracy: 0.697 Test set error: 38.452 Test set accuracy: 0.714 \n",
      "Epoch: 39 Training set error: 153.299 Traing set accuracy: 0.697 Test set error: 38.451 Test set accuracy: 0.714 \n",
      "Epoch: 40 Training set error: 153.299 Traing set accuracy: 0.697 Test set error: 38.451 Test set accuracy: 0.714 \n",
      "Epoch: 41 Training set error: 153.298 Traing set accuracy: 0.697 Test set error: 38.451 Test set accuracy: 0.714 \n",
      "Epoch: 42 Training set error: 153.297 Traing set accuracy: 0.697 Test set error: 38.451 Test set accuracy: 0.714 \n",
      "Epoch: 43 Training set error: 153.296 Traing set accuracy: 0.697 Test set error: 38.451 Test set accuracy: 0.714 \n",
      "Epoch: 44 Training set error: 153.295 Traing set accuracy: 0.697 Test set error: 38.450 Test set accuracy: 0.714 \n",
      "Epoch: 45 Training set error: 153.294 Traing set accuracy: 0.699 Test set error: 38.450 Test set accuracy: 0.714 \n",
      "Epoch: 46 Training set error: 153.293 Traing set accuracy: 0.699 Test set error: 38.450 Test set accuracy: 0.708 \n",
      "Epoch: 47 Training set error: 153.292 Traing set accuracy: 0.699 Test set error: 38.450 Test set accuracy: 0.708 \n",
      "Epoch: 48 Training set error: 153.292 Traing set accuracy: 0.699 Test set error: 38.450 Test set accuracy: 0.714 \n",
      "Epoch: 49 Training set error: 153.291 Traing set accuracy: 0.699 Test set error: 38.449 Test set accuracy: 0.714 \n",
      "Epoch: 50 Training set error: 153.290 Traing set accuracy: 0.699 Test set error: 38.449 Test set accuracy: 0.714 \n",
      "Epoch: 51 Training set error: 153.289 Traing set accuracy: 0.699 Test set error: 38.449 Test set accuracy: 0.714 \n",
      "Epoch: 52 Training set error: 153.288 Traing set accuracy: 0.699 Test set error: 38.449 Test set accuracy: 0.714 \n",
      "Epoch: 53 Training set error: 153.287 Traing set accuracy: 0.699 Test set error: 38.448 Test set accuracy: 0.714 \n",
      "Epoch: 54 Training set error: 153.286 Traing set accuracy: 0.700 Test set error: 38.448 Test set accuracy: 0.714 \n",
      "Epoch: 55 Training set error: 153.285 Traing set accuracy: 0.700 Test set error: 38.448 Test set accuracy: 0.714 \n",
      "Epoch: 56 Training set error: 153.284 Traing set accuracy: 0.700 Test set error: 38.448 Test set accuracy: 0.714 \n",
      "Epoch: 57 Training set error: 153.283 Traing set accuracy: 0.700 Test set error: 38.448 Test set accuracy: 0.714 \n",
      "Epoch: 58 Training set error: 153.282 Traing set accuracy: 0.700 Test set error: 38.447 Test set accuracy: 0.714 \n",
      "Epoch: 59 Training set error: 153.281 Traing set accuracy: 0.700 Test set error: 38.447 Test set accuracy: 0.714 \n",
      "Epoch: 60 Training set error: 153.280 Traing set accuracy: 0.700 Test set error: 38.447 Test set accuracy: 0.714 \n",
      "Epoch: 61 Training set error: 153.280 Traing set accuracy: 0.700 Test set error: 38.447 Test set accuracy: 0.714 \n",
      "Epoch: 62 Training set error: 153.279 Traing set accuracy: 0.700 Test set error: 38.446 Test set accuracy: 0.714 \n",
      "Epoch: 63 Training set error: 153.278 Traing set accuracy: 0.700 Test set error: 38.446 Test set accuracy: 0.714 \n",
      "Epoch: 64 Training set error: 153.277 Traing set accuracy: 0.700 Test set error: 38.446 Test set accuracy: 0.714 \n",
      "Epoch: 65 Training set error: 153.276 Traing set accuracy: 0.702 Test set error: 38.446 Test set accuracy: 0.714 \n",
      "Epoch: 66 Training set error: 153.275 Traing set accuracy: 0.702 Test set error: 38.445 Test set accuracy: 0.714 \n",
      "Epoch: 67 Training set error: 153.274 Traing set accuracy: 0.702 Test set error: 38.445 Test set accuracy: 0.714 \n",
      "Epoch: 68 Training set error: 153.273 Traing set accuracy: 0.702 Test set error: 38.445 Test set accuracy: 0.714 \n",
      "Epoch: 69 Training set error: 153.272 Traing set accuracy: 0.702 Test set error: 38.445 Test set accuracy: 0.714 \n",
      "Epoch: 70 Training set error: 153.271 Traing set accuracy: 0.702 Test set error: 38.445 Test set accuracy: 0.714 \n",
      "Epoch: 71 Training set error: 153.270 Traing set accuracy: 0.702 Test set error: 38.444 Test set accuracy: 0.708 \n",
      "Epoch: 72 Training set error: 153.269 Traing set accuracy: 0.702 Test set error: 38.444 Test set accuracy: 0.708 \n",
      "Epoch: 73 Training set error: 153.268 Traing set accuracy: 0.702 Test set error: 38.444 Test set accuracy: 0.708 \n",
      "Epoch: 74 Training set error: 153.267 Traing set accuracy: 0.702 Test set error: 38.444 Test set accuracy: 0.708 \n",
      "Epoch: 75 Training set error: 153.266 Traing set accuracy: 0.702 Test set error: 38.443 Test set accuracy: 0.708 \n",
      "Epoch: 76 Training set error: 153.265 Traing set accuracy: 0.702 Test set error: 38.443 Test set accuracy: 0.708 \n",
      "Epoch: 77 Training set error: 153.264 Traing set accuracy: 0.702 Test set error: 38.443 Test set accuracy: 0.708 \n",
      "Epoch: 78 Training set error: 153.263 Traing set accuracy: 0.702 Test set error: 38.443 Test set accuracy: 0.708 \n",
      "Epoch: 79 Training set error: 153.262 Traing set accuracy: 0.702 Test set error: 38.442 Test set accuracy: 0.708 \n",
      "Epoch: 80 Training set error: 153.261 Traing set accuracy: 0.702 Test set error: 38.442 Test set accuracy: 0.708 \n",
      "Epoch: 81 Training set error: 153.260 Traing set accuracy: 0.702 Test set error: 38.442 Test set accuracy: 0.708 \n",
      "Epoch: 82 Training set error: 153.258 Traing set accuracy: 0.702 Test set error: 38.442 Test set accuracy: 0.708 \n",
      "Epoch: 83 Training set error: 153.257 Traing set accuracy: 0.702 Test set error: 38.441 Test set accuracy: 0.708 \n",
      "Epoch: 84 Training set error: 153.256 Traing set accuracy: 0.702 Test set error: 38.441 Test set accuracy: 0.708 \n",
      "Epoch: 85 Training set error: 153.255 Traing set accuracy: 0.702 Test set error: 38.441 Test set accuracy: 0.708 \n",
      "Epoch: 86 Training set error: 153.254 Traing set accuracy: 0.702 Test set error: 38.441 Test set accuracy: 0.708 \n",
      "Epoch: 87 Training set error: 153.253 Traing set accuracy: 0.702 Test set error: 38.440 Test set accuracy: 0.708 \n",
      "Epoch: 88 Training set error: 153.252 Traing set accuracy: 0.702 Test set error: 38.440 Test set accuracy: 0.708 \n",
      "Epoch: 89 Training set error: 153.251 Traing set accuracy: 0.702 Test set error: 38.440 Test set accuracy: 0.708 \n",
      "Epoch: 90 Training set error: 153.250 Traing set accuracy: 0.702 Test set error: 38.439 Test set accuracy: 0.708 \n",
      "Epoch: 91 Training set error: 153.249 Traing set accuracy: 0.702 Test set error: 38.439 Test set accuracy: 0.708 \n",
      "Epoch: 92 Training set error: 153.248 Traing set accuracy: 0.700 Test set error: 38.439 Test set accuracy: 0.708 \n",
      "Epoch: 93 Training set error: 153.247 Traing set accuracy: 0.700 Test set error: 38.439 Test set accuracy: 0.708 \n",
      "Epoch: 94 Training set error: 153.246 Traing set accuracy: 0.700 Test set error: 38.438 Test set accuracy: 0.708 \n",
      "Epoch: 95 Training set error: 153.244 Traing set accuracy: 0.700 Test set error: 38.438 Test set accuracy: 0.714 \n",
      "Epoch: 96 Training set error: 153.243 Traing set accuracy: 0.700 Test set error: 38.438 Test set accuracy: 0.714 \n",
      "Epoch: 97 Training set error: 153.242 Traing set accuracy: 0.702 Test set error: 38.438 Test set accuracy: 0.714 \n",
      "Epoch: 98 Training set error: 153.241 Traing set accuracy: 0.702 Test set error: 38.437 Test set accuracy: 0.708 \n",
      "Epoch: 99 Training set error: 153.240 Traing set accuracy: 0.702 Test set error: 38.437 Test set accuracy: 0.714 \n"
     ]
    }
   ],
   "source": [
    "# 필요한 라이브러리 임포트\n",
    "import numpy as np\n",
    "import tensorflow as tf\n",
    "import matplotlib.pyplot as plt\n",
    "from sklearn.preprocessing import OneHotEncoder\n",
    "\n",
    "# 시그모이드로 0~1사의 값을 최종 출력\n",
    "def sigmoid(x):\n",
    "    return 1 / (1 +np.exp(-x))\n",
    "\n",
    "# 시그모이드 미분\n",
    "def sigmoid_prime(z):\n",
    "    return z * (1-z)\n",
    "\n",
    "\n",
    "# 성능 이슈로 시그모이드가 아닌 relu 함수를 사용한다.\n",
    "def relu(x):\n",
    "    return np.maximum(0, x)\n",
    "\n",
    "\n",
    "# 렐루의 미분 함수\n",
    "def relu2deriv(output): \n",
    "    return output >= 0 \n",
    "\n",
    "# 랜덤 시드\n",
    "seed = 884736743\n",
    "rng = np.random.default_rng(seed)\n",
    "\n",
    "# 레이어에 필요한 변수 설정\n",
    "learning_rate= 0.00005\n",
    "epochs = 100\n",
    "hidden_size= 4       # 히든 계층의 노드 개수\n",
    "pixels_per_image = 8 # 입력 계층의 노드 개수\n",
    "num_labels = 1\n",
    "\n",
    "# 각 레이어에 필요한 가중치 설정\n",
    "weights_1 = 0.2 * rng.random((pixels_per_image, hidden_size)) - 0.1 # 784x100\n",
    "weights_2 = 0.2 * rng.random((hidden_size, num_labels)) - 0.1       # 100x10\n",
    "\n",
    "# 학습 진행 현황을 기록할 저장소\n",
    "store_training_loss = []\n",
    "store_training_accurate_pred = []\n",
    "store_test_loss = []\n",
    "store_test_accurate_pred = []\n",
    "\n",
    "# 루프 시작\n",
    "for j in range(epochs):\n",
    "    training_loss = 0.0\n",
    "    training_accurate_predictions = 0\n",
    "    \n",
    "    for i in range(len(train_x)):\n",
    "        # 포워드 패스\n",
    "        layer_0 = train_x[i] # input\n",
    "        layer_1 = relu(np.dot(layer_0, weights_1)) # l1\n",
    "        layer_2 = sigmoid(np.dot(layer_1, weights_2)) # l2\n",
    "        \n",
    "        # 업데이트를 위해 오차 계산\n",
    "        layer_2_delta = (train_y[i] - layer_2) * sigmoid_prime(layer_2) # 마지막 레이어의 Loss\n",
    "        layer_1_delta = np.dot(weights_2, layer_2_delta) * relu2deriv(layer_1) # 한 레이어 전의 오류 계산\n",
    "        \n",
    "        # 변화할 가중치를 원래 가중치에 더함\n",
    "        weights_1 += learning_rate * np.outer(layer_0, layer_1_delta)\n",
    "        weights_2 += learning_rate * np.outer(layer_1, layer_2_delta)\n",
    "        \n",
    "    # 한번의 에포치가 종료될 때마다 평가 결과를 측정한다.\n",
    "    results = sigmoid(relu(test_x @ weights_1) @ weights_2)\n",
    "    test_loss = np.sum((test_y - results) ** 2 )/test_x.shape[0] # MSE\n",
    "    results[results >= 0.5] = 1 \n",
    "    results[results < 0.5] = 0\n",
    "    test_accurate_predictions =np.sum(results.flatten()== test_y)/test_x.shape[0]\n",
    "    \n",
    "    # 한번의 에포치가 종료될 때마다 훈련 결과를 측정한다.\n",
    "    results = sigmoid(relu(train_x @ weights_1) @ weights_2)\n",
    "    training_loss = np.sum((train_y - results) ** 2 ) / train_x.shape[0] # MSE\n",
    "    results[results >= 0.5] = 1 \n",
    "    results[results < 0.5] = 0\n",
    "    training_accurate_predictions =  np.sum(results.flatten()== train_y)/train_x.shape[0]\n",
    "    \n",
    "    # 이번 에포치의 결과를 저장한다.\n",
    "    store_training_loss.append(training_loss)\n",
    "    store_training_accurate_pred.append(training_accurate_predictions)\n",
    "    store_test_loss.append(test_loss)\n",
    "    store_test_accurate_pred.append(test_accurate_predictions)\n",
    "    \n",
    "    # 이벤 에포치의 결과를 프린트\n",
    "    print(f'''\\\n",
    "Epoch: {j} Training set error: {training_loss :.3f} \\\n",
    "Traing set accuracy: {training_accurate_predictions:.3f} \\\n",
    "Test set error: {test_loss:.3f} \\\n",
    "Test set accuracy: {test_accurate_predictions:.3f} \\\n",
    "''')        "
   ]
  },
  {
   "cell_type": "code",
   "execution_count": 43,
   "id": "f741e112-3e32-45d7-935c-6a095e182e67",
   "metadata": {},
   "outputs": [
    {
     "data": {
      "image/png": "[encoded data removed]",
      "text/plain": [
       "<Figure size 432x288 with 1 Axes>"
      ]
     },
     "metadata": {
      "needs_background": "light"
     },
     "output_type": "display_data"
    },
    {
     "data": {
      "image/png": "[encoded data removed]",
      "text/plain": [
       "<Figure size 432x288 with 1 Axes>"
      ]
     },
     "metadata": {
      "needs_background": "light"
     },
     "output_type": "display_data"
    }
   ],
   "source": [
    "import pandas as pd\n",
    "\n",
    "loss_history = pd.DataFrame([store_training_loss, store_test_loss], \n",
    "                            index = ['train_loss', 'test_loss'])\n",
    "acc_history = pd.DataFrame([store_training_accurate_pred, store_test_accurate_pred], \n",
    "                            index = ['train_acc', 'test_acc'])\n",
    "\n",
    "loss_history.T.plot()\n",
    "plt.show()\n",
    "acc_history.T.plot()\n",
    "plt.show()"
   ]
  },
  {
   "cell_type": "code",
   "execution_count": 44,
   "id": "e959b1e3-51cd-4c53-a0c8-dac4abcfc5c7",
   "metadata": {},
   "outputs": [
    {
     "data": {
      "text/plain": [
       "154"
      ]
     },
     "execution_count": 44,
     "metadata": {},
     "output_type": "execute_result"
    }
   ],
   "source": [
    "test_x.shape[0]"
   ]
  },
  {
   "cell_type": "markdown",
   "id": "778568b4-a4f5-413c-93f8-7a42b7b89715",
   "metadata": {},
   "source": [
    "# MNIST를 예측 하는 모델에 드롭아웃 적용하기\n",
    "이전에 사용했던 딥러닝 모델을 불러온다."
   ]
  },
  {
   "cell_type": "code",
   "execution_count": 46,
   "id": "b3f831eb-04be-49b1-b4d6-b035c338f839",
   "metadata": {},
   "outputs": [
    {
     "name": "stdout",
     "output_type": "stream",
     "text": [
      "Epoch: 0 Training set error: 20.516 Traing set accuracy: 0.190 Test set error: 20.571 Test set accuracy: 0.165 \n",
      "Epoch: 1 Training set error: 20.275 Traing set accuracy: 0.321 Test set error: 20.366 Test set accuracy: 0.286 \n",
      "Epoch: 2 Training set error: 19.971 Traing set accuracy: 0.419 Test set error: 20.114 Test set accuracy: 0.396 \n",
      "Epoch: 3 Training set error: 19.535 Traing set accuracy: 0.462 Test set error: 19.769 Test set accuracy: 0.431 \n",
      "Epoch: 4 Training set error: 18.798 Traing set accuracy: 0.467 Test set error: 19.213 Test set accuracy: 0.450 \n",
      "Epoch: 5 Training set error: 16.951 Traing set accuracy: 0.447 Test set error: 17.891 Test set accuracy: 0.429 \n",
      "Epoch: 6 Training set error: 11.677 Traing set accuracy: 0.441 Test set error: 13.648 Test set accuracy: 0.423 \n",
      "Epoch: 7 Training set error: 4.827 Traing set accuracy: 0.456 Test set error: 6.147 Test set accuracy: 0.439 \n",
      "Epoch: 8 Training set error: 1.517 Traing set accuracy: 0.484 Test set error: 1.779 Test set accuracy: 0.459 \n",
      "Epoch: 9 Training set error: 0.458 Traing set accuracy: 0.532 Test set error: 0.459 Test set accuracy: 0.499 \n",
      "Epoch: 10 Training set error: 0.171 Traing set accuracy: 0.561 Test set error: 0.148 Test set accuracy: 0.534 \n",
      "Epoch: 11 Training set error: 0.094 Traing set accuracy: 0.599 Test set error: 0.078 Test set accuracy: 0.583 \n",
      "Epoch: 12 Training set error: 0.048 Traing set accuracy: 0.655 Test set error: 0.035 Test set accuracy: 0.638 \n",
      "Epoch: 13 Training set error: 0.031 Traing set accuracy: 0.679 Test set error: 0.025 Test set accuracy: 0.660 \n",
      "Epoch: 14 Training set error: 0.020 Traing set accuracy: 0.705 Test set error: 0.016 Test set accuracy: 0.683 \n",
      "Epoch: 15 Training set error: 0.014 Traing set accuracy: 0.746 Test set error: 0.012 Test set accuracy: 0.723 \n",
      "Epoch: 16 Training set error: 0.014 Traing set accuracy: 0.764 Test set error: 0.010 Test set accuracy: 0.734 \n",
      "Epoch: 17 Training set error: 0.014 Traing set accuracy: 0.776 Test set error: 0.014 Test set accuracy: 0.737 \n",
      "Epoch: 18 Training set error: 0.008 Traing set accuracy: 0.779 Test set error: 0.015 Test set accuracy: 0.746 \n",
      "Epoch: 19 Training set error: 0.012 Traing set accuracy: 0.784 Test set error: 0.020 Test set accuracy: 0.755 \n"
     ]
    }
   ],
   "source": [
    "# 필요한 라이브러리 임포트\n",
    "import numpy as np\n",
    "import tensorflow as tf\n",
    "import matplotlib.pyplot as plt\n",
    "from sklearn.preprocessing import OneHotEncoder\n",
    "\n",
    "mnist = tf.keras.datasets.mnist\n",
    "(x_train, t_train), (x_test, t_test) = mnist.load_data()\n",
    "\n",
    "# 성능 이슈로 시그모이드가 아닌 relu 함수를 사용한다.\n",
    "def relu(x):\n",
    "    return np.maximum(0, x)\n",
    "\n",
    "\n",
    "# 렐루의 미분 함수\n",
    "def relu2deriv(output): \n",
    "    return output >= 0 \n",
    "\n",
    "\n",
    "# 소프트맥스 함수\n",
    "def softmax(a):\n",
    "    # x를 그대로 전달하는 것이 아니라 각 값에서 최대 값을 차감\n",
    "    x = a - np.max(a) #의 값은 기존보다 훨씬 작은 값이 안정화됨\n",
    "    f_y = np.exp(x) / np.sum(np.exp(x)) # 오리지날 softmax 함수\n",
    "    return f_y\n",
    "\n",
    "def crossEntropyError(s, l):\n",
    "    delta = 1e-10\n",
    "    return -np.sum(l*np.log(s+delta))\n",
    "\n",
    "\n",
    "# mnist 데이터셋의 전치리 수행\n",
    "training_sample, test_sample = 10000, 1000\n",
    "training_images = (x_train[0:training_sample]/255).reshape(-1, 784)\n",
    "test_images = (x_test[0:test_sample]/255).reshape(-1, 784)\n",
    "\n",
    "# y 레이블에 대한 원핫인코딩 수행\n",
    "number_list = [0, 1, 2, 3, 4, 5, 6, 7, 8, 9]\n",
    "ohe_y = OneHotEncoder(categories=[number_list], handle_unknown='ignore')\n",
    "ohe_y.fit(t_train.reshape(-1,1))\n",
    "training_labels  = ohe_y.transform(t_train.reshape(-1,1)).toarray()[:training_sample]\n",
    "test_labels = ohe_y.transform(t_test.reshape(-1,1)).toarray()[:test_sample]\n",
    "\n",
    "# 랜덤 시드\n",
    "seed = 884736743\n",
    "rng = np.random.default_rng(seed)\n",
    "\n",
    "# 레이어에 필요한 변수 설정\n",
    "learning_rate= 0.0005\n",
    "epochs = 40\n",
    "hidden_size= 100       # 히든 계층의 노드 개수\n",
    "pixels_per_image = 784 # 입력 계층의 노드 개수\n",
    "num_labels = 10\n",
    "\n",
    "# 각 레이어에 필요한 가중치 설정\n",
    "weights_1 = 0.2 * rng.random((pixels_per_image, hidden_size)) - 0.1 # 784x100\n",
    "weights_2 = 0.2 * rng.random((hidden_size, num_labels)) - 0.1       # 100x10\n",
    "\n",
    "# 학습 진행 현황을 기록할 저장소\n",
    "store_training_loss = []\n",
    "store_training_accurate_pred = []\n",
    "store_test_loss = []\n",
    "store_test_accurate_pred = []\n",
    "\n",
    "# 루프 시작\n",
    "for j in range(epochs):\n",
    "    training_loss = 0.0\n",
    "    training_accurate_predictions = 0\n",
    "    \n",
    "    for i in range(len(training_images)):\n",
    "        \n",
    "        # 훈련할 때마다 랜덤하게 dropout을 설정한다.\n",
    "        dropout_mask = rng.integers(low=0, high=2, size=(hidden_size,))\n",
    "        \n",
    "        # 포워드 패스\n",
    "        layer_0 = training_images[i] # input\n",
    "        layer_1 = relu(np.dot(layer_0, weights_1)) # l1\n",
    "        layer_1 *= dropout_mask\n",
    "        layer_2 = softmax(np.dot(layer_1, weights_2)) # l2\n",
    "        \n",
    "        '''\n",
    "        # 업데이트를 위해 오차 계산\n",
    "        layer_2_delta = training_labels[i] - layer_2 # 마지막 레이어의 Loss\n",
    "        layer_1_delta = np.dot(weights_2, layer_2_delta) * relu2deriv(layer_1) # 한 레이어 전의 오류 계산\n",
    "        \n",
    "        # 변화할 가중치를 원래 가중치에 더함\n",
    "        weights_1 += learning_rate * np.outer(layer_0, layer_1_delta)\n",
    "        weights_2 += learning_rate * np.outer(layer_1, layer_2_delta)\n",
    "        '''\n",
    "        \n",
    "        # 에러텀 연산\n",
    "        loss = training_labels[i] - layer_2\n",
    "        layer2_error_term = loss * layer_2 # 10개\n",
    "        layer1_error_term = np.dot(weights_2, layer2_error_term) * relu2deriv(layer_1)  # 100개\n",
    "        layer1_error_term *= dropout_mask\n",
    "        \n",
    "        # 업데이트 w를 연산 \n",
    "        weights_1 += learning_rate * np.dot(layer_0.reshape(784,1), layer1_error_term.reshape(1,100))\n",
    "        weights_2 += learning_rate * np.dot(layer_1.reshape(100,1), layer2_error_term.reshape(1,10))\n",
    "        \n",
    "    # 한번의 에포치가 종료될 때마다 평가 결과를 측정한다.\n",
    "    results = softmax(relu(test_images @ weights_1) @ weights_2)\n",
    "    #test_loss = np.sum((test_labels - results) ** 2 )/test_sample # MSE\n",
    "    test_loss = crossEntropyError(test_labels, results)\n",
    "    test_accurate_predictions = np.sum(np.argmax(results, axis=1) == np.argmax(test_labels, axis=1))/test_sample\n",
    "    \n",
    "    # 한번의 에포치가 종료될 때마다 훈련 결과를 측정한다.\n",
    "    results = softmax(relu(training_images @ weights_1) @ weights_2)\n",
    "    #training_loss = np.sum((training_labels - results) ** 2 )/training_sample # MSE\n",
    "    training_loss = crossEntropyError(training_labels, results)\n",
    "    training_accurate_predictions = np.sum(np.argmax(results, axis=1) == np.argmax(training_labels, axis=1))/training_sample\n",
    "    \n",
    "    # 이번 에포치의 결과를 저장한다.\n",
    "    store_training_loss.append(training_loss)\n",
    "    store_training_accurate_pred.append(training_accurate_predictions)\n",
    "    store_test_loss.append(test_loss)\n",
    "    store_test_accurate_pred.append(test_accurate_predictions)\n",
    "    \n",
    "    # 이벤 에포치의 결과를 프린트\n",
    "    print(f'''\\\n",
    "Epoch: {j} Training set error: {training_loss :.3f} \\\n",
    "Traing set accuracy: {training_accurate_predictions:.3f} \\\n",
    "Test set error: {test_loss:.3f} \\\n",
    "Test set accuracy: {test_accurate_predictions:.3f} \\\n",
    "''')        "
   ]
  },
  {
   "cell_type": "code",
   "execution_count": 47,
   "id": "2a30c5fa-9908-407e-9241-28b6c5e8b764",
   "metadata": {},
   "outputs": [
    {
     "data": {
      "image/png": "[encoded data removed]",
      "text/plain": [
       "<Figure size 432x288 with 1 Axes>"
      ]
     },
     "metadata": {
      "needs_background": "light"
     },
     "output_type": "display_data"
    },
    {
     "data": {
      "image/png": "[encoded data removed]",
      "text/plain": [
       "<Figure size 432x288 with 1 Axes>"
      ]
     },
     "metadata": {
      "needs_background": "light"
     },
     "output_type": "display_data"
    }
   ],
   "source": [
    "import pandas as pd\n",
    "\n",
    "loss_history = pd.DataFrame([store_training_loss, store_test_loss], \n",
    "                            index = ['train_loss', 'test_loss'])\n",
    "acc_history = pd.DataFrame([store_training_accurate_pred, store_test_accurate_pred], \n",
    "                            index = ['train_acc', 'test_acc'])\n",
    "\n",
    "loss_history.T.plot()\n",
    "plt.show()\n",
    "acc_history.T.plot()\n",
    "plt.show()"
   ]
  },
  {
   "cell_type": "code",
   "execution_count": null,
   "id": "8ebb124b-a6f4-4df8-84a9-980888dd90c9",
   "metadata": {},
   "outputs": [],
   "source": []
  }
 ],
 "metadata": {
  "kernelspec": {
   "display_name": "Python 3 (ipykernel)",
   "language": "python",
   "name": "python3"
  },
  "language_info": {
   "codemirror_mode": {
    "name": "ipython",
    "version": 3
   },
   "file_extension": ".py",
   "mimetype": "text/x-python",
   "name": "python",
   "nbconvert_exporter": "python",
   "pygments_lexer": "ipython3",
   "version": "3.9.12"
  }
 },
 "nbformat": 4,
 "nbformat_minor": 5
}
