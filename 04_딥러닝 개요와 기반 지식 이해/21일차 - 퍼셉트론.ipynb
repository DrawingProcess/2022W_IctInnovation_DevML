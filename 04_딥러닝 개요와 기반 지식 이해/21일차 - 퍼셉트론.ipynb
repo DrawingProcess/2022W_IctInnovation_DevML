{
 "cells": [
  {
   "cell_type": "markdown",
   "id": "4e173f6a-e453-4c5d-9e67-4ca796a57bc1",
   "metadata": {},
   "source": [
    "# 퍼셉트론"
   ]
  },
  {
   "cell_type": "markdown",
   "id": "2da58121-8f1c-4a03-847b-5df17fcc6499",
   "metadata": {},
   "source": [
    "## 행렬의 연산\n",
    "\n",
    "내신과 수능 성적을 결합해서 합격 여부를 예측하는 네트워크"
   ]
  },
  {
   "cell_type": "code",
   "execution_count": 5,
   "id": "370c6ee7-83f3-4f33-808a-1374a2d691a4",
   "metadata": {},
   "outputs": [
    {
     "name": "stdout",
     "output_type": "stream",
     "text": [
      "result_0: [11.   9.2]\n",
      "result_1: [9.]\n"
     ]
    }
   ],
   "source": [
    "import numpy as np\n",
    "\n",
    "grade = 10\n",
    "test = 20\n",
    "\n",
    "# 1x2\n",
    "input0 = np.array([grade, test])\n",
    "\n",
    "# 2x2\n",
    "w1 = np.array(\n",
    "     [[0.5, 0.12],\n",
    "      [0.3, 0.4]])\n",
    "\n",
    "# 2x1\n",
    "w2 = np.array([[0.4],\n",
    "               [0.5]])\n",
    "\n",
    "result_0 = np.dot(input0, w1)\n",
    "result_1 = np.dot(result_0, w2)\n",
    "print('result_0:', result_0)\n",
    "print('result_1:', result_1)"
   ]
  },
  {
   "cell_type": "markdown",
   "id": "d5de8720-98ab-47a7-9be4-67dc2c7942c2",
   "metadata": {},
   "source": [
    "## step 함수(기본 활성화 함수)"
   ]
  },
  {
   "cell_type": "code",
   "execution_count": 17,
   "id": "759f5eaf-09ca-4a3f-b61a-1ae498a29774",
   "metadata": {},
   "outputs": [],
   "source": [
    "def step(h):\n",
    "    return np.array(h >= 0, dtype=\"int\")"
   ]
  },
  {
   "cell_type": "code",
   "execution_count": 18,
   "id": "640cd342-3407-431f-945e-285c819d29fa",
   "metadata": {},
   "outputs": [
    {
     "data": {
      "text/plain": [
       "array([1, 1, 1, 1])"
      ]
     },
     "execution_count": 18,
     "metadata": {},
     "output_type": "execute_result"
    }
   ],
   "source": [
    "a0 = np.array([1,2,3,4])\n",
    "step(a0)"
   ]
  },
  {
   "cell_type": "markdown",
   "id": "a2c45020-ff41-4c12-b94d-029bdfd6f9d3",
   "metadata": {},
   "source": [
    "이전에 작성한 네트워크에 스텝 활성화 함수를 대입해보자."
   ]
  },
  {
   "cell_type": "code",
   "execution_count": 19,
   "id": "53ccaba9-2cf7-4f39-a854-3ab64fa1e6e1",
   "metadata": {},
   "outputs": [
    {
     "name": "stdout",
     "output_type": "stream",
     "text": [
      "result_0: [1 1]\n",
      "result_1: [1]\n"
     ]
    }
   ],
   "source": [
    "result_0 = np.dot(input0, w1)\n",
    "result_0 = step(result_0)\n",
    "result_1 = np.dot(result_0, w2)\n",
    "result_1 = step(result_1)\n",
    "print('result_0:', result_0)\n",
    "print('result_1:', result_1)"
   ]
  },
  {
   "cell_type": "markdown",
   "id": "4202d853-778b-4b8d-b952-fc35919e19cd",
   "metadata": {},
   "source": [
    "bias 값을 추가하면 step function의 기준을 변경할 수 있다."
   ]
  },
  {
   "cell_type": "code",
   "execution_count": 21,
   "id": "18a5e7f8-7d70-45ae-b44d-0b78ad0e86ee",
   "metadata": {},
   "outputs": [
    {
     "data": {
      "text/plain": [
       "[<matplotlib.lines.Line2D at 0x1d1ef63c790>]"
      ]
     },
     "execution_count": 21,
     "metadata": {},
     "output_type": "execute_result"
    },
    {
     "data": {
      "image/png": "[encoded data removed]",
      "text/plain": [
       "<Figure size 432x288 with 1 Axes>"
      ]
     },
     "metadata": {
      "needs_background": "light"
     },
     "output_type": "display_data"
    }
   ],
   "source": [
    "import matplotlib.pyplot as plt\n",
    "\n",
    "x = np.arange(-10, 10, 0.1)\n",
    "y = step(x)\n",
    "plt.plot(x, y)"
   ]
  },
  {
   "cell_type": "code",
   "execution_count": 25,
   "id": "66626844-f6ff-4002-8416-26b41998c6fd",
   "metadata": {},
   "outputs": [
    {
     "data": {
      "text/plain": [
       "[<matplotlib.lines.Line2D at 0x1d1eff1efa0>]"
      ]
     },
     "execution_count": 25,
     "metadata": {},
     "output_type": "execute_result"
    },
    {
     "data": {
      "image/png": "[encoded data removed]",
      "text/plain": [
       "<Figure size 432x288 with 1 Axes>"
      ]
     },
     "metadata": {
      "needs_background": "light"
     },
     "output_type": "display_data"
    }
   ],
   "source": [
    "bias = 2\n",
    "x = np.arange(-10, 10, 0.1) \n",
    "y = step(x + bias)\n",
    "plt.plot(x, y)"
   ]
  },
  {
   "cell_type": "markdown",
   "id": "8fbee159-fcc0-4bb0-8bb1-e710444089f0",
   "metadata": {},
   "source": [
    "## 퍼셉트론을 활용한 비트 연산\n",
    "AND 연산을 구현해보자."
   ]
  },
  {
   "cell_type": "code",
   "execution_count": 39,
   "id": "52fd1f79-c1d4-4c1d-a926-ff7252b500c3",
   "metadata": {},
   "outputs": [
    {
     "name": "stdout",
     "output_type": "stream",
     "text": [
      "1 and 1 = 1\n",
      "1 and 0 = 0\n",
      "0 and 1 = 0\n",
      "0 and 0 = 0\n"
     ]
    }
   ],
   "source": [
    "def AND(a, b):\n",
    "    w1 = .25\n",
    "    w2 = .25\n",
    "    bias = -.5\n",
    "    y = w1 * a + w2 * b + bias \n",
    "    result = step(y)\n",
    "    return result \n",
    "\n",
    "inputs = [[1, 1],   # 1\n",
    "          [1, 0],   # 0\n",
    "          [0, 1],   # 0\n",
    "          [0, 0]]   # 0\n",
    "\n",
    "for a, b in inputs:\n",
    "    result = AND(a, b)\n",
    "    print(f'{a} and {b} = {result}')"
   ]
  },
  {
   "cell_type": "markdown",
   "id": "b7b3a3f1-154f-4497-a480-9797c5d042ce",
   "metadata": {},
   "source": [
    "위 함수를 사용해서 OR 연산을 구현해보자."
   ]
  },
  {
   "cell_type": "code",
   "execution_count": 41,
   "id": "57af0014-4ae5-4a71-938d-5a63468f5cb1",
   "metadata": {},
   "outputs": [
    {
     "name": "stdout",
     "output_type": "stream",
     "text": [
      "1 or 1 = 1\n",
      "1 or 0 = 1\n",
      "0 or 1 = 1\n",
      "0 or 0 = 0\n"
     ]
    }
   ],
   "source": [
    "def OR(a, b):\n",
    "    w1 = .25\n",
    "    w2 = .25\n",
    "    bias = -0.25\n",
    "    y = w1 * a + w2 * b + bias \n",
    "    result = step(y)\n",
    "    return result \n",
    "\n",
    "inputs = [[1, 1],   # 1\n",
    "          [1, 0],   # 1\n",
    "          [0, 1],   # 1\n",
    "          [0, 0]]   # 0\n",
    "\n",
    "for a, b in inputs:\n",
    "    result = OR(a, b)\n",
    "    print(f'{a} or {b} = {result}')"
   ]
  },
  {
   "cell_type": "markdown",
   "id": "70348ad1-705a-48d4-8e54-8116d41d4f09",
   "metadata": {},
   "source": [
    "다음 내용을 실습하라.\n",
    "- Not 연산을 수행해보자.\n",
    "- NOT, AND와 OR 연산에 대한 함수도 구현하도록 하자."
   ]
  },
  {
   "cell_type": "code",
   "execution_count": 42,
   "id": "cdf8af1f-d7e4-4c47-bd90-ba0ca6ecc25e",
   "metadata": {},
   "outputs": [
    {
     "data": {
      "text/plain": [
       "array([0, 1, 0, 1])"
      ]
     },
     "execution_count": 42,
     "metadata": {},
     "output_type": "execute_result"
    }
   ],
   "source": [
    "def NOT(x):\n",
    "    return np.array(~(x == 1), dtype='int')\n",
    "\n",
    "x = np.array([1,0,1,0])\n",
    "NOT(x)"
   ]
  },
  {
   "cell_type": "markdown",
   "id": "56c1e577-ba72-4a77-8062-3dfa44b78198",
   "metadata": {},
   "source": [
    "XOR 문제를 해결해보도록하자.\n",
    "\n",
    "<img src=\"https://upload.wikimedia.org/wikipedia/commons/a/a2/254px_3gate_XOR.jpg\">"
   ]
  },
  {
   "cell_type": "code",
   "execution_count": null,
   "id": "a44dc433-c78c-4603-8afe-b303ebaf11d3",
   "metadata": {},
   "outputs": [],
   "source": [
    "def XOR:\n",
    "    pass\n",
    "\n",
    "inputs = [[1, 1],   # 1\n",
    "          [1, 0],   # 1\n",
    "          [0, 1],   # 1\n",
    "          [0, 0]]   # 0\n",
    "\n",
    "for a, b in inputs:\n",
    "    result = XOR(a, b)\n",
    "    print(f'{a} xor {b} = {result}')"
   ]
  }
 ],
 "metadata": {
  "kernelspec": {
   "display_name": "Python 3 (ipykernel)",
   "language": "python",
   "name": "python3"
  },
  "language_info": {
   "codemirror_mode": {
    "name": "ipython",
    "version": 3
   },
   "file_extension": ".py",
   "mimetype": "text/x-python",
   "name": "python",
   "nbconvert_exporter": "python",
   "pygments_lexer": "ipython3",
   "version": "3.9.12"
  }
 },
 "nbformat": 4,
 "nbformat_minor": 5
}
