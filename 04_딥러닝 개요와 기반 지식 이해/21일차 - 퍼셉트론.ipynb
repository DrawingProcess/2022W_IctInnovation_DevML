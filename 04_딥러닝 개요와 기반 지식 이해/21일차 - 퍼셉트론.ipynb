{
 "cells": [
  {
   "cell_type": "markdown",
   "id": "4e173f6a-e453-4c5d-9e67-4ca796a57bc1",
   "metadata": {},
   "source": [
    "# 퍼셉트론"
   ]
  },
  {
   "cell_type": "markdown",
   "id": "2da58121-8f1c-4a03-847b-5df17fcc6499",
   "metadata": {},
   "source": [
    "## 행렬의 연산\n",
    "\n",
    "내신과 수능 성적을 결합해서 합격 여부를 예측하는 네트워크"
   ]
  },
  {
   "cell_type": "code",
   "execution_count": 5,
   "id": "370c6ee7-83f3-4f33-808a-1374a2d691a4",
   "metadata": {},
   "outputs": [
    {
     "name": "stdout",
     "output_type": "stream",
     "text": [
      "result_0: [11.   9.2]\n",
      "result_1: [9.]\n"
     ]
    }
   ],
   "source": [
    "import numpy as np\n",
    "\n",
    "grade = 10\n",
    "test = 20\n",
    "\n",
    "# 1x2\n",
    "input0 = np.array([grade, test])\n",
    "\n",
    "# 2x2\n",
    "w1 = np.array(\n",
    "     [[0.5, 0.12],\n",
    "      [0.3, 0.4]])\n",
    "\n",
    "# 2x1\n",
    "w2 = np.array([[0.4],\n",
    "               [0.5]])\n",
    "\n",
    "result_0 = np.dot(input0, w1)\n",
    "result_1 = np.dot(result_0, w2)\n",
    "print('result_0:', result_0)\n",
    "print('result_1:', result_1)"
   ]
  },
  {
   "cell_type": "markdown",
   "id": "d5de8720-98ab-47a7-9be4-67dc2c7942c2",
   "metadata": {},
   "source": [
    "## step 함수(기본 활성화 함수)"
   ]
  },
  {
   "cell_type": "code",
   "execution_count": 17,
   "id": "759f5eaf-09ca-4a3f-b61a-1ae498a29774",
   "metadata": {},
   "outputs": [],
   "source": [
    "def step(h):\n",
    "    return np.array(h >= 0, dtype=\"int\")"
   ]
  },
  {
   "cell_type": "code",
   "execution_count": 18,
   "id": "640cd342-3407-431f-945e-285c819d29fa",
   "metadata": {},
   "outputs": [
    {
     "data": {
      "text/plain": [
       "array([1, 1, 1, 1])"
      ]
     },
     "execution_count": 18,
     "metadata": {},
     "output_type": "execute_result"
    }
   ],
   "source": [
    "a0 = np.array([1,2,3,4])\n",
    "step(a0)"
   ]
  },
  {
   "cell_type": "markdown",
   "id": "a2c45020-ff41-4c12-b94d-029bdfd6f9d3",
   "metadata": {},
   "source": [
    "이전에 작성한 네트워크에 스텝 활성화 함수를 대입해보자."
   ]
  },
  {
   "cell_type": "code",
   "execution_count": 19,
   "id": "53ccaba9-2cf7-4f39-a854-3ab64fa1e6e1",
   "metadata": {},
   "outputs": [
    {
     "name": "stdout",
     "output_type": "stream",
     "text": [
      "result_0: [1 1]\n",
      "result_1: [1]\n"
     ]
    }
   ],
   "source": [
    "result_0 = np.dot(input0, w1)\n",
    "result_0 = step(result_0)\n",
    "result_1 = np.dot(result_0, w2)\n",
    "result_1 = step(result_1)\n",
    "print('result_0:', result_0)\n",
    "print('result_1:', result_1)"
   ]
  },
  {
   "cell_type": "code",
   "execution_count": null,
   "id": "dde8511c-2ef2-43d5-9156-cb7fc3d01b85",
   "metadata": {},
   "outputs": [],
   "source": []
  }
 ],
 "metadata": {
  "kernelspec": {
   "display_name": "Python 3 (ipykernel)",
   "language": "python",
   "name": "python3"
  },
  "language_info": {
   "codemirror_mode": {
    "name": "ipython",
    "version": 3
   },
   "file_extension": ".py",
   "mimetype": "text/x-python",
   "name": "python",
   "nbconvert_exporter": "python",
   "pygments_lexer": "ipython3",
   "version": "3.9.12"
  }
 },
 "nbformat": 4,
 "nbformat_minor": 5
}
