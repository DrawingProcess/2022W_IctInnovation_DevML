{
 "cells": [
  {
   "cell_type": "markdown",
   "id": "a04c8050-c701-44d6-8d4c-ae65a471cbcb",
   "metadata": {},
   "source": [
    "# 회귀 알고리즘\n",
    "\n",
    "## 필요 라이브러리 임포트"
   ]
  },
  {
   "cell_type": "code",
   "execution_count": 21,
   "id": "5f3a5dd8-c007-4868-9599-b4b24a1174eb",
   "metadata": {},
   "outputs": [],
   "source": [
    "import pandas as pd\n",
    "import numpy as np\n",
    "import matplotlib.pyplot as plt\n",
    "from sklearn.model_selection import train_test_split"
   ]
  },
  {
   "cell_type": "markdown",
   "id": "5d2a36f6-58a1-4479-8294-0cde5aec6716",
   "metadata": {},
   "source": [
    "## 캘리포니아 집값 데이터셋 불러오기"
   ]
  },
  {
   "cell_type": "code",
   "execution_count": 13,
   "id": "e7d4ace6-493f-4ed8-aebf-51b1fde6b768",
   "metadata": {},
   "outputs": [
    {
     "data": {
      "text/plain": [
       "'# for the Ames housing dataset.\\nfrom sklearn.datasets import fetch_openml\\nhousing = fetch_openml(name=\"house_prices\", as_frame=True)'"
      ]
     },
     "execution_count": 13,
     "metadata": {},
     "output_type": "execute_result"
    }
   ],
   "source": [
    "'''# boston dataset\n",
    "data_url = \"http://lib.stat.cmu.edu/datasets/boston\"\n",
    "raw_df = pd.read_csv(data_url, sep=\"\\s+\", skiprows=22, header=None)\n",
    "data = np.hstack([raw_df.values[::2, :], raw_df.values[1::2, :2]])\n",
    "target = raw_df.values[1::2, 2]'''\n",
    "\n",
    "#for the California housing dataset\n",
    "from sklearn.datasets import fetch_california_housing\n",
    "housing = fetch_california_housing()\n",
    "\n",
    "'''# for the Ames housing dataset.\n",
    "from sklearn.datasets import fetch_openml\n",
    "housing = fetch_openml(name=\"house_prices\", as_frame=True)'''"
   ]
  },
  {
   "cell_type": "code",
   "execution_count": 15,
   "id": "162dd9f0-da1a-44a4-a73f-e6e65acb9482",
   "metadata": {},
   "outputs": [
    {
     "data": {
      "text/html": [
       "<div>\n",
       "<style scoped>\n",
       "    .dataframe tbody tr th:only-of-type {\n",
       "        vertical-align: middle;\n",
       "    }\n",
       "\n",
       "    .dataframe tbody tr th {\n",
       "        vertical-align: top;\n",
       "    }\n",
       "\n",
       "    .dataframe thead th {\n",
       "        text-align: right;\n",
       "    }\n",
       "</style>\n",
       "<table border=\"1\" class=\"dataframe\">\n",
       "  <thead>\n",
       "    <tr style=\"text-align: right;\">\n",
       "      <th></th>\n",
       "      <th>MedInc</th>\n",
       "      <th>HouseAge</th>\n",
       "      <th>AveRooms</th>\n",
       "      <th>AveBedrms</th>\n",
       "      <th>Population</th>\n",
       "      <th>AveOccup</th>\n",
       "      <th>Latitude</th>\n",
       "      <th>Longitude</th>\n",
       "    </tr>\n",
       "  </thead>\n",
       "  <tbody>\n",
       "    <tr>\n",
       "      <th>0</th>\n",
       "      <td>8.3252</td>\n",
       "      <td>41.0</td>\n",
       "      <td>6.984127</td>\n",
       "      <td>1.023810</td>\n",
       "      <td>322.0</td>\n",
       "      <td>2.555556</td>\n",
       "      <td>37.88</td>\n",
       "      <td>-122.23</td>\n",
       "    </tr>\n",
       "    <tr>\n",
       "      <th>1</th>\n",
       "      <td>8.3014</td>\n",
       "      <td>21.0</td>\n",
       "      <td>6.238137</td>\n",
       "      <td>0.971880</td>\n",
       "      <td>2401.0</td>\n",
       "      <td>2.109842</td>\n",
       "      <td>37.86</td>\n",
       "      <td>-122.22</td>\n",
       "    </tr>\n",
       "    <tr>\n",
       "      <th>2</th>\n",
       "      <td>7.2574</td>\n",
       "      <td>52.0</td>\n",
       "      <td>8.288136</td>\n",
       "      <td>1.073446</td>\n",
       "      <td>496.0</td>\n",
       "      <td>2.802260</td>\n",
       "      <td>37.85</td>\n",
       "      <td>-122.24</td>\n",
       "    </tr>\n",
       "    <tr>\n",
       "      <th>3</th>\n",
       "      <td>5.6431</td>\n",
       "      <td>52.0</td>\n",
       "      <td>5.817352</td>\n",
       "      <td>1.073059</td>\n",
       "      <td>558.0</td>\n",
       "      <td>2.547945</td>\n",
       "      <td>37.85</td>\n",
       "      <td>-122.25</td>\n",
       "    </tr>\n",
       "    <tr>\n",
       "      <th>4</th>\n",
       "      <td>3.8462</td>\n",
       "      <td>52.0</td>\n",
       "      <td>6.281853</td>\n",
       "      <td>1.081081</td>\n",
       "      <td>565.0</td>\n",
       "      <td>2.181467</td>\n",
       "      <td>37.85</td>\n",
       "      <td>-122.25</td>\n",
       "    </tr>\n",
       "  </tbody>\n",
       "</table>\n",
       "</div>"
      ],
      "text/plain": [
       "   MedInc  HouseAge  AveRooms  AveBedrms  Population  AveOccup  Latitude  \\\n",
       "0  8.3252      41.0  6.984127   1.023810       322.0  2.555556     37.88   \n",
       "1  8.3014      21.0  6.238137   0.971880      2401.0  2.109842     37.86   \n",
       "2  7.2574      52.0  8.288136   1.073446       496.0  2.802260     37.85   \n",
       "3  5.6431      52.0  5.817352   1.073059       558.0  2.547945     37.85   \n",
       "4  3.8462      52.0  6.281853   1.081081       565.0  2.181467     37.85   \n",
       "\n",
       "   Longitude  \n",
       "0    -122.23  \n",
       "1    -122.22  \n",
       "2    -122.24  \n",
       "3    -122.25  \n",
       "4    -122.25  "
      ]
     },
     "execution_count": 15,
     "metadata": {},
     "output_type": "execute_result"
    }
   ],
   "source": [
    "ch_df = pd.DataFrame(housing['data'], columns=housing.feature_names)\n",
    "ch_df.head()"
   ]
  },
  {
   "cell_type": "code",
   "execution_count": 19,
   "id": "c1a47f77-c9f1-432a-964a-0c7c9fb6ae3d",
   "metadata": {},
   "outputs": [
    {
     "data": {
      "text/plain": [
       "(20640, 8)"
      ]
     },
     "execution_count": 19,
     "metadata": {},
     "output_type": "execute_result"
    }
   ],
   "source": [
    "x = housing['data']\n",
    "x.shape"
   ]
  },
  {
   "cell_type": "code",
   "execution_count": 20,
   "id": "4ff7115e-b5da-4340-aa2a-45739982f8a5",
   "metadata": {},
   "outputs": [
    {
     "data": {
      "text/plain": [
       "(20640,)"
      ]
     },
     "execution_count": 20,
     "metadata": {},
     "output_type": "execute_result"
    }
   ],
   "source": [
    "y = housing['target']\n",
    "y.shape"
   ]
  },
  {
   "cell_type": "code",
   "execution_count": 25,
   "id": "586c4be6-344f-46a7-8456-08c04308e920",
   "metadata": {},
   "outputs": [
    {
     "name": "stdout",
     "output_type": "stream",
     "text": [
      "(16512, 8)\n",
      "(4128, 8)\n",
      "(16512,)\n",
      "(4128,)\n"
     ]
    }
   ],
   "source": [
    "# from sklearn.model_selection import train_test_split\n",
    "ch_train_x, ch_test_x, ch_train_y, ch_test_y = train_test_split(x, y, test_size=0.2, random_state=0)\n",
    "\n",
    "print(ch_train_x.shape)\n",
    "print(ch_test_x.shape)\n",
    "print(ch_train_y.shape)\n",
    "print(ch_test_y.shape)"
   ]
  },
  {
   "cell_type": "markdown",
   "id": "25e90166-bc13-4ddb-a95e-b5543e8f29a0",
   "metadata": {},
   "source": [
    "## Linear Regression 선형 회귀"
   ]
  },
  {
   "cell_type": "code",
   "execution_count": 26,
   "id": "bb5f81b3-6854-4f8e-8658-882b531ce4a3",
   "metadata": {},
   "outputs": [
    {
     "data": {
      "text/plain": [
       "0.594323265246619"
      ]
     },
     "execution_count": 26,
     "metadata": {},
     "output_type": "execute_result"
    }
   ],
   "source": [
    "from sklearn.linear_model import LinearRegression\n",
    "\n",
    "lr = LinearRegression()\n",
    "lr.fit(ch_train_x, ch_train_y)\n",
    "lr.score(ch_test_x, ch_test_y)"
   ]
  },
  {
   "cell_type": "code",
   "execution_count": 30,
   "id": "80dc5c60-e7f3-41f5-829a-dfb3d1d691c0",
   "metadata": {},
   "outputs": [
    {
     "data": {
      "text/plain": [
       "<AxesSubplot:>"
      ]
     },
     "execution_count": 30,
     "metadata": {},
     "output_type": "execute_result"
    },
    {
     "data": {
      "image/png": "[encoded data removed]",
      "text/plain": [
       "<Figure size 640x480 with 1 Axes>"
      ]
     },
     "metadata": {},
     "output_type": "display_data"
    }
   ],
   "source": [
    "# coef_를 활용해 중요도 그리기\n",
    "pd.Series(lr.coef_, housing.feature_names).plot(kind='bar')"
   ]
  },
  {
   "cell_type": "code",
   "execution_count": 33,
   "id": "4fd3f227-7af4-4900-9def-cdc274142495",
   "metadata": {},
   "outputs": [
    {
     "data": {
      "text/html": [
       "<div>\n",
       "<style scoped>\n",
       "    .dataframe tbody tr th:only-of-type {\n",
       "        vertical-align: middle;\n",
       "    }\n",
       "\n",
       "    .dataframe tbody tr th {\n",
       "        vertical-align: top;\n",
       "    }\n",
       "\n",
       "    .dataframe thead th {\n",
       "        text-align: right;\n",
       "    }\n",
       "</style>\n",
       "<table border=\"1\" class=\"dataframe\">\n",
       "  <thead>\n",
       "    <tr style=\"text-align: right;\">\n",
       "      <th></th>\n",
       "      <th>0</th>\n",
       "      <th>1</th>\n",
       "      <th>2</th>\n",
       "      <th>3</th>\n",
       "      <th>4</th>\n",
       "      <th>5</th>\n",
       "      <th>6</th>\n",
       "      <th>7</th>\n",
       "      <th>8</th>\n",
       "      <th>9</th>\n",
       "      <th>...</th>\n",
       "      <th>4118</th>\n",
       "      <th>4119</th>\n",
       "      <th>4120</th>\n",
       "      <th>4121</th>\n",
       "      <th>4122</th>\n",
       "      <th>4123</th>\n",
       "      <th>4124</th>\n",
       "      <th>4125</th>\n",
       "      <th>4126</th>\n",
       "      <th>4127</th>\n",
       "    </tr>\n",
       "  </thead>\n",
       "  <tbody>\n",
       "    <tr>\n",
       "      <th>true</th>\n",
       "      <td>1.369000</td>\n",
       "      <td>2.413000</td>\n",
       "      <td>2.007000</td>\n",
       "      <td>0.725000</td>\n",
       "      <td>4.600000</td>\n",
       "      <td>1.20000</td>\n",
       "      <td>2.470000</td>\n",
       "      <td>3.369000</td>\n",
       "      <td>3.397000</td>\n",
       "      <td>2.65600</td>\n",
       "      <td>...</td>\n",
       "      <td>0.542000</td>\n",
       "      <td>2.308000</td>\n",
       "      <td>0.725000</td>\n",
       "      <td>2.407000</td>\n",
       "      <td>2.983000</td>\n",
       "      <td>1.695000</td>\n",
       "      <td>2.046000</td>\n",
       "      <td>1.28600</td>\n",
       "      <td>2.595000</td>\n",
       "      <td>1.676000</td>\n",
       "    </tr>\n",
       "    <tr>\n",
       "      <th>pred</th>\n",
       "      <td>2.281107</td>\n",
       "      <td>2.790091</td>\n",
       "      <td>1.903328</td>\n",
       "      <td>1.017603</td>\n",
       "      <td>2.948524</td>\n",
       "      <td>2.09054</td>\n",
       "      <td>2.991239</td>\n",
       "      <td>3.056619</td>\n",
       "      <td>2.980227</td>\n",
       "      <td>2.38806</td>\n",
       "      <td>...</td>\n",
       "      <td>0.801716</td>\n",
       "      <td>1.872108</td>\n",
       "      <td>1.252943</td>\n",
       "      <td>2.097599</td>\n",
       "      <td>2.760889</td>\n",
       "      <td>1.616753</td>\n",
       "      <td>2.409188</td>\n",
       "      <td>0.84187</td>\n",
       "      <td>2.798495</td>\n",
       "      <td>2.217793</td>\n",
       "    </tr>\n",
       "  </tbody>\n",
       "</table>\n",
       "<p>2 rows × 4128 columns</p>\n",
       "</div>"
      ],
      "text/plain": [
       "          0         1         2         3         4        5         6     \\\n",
       "true  1.369000  2.413000  2.007000  0.725000  4.600000  1.20000  2.470000   \n",
       "pred  2.281107  2.790091  1.903328  1.017603  2.948524  2.09054  2.991239   \n",
       "\n",
       "          7         8        9     ...      4118      4119      4120  \\\n",
       "true  3.369000  3.397000  2.65600  ...  0.542000  2.308000  0.725000   \n",
       "pred  3.056619  2.980227  2.38806  ...  0.801716  1.872108  1.252943   \n",
       "\n",
       "          4121      4122      4123      4124     4125      4126      4127  \n",
       "true  2.407000  2.983000  1.695000  2.046000  1.28600  2.595000  1.676000  \n",
       "pred  2.097599  2.760889  1.616753  2.409188  0.84187  2.798495  2.217793  \n",
       "\n",
       "[2 rows x 4128 columns]"
      ]
     },
     "execution_count": 33,
     "metadata": {},
     "output_type": "execute_result"
    }
   ],
   "source": [
    "pred_y = lr.predict(ch_test_x)\n",
    "test_pred_plot = pd.DataFrame([ch_test_y, pred_y], index=['true', 'pred'])\n",
    "test_pred_plot"
   ]
  },
  {
   "cell_type": "code",
   "execution_count": 34,
   "id": "cbccca16-fcc1-4079-9bbf-0b23edd19ab0",
   "metadata": {},
   "outputs": [
    {
     "data": {
      "text/plain": [
       "<matplotlib.collections.PathCollection at 0x1bf593188e0>"
      ]
     },
     "execution_count": 34,
     "metadata": {},
     "output_type": "execute_result"
    },
    {
     "data": {
      "image/png": "[encoded data removed]",
      "text/plain": [
       "<Figure size 640x480 with 1 Axes>"
      ]
     },
     "metadata": {},
     "output_type": "display_data"
    }
   ],
   "source": [
    "plt.scatter(ch_test_y, pred_y)"
   ]
  },
  {
   "cell_type": "code",
   "execution_count": 39,
   "id": "c65d7eef-2945-4b01-b5df-bca2d4a282e9",
   "metadata": {},
   "outputs": [
    {
     "data": {
      "text/plain": [
       "[<matplotlib.lines.Line2D at 0x1bf5c999880>]"
      ]
     },
     "execution_count": 39,
     "metadata": {},
     "output_type": "execute_result"
    },
    {
     "data": {
      "image/png": "[encoded data removed]",
      "text/plain": [
       "<Figure size 640x480 with 1 Axes>"
      ]
     },
     "metadata": {},
     "output_type": "display_data"
    }
   ],
   "source": [
    "plt.plot(abs(ch_test_y - pred_y))"
   ]
  },
  {
   "cell_type": "code",
   "execution_count": 40,
   "id": "a72222a7-4dc6-4b05-8ad1-d42e5a8c9878",
   "metadata": {},
   "outputs": [],
   "source": [
    "result = dict()\n",
    "\n",
    "from sklearn.linear_model import LinearRegression\n",
    "lr = LinearRegression()\n",
    "lr.fit(ch_train_x, ch_train_y)\n",
    "result['LinearRegression'] = lr.score(ch_test_x, ch_test_y)\n",
    "\n",
    "from sklearn.linear_model import Ridge\n",
    "ridge = Ridge(alpha=.5, random_state=0)\n",
    "ridge.fit(ch_train_x, ch_train_y)\n",
    "result['Ridge'] = ridge.score(ch_test_x, ch_test_y)\n",
    "\n",
    "from sklearn.linear_model import Lasso\n",
    "lasso = Lasso(alpha=.5, random_state=0)\n",
    "lasso.fit(ch_train_x, ch_train_y)\n",
    "result['Lasso'] = lasso.score(ch_test_x, ch_test_y)\n",
    "\n",
    "from sklearn.linear_model import ElasticNet\n",
    "elasticnet = ElasticNet(alpha=.5, random_state=0)\n",
    "elasticnet.fit(ch_train_x, ch_train_y)\n",
    "result['ElasticNet'] = elasticnet.score(ch_test_x, ch_test_y)"
   ]
  },
  {
   "cell_type": "code",
   "execution_count": 45,
   "id": "c3c70721-7d75-44ac-a452-79ab11b484f6",
   "metadata": {},
   "outputs": [
    {
     "data": {
      "text/plain": [
       "LinearRegression    0.594323\n",
       "Ridge               0.594315\n",
       "ElasticNet          0.466729\n",
       "Lasso               0.437405\n",
       "dtype: float64"
      ]
     },
     "execution_count": 45,
     "metadata": {},
     "output_type": "execute_result"
    }
   ],
   "source": [
    "pd.Series(result).sort_values(ascending=False)"
   ]
  },
  {
   "cell_type": "markdown",
   "id": "7c8d588a-20a5-40e6-b4a6-ddecf13e4a2e",
   "metadata": {},
   "source": [
    "## 연습 문제\n",
    "1. abs(ch_test_y - pred_y)의 결과를 히스토그램으로 오차를 표현해보자.\n",
    "2. 전처리를 수행하고 결과를 확인해보자.\n",
    "3. Alpha를 \\[1.0, 0.1, 0.01, 0.001\\] 값으로 각각의 알고리즘 결과를 확인해보자. "
   ]
  },
  {
   "cell_type": "code",
   "execution_count": 47,
   "id": "c4c49744-e41f-4e9e-9452-9558ec6c1d90",
   "metadata": {},
   "outputs": [
    {
     "data": {
      "text/plain": [
       "<AxesSubplot:>"
      ]
     },
     "execution_count": 47,
     "metadata": {},
     "output_type": "execute_result"
    },
    {
     "data": {
      "image/png": "[encoded data removed]",
      "text/plain": [
       "<Figure size 640x480 with 1 Axes>"
      ]
     },
     "metadata": {},
     "output_type": "display_data"
    }
   ],
   "source": [
    "pd.Series(abs(ch_test_y - pred_y)).hist(bins=10)"
   ]
  },
  {
   "cell_type": "code",
   "execution_count": 50,
   "id": "1e3affce-ed2a-42aa-993f-eec1c30f1898",
   "metadata": {},
   "outputs": [],
   "source": [
    "from sklearn.preprocessing import StandardScaler\n",
    "\n",
    "ch_x_sc = StandardScaler()\n",
    "sc_ch_train_x = ch_x_sc.fit_transform(ch_train_x)\n",
    "sc_ch_test_x = ch_x_sc.transform(ch_test_x)"
   ]
  },
  {
   "cell_type": "code",
   "execution_count": 51,
   "id": "509641fb-c5f4-4230-8f7e-f8b1d438e2c3",
   "metadata": {},
   "outputs": [
    {
     "data": {
      "text/plain": [
       "array([[ 1.44489405e-01, -5.25296884e-01,  9.13337520e-02, ...,\n",
       "         1.78551337e-01, -1.42513494e+00,  1.25325150e+00],\n",
       "       [ 9.98204241e-01,  2.68315039e-01,  2.67351908e-01, ...,\n",
       "        -1.48094957e-03, -7.97937179e-01,  7.94442248e-01],\n",
       "       [ 2.47755440e-01,  3.02314620e-02,  1.97399137e-01, ...,\n",
       "        -1.86932108e-02,  1.41597731e+00, -1.13554886e+00],\n",
       "       ...,\n",
       "       [-3.53274909e-01, -1.39827000e+00, -6.20341805e-02, ...,\n",
       "        -6.56957889e-02,  1.51426949e+00, -6.76739606e-01],\n",
       "       [ 1.18910742e+00, -8.42741654e-01,  7.49373432e-01, ...,\n",
       "        -2.54935860e-02,  1.09301727e+00, -1.19040649e+00],\n",
       "       [-2.85147647e-01,  1.85553889e+00, -6.10691521e-01, ...,\n",
       "         8.85661224e-02, -7.04325572e-01,  6.79739934e-01]])"
      ]
     },
     "execution_count": 51,
     "metadata": {},
     "output_type": "execute_result"
    }
   ],
   "source": [
    "sc_ch_test_x"
   ]
  },
  {
   "cell_type": "code",
   "execution_count": 52,
   "id": "cf3e1c0f-01f5-48c5-802c-f6398e67d1f1",
   "metadata": {},
   "outputs": [
    {
     "data": {
      "text/html": [
       "<div>\n",
       "<style scoped>\n",
       "    .dataframe tbody tr th:only-of-type {\n",
       "        vertical-align: middle;\n",
       "    }\n",
       "\n",
       "    .dataframe tbody tr th {\n",
       "        vertical-align: top;\n",
       "    }\n",
       "\n",
       "    .dataframe thead th {\n",
       "        text-align: right;\n",
       "    }\n",
       "</style>\n",
       "<table border=\"1\" class=\"dataframe\">\n",
       "  <thead>\n",
       "    <tr style=\"text-align: right;\">\n",
       "      <th></th>\n",
       "      <th>1.000</th>\n",
       "      <th>0.100</th>\n",
       "      <th>0.010</th>\n",
       "      <th>0.001</th>\n",
       "    </tr>\n",
       "  </thead>\n",
       "  <tbody>\n",
       "    <tr>\n",
       "      <th>Ridge</th>\n",
       "      <td>0.594308</td>\n",
       "      <td>0.594322</td>\n",
       "      <td>0.594323</td>\n",
       "      <td>0.594323</td>\n",
       "    </tr>\n",
       "    <tr>\n",
       "      <th>Lasso</th>\n",
       "      <td>0.280957</td>\n",
       "      <td>0.524819</td>\n",
       "      <td>0.585918</td>\n",
       "      <td>0.593801</td>\n",
       "    </tr>\n",
       "    <tr>\n",
       "      <th>ElasticNet</th>\n",
       "      <td>0.409049</td>\n",
       "      <td>0.557313</td>\n",
       "      <td>0.589540</td>\n",
       "      <td>0.593936</td>\n",
       "    </tr>\n",
       "  </tbody>\n",
       "</table>\n",
       "</div>"
      ],
      "text/plain": [
       "               1.000     0.100     0.010     0.001\n",
       "Ridge       0.594308  0.594322  0.594323  0.594323\n",
       "Lasso       0.280957  0.524819  0.585918  0.593801\n",
       "ElasticNet  0.409049  0.557313  0.589540  0.593936"
      ]
     },
     "execution_count": 52,
     "metadata": {},
     "output_type": "execute_result"
    }
   ],
   "source": [
    "alphas = [1.0, 0.1, 0.01, 0.001] \n",
    "result = dict()\n",
    "\n",
    "# 스탠다드 스케일러 전\n",
    "for alpha in alphas:\n",
    "    result[alpha] = dict()\n",
    "    from sklearn.linear_model import Ridge\n",
    "    ridge = Ridge(alpha=alpha, random_state=0)\n",
    "    ridge.fit(ch_train_x, ch_train_y)\n",
    "    result[alpha]['Ridge'] = ridge.score(ch_test_x, ch_test_y)\n",
    "\n",
    "    from sklearn.linear_model import Lasso\n",
    "    lasso = Lasso(alpha=alpha, random_state=0)\n",
    "    lasso.fit(ch_train_x, ch_train_y)\n",
    "    result[alpha]['Lasso'] = lasso.score(ch_test_x, ch_test_y)\n",
    "\n",
    "    from sklearn.linear_model import ElasticNet\n",
    "    elasticnet = ElasticNet(alpha=alpha, random_state=0)\n",
    "    elasticnet.fit(ch_train_x, ch_train_y)\n",
    "    result[alpha]['ElasticNet'] = elasticnet.score(ch_test_x, ch_test_y)\n",
    "    \n",
    "pd.DataFrame(result)"
   ]
  },
  {
   "cell_type": "code",
   "execution_count": null,
   "id": "89e8315a-004d-4feb-b7a4-705573049fe8",
   "metadata": {},
   "outputs": [],
   "source": [
    "alphas = [1.0, 0.1, 0.01, 0.001] \n",
    "result = dict()\n",
    "\n",
    "# 스탠다드 스케일러 후\n",
    "for alpha in alphas:\n",
    "    result[alpha] = dict()\n",
    "    from sklearn.linear_model import Ridge\n",
    "    ridge = Ridge(alpha=alpha, random_state=0)\n",
    "    ridge.fit(sc_ch_train_x, ch_train_y)\n",
    "    result[alpha]['Ridge'] = ridge.score(sc_ch_test_x, ch_test_y)\n",
    "\n",
    "    from sklearn.linear_model import Lasso\n",
    "    lasso = Lasso(alpha=alpha, random_state=0)\n",
    "    lasso.fit(sc_ch_train_x, ch_train_y)\n",
    "    result[alpha]['Lasso'] = lasso.score(sc_ch_test_x, ch_test_y)\n",
    "\n",
    "    from sklearn.linear_model import ElasticNet\n",
    "    elasticnet = ElasticNet(alpha=alpha, random_state=0)\n",
    "    elasticnet.fit(ch_train_x, ch_train_y)\n",
    "    result[alpha]['ElasticNet'] = elasticnet.score(ch_test_x, ch_test_y)\n",
    "    \n",
    "pd.DataFrame(result)"
   ]
  },
  {
   "cell_type": "code",
   "execution_count": null,
   "id": "b1cbf94a-b0ab-42b4-921f-301d52dac903",
   "metadata": {},
   "outputs": [],
   "source": [
    "from sklearn.linear_model import LinearRegression\n",
    "lr = LinearRegression()\n",
    "lr.fit(ch_train_x, ch_train_y)\n",
    "result['LinearRegression'] = lr.score(ch_test_x, ch_test_y)"
   ]
  }
 ],
 "metadata": {
  "kernelspec": {
   "display_name": "Python 3 (ipykernel)",
   "language": "python",
   "name": "python3"
  },
  "language_info": {
   "codemirror_mode": {
    "name": "ipython",
    "version": 3
   },
   "file_extension": ".py",
   "mimetype": "text/x-python",
   "name": "python",
   "nbconvert_exporter": "python",
   "pygments_lexer": "ipython3",
   "version": "3.9.13"
  }
 },
 "nbformat": 4,
 "nbformat_minor": 5
}
