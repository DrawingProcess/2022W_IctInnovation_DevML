{
 "cells": [
  {
   "cell_type": "markdown",
   "id": "226701dc-c88a-4965-9d87-dedcfc8a62d8",
   "metadata": {},
   "source": [
    "# 분류 모델 평가 코드 구현"
   ]
  },
  {
   "cell_type": "code",
   "execution_count": 9,
   "id": "b1eab04b-1672-4329-8d44-d6dd3b54d543",
   "metadata": {},
   "outputs": [
    {
     "name": "stdout",
     "output_type": "stream",
     "text": [
      "정확도: 0.75\n",
      "정밀도: 0.6\n",
      "재현율: 1.0\n",
      "F1 스코어: 0.7499999999999999\n"
     ]
    }
   ],
   "source": [
    "from sklearn import metrics # 여기에 평가에 필요한 수식을 담은 코드가 포함됨\n",
    "\n",
    "# 임의로 예측 값과 실제 값을 만들어 점수를 산정해보자.\n",
    "y_pred = [1, 0, 1, 1, 0, 0, 1, 1]\n",
    "y_true = [1, 0, 1, 0, 0, 0, 1, 0]\n",
    "\n",
    "print('정확도:', metrics.accuracy_score(y_true, y_pred))\n",
    "print('정밀도:', metrics.precision_score(y_true, y_pred)) # 긍정으로 표시한 것 중에 맞춘 개수 3/5\n",
    "print('재현율:', metrics.recall_score(y_true, y_pred)) # 긍정이 답인 것 중에 맞춘 개수 3/3\n",
    "print('F1 스코어:', metrics.f1_score(y_true, y_pred)) # 재현율과 정밀도의 선을 각각 X로 그어서 교차하는 높이"
   ]
  },
  {
   "cell_type": "code",
   "execution_count": 10,
   "id": "9dcf917e-3dcb-425d-ace6-af0f6c0cb116",
   "metadata": {},
   "outputs": [
    {
     "name": "stdout",
     "output_type": "stream",
     "text": [
      "잔차: 0.25\n",
      "MSE: 0.25\n",
      "RMSE: 0.5\n",
      "R2: 0.9709618874773139\n"
     ]
    }
   ],
   "source": [
    "import numpy as np\n",
    "\n",
    "y_pred = [1,2,3,4,5,7,9,10]\n",
    "y_true = [1,2,3,4,6,7,8,10]\n",
    "\n",
    "print('잔차:', metrics.mean_absolute_error(y_true, y_pred)) # 각 오차의 절대값을 더해 n분의1로 나누는 방식\n",
    "print('MSE:', metrics.mean_squared_error(y_true, y_pred)) # 각 오차의 제곱의 합을 n분의1로 나누는 방식\n",
    "print('RMSE:', metrics.mean_squared_error(y_true, y_pred, squared=False))# 각 오차의 제곱의 합을 n분의1로 나눈 다음 다시 루트를 씌우는 방식\n",
    "print('R2:', metrics.r2_score(y_true, y_pred)) # 실제 값의 평균으로 SSE를 구한 값과 예측 값의 평균으로 SSE를 구한 값으로 산정하는 점수"
   ]
  },
  {
   "cell_type": "code",
   "execution_count": null,
   "id": "3e3513ea-25bf-46c4-b9f3-5263ace104aa",
   "metadata": {},
   "outputs": [],
   "source": []
  }
 ],
 "metadata": {
  "kernelspec": {
   "display_name": "Python 3 (ipykernel)",
   "language": "python",
   "name": "python3"
  },
  "language_info": {
   "codemirror_mode": {
    "name": "ipython",
    "version": 3
   },
   "file_extension": ".py",
   "mimetype": "text/x-python",
   "name": "python",
   "nbconvert_exporter": "python",
   "pygments_lexer": "ipython3",
   "version": "3.9.13"
  }
 },
 "nbformat": 4,
 "nbformat_minor": 5
}
