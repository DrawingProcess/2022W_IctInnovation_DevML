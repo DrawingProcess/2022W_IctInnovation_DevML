{
 "cells": [
  {
   "cell_type": "markdown",
   "id": "226701dc-c88a-4965-9d87-dedcfc8a62d8",
   "metadata": {},
   "source": [
    "# 분류 모델 평가 코드 구현"
   ]
  },
  {
   "cell_type": "code",
   "execution_count": 9,
   "id": "b1eab04b-1672-4329-8d44-d6dd3b54d543",
   "metadata": {},
   "outputs": [
    {
     "name": "stdout",
     "output_type": "stream",
     "text": [
      "정확도: 0.75\n",
      "정밀도: 0.6\n",
      "재현율: 1.0\n",
      "F1 스코어: 0.7499999999999999\n"
     ]
    }
   ],
   "source": [
    "from sklearn import metrics # 여기에 평가에 필요한 수식을 담은 코드가 포함됨\n",
    "\n",
    "# 임의로 예측 값과 실제 값을 만들어 점수를 산정해보자.\n",
    "y_pred = [1, 0, 1, 1, 0, 0, 1, 1]\n",
    "y_true = [1, 0, 1, 0, 0, 0, 1, 0]\n",
    "\n",
    "print('정확도:', metrics.accuracy_score(y_true, y_pred))\n",
    "print('정밀도:', metrics.precision_score(y_true, y_pred)) # 긍정으로 표시한 것 중에 맞춘 개수 3/5\n",
    "print('재현율:', metrics.recall_score(y_true, y_pred)) # 긍정이 답인 것 중에 맞춘 개수 3/3\n",
    "print('F1 스코어:', metrics.f1_score(y_true, y_pred)) # 재현율과 정밀도의 선을 각각 X로 그어서 교차하는 높이"
   ]
  },
  {
   "cell_type": "code",
   "execution_count": 10,
   "id": "9dcf917e-3dcb-425d-ace6-af0f6c0cb116",
   "metadata": {},
   "outputs": [
    {
     "name": "stdout",
     "output_type": "stream",
     "text": [
      "잔차: 0.25\n",
      "MSE: 0.25\n",
      "RMSE: 0.5\n",
      "R2: 0.9709618874773139\n"
     ]
    }
   ],
   "source": [
    "import numpy as np\n",
    "\n",
    "y_pred = [1,2,3,4,5,7,9,10]\n",
    "y_true = [1,2,3,4,6,7,8,10]\n",
    "\n",
    "print('잔차:', metrics.mean_absolute_error(y_true, y_pred)) # 각 오차의 절대값을 더해 n분의1로 나누는 방식\n",
    "print('MSE:', metrics.mean_squared_error(y_true, y_pred)) # 각 오차의 제곱의 합을 n분의1로 나누는 방식\n",
    "print('RMSE:', metrics.mean_squared_error(y_true, y_pred, squared=False))# 각 오차의 제곱의 합을 n분의1로 나눈 다음 다시 루트를 씌우는 방식\n",
    "print('R2:', metrics.r2_score(y_true, y_pred)) # 실제 값의 평균으로 SSE를 구한 값과 예측 값의 평균으로 SSE를 구한 값으로 산정하는 점수"
   ]
  },
  {
   "cell_type": "markdown",
   "id": "50f67675-82e9-41f3-9e94-0cda980f7e58",
   "metadata": {},
   "source": [
    "# Boston Housing Prices RMSE 평가하기\n"
   ]
  },
  {
   "cell_type": "code",
   "execution_count": 23,
   "id": "e9db4ce5-4295-4137-b281-ab6cec041e28",
   "metadata": {},
   "outputs": [
    {
     "data": {
      "text/html": [
       "<div>\n",
       "<style scoped>\n",
       "    .dataframe tbody tr th:only-of-type {\n",
       "        vertical-align: middle;\n",
       "    }\n",
       "\n",
       "    .dataframe tbody tr th {\n",
       "        vertical-align: top;\n",
       "    }\n",
       "\n",
       "    .dataframe thead th {\n",
       "        text-align: right;\n",
       "    }\n",
       "</style>\n",
       "<table border=\"1\" class=\"dataframe\">\n",
       "  <thead>\n",
       "    <tr style=\"text-align: right;\">\n",
       "      <th></th>\n",
       "      <th>CRIM</th>\n",
       "      <th>ZN</th>\n",
       "      <th>INDUS</th>\n",
       "      <th>CHAS</th>\n",
       "      <th>NOX</th>\n",
       "      <th>RM</th>\n",
       "      <th>AGE</th>\n",
       "      <th>DIS</th>\n",
       "      <th>RAD</th>\n",
       "      <th>TAX</th>\n",
       "      <th>PTRATIO</th>\n",
       "      <th>B</th>\n",
       "      <th>LSTAT</th>\n",
       "      <th>MEDV</th>\n",
       "    </tr>\n",
       "  </thead>\n",
       "  <tbody>\n",
       "    <tr>\n",
       "      <th>0</th>\n",
       "      <td>0.00632</td>\n",
       "      <td>18.0</td>\n",
       "      <td>2.31</td>\n",
       "      <td>0</td>\n",
       "      <td>0.538</td>\n",
       "      <td>6.575</td>\n",
       "      <td>65.2</td>\n",
       "      <td>4.0900</td>\n",
       "      <td>1</td>\n",
       "      <td>296.0</td>\n",
       "      <td>15.3</td>\n",
       "      <td>396.90</td>\n",
       "      <td>4.98</td>\n",
       "      <td>24.0</td>\n",
       "    </tr>\n",
       "    <tr>\n",
       "      <th>1</th>\n",
       "      <td>0.02731</td>\n",
       "      <td>0.0</td>\n",
       "      <td>7.07</td>\n",
       "      <td>0</td>\n",
       "      <td>0.469</td>\n",
       "      <td>6.421</td>\n",
       "      <td>78.9</td>\n",
       "      <td>4.9671</td>\n",
       "      <td>2</td>\n",
       "      <td>242.0</td>\n",
       "      <td>17.8</td>\n",
       "      <td>396.90</td>\n",
       "      <td>9.14</td>\n",
       "      <td>21.6</td>\n",
       "    </tr>\n",
       "    <tr>\n",
       "      <th>2</th>\n",
       "      <td>0.02729</td>\n",
       "      <td>0.0</td>\n",
       "      <td>7.07</td>\n",
       "      <td>0</td>\n",
       "      <td>0.469</td>\n",
       "      <td>7.185</td>\n",
       "      <td>61.1</td>\n",
       "      <td>4.9671</td>\n",
       "      <td>2</td>\n",
       "      <td>242.0</td>\n",
       "      <td>17.8</td>\n",
       "      <td>392.83</td>\n",
       "      <td>4.03</td>\n",
       "      <td>34.7</td>\n",
       "    </tr>\n",
       "    <tr>\n",
       "      <th>3</th>\n",
       "      <td>0.03237</td>\n",
       "      <td>0.0</td>\n",
       "      <td>2.18</td>\n",
       "      <td>0</td>\n",
       "      <td>0.458</td>\n",
       "      <td>6.998</td>\n",
       "      <td>45.8</td>\n",
       "      <td>6.0622</td>\n",
       "      <td>3</td>\n",
       "      <td>222.0</td>\n",
       "      <td>18.7</td>\n",
       "      <td>394.63</td>\n",
       "      <td>2.94</td>\n",
       "      <td>33.4</td>\n",
       "    </tr>\n",
       "    <tr>\n",
       "      <th>4</th>\n",
       "      <td>0.06905</td>\n",
       "      <td>0.0</td>\n",
       "      <td>2.18</td>\n",
       "      <td>0</td>\n",
       "      <td>0.458</td>\n",
       "      <td>7.147</td>\n",
       "      <td>54.2</td>\n",
       "      <td>6.0622</td>\n",
       "      <td>3</td>\n",
       "      <td>222.0</td>\n",
       "      <td>18.7</td>\n",
       "      <td>396.90</td>\n",
       "      <td>5.33</td>\n",
       "      <td>36.2</td>\n",
       "    </tr>\n",
       "  </tbody>\n",
       "</table>\n",
       "</div>"
      ],
      "text/plain": [
       "      CRIM    ZN  INDUS  CHAS    NOX     RM   AGE     DIS  RAD    TAX  \\\n",
       "0  0.00632  18.0   2.31     0  0.538  6.575  65.2  4.0900    1  296.0   \n",
       "1  0.02731   0.0   7.07     0  0.469  6.421  78.9  4.9671    2  242.0   \n",
       "2  0.02729   0.0   7.07     0  0.469  7.185  61.1  4.9671    2  242.0   \n",
       "3  0.03237   0.0   2.18     0  0.458  6.998  45.8  6.0622    3  222.0   \n",
       "4  0.06905   0.0   2.18     0  0.458  7.147  54.2  6.0622    3  222.0   \n",
       "\n",
       "   PTRATIO       B  LSTAT  MEDV  \n",
       "0     15.3  396.90   4.98  24.0  \n",
       "1     17.8  396.90   9.14  21.6  \n",
       "2     17.8  392.83   4.03  34.7  \n",
       "3     18.7  394.63   2.94  33.4  \n",
       "4     18.7  396.90   5.33  36.2  "
      ]
     },
     "execution_count": 23,
     "metadata": {},
     "output_type": "execute_result"
    }
   ],
   "source": [
    "import pandas as pd\n",
    "\n",
    "columns = ['CRIM', 'ZN', 'INDUS', 'CHAS', 'NOX', 'RM', 'AGE', 'DIS', \n",
    "           'RAD', 'TAX', 'PTRATIO', 'B', 'LSTAT', 'MEDV']\n",
    "\n",
    "# \\s는 공백을, + 1자 이상을 의미해서 \\s+는 공백 한 자 이상의 공백 기준으로 나누겠다는 의미다.\n",
    "boston_df = pd.read_csv('housing.csv', sep='\\s+', header=None, names=columns )\n",
    "boston_df.head()"
   ]
  },
  {
   "cell_type": "code",
   "execution_count": 24,
   "id": "c9f64554-a9e7-4c3c-8b2e-45d15d15e252",
   "metadata": {},
   "outputs": [],
   "source": [
    "y = boston_df['MEDV']\n",
    "x = boston_df.drop(['MEDV'], axis=1)"
   ]
  },
  {
   "cell_type": "code",
   "execution_count": 25,
   "id": "058b0947-b09a-40a4-b765-707f6c47fc21",
   "metadata": {},
   "outputs": [
    {
     "data": {
      "text/plain": [
       "5.693537788494919"
      ]
     },
     "execution_count": 25,
     "metadata": {},
     "output_type": "execute_result"
    }
   ],
   "source": [
    "from sklearn.tree import DecisionTreeRegressor\n",
    "from sklearn.model_selection import train_test_split\n",
    "from sklearn import metrics\n",
    "\n",
    "train_x, test_x, train_y, test_y = train_test_split(x, y, test_size=0.2, random_state=0)\n",
    "\n",
    "tree = DecisionTreeRegressor(random_state=0)\n",
    "tree.fit(train_x, train_y)\n",
    "pred_y = tree.predict(test_x)\n",
    "metrics.mean_squared_error(test_y, pred_y, squared=False)"
   ]
  },
  {
   "cell_type": "code",
   "execution_count": 26,
   "id": "e828a157-ddcf-46f5-9d4d-a27176dc26db",
   "metadata": {},
   "outputs": [
    {
     "data": {
      "text/plain": [
       "0.6019035496385025"
      ]
     },
     "execution_count": 26,
     "metadata": {},
     "output_type": "execute_result"
    }
   ],
   "source": [
    "metrics.r2_score(test_y, pred_y)"
   ]
  },
  {
   "cell_type": "code",
   "execution_count": 27,
   "id": "2decc721-2b1f-4125-a8eb-f0724dc70edd",
   "metadata": {},
   "outputs": [
    {
     "data": {
      "text/plain": [
       "<AxesSubplot:>"
      ]
     },
     "execution_count": 27,
     "metadata": {},
     "output_type": "execute_result"
    },
    {
     "data": {
      "image/png": "[encoded data removed]",
      "text/plain": [
       "<Figure size 640x480 with 1 Axes>"
      ]
     },
     "metadata": {},
     "output_type": "display_data"
    }
   ],
   "source": [
    "pd.Series(abs(test_y - pred_y)).hist(bins=30)"
   ]
  },
  {
   "cell_type": "code",
   "execution_count": null,
   "id": "2a5cd4b5-b4d5-4f29-ab6b-1070d2aca4c2",
   "metadata": {},
   "outputs": [],
   "source": []
  },
  {
   "cell_type": "code",
   "execution_count": null,
   "id": "e7366c2f-cd8c-49ce-848b-8aa1975be4f8",
   "metadata": {},
   "outputs": [],
   "source": []
  },
  {
   "cell_type": "code",
   "execution_count": null,
   "id": "46dda498-928b-425b-82cd-7c311360bca3",
   "metadata": {},
   "outputs": [],
   "source": []
  }
 ],
 "metadata": {
  "kernelspec": {
   "display_name": "Python 3 (ipykernel)",
   "language": "python",
   "name": "python3"
  },
  "language_info": {
   "codemirror_mode": {
    "name": "ipython",
    "version": 3
   },
   "file_extension": ".py",
   "mimetype": "text/x-python",
   "name": "python",
   "nbconvert_exporter": "python",
   "pygments_lexer": "ipython3",
   "version": "3.9.13"
  }
 },
 "nbformat": 4,
 "nbformat_minor": 5
}
