{
 "cells": [
  {
   "cell_type": "markdown",
   "id": "ace8f578-2179-4fff-a47f-57dbce975273",
   "metadata": {},
   "source": [
    "# 분류 알고리즘\n",
    "\n",
    "## 라이브러리 임포트"
   ]
  },
  {
   "cell_type": "code",
   "execution_count": 1,
   "id": "7c78f811-8941-45b4-bda4-7896382c5589",
   "metadata": {},
   "outputs": [],
   "source": [
    "import pandas as pd\n",
    "import numpy as np\n",
    "import matplotlib.pyplot as plt\n",
    "import seaborn as sns\n",
    "\n",
    "from sklearn.datasets import load_iris\n",
    "from sklearn.model_selection import train_test_split"
   ]
  },
  {
   "cell_type": "markdown",
   "id": "90b04c0b-c13f-49ea-bcee-60e94b96194c",
   "metadata": {},
   "source": [
    "## 아이리스 데이터셋"
   ]
  },
  {
   "cell_type": "code",
   "execution_count": 2,
   "id": "fe6a0053-0534-4aef-8719-6612550a0a70",
   "metadata": {},
   "outputs": [],
   "source": [
    "iris_dt = load_iris()\n",
    "train_x, test_x, train_y, test_y = train_test_split(iris_dt.data, iris_dt.target,\n",
    "                                                    test_size=0.2, random_state=0)"
   ]
  },
  {
   "cell_type": "code",
   "execution_count": 32,
   "id": "96bef479-334f-476f-b931-5915dce53ced",
   "metadata": {},
   "outputs": [
    {
     "name": "stdout",
     "output_type": "stream",
     "text": [
      "Collecting xgboost==1.5.0\n",
      "  Using cached xgboost-1.5.0-py3-none-win_amd64.whl (106.6 MB)\n",
      "Requirement already satisfied: numpy in c:\\users\\isc03\\anaconda3\\lib\\site-packages (from xgboost==1.5.0) (1.21.5)\n",
      "Requirement already satisfied: scipy in c:\\users\\isc03\\anaconda3\\lib\\site-packages (from xgboost==1.5.0) (1.9.1)\n",
      "Installing collected packages: xgboost\n",
      "Successfully installed xgboost-1.5.0\n"
     ]
    }
   ],
   "source": [
    "!pip install xgboost==1.5.0"
   ]
  },
  {
   "cell_type": "code",
   "execution_count": 9,
   "id": "36c8cc21-b814-4111-bcec-22f403d5ac74",
   "metadata": {},
   "outputs": [
    {
     "name": "stderr",
     "output_type": "stream",
     "text": [
      "C:\\ProgramData\\Anaconda3\\lib\\site-packages\\sklearn\\linear_model\\_logistic.py:763: ConvergenceWarning: lbfgs failed to converge (status=1):\n",
      "STOP: TOTAL NO. of ITERATIONS REACHED LIMIT.\n",
      "\n",
      "Increase the number of iterations (max_iter) or scale the data as shown in:\n",
      "    https://scikit-learn.org/stable/modules/preprocessing.html\n",
      "Please also refer to the documentation for alternative solver options:\n",
      "    https://scikit-learn.org/stable/modules/linear_model.html#logistic-regression\n",
      "  n_iter_i = _check_optimize_result(\n"
     ]
    },
    {
     "name": "stdout",
     "output_type": "stream",
     "text": [
      "[22:21:43] WARNING: C:/Users/Administrator/workspace/xgboost-win64_release_1.5.0/src/learner.cc:1115: Starting in XGBoost 1.3.0, the default evaluation metric used with the objective 'multi:softprob' was changed from 'merror' to 'mlogloss'. Explicitly set eval_metric if you'd like to restore the old behavior.\n"
     ]
    },
    {
     "name": "stderr",
     "output_type": "stream",
     "text": [
      "C:\\ProgramData\\Anaconda3\\lib\\site-packages\\xgboost\\sklearn.py:1224: UserWarning: The use of label encoder in XGBClassifier is deprecated and will be removed in a future release. To remove this warning, do the following: 1) Pass option use_label_encoder=False when constructing XGBClassifier object; and 2) Encode your labels (y) as integers starting with 0, i.e. 0, 1, 2, ..., [num_class - 1].\n",
      "  warnings.warn(label_encoder_deprecation_msg, UserWarning)\n"
     ]
    },
    {
     "data": {
      "text/plain": [
       "tree    1.000000\n",
       "gnb     0.966667\n",
       "knn     0.966667\n",
       "lr      1.000000\n",
       "svm     1.000000\n",
       "rf      1.000000\n",
       "gb      1.000000\n",
       "xgb     1.000000\n",
       "dtype: float64"
      ]
     },
     "execution_count": 9,
     "metadata": {},
     "output_type": "execute_result"
    },
    {
     "data": {
      "image/png": "[encoded data removed]",
      "text/plain": [
       "<Figure size 432x288 with 1 Axes>"
      ]
     },
     "metadata": {
      "needs_background": "light"
     },
     "output_type": "display_data"
    }
   ],
   "source": [
    "def union_clf(train_x, test_x, train_y, test_y):\n",
    "    result = dict()\n",
    "\n",
    "    # 의사결정나무 알고리즘\n",
    "    from sklearn.tree import DecisionTreeClassifier\n",
    "    tree_clf = DecisionTreeClassifier()\n",
    "    tree_clf.fit(train_x, train_y)\n",
    "    result['tree'] = tree_clf.score(test_x, test_y)\n",
    "\n",
    "    # 가우시안 나이브 베이즈 알고리즘\n",
    "    from sklearn.naive_bayes import GaussianNB\n",
    "    gnb_clf = GaussianNB()\n",
    "    gnb_clf.fit(train_x, train_y)\n",
    "    result['gnb'] = gnb_clf.score(test_x, test_y)\n",
    "\n",
    "    # K-최근접 이웃 알고리즘\n",
    "    from sklearn.neighbors import KNeighborsClassifier\n",
    "    knn_clf = KNeighborsClassifier(n_neighbors=3) # 최근접 이웃을 3개를 사용하도록 구성\n",
    "    knn_clf.fit(train_x, train_y)\n",
    "    result['knn'] = knn_clf.score(test_x, test_y)\n",
    "\n",
    "    # 로지스틱 리그레션\n",
    "    from sklearn.linear_model import LogisticRegression\n",
    "    lr_clf = LogisticRegression()\n",
    "    lr_clf.fit(train_x, train_y)\n",
    "    result['lr'] = lr_clf.score(test_x, test_y)\n",
    "\n",
    "    # SVM\n",
    "    from sklearn.svm import SVC\n",
    "    svm_clf = SVC()\n",
    "    svm_clf.fit(train_x, train_y)\n",
    "    result['svm'] = svm_clf.score(test_x, test_y)\n",
    "\n",
    "    # Random Forest\n",
    "    from sklearn.ensemble import RandomForestClassifier\n",
    "    rf_clf = RandomForestClassifier(random_state=0)\n",
    "    rf_clf.fit(train_x, train_y)\n",
    "    result['rf'] = rf_clf.score(test_x, test_y)\n",
    "\n",
    "    # GBM\n",
    "    from sklearn.ensemble import GradientBoostingClassifier\n",
    "    gb_clf = GradientBoostingClassifier(random_state=0)\n",
    "    gb_clf.fit(train_x, train_y)\n",
    "    result['gb'] = gb_clf.score(test_x, test_y)\n",
    "\n",
    "    # XGBoost\n",
    "    from xgboost import XGBClassifier\n",
    "    xgb_clf = XGBClassifier()\n",
    "    xgb_clf.fit(train_x, train_y)\n",
    "    result['xgb'] = xgb_clf.score(test_x, test_y)\n",
    "\n",
    "    result_df = pd.Series(result)\n",
    "\n",
    "    result_df.plot(kind='bar')\n",
    "    return result_df\n",
    "\n",
    "union_clf(train_x, test_x, train_y, test_y)"
   ]
  },
  {
   "cell_type": "markdown",
   "id": "4e350007-c929-462c-ba72-d23747f69907",
   "metadata": {},
   "source": [
    "# Titanic - Machine Learning from Disaster\n",
    "승객이 타이타닉호의 침몰에서 살아남았는지 여부를 예측하는 것은 당신의 임무입니다.\n",
    "- 테스트 세트의 각각에 대해 변수에 대해 0 또는 1 값을 예측해야 합니다.\n",
    "- 점수 측정 방식: 점수는 정확하게 예측한 승객의 비율, 정확도\n",
    "\n",
    "15분부터 같이 진행"
   ]
  },
  {
   "cell_type": "code",
   "execution_count": 8,
   "id": "43e87c5a-690a-4032-be5f-739ad452ebd6",
   "metadata": {},
   "outputs": [
    {
     "data": {
      "text/html": [
       "<div>\n",
       "<style scoped>\n",
       "    .dataframe tbody tr th:only-of-type {\n",
       "        vertical-align: middle;\n",
       "    }\n",
       "\n",
       "    .dataframe tbody tr th {\n",
       "        vertical-align: top;\n",
       "    }\n",
       "\n",
       "    .dataframe thead th {\n",
       "        text-align: right;\n",
       "    }\n",
       "</style>\n",
       "<table border=\"1\" class=\"dataframe\">\n",
       "  <thead>\n",
       "    <tr style=\"text-align: right;\">\n",
       "      <th></th>\n",
       "      <th>Pclass</th>\n",
       "      <th>Age</th>\n",
       "      <th>SibSp</th>\n",
       "      <th>Parch</th>\n",
       "      <th>Fare</th>\n",
       "      <th>Sex</th>\n",
       "      <th>Embarked_C</th>\n",
       "      <th>Embarked_Q</th>\n",
       "      <th>Embarked_S</th>\n",
       "    </tr>\n",
       "  </thead>\n",
       "  <tbody>\n",
       "    <tr>\n",
       "      <th>0</th>\n",
       "      <td>0.827377</td>\n",
       "      <td>-0.592481</td>\n",
       "      <td>0.432793</td>\n",
       "      <td>-0.473674</td>\n",
       "      <td>-0.502445</td>\n",
       "      <td>1.0</td>\n",
       "      <td>0.0</td>\n",
       "      <td>0.0</td>\n",
       "      <td>1.0</td>\n",
       "    </tr>\n",
       "    <tr>\n",
       "      <th>1</th>\n",
       "      <td>-1.566107</td>\n",
       "      <td>0.638789</td>\n",
       "      <td>0.432793</td>\n",
       "      <td>-0.473674</td>\n",
       "      <td>0.786845</td>\n",
       "      <td>0.0</td>\n",
       "      <td>1.0</td>\n",
       "      <td>0.0</td>\n",
       "      <td>0.0</td>\n",
       "    </tr>\n",
       "    <tr>\n",
       "      <th>2</th>\n",
       "      <td>0.827377</td>\n",
       "      <td>-0.284663</td>\n",
       "      <td>-0.474545</td>\n",
       "      <td>-0.473674</td>\n",
       "      <td>-0.488854</td>\n",
       "      <td>0.0</td>\n",
       "      <td>0.0</td>\n",
       "      <td>0.0</td>\n",
       "      <td>1.0</td>\n",
       "    </tr>\n",
       "    <tr>\n",
       "      <th>3</th>\n",
       "      <td>-1.566107</td>\n",
       "      <td>0.407926</td>\n",
       "      <td>0.432793</td>\n",
       "      <td>-0.473674</td>\n",
       "      <td>0.420730</td>\n",
       "      <td>0.0</td>\n",
       "      <td>0.0</td>\n",
       "      <td>0.0</td>\n",
       "      <td>1.0</td>\n",
       "    </tr>\n",
       "    <tr>\n",
       "      <th>4</th>\n",
       "      <td>0.827377</td>\n",
       "      <td>0.407926</td>\n",
       "      <td>-0.474545</td>\n",
       "      <td>-0.473674</td>\n",
       "      <td>-0.486337</td>\n",
       "      <td>1.0</td>\n",
       "      <td>0.0</td>\n",
       "      <td>0.0</td>\n",
       "      <td>1.0</td>\n",
       "    </tr>\n",
       "  </tbody>\n",
       "</table>\n",
       "</div>"
      ],
      "text/plain": [
       "     Pclass       Age     SibSp     Parch      Fare  Sex  Embarked_C  \\\n",
       "0  0.827377 -0.592481  0.432793 -0.473674 -0.502445  1.0         0.0   \n",
       "1 -1.566107  0.638789  0.432793 -0.473674  0.786845  0.0         1.0   \n",
       "2  0.827377 -0.284663 -0.474545 -0.473674 -0.488854  0.0         0.0   \n",
       "3 -1.566107  0.407926  0.432793 -0.473674  0.420730  0.0         0.0   \n",
       "4  0.827377  0.407926 -0.474545 -0.473674 -0.486337  1.0         0.0   \n",
       "\n",
       "   Embarked_Q  Embarked_S  \n",
       "0         0.0         1.0  \n",
       "1         0.0         0.0  \n",
       "2         0.0         1.0  \n",
       "3         0.0         1.0  \n",
       "4         0.0         1.0  "
      ]
     },
     "execution_count": 8,
     "metadata": {},
     "output_type": "execute_result"
    }
   ],
   "source": [
    "import pandas as pd\n",
    "import numpy as np\n",
    "from sklearn.impute import SimpleImputer\n",
    "from sklearn.preprocessing import StandardScaler\n",
    "from sklearn.preprocessing import LabelEncoder, OneHotEncoder\n",
    "\n",
    "## 타이타닉 데이터 불러오기\n",
    "titanic_df = pd.read_csv(\"titanic_train.csv\")\n",
    "\n",
    "## 미싱 데이터 처리\n",
    "# 나이\n",
    "age_imputer = SimpleImputer(missing_values=np.nan, strategy='mean')\n",
    "_age = titanic_df['Age'].values\n",
    "age_imputer.fit(_age.reshape(-1, 1))\n",
    "titanic_df['Age'] = age_imputer.transform(_age.reshape(-1, 1))\n",
    "\n",
    "# 선착장 정보\n",
    "embarked_imputer = SimpleImputer(missing_values=np.nan, strategy='most_frequent')\n",
    "_embarked = titanic_df['Embarked'].values\n",
    "embarked_imputer.fit(_embarked.reshape(-1, 1))\n",
    "titanic_df['Embarked'] = embarked_imputer.transform(_embarked.reshape(-1, 1))\n",
    "\n",
    "## 데이터 처리 방식에 따라 분류\n",
    "x_0 = titanic_df.drop(['PassengerId', 'Survived', 'Cabin', \n",
    "                     'Ticket', 'Name', 'Embarked', 'Sex'],\n",
    "                    axis=1).values\n",
    "y = titanic_df['Survived'].values\n",
    "\n",
    "## Pclass, Age, SibSp, Parch, Fare 값의 스탠다드 스케일러 처리\n",
    "titanic_sc = StandardScaler()\n",
    "titanic_sc.fit(x_0)\n",
    "x_0 = titanic_sc.transform(x_0)\n",
    "\n",
    "# 'Sex'의 레이블 정리\n",
    "sex_le = LabelEncoder()\n",
    "x_sex = sex_le.fit_transform(titanic_df['Sex'].values)\n",
    "\n",
    "# 'Embarked' 원핫인코딩\n",
    "embarked_list = ['C', 'Q', 'S']\n",
    "embarked_ohe = OneHotEncoder(categories=[embarked_list], handle_unknown='ignore')\n",
    "x_embarked = embarked_ohe.fit_transform(titanic_df['Embarked'].values.reshape(-1,1)).toarray()\n",
    "\n",
    "# X 합치기\n",
    "columns = ['Pclass', 'Age', 'SibSp', 'Parch', 'Fare', 'Sex', \n",
    "           'Embarked_C', 'Embarked_Q', 'Embarked_S']\n",
    "x = np.concatenate([x_0, x_sex.reshape(-1,1), x_embarked], axis=1)\n",
    "preprocced_titanic_df = pd.DataFrame(x, columns=columns)\n",
    "preprocced_titanic_df.head()"
   ]
  },
  {
   "cell_type": "code",
   "execution_count": 10,
   "id": "c5ba3dba-c510-42cf-917b-90399c4510aa",
   "metadata": {},
   "outputs": [
    {
     "name": "stdout",
     "output_type": "stream",
     "text": [
      "[22:23:36] WARNING: C:/Users/Administrator/workspace/xgboost-win64_release_1.5.0/src/learner.cc:1115: Starting in XGBoost 1.3.0, the default evaluation metric used with the objective 'binary:logistic' was changed from 'error' to 'logloss'. Explicitly set eval_metric if you'd like to restore the old behavior.\n"
     ]
    },
    {
     "name": "stderr",
     "output_type": "stream",
     "text": [
      "C:\\ProgramData\\Anaconda3\\lib\\site-packages\\xgboost\\sklearn.py:1224: UserWarning: The use of label encoder in XGBClassifier is deprecated and will be removed in a future release. To remove this warning, do the following: 1) Pass option use_label_encoder=False when constructing XGBClassifier object; and 2) Encode your labels (y) as integers starting with 0, i.e. 0, 1, 2, ..., [num_class - 1].\n",
      "  warnings.warn(label_encoder_deprecation_msg, UserWarning)\n"
     ]
    },
    {
     "data": {
      "text/plain": [
       "tree    0.776536\n",
       "gnb     0.798883\n",
       "knn     0.793296\n",
       "lr      0.798883\n",
       "svm     0.804469\n",
       "rf      0.854749\n",
       "gb      0.837989\n",
       "xgb     0.849162\n",
       "dtype: float64"
      ]
     },
     "execution_count": 10,
     "metadata": {},
     "output_type": "execute_result"
    },
    {
     "data": {
      "image/png": "[encoded data removed]",
      "text/plain": [
       "<Figure size 432x288 with 1 Axes>"
      ]
     },
     "metadata": {
      "needs_background": "light"
     },
     "output_type": "display_data"
    }
   ],
   "source": [
    "from sklearn.model_selection import train_test_split\n",
    "\n",
    "ttn_train_x, ttn_test_x, ttn_train_y, ttn_test_y = train_test_split(x, y, test_size=0.2, random_state=0)\n",
    "union_clf(ttn_train_x, ttn_test_x, ttn_train_y, ttn_test_y)"
   ]
  },
  {
   "cell_type": "markdown",
   "id": "20751db0-8c2f-45bc-8e0f-0c431a6f59ae",
   "metadata": {},
   "source": [
    "# 전처리를 수행하지 않고 분류 했을 때 결과"
   ]
  },
  {
   "cell_type": "code",
   "execution_count": 28,
   "id": "0036f441-fdf0-45e5-9f80-1711f4909eae",
   "metadata": {},
   "outputs": [],
   "source": [
    "import pandas as pd\n",
    "import numpy as np\n",
    "from sklearn.impute import SimpleImputer\n",
    "from sklearn.preprocessing import StandardScaler\n",
    "from sklearn.preprocessing import LabelEncoder, OneHotEncoder\n",
    "\n",
    "## 타이타닉 데이터 불러오기\n",
    "raw_titanic_df = pd.read_csv(\"titanic_train.csv\")\n",
    "raw_titanic_df = raw_titanic_df.drop(['Name', 'Sex', 'Embarked', 'Ticket', 'Cabin' ], axis=1).dropna()"
   ]
  },
  {
   "cell_type": "code",
   "execution_count": 29,
   "id": "85d10305-65ca-4f05-a683-7cc27ce59caf",
   "metadata": {},
   "outputs": [
    {
     "data": {
      "text/plain": [
       "(714, 6)"
      ]
     },
     "execution_count": 29,
     "metadata": {},
     "output_type": "execute_result"
    }
   ],
   "source": [
    "x = raw_titanic_df.drop(['Survived'], axis=1).values\n",
    "y = raw_titanic_df['Survived'].values\n",
    "x.shape"
   ]
  },
  {
   "cell_type": "code",
   "execution_count": 30,
   "id": "cedab6be-05b7-42e2-81f2-c0562938438a",
   "metadata": {},
   "outputs": [],
   "source": [
    "from sklearn.model_selection import train_test_split\n",
    "\n",
    "raw_ttn_train_x, raw_ttn_test_x, raw_ttn_train_y, raw_ttn_test_y = train_test_split(x,y, test_size=0.2, random_state=0)"
   ]
  },
  {
   "cell_type": "code",
   "execution_count": 36,
   "id": "cf1f9cf0-dd53-45f0-9f6f-4e82724e4316",
   "metadata": {},
   "outputs": [
    {
     "name": "stderr",
     "output_type": "stream",
     "text": [
      "C:\\Users\\isc03\\anaconda3\\lib\\site-packages\\sklearn\\neighbors\\_classification.py:228: FutureWarning: Unlike other reduction functions (e.g. `skew`, `kurtosis`), the default behavior of `mode` typically preserves the axis it acts along. In SciPy 1.11.0, this behavior will change: the default value of `keepdims` will become False, the `axis` over which the statistic is taken will be eliminated, and the value None will no longer be accepted. Set `keepdims` to True or False to avoid this warning.\n",
      "  mode, _ = stats.mode(_y[neigh_ind, k], axis=1)\n",
      "C:\\Users\\isc03\\anaconda3\\lib\\site-packages\\sklearn\\linear_model\\_logistic.py:814: ConvergenceWarning: lbfgs failed to converge (status=1):\n",
      "STOP: TOTAL NO. of ITERATIONS REACHED LIMIT.\n",
      "\n",
      "Increase the number of iterations (max_iter) or scale the data as shown in:\n",
      "    https://scikit-learn.org/stable/modules/preprocessing.html\n",
      "Please also refer to the documentation for alternative solver options:\n",
      "    https://scikit-learn.org/stable/modules/linear_model.html#logistic-regression\n",
      "  n_iter_i = _check_optimize_result(\n"
     ]
    },
    {
     "name": "stdout",
     "output_type": "stream",
     "text": [
      "[19:30:52] WARNING: C:/Users/Administrator/workspace/xgboost-win64_release_1.5.0/src/learner.cc:1115: Starting in XGBoost 1.3.0, the default evaluation metric used with the objective 'binary:logistic' was changed from 'error' to 'logloss'. Explicitly set eval_metric if you'd like to restore the old behavior.\n"
     ]
    },
    {
     "name": "stderr",
     "output_type": "stream",
     "text": [
      "C:\\Users\\isc03\\anaconda3\\lib\\site-packages\\xgboost\\sklearn.py:1224: UserWarning: The use of label encoder in XGBClassifier is deprecated and will be removed in a future release. To remove this warning, do the following: 1) Pass option use_label_encoder=False when constructing XGBClassifier object; and 2) Encode your labels (y) as integers starting with 0, i.e. 0, 1, 2, ..., [num_class - 1].\n",
      "  warnings.warn(label_encoder_deprecation_msg, UserWarning)\n"
     ]
    },
    {
     "data": {
      "text/plain": [
       "tree    0.636364\n",
       "gnb     0.664336\n",
       "knn     0.587413\n",
       "lr      0.685315\n",
       "svm     0.594406\n",
       "rf      0.741259\n",
       "gb      0.727273\n",
       "xgb     0.706294\n",
       "dtype: float64"
      ]
     },
     "execution_count": 36,
     "metadata": {},
     "output_type": "execute_result"
    },
    {
     "data": {
      "image/png": "[encoded data removed]",
      "text/plain": [
       "<Figure size 640x480 with 1 Axes>"
      ]
     },
     "metadata": {},
     "output_type": "display_data"
    }
   ],
   "source": [
    "def union_clf(train_x, test_x, train_y, test_y):\n",
    "    result = dict()\n",
    "\n",
    "    # 의사결정나무 알고리즘\n",
    "    from sklearn.tree import DecisionTreeClassifier\n",
    "    tree_clf = DecisionTreeClassifier()\n",
    "    tree_clf.fit(train_x, train_y)\n",
    "    result['tree'] = tree_clf.score(test_x, test_y)\n",
    "\n",
    "    # 가우시안 나이브 베이즈 알고리즘\n",
    "    from sklearn.naive_bayes import GaussianNB\n",
    "    gnb_clf = GaussianNB()\n",
    "    gnb_clf.fit(train_x, train_y)\n",
    "    result['gnb'] = gnb_clf.score(test_x, test_y)\n",
    "    \n",
    "    # K-최근접 이웃 알고리즘\n",
    "    from sklearn.neighbors import KNeighborsClassifier\n",
    "    knn_clf = KNeighborsClassifier(n_neighbors=3) # 최근접 이웃을 3개를 사용하도록 구성\n",
    "    knn_clf.fit(train_x, train_y)\n",
    "    result['knn'] = knn_clf.score(test_x, test_y)\n",
    "    \n",
    "    # 로지스틱 리그레션\n",
    "    from sklearn.linear_model import LogisticRegression\n",
    "    lr_clf = LogisticRegression()\n",
    "    lr_clf.fit(train_x, train_y)\n",
    "    result['lr'] = lr_clf.score(test_x, test_y)\n",
    "    \n",
    "    \n",
    "    # SVM\n",
    "    from sklearn.svm import SVC\n",
    "    svm_clf = SVC()\n",
    "    svm_clf.fit(train_x, train_y)\n",
    "    result['svm'] = svm_clf.score(test_x, test_y)\n",
    "    \n",
    "    # Random Forest\n",
    "    from sklearn.ensemble import RandomForestClassifier\n",
    "    rf_clf = RandomForestClassifier(random_state=0)\n",
    "    rf_clf.fit(train_x, train_y)\n",
    "    result['rf'] = rf_clf.score(test_x, test_y)\n",
    "\n",
    "    # GBM\n",
    "    from sklearn.ensemble import GradientBoostingClassifier\n",
    "    gb_clf = GradientBoostingClassifier(random_state=0)\n",
    "    gb_clf.fit(train_x, train_y)\n",
    "    result['gb'] = gb_clf.score(test_x, test_y)\n",
    "\n",
    "    # XGBoost\n",
    "    from xgboost import XGBClassifier\n",
    "    xgb_clf = XGBClassifier()\n",
    "    xgb_clf.fit(train_x, train_y)\n",
    "    result['xgb'] = xgb_clf.score(test_x, test_y)\n",
    "\n",
    "    result_df = pd.Series(result)\n",
    "\n",
    "    result_df.plot(kind='bar')\n",
    "    return result_df\n",
    "\n",
    "\n",
    "''' 전처리 후\n",
    "tree    0.776536\n",
    "gnb     0.798883\n",
    "knn     0.793296\n",
    "lr      0.798883\n",
    "svm     0.804469\n",
    "rf      0.854749\n",
    "gb      0.837989\n",
    "xgb     0.849162\n",
    "'''\n",
    "\n",
    "''' 전처리를 수행하지 않고 쓸 수 있는 데이터만 사용\n",
    "tree    0.636364\n",
    "gnb     0.664336\n",
    "knn     0.587413\n",
    "lr      0.685315\n",
    "svm     0.594406\n",
    "rf      0.741259\n",
    "gb      0.727273\n",
    "xgb     0.706294\n",
    "'''\n",
    "union_clf(raw_ttn_train_x, raw_ttn_test_x, raw_ttn_train_y, raw_ttn_test_y)\n"
   ]
  },
  {
   "cell_type": "code",
   "execution_count": null,
   "id": "073dec7c-6ac3-4201-8193-c2e86ef15f00",
   "metadata": {},
   "outputs": [],
   "source": []
  },
  {
   "cell_type": "code",
   "execution_count": null,
   "id": "1e493f7c-c4c2-496e-8195-554b1b558acf",
   "metadata": {},
   "outputs": [],
   "source": []
  }
 ],
 "metadata": {
  "kernelspec": {
   "display_name": "Python 3 (ipykernel)",
   "language": "python",
   "name": "python3"
  },
  "language_info": {
   "codemirror_mode": {
    "name": "ipython",
    "version": 3
   },
   "file_extension": ".py",
   "mimetype": "text/x-python",
   "name": "python",
   "nbconvert_exporter": "python",
   "pygments_lexer": "ipython3",
   "version": "3.9.13"
  }
 },
 "nbformat": 4,
 "nbformat_minor": 5
}
