{
 "cells": [
  {
   "cell_type": "markdown",
   "id": "39b9707f-dfbc-4009-b895-decdd66eec11",
   "metadata": {},
   "source": [
    "# 20일차 - 모델 최적화"
   ]
  },
  {
   "cell_type": "markdown",
   "id": "0689408a-2702-44dd-b79f-f4c74bca2f56",
   "metadata": {},
   "source": [
    "데이터셋 불러오기 및 훈련"
   ]
  },
  {
   "cell_type": "code",
   "execution_count": 1,
   "id": "843063af-16bf-4cb3-8e6a-c000e57438c1",
   "metadata": {},
   "outputs": [],
   "source": [
    "from sklearn.datasets import load_iris\n",
    "\n",
    "iris = load_iris()\n",
    "x = iris.data\n",
    "y = iris.target"
   ]
  },
  {
   "cell_type": "markdown",
   "id": "a1e4c9ce-7277-4fb6-972d-550dc99b1472",
   "metadata": {},
   "source": [
    "# GridSearchCV\n",
    "GridSearchCV를 사용해서 의사결정나무의 최적의 하이퍼파라미터 검색\n",
    "\n",
    "참고할 만한 자료: [The Hyperparameter Cheat Sheet](https://medium.com/swlh/the-hyperparameter-cheat-sheet-770f1fed32ff)"
   ]
  },
  {
   "cell_type": "code",
   "execution_count": 4,
   "id": "5c35ca9f-eeef-43ac-91ff-7fd0560e1cb3",
   "metadata": {},
   "outputs": [],
   "source": [
    "from sklearn.model_selection import GridSearchCV\n",
    "from sklearn.tree import DecisionTreeClassifier\n",
    "\n",
    "gsc = GridSearchCV(\n",
    "    estimator=DecisionTreeClassifier(),\n",
    "    param_grid={\n",
    "        'max_depth': [4, 5, 6, 7, 8, 9, 10],\n",
    "        'min_samples_split': [2, 5, 7, 10],\n",
    "        'max_leaf_nodes': [10, 20, 30, 40]\n",
    "    },\n",
    "    cv=6\n",
    ")"
   ]
  },
  {
   "cell_type": "code",
   "execution_count": 8,
   "id": "05c4e22b-c0aa-4d03-9677-53290a09191b",
   "metadata": {},
   "outputs": [
    {
     "name": "stdout",
     "output_type": "stream",
     "text": [
      "param: {'max_depth': 8, 'max_leaf_nodes': 10, 'min_samples_split': 2}\n",
      "score: 0.9666666666666667\n",
      "estimator: DecisionTreeClassifier(max_depth=8, max_leaf_nodes=10)\n"
     ]
    }
   ],
   "source": [
    "gsc.fit(x, y)\n",
    "print('param:', gsc.best_params_)\n",
    "print('score:', gsc.best_score_)\n",
    "print('estimator:', gsc.best_estimator_)"
   ]
  },
  {
   "cell_type": "code",
   "execution_count": 7,
   "id": "835c1160-4184-4002-ad8b-8ad781f3c8da",
   "metadata": {},
   "outputs": [
    {
     "data": {
      "text/html": [
       "<div>\n",
       "<style scoped>\n",
       "    .dataframe tbody tr th:only-of-type {\n",
       "        vertical-align: middle;\n",
       "    }\n",
       "\n",
       "    .dataframe tbody tr th {\n",
       "        vertical-align: top;\n",
       "    }\n",
       "\n",
       "    .dataframe thead th {\n",
       "        text-align: right;\n",
       "    }\n",
       "</style>\n",
       "<table border=\"1\" class=\"dataframe\">\n",
       "  <thead>\n",
       "    <tr style=\"text-align: right;\">\n",
       "      <th></th>\n",
       "      <th>mean_fit_time</th>\n",
       "      <th>std_fit_time</th>\n",
       "      <th>mean_score_time</th>\n",
       "      <th>std_score_time</th>\n",
       "      <th>param_max_depth</th>\n",
       "      <th>param_max_leaf_nodes</th>\n",
       "      <th>param_min_samples_split</th>\n",
       "      <th>params</th>\n",
       "      <th>split0_test_score</th>\n",
       "      <th>split1_test_score</th>\n",
       "      <th>split2_test_score</th>\n",
       "      <th>split3_test_score</th>\n",
       "      <th>split4_test_score</th>\n",
       "      <th>split5_test_score</th>\n",
       "      <th>mean_test_score</th>\n",
       "      <th>std_test_score</th>\n",
       "      <th>rank_test_score</th>\n",
       "    </tr>\n",
       "  </thead>\n",
       "  <tbody>\n",
       "    <tr>\n",
       "      <th>0</th>\n",
       "      <td>0.000671</td>\n",
       "      <td>0.000754</td>\n",
       "      <td>0.000162</td>\n",
       "      <td>0.000362</td>\n",
       "      <td>4</td>\n",
       "      <td>10</td>\n",
       "      <td>2</td>\n",
       "      <td>{'max_depth': 4, 'max_leaf_nodes': 10, 'min_sa...</td>\n",
       "      <td>0.96</td>\n",
       "      <td>1.0</td>\n",
       "      <td>0.92</td>\n",
       "      <td>0.92</td>\n",
       "      <td>0.88</td>\n",
       "      <td>1.0</td>\n",
       "      <td>0.946667</td>\n",
       "      <td>0.044222</td>\n",
       "      <td>63</td>\n",
       "    </tr>\n",
       "    <tr>\n",
       "      <th>1</th>\n",
       "      <td>0.000338</td>\n",
       "      <td>0.000478</td>\n",
       "      <td>0.000171</td>\n",
       "      <td>0.000383</td>\n",
       "      <td>4</td>\n",
       "      <td>10</td>\n",
       "      <td>5</td>\n",
       "      <td>{'max_depth': 4, 'max_leaf_nodes': 10, 'min_sa...</td>\n",
       "      <td>0.96</td>\n",
       "      <td>1.0</td>\n",
       "      <td>0.92</td>\n",
       "      <td>0.92</td>\n",
       "      <td>0.92</td>\n",
       "      <td>1.0</td>\n",
       "      <td>0.953333</td>\n",
       "      <td>0.035901</td>\n",
       "      <td>15</td>\n",
       "    </tr>\n",
       "    <tr>\n",
       "      <th>2</th>\n",
       "      <td>0.000167</td>\n",
       "      <td>0.000373</td>\n",
       "      <td>0.000332</td>\n",
       "      <td>0.000470</td>\n",
       "      <td>4</td>\n",
       "      <td>10</td>\n",
       "      <td>7</td>\n",
       "      <td>{'max_depth': 4, 'max_leaf_nodes': 10, 'min_sa...</td>\n",
       "      <td>0.96</td>\n",
       "      <td>1.0</td>\n",
       "      <td>0.92</td>\n",
       "      <td>0.92</td>\n",
       "      <td>0.88</td>\n",
       "      <td>1.0</td>\n",
       "      <td>0.946667</td>\n",
       "      <td>0.044222</td>\n",
       "      <td>63</td>\n",
       "    </tr>\n",
       "    <tr>\n",
       "      <th>3</th>\n",
       "      <td>0.000329</td>\n",
       "      <td>0.000465</td>\n",
       "      <td>0.000167</td>\n",
       "      <td>0.000373</td>\n",
       "      <td>4</td>\n",
       "      <td>10</td>\n",
       "      <td>10</td>\n",
       "      <td>{'max_depth': 4, 'max_leaf_nodes': 10, 'min_sa...</td>\n",
       "      <td>0.96</td>\n",
       "      <td>1.0</td>\n",
       "      <td>0.92</td>\n",
       "      <td>0.92</td>\n",
       "      <td>0.92</td>\n",
       "      <td>1.0</td>\n",
       "      <td>0.953333</td>\n",
       "      <td>0.035901</td>\n",
       "      <td>15</td>\n",
       "    </tr>\n",
       "    <tr>\n",
       "      <th>4</th>\n",
       "      <td>0.000167</td>\n",
       "      <td>0.000373</td>\n",
       "      <td>0.000501</td>\n",
       "      <td>0.000501</td>\n",
       "      <td>4</td>\n",
       "      <td>20</td>\n",
       "      <td>2</td>\n",
       "      <td>{'max_depth': 4, 'max_leaf_nodes': 20, 'min_sa...</td>\n",
       "      <td>0.96</td>\n",
       "      <td>1.0</td>\n",
       "      <td>0.92</td>\n",
       "      <td>0.92</td>\n",
       "      <td>0.92</td>\n",
       "      <td>1.0</td>\n",
       "      <td>0.953333</td>\n",
       "      <td>0.035901</td>\n",
       "      <td>15</td>\n",
       "    </tr>\n",
       "    <tr>\n",
       "      <th>...</th>\n",
       "      <td>...</td>\n",
       "      <td>...</td>\n",
       "      <td>...</td>\n",
       "      <td>...</td>\n",
       "      <td>...</td>\n",
       "      <td>...</td>\n",
       "      <td>...</td>\n",
       "      <td>...</td>\n",
       "      <td>...</td>\n",
       "      <td>...</td>\n",
       "      <td>...</td>\n",
       "      <td>...</td>\n",
       "      <td>...</td>\n",
       "      <td>...</td>\n",
       "      <td>...</td>\n",
       "      <td>...</td>\n",
       "      <td>...</td>\n",
       "    </tr>\n",
       "    <tr>\n",
       "      <th>107</th>\n",
       "      <td>0.000334</td>\n",
       "      <td>0.000473</td>\n",
       "      <td>0.000166</td>\n",
       "      <td>0.000371</td>\n",
       "      <td>10</td>\n",
       "      <td>30</td>\n",
       "      <td>10</td>\n",
       "      <td>{'max_depth': 10, 'max_leaf_nodes': 30, 'min_s...</td>\n",
       "      <td>0.96</td>\n",
       "      <td>1.0</td>\n",
       "      <td>0.92</td>\n",
       "      <td>0.92</td>\n",
       "      <td>0.88</td>\n",
       "      <td>1.0</td>\n",
       "      <td>0.946667</td>\n",
       "      <td>0.044222</td>\n",
       "      <td>63</td>\n",
       "    </tr>\n",
       "    <tr>\n",
       "      <th>108</th>\n",
       "      <td>0.000500</td>\n",
       "      <td>0.000500</td>\n",
       "      <td>0.000167</td>\n",
       "      <td>0.000372</td>\n",
       "      <td>10</td>\n",
       "      <td>40</td>\n",
       "      <td>2</td>\n",
       "      <td>{'max_depth': 10, 'max_leaf_nodes': 40, 'min_s...</td>\n",
       "      <td>0.96</td>\n",
       "      <td>1.0</td>\n",
       "      <td>0.92</td>\n",
       "      <td>0.92</td>\n",
       "      <td>1.00</td>\n",
       "      <td>1.0</td>\n",
       "      <td>0.966667</td>\n",
       "      <td>0.035901</td>\n",
       "      <td>1</td>\n",
       "    </tr>\n",
       "    <tr>\n",
       "      <th>109</th>\n",
       "      <td>0.000338</td>\n",
       "      <td>0.000478</td>\n",
       "      <td>0.000162</td>\n",
       "      <td>0.000363</td>\n",
       "      <td>10</td>\n",
       "      <td>40</td>\n",
       "      <td>5</td>\n",
       "      <td>{'max_depth': 10, 'max_leaf_nodes': 40, 'min_s...</td>\n",
       "      <td>0.96</td>\n",
       "      <td>1.0</td>\n",
       "      <td>0.92</td>\n",
       "      <td>0.92</td>\n",
       "      <td>0.88</td>\n",
       "      <td>1.0</td>\n",
       "      <td>0.946667</td>\n",
       "      <td>0.044222</td>\n",
       "      <td>63</td>\n",
       "    </tr>\n",
       "    <tr>\n",
       "      <th>110</th>\n",
       "      <td>0.000166</td>\n",
       "      <td>0.000372</td>\n",
       "      <td>0.000166</td>\n",
       "      <td>0.000372</td>\n",
       "      <td>10</td>\n",
       "      <td>40</td>\n",
       "      <td>7</td>\n",
       "      <td>{'max_depth': 10, 'max_leaf_nodes': 40, 'min_s...</td>\n",
       "      <td>0.96</td>\n",
       "      <td>1.0</td>\n",
       "      <td>0.92</td>\n",
       "      <td>0.92</td>\n",
       "      <td>0.88</td>\n",
       "      <td>1.0</td>\n",
       "      <td>0.946667</td>\n",
       "      <td>0.044222</td>\n",
       "      <td>63</td>\n",
       "    </tr>\n",
       "    <tr>\n",
       "      <th>111</th>\n",
       "      <td>0.000333</td>\n",
       "      <td>0.000471</td>\n",
       "      <td>0.000162</td>\n",
       "      <td>0.000363</td>\n",
       "      <td>10</td>\n",
       "      <td>40</td>\n",
       "      <td>10</td>\n",
       "      <td>{'max_depth': 10, 'max_leaf_nodes': 40, 'min_s...</td>\n",
       "      <td>0.96</td>\n",
       "      <td>1.0</td>\n",
       "      <td>0.92</td>\n",
       "      <td>0.92</td>\n",
       "      <td>0.92</td>\n",
       "      <td>1.0</td>\n",
       "      <td>0.953333</td>\n",
       "      <td>0.035901</td>\n",
       "      <td>15</td>\n",
       "    </tr>\n",
       "  </tbody>\n",
       "</table>\n",
       "<p>112 rows × 17 columns</p>\n",
       "</div>"
      ],
      "text/plain": [
       "     mean_fit_time  std_fit_time  mean_score_time  std_score_time  \\\n",
       "0         0.000671      0.000754         0.000162        0.000362   \n",
       "1         0.000338      0.000478         0.000171        0.000383   \n",
       "2         0.000167      0.000373         0.000332        0.000470   \n",
       "3         0.000329      0.000465         0.000167        0.000373   \n",
       "4         0.000167      0.000373         0.000501        0.000501   \n",
       "..             ...           ...              ...             ...   \n",
       "107       0.000334      0.000473         0.000166        0.000371   \n",
       "108       0.000500      0.000500         0.000167        0.000372   \n",
       "109       0.000338      0.000478         0.000162        0.000363   \n",
       "110       0.000166      0.000372         0.000166        0.000372   \n",
       "111       0.000333      0.000471         0.000162        0.000363   \n",
       "\n",
       "    param_max_depth param_max_leaf_nodes param_min_samples_split  \\\n",
       "0                 4                   10                       2   \n",
       "1                 4                   10                       5   \n",
       "2                 4                   10                       7   \n",
       "3                 4                   10                      10   \n",
       "4                 4                   20                       2   \n",
       "..              ...                  ...                     ...   \n",
       "107              10                   30                      10   \n",
       "108              10                   40                       2   \n",
       "109              10                   40                       5   \n",
       "110              10                   40                       7   \n",
       "111              10                   40                      10   \n",
       "\n",
       "                                                params  split0_test_score  \\\n",
       "0    {'max_depth': 4, 'max_leaf_nodes': 10, 'min_sa...               0.96   \n",
       "1    {'max_depth': 4, 'max_leaf_nodes': 10, 'min_sa...               0.96   \n",
       "2    {'max_depth': 4, 'max_leaf_nodes': 10, 'min_sa...               0.96   \n",
       "3    {'max_depth': 4, 'max_leaf_nodes': 10, 'min_sa...               0.96   \n",
       "4    {'max_depth': 4, 'max_leaf_nodes': 20, 'min_sa...               0.96   \n",
       "..                                                 ...                ...   \n",
       "107  {'max_depth': 10, 'max_leaf_nodes': 30, 'min_s...               0.96   \n",
       "108  {'max_depth': 10, 'max_leaf_nodes': 40, 'min_s...               0.96   \n",
       "109  {'max_depth': 10, 'max_leaf_nodes': 40, 'min_s...               0.96   \n",
       "110  {'max_depth': 10, 'max_leaf_nodes': 40, 'min_s...               0.96   \n",
       "111  {'max_depth': 10, 'max_leaf_nodes': 40, 'min_s...               0.96   \n",
       "\n",
       "     split1_test_score  split2_test_score  split3_test_score  \\\n",
       "0                  1.0               0.92               0.92   \n",
       "1                  1.0               0.92               0.92   \n",
       "2                  1.0               0.92               0.92   \n",
       "3                  1.0               0.92               0.92   \n",
       "4                  1.0               0.92               0.92   \n",
       "..                 ...                ...                ...   \n",
       "107                1.0               0.92               0.92   \n",
       "108                1.0               0.92               0.92   \n",
       "109                1.0               0.92               0.92   \n",
       "110                1.0               0.92               0.92   \n",
       "111                1.0               0.92               0.92   \n",
       "\n",
       "     split4_test_score  split5_test_score  mean_test_score  std_test_score  \\\n",
       "0                 0.88                1.0         0.946667        0.044222   \n",
       "1                 0.92                1.0         0.953333        0.035901   \n",
       "2                 0.88                1.0         0.946667        0.044222   \n",
       "3                 0.92                1.0         0.953333        0.035901   \n",
       "4                 0.92                1.0         0.953333        0.035901   \n",
       "..                 ...                ...              ...             ...   \n",
       "107               0.88                1.0         0.946667        0.044222   \n",
       "108               1.00                1.0         0.966667        0.035901   \n",
       "109               0.88                1.0         0.946667        0.044222   \n",
       "110               0.88                1.0         0.946667        0.044222   \n",
       "111               0.92                1.0         0.953333        0.035901   \n",
       "\n",
       "     rank_test_score  \n",
       "0                 63  \n",
       "1                 15  \n",
       "2                 63  \n",
       "3                 15  \n",
       "4                 15  \n",
       "..               ...  \n",
       "107               63  \n",
       "108                1  \n",
       "109               63  \n",
       "110               63  \n",
       "111               15  \n",
       "\n",
       "[112 rows x 17 columns]"
      ]
     },
     "execution_count": 7,
     "metadata": {},
     "output_type": "execute_result"
    }
   ],
   "source": [
    "import pandas as pd \n",
    "pd.DataFrame(gsc.cv_results_)"
   ]
  },
  {
   "cell_type": "code",
   "execution_count": 9,
   "id": "e14fdb53-52f9-49da-a25d-6ed4bf5bd3b6",
   "metadata": {},
   "outputs": [
    {
     "data": {
      "text/plain": [
       "array([0, 0, 0, 0, 0, 0, 0, 0, 0, 0, 0, 0, 0, 0, 0, 0, 0, 0, 0, 0, 0, 0,\n",
       "       0, 0, 0, 0, 0, 0, 0, 0, 0, 0, 0, 0, 0, 0, 0, 0, 0, 0, 0, 0, 0, 0,\n",
       "       0, 0, 0, 0, 0, 0, 1, 1, 1, 1, 1, 1, 1, 1, 1, 1, 1, 1, 1, 1, 1, 1,\n",
       "       1, 1, 1, 1, 1, 1, 1, 1, 1, 1, 1, 1, 1, 1, 1, 1, 1, 1, 1, 1, 1, 1,\n",
       "       1, 1, 1, 1, 1, 1, 1, 1, 1, 1, 1, 1, 2, 2, 2, 2, 2, 2, 2, 2, 2, 2,\n",
       "       2, 2, 2, 2, 2, 2, 2, 2, 2, 2, 2, 2, 2, 2, 2, 2, 2, 2, 2, 2, 2, 2,\n",
       "       2, 2, 2, 2, 2, 2, 2, 2, 2, 2, 2, 2, 2, 2, 2, 2, 2, 2])"
      ]
     },
     "execution_count": 9,
     "metadata": {},
     "output_type": "execute_result"
    }
   ],
   "source": [
    "gsc.best_estimator_.predict(iris.data)"
   ]
  },
  {
   "cell_type": "code",
   "execution_count": 11,
   "id": "a2959434-35ae-40e3-8fb4-512114b1ea2f",
   "metadata": {},
   "outputs": [
    {
     "data": {
      "text/plain": [
       "1.0"
      ]
     },
     "execution_count": 11,
     "metadata": {},
     "output_type": "execute_result"
    }
   ],
   "source": [
    "gsc.best_estimator_.score(iris.data, iris.target)"
   ]
  },
  {
   "cell_type": "markdown",
   "id": "f2162f7d-65bd-4472-b02d-273413ecc490",
   "metadata": {},
   "source": [
    "# HyperOpt\n",
    "필요한 라이브러리 임포트"
   ]
  },
  {
   "cell_type": "code",
   "execution_count": 24,
   "id": "850e51e8-b07d-42af-a6f8-38a6e781175b",
   "metadata": {},
   "outputs": [],
   "source": [
    "import numpy as np\n",
    "import pandas as pd\n",
    "\n",
    "from sklearn.datasets import load_boston\n",
    "from sklearn.model_selection import train_test_split\n",
    "from sklearn.metrics import mean_squared_error\n",
    "from xgboost import XGBRegressor\n",
    "\n",
    "import hyperopt\n",
    "from hyperopt import fmin, tpe, hp, STATUS_OK, Trials\n",
    "\n",
    "import warnings\n",
    "warnings.filterwarnings(\"ignore\")\n",
    "\n",
    "SEED = 1234"
   ]
  },
  {
   "cell_type": "markdown",
   "id": "8533fbf9-f08d-4a65-a41d-ee720dfcecd4",
   "metadata": {},
   "source": [
    "데이터셋 불러오기"
   ]
  },
  {
   "cell_type": "code",
   "execution_count": 26,
   "id": "7c486801-e1c7-409e-991d-96525137e1e5",
   "metadata": {},
   "outputs": [
    {
     "name": "stdout",
     "output_type": "stream",
     "text": [
      "(379, 13) (379,)\n"
     ]
    }
   ],
   "source": [
    "data = load_boston()\n",
    "train_x, test_x, train_y, test_y = train_test_split(data.data , data.target, random_state=SEED)\n",
    "print(train_x.shape, train_y.shape)\n",
    "\n",
    "# 손실 함수\n",
    "def RMSE(y_true, y_pred):\n",
    "    return mean_squared_error(y_true, y_pred, squared=False)"
   ]
  },
  {
   "cell_type": "code",
   "execution_count": 27,
   "id": "b1b546c3-8afa-46d6-915a-9f49efd466e4",
   "metadata": {},
   "outputs": [],
   "source": [
    "# 하이퍼 파라미터로 전달할 reg 후보군 정의\n",
    "reg_candidate = [1e-5, 1e-4, 1e-3, 1e-2, 0.1, 1, 5, 10, 100]\n",
    "\n",
    "space = {\n",
    "    'max_depth': hp.quniform(\"max_depth\", 5, 15, 1), # 10\n",
    "    'learning_rate': hp.quniform(\"learning_rate\", 0.01, 0.05, 0.005), # 8\n",
    "    'reg_alpha': hp.choice('reg_alpha', reg_candidate), # 9\n",
    "    'reg_lambda': hp.choice('reg_lambda', reg_candidate), # 9\n",
    "    'subsample': hp.quniform('subsample', 0.6, 1, 0.05), # 8\n",
    "    'colsample_bytree': hp.quniform('colsample_bytree', 0.6, 1, 0.05), # 8\n",
    "    'min_child_weight': hp.quniform('min_child_weight', 1, 10, 1), # 9\n",
    "    'n_estimators': hp.quniform('n_estimators', 200, 1500, 100) # 13\n",
    "}\n",
    "# 48,522,240 회 학습해야 하는 숫자"
   ]
  },
  {
   "cell_type": "code",
   "execution_count": 38,
   "id": "186707f8-468a-4143-89df-52bc5a12a219",
   "metadata": {},
   "outputs": [],
   "source": [
    "def hyperparameter_tuning(space):\n",
    "    model = XGBRegressor(\n",
    "        max_depth=int(space['max_depth']),\n",
    "        learning_rate=space['learning_rate'],\n",
    "        reg_alpha=space['reg_alpha'],\n",
    "        reg_lambda=space['reg_lambda'],\n",
    "        subsample=space['subsample'],\n",
    "        colsample_bytree=space['colsample_bytree'],\n",
    "        min_child_weight=space['min_child_weight'],\n",
    "        n_estimators=int(space['n_estimators']),\n",
    "        random_state=SEED\n",
    "    )\n",
    "    evalution  = [(train_x, train_y), (test_x, test_y)]\n",
    "    \n",
    "    model.fit(train_x, train_y,\n",
    "             eval_set=evalution,\n",
    "             eval_metric='rmse',\n",
    "             early_stopping_rounds=20,\n",
    "             verbose=0)\n",
    "    \n",
    "    pred = model.predict(test_x)\n",
    "    rmse = RMSE(test_y, pred)\n",
    "    \n",
    "    # 평가 방식 선정\n",
    "    return {'loss': rmse, 'status': STATUS_OK, 'model': model}"
   ]
  },
  {
   "cell_type": "code",
   "execution_count": 39,
   "id": "40e265e7-462b-45c6-a145-08a42736d01b",
   "metadata": {},
   "outputs": [
    {
     "name": "stdout",
     "output_type": "stream",
     "text": [
      "100%|██████████| 3/3 [00:00<00:00,  4.04trial/s, best loss: 3.090059504932305] \n"
     ]
    }
   ],
   "source": [
    "trials = Trials()\n",
    "best = fmin(fn=hyperparameter_tuning,\n",
    "     space=space,\n",
    "     algo=tpe.suggest,\n",
    "     max_evals=3,\n",
    "     trials=trials,\n",
    "     rstate=np.random.default_rng(SEED)\n",
    ")"
   ]
  },
  {
   "cell_type": "code",
   "execution_count": 44,
   "id": "6986d929-7c20-47fa-bc55-c78c25ef06ec",
   "metadata": {},
   "outputs": [
    {
     "name": "stdout",
     "output_type": "stream",
     "text": [
      "100%|██████████| 50/50 [00:12<00:00,  2.89trial/s, best loss: 2.9229404892412187]\n"
     ]
    }
   ],
   "source": [
    "best = fmin(fn=hyperparameter_tuning,\n",
    "     space=space,\n",
    "     algo=tpe.suggest,\n",
    "     max_evals=50,\n",
    "     trials=trials,\n",
    "     rstate=np.random.default_rng(SEED)\n",
    ")"
   ]
  },
  {
   "cell_type": "code",
   "execution_count": 45,
   "id": "51261fbb-0ae8-4036-85b5-44fb9a468f4f",
   "metadata": {},
   "outputs": [
    {
     "name": "stdout",
     "output_type": "stream",
     "text": [
      "{'colsample_bytree': 1.0, 'learning_rate': 0.045, 'max_depth': 11, 'min_child_weight': 5.0, 'n_estimators': 1300, 'reg_alpha': 1, 'reg_lambda': 0.01, 'subsample': 0.8, 'random_state': 1234}\n"
     ]
    }
   ],
   "source": [
    "# 최적화된 결과를 확인해보자.\n",
    "best['max_depth'] = int(best['max_depth'])\n",
    "best['n_estimators'] = int(best['n_estimators'])\n",
    "best['min_child_weight'] = best['min_child_weight']\n",
    "best['colsample_bytree'] = best['colsample_bytree']\n",
    "best['subsample'] = best['subsample']\n",
    "best['reg_lambda'] = reg_candidate[int(best['reg_lambda'])]\n",
    "best['reg_alpha'] = reg_candidate[int(best['reg_alpha'])]\n",
    "best['learning_rate'] = best['learning_rate']\n",
    "best['random_state'] = SEED\n",
    "print(best)"
   ]
  },
  {
   "cell_type": "code",
   "execution_count": 47,
   "id": "69377153-aabc-4520-a3e0-e32f042e71ce",
   "metadata": {},
   "outputs": [
    {
     "ename": "ValueError",
     "evalue": "The truth value of an array with more than one element is ambiguous. Use a.any() or a.all()",
     "output_type": "error",
     "traceback": [
      "\u001b[1;31m---------------------------------------------------------------------------\u001b[0m",
      "\u001b[1;31mValueError\u001b[0m                                Traceback (most recent call last)",
      "Input \u001b[1;32mIn [47]\u001b[0m, in \u001b[0;36m<cell line: 14>\u001b[1;34m()\u001b[0m\n\u001b[0;32m      1\u001b[0m xgb \u001b[38;5;241m=\u001b[39m XGBRegressor(\n\u001b[0;32m      2\u001b[0m         max_depth\u001b[38;5;241m=\u001b[39mbest[\u001b[38;5;124m'\u001b[39m\u001b[38;5;124mmax_depth\u001b[39m\u001b[38;5;124m'\u001b[39m],\n\u001b[0;32m      3\u001b[0m         learning_rate\u001b[38;5;241m=\u001b[39mbest[\u001b[38;5;124m'\u001b[39m\u001b[38;5;124mlearning_rate\u001b[39m\u001b[38;5;124m'\u001b[39m],\n\u001b[1;32m   (...)\u001b[0m\n\u001b[0;32m     10\u001b[0m         random_state\u001b[38;5;241m=\u001b[39mSEED\n\u001b[0;32m     11\u001b[0m     )\n\u001b[0;32m     13\u001b[0m xgb\u001b[38;5;241m.\u001b[39mfit(train_x, train_y)\n\u001b[1;32m---> 14\u001b[0m \u001b[43mxgb\u001b[49m\u001b[38;5;241;43m.\u001b[39;49m\u001b[43mpredict\u001b[49m\u001b[43m(\u001b[49m\u001b[43mtest_x\u001b[49m\u001b[43m,\u001b[49m\u001b[43m \u001b[49m\u001b[43mtest_y\u001b[49m\u001b[43m)\u001b[49m\n",
      "File \u001b[1;32m~\\anaconda3\\lib\\site-packages\\xgboost\\sklearn.py:884\u001b[0m, in \u001b[0;36mXGBModel.predict\u001b[1;34m(self, X, output_margin, ntree_limit, validate_features, base_margin, iteration_range)\u001b[0m\n\u001b[0;32m    879\u001b[0m \u001b[38;5;28;01mif\u001b[39;00m \u001b[38;5;28mself\u001b[39m\u001b[38;5;241m.\u001b[39m_can_use_inplace_predict():\n\u001b[0;32m    880\u001b[0m     \u001b[38;5;28;01mtry\u001b[39;00m:\n\u001b[0;32m    881\u001b[0m         predts \u001b[38;5;241m=\u001b[39m \u001b[38;5;28mself\u001b[39m\u001b[38;5;241m.\u001b[39mget_booster()\u001b[38;5;241m.\u001b[39minplace_predict(\n\u001b[0;32m    882\u001b[0m             data\u001b[38;5;241m=\u001b[39mX,\n\u001b[0;32m    883\u001b[0m             iteration_range\u001b[38;5;241m=\u001b[39miteration_range,\n\u001b[1;32m--> 884\u001b[0m             predict_type\u001b[38;5;241m=\u001b[39m\u001b[38;5;124m\"\u001b[39m\u001b[38;5;124mmargin\u001b[39m\u001b[38;5;124m\"\u001b[39m \u001b[38;5;28;01mif\u001b[39;00m output_margin \u001b[38;5;28;01melse\u001b[39;00m \u001b[38;5;124m\"\u001b[39m\u001b[38;5;124mvalue\u001b[39m\u001b[38;5;124m\"\u001b[39m,\n\u001b[0;32m    885\u001b[0m             missing\u001b[38;5;241m=\u001b[39m\u001b[38;5;28mself\u001b[39m\u001b[38;5;241m.\u001b[39mmissing,\n\u001b[0;32m    886\u001b[0m             base_margin\u001b[38;5;241m=\u001b[39mbase_margin,\n\u001b[0;32m    887\u001b[0m             validate_features\u001b[38;5;241m=\u001b[39mvalidate_features,\n\u001b[0;32m    888\u001b[0m         )\n\u001b[0;32m    889\u001b[0m         \u001b[38;5;28;01mif\u001b[39;00m _is_cupy_array(predts):\n\u001b[0;32m    890\u001b[0m             \u001b[38;5;28;01mimport\u001b[39;00m \u001b[38;5;21;01mcupy\u001b[39;00m     \u001b[38;5;66;03m# pylint: disable=import-error\u001b[39;00m\n",
      "\u001b[1;31mValueError\u001b[0m: The truth value of an array with more than one element is ambiguous. Use a.any() or a.all()"
     ]
    }
   ],
   "source": [
    "xgb = XGBRegressor(\n",
    "        max_depth=best['max_depth'],\n",
    "        learning_rate=best['learning_rate'],\n",
    "        reg_alpha=best['reg_alpha'],\n",
    "        reg_lambda=best['reg_lambda'],\n",
    "        subsample=best['subsample'],\n",
    "        colsample_bytree=best['colsample_bytree'],\n",
    "        min_child_weight=best['min_child_weight'],\n",
    "        n_estimators=best['n_estimators'],\n",
    "        random_state=SEED\n",
    "    )\n",
    "\n",
    "xgb.fit(train_x, train_y)\n",
    "xgb.predict(test_x, test_y)"
   ]
  },
  {
   "cell_type": "code",
   "execution_count": null,
   "id": "37fdaf75-2a14-48c3-94cb-d550862e1942",
   "metadata": {},
   "outputs": [],
   "source": []
  }
 ],
 "metadata": {
  "kernelspec": {
   "display_name": "Python 3 (ipykernel)",
   "language": "python",
   "name": "python3"
  },
  "language_info": {
   "codemirror_mode": {
    "name": "ipython",
    "version": 3
   },
   "file_extension": ".py",
   "mimetype": "text/x-python",
   "name": "python",
   "nbconvert_exporter": "python",
   "pygments_lexer": "ipython3",
   "version": "3.9.12"
  }
 },
 "nbformat": 4,
 "nbformat_minor": 5
}
