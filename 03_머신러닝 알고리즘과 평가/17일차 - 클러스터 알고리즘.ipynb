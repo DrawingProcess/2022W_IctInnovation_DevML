{
 "cells": [
  {
   "cell_type": "markdown",
   "id": "86bf2917-8f28-4c34-9074-54a8015fd357",
   "metadata": {},
   "source": [
    "# 클러스터 알고리즘"
   ]
  },
  {
   "cell_type": "markdown",
   "id": "2da2e61b-40a4-4da3-b26c-757d71e9ad04",
   "metadata": {},
   "source": [
    "## iris 데이터셋 불러오기"
   ]
  },
  {
   "cell_type": "code",
   "execution_count": 3,
   "id": "7e15cdef-3624-4abe-9930-8ff9b294f374",
   "metadata": {},
   "outputs": [
    {
     "name": "stdout",
     "output_type": "stream",
     "text": [
      "(120, 4)\n",
      "(30, 4)\n",
      "(120,)\n",
      "(30,)\n"
     ]
    }
   ],
   "source": [
    "from sklearn import datasets\n",
    "from sklearn.model_selection import train_test_split\n",
    "\n",
    "iris = datasets.load_iris()\n",
    "iris_x = iris.data\n",
    "iris_y = iris.target\n",
    "\n",
    "train_x, test_x, train_y, test_y = train_test_split(iris_x, iris_y, test_size=0.2, random_state=0)\n",
    "\n",
    "print(train_x.shape)\n",
    "print(test_x.shape)\n",
    "print(train_y.shape)\n",
    "print(test_y.shape)"
   ]
  },
  {
   "cell_type": "markdown",
   "id": "8f3c9b9d-525f-4f26-81b5-ea5482c5c331",
   "metadata": {},
   "source": [
    "## KMeans 알고리즘으로 학습하기"
   ]
  },
  {
   "cell_type": "code",
   "execution_count": 4,
   "id": "d6e4f293-7a26-4c40-af84-81e801f72261",
   "metadata": {},
   "outputs": [
    {
     "data": {
      "text/html": [
       "<div>\n",
       "<style scoped>\n",
       "    .dataframe tbody tr th:only-of-type {\n",
       "        vertical-align: middle;\n",
       "    }\n",
       "\n",
       "    .dataframe tbody tr th {\n",
       "        vertical-align: top;\n",
       "    }\n",
       "\n",
       "    .dataframe thead th {\n",
       "        text-align: right;\n",
       "    }\n",
       "</style>\n",
       "<table border=\"1\" class=\"dataframe\">\n",
       "  <thead>\n",
       "    <tr style=\"text-align: right;\">\n",
       "      <th></th>\n",
       "      <th>0</th>\n",
       "      <th>1</th>\n",
       "      <th>2</th>\n",
       "      <th>3</th>\n",
       "      <th>4</th>\n",
       "      <th>5</th>\n",
       "      <th>6</th>\n",
       "      <th>7</th>\n",
       "      <th>8</th>\n",
       "      <th>9</th>\n",
       "      <th>...</th>\n",
       "      <th>20</th>\n",
       "      <th>21</th>\n",
       "      <th>22</th>\n",
       "      <th>23</th>\n",
       "      <th>24</th>\n",
       "      <th>25</th>\n",
       "      <th>26</th>\n",
       "      <th>27</th>\n",
       "      <th>28</th>\n",
       "      <th>29</th>\n",
       "    </tr>\n",
       "  </thead>\n",
       "  <tbody>\n",
       "    <tr>\n",
       "      <th>predict</th>\n",
       "      <td>2</td>\n",
       "      <td>2</td>\n",
       "      <td>1</td>\n",
       "      <td>0</td>\n",
       "      <td>1</td>\n",
       "      <td>0</td>\n",
       "      <td>1</td>\n",
       "      <td>2</td>\n",
       "      <td>2</td>\n",
       "      <td>2</td>\n",
       "      <td>...</td>\n",
       "      <td>2</td>\n",
       "      <td>2</td>\n",
       "      <td>1</td>\n",
       "      <td>1</td>\n",
       "      <td>2</td>\n",
       "      <td>1</td>\n",
       "      <td>1</td>\n",
       "      <td>2</td>\n",
       "      <td>2</td>\n",
       "      <td>1</td>\n",
       "    </tr>\n",
       "    <tr>\n",
       "      <th>true</th>\n",
       "      <td>2</td>\n",
       "      <td>1</td>\n",
       "      <td>0</td>\n",
       "      <td>2</td>\n",
       "      <td>0</td>\n",
       "      <td>2</td>\n",
       "      <td>0</td>\n",
       "      <td>1</td>\n",
       "      <td>1</td>\n",
       "      <td>1</td>\n",
       "      <td>...</td>\n",
       "      <td>2</td>\n",
       "      <td>1</td>\n",
       "      <td>0</td>\n",
       "      <td>0</td>\n",
       "      <td>2</td>\n",
       "      <td>0</td>\n",
       "      <td>0</td>\n",
       "      <td>1</td>\n",
       "      <td>1</td>\n",
       "      <td>0</td>\n",
       "    </tr>\n",
       "  </tbody>\n",
       "</table>\n",
       "<p>2 rows × 30 columns</p>\n",
       "</div>"
      ],
      "text/plain": [
       "         0   1   2   3   4   5   6   7   8   9   ...  20  21  22  23  24  25  \\\n",
       "predict   2   2   1   0   1   0   1   2   2   2  ...   2   2   1   1   2   1   \n",
       "true      2   1   0   2   0   2   0   1   1   1  ...   2   1   0   0   2   0   \n",
       "\n",
       "         26  27  28  29  \n",
       "predict   1   2   2   1  \n",
       "true      0   1   1   0  \n",
       "\n",
       "[2 rows x 30 columns]"
      ]
     },
     "execution_count": 4,
     "metadata": {},
     "output_type": "execute_result"
    }
   ],
   "source": [
    "from sklearn.cluster import KMeans\n",
    "import pandas as pd\n",
    "\n",
    "km = KMeans(n_clusters=3, random_state=0)\n",
    "km.fit(train_x) # 비지도 학습 알고리즘은 y가 없다.\n",
    "pred_y = km.predict(test_x)\n",
    "km_result = pd.DataFrame([pred_y, test_y], index=['predict', 'true'])\n",
    "km_result"
   ]
  },
  {
   "cell_type": "code",
   "execution_count": 12,
   "id": "abe57726-ed5f-4824-9c32-1fc744306ae4",
   "metadata": {},
   "outputs": [
    {
     "data": {
      "text/plain": [
       "False    27\n",
       "True      3\n",
       "dtype: int64"
      ]
     },
     "execution_count": 12,
     "metadata": {},
     "output_type": "execute_result"
    }
   ],
   "source": [
    "se0 = (km_result.loc['predict'] == km_result.loc['true'])\n",
    "se0.value_counts()"
   ]
  },
  {
   "cell_type": "markdown",
   "id": "5919dee1-9462-4f4f-b8d4-33550f633d47",
   "metadata": {},
   "source": [
    "## 군집 알고리즘 평가\n",
    "kmeans로 평가한 정보를 시각화해보자.\n",
    "\n"
   ]
  },
  {
   "cell_type": "code",
   "execution_count": 18,
   "id": "62e39ae5-8a5f-43c3-a1bc-4f713373ec72",
   "metadata": {},
   "outputs": [
    {
     "data": {
      "text/plain": [
       "Text(0.5, 1.0, 'label: pred_y')"
      ]
     },
     "execution_count": 18,
     "metadata": {},
     "output_type": "execute_result"
    },
    {
     "data": {
      "image/png": "[encoded data removed]",
      "text/plain": [
       "<Figure size 640x480 with 2 Axes>"
      ]
     },
     "metadata": {},
     "output_type": "display_data"
    },
    {
     "data": {
      "image/png": "[encoded data removed]",
      "text/plain": [
       "<Figure size 640x480 with 2 Axes>"
      ]
     },
     "metadata": {},
     "output_type": "display_data"
    }
   ],
   "source": [
    "test_x_df = pd.DataFrame(test_x, columns=iris.feature_names)\n",
    "test_x_df['pred_y'] = pred_y\n",
    "test_x_df['test_y'] = test_y\n",
    "\n",
    "import matplotlib.pyplot as plt\n",
    "test_x_df.plot.scatter(x='petal length (cm)', y='petal width (cm)', c='test_y', colormap='viridis')\n",
    "plt.title('label: test_y')\n",
    "test_x_df.plot.scatter(x='petal length (cm)', y='petal width (cm)', c='pred_y', colormap='viridis')\n",
    "plt.title('label: pred_y')"
   ]
  },
  {
   "cell_type": "code",
   "execution_count": 13,
   "id": "fa5c8c46-d148-4917-9c15-dfec5d6e99c4",
   "metadata": {},
   "outputs": [
    {
     "data": {
      "text/plain": [
       "['sepal length (cm)',\n",
       " 'sepal width (cm)',\n",
       " 'petal length (cm)',\n",
       " 'petal width (cm)']"
      ]
     },
     "execution_count": 13,
     "metadata": {},
     "output_type": "execute_result"
    }
   ],
   "source": [
    "iris.feature_names"
   ]
  },
  {
   "cell_type": "markdown",
   "id": "ee7a23f6-dd71-49a7-bd2c-f2a221ada744",
   "metadata": {},
   "source": [
    "## 실루엣으로 평가하기"
   ]
  },
  {
   "cell_type": "code",
   "execution_count": 19,
   "id": "99a6da7d-ea19-4c62-83cb-bb4a17ace1fa",
   "metadata": {},
   "outputs": [
    {
     "data": {
      "text/html": [
       "<div>\n",
       "<style scoped>\n",
       "    .dataframe tbody tr th:only-of-type {\n",
       "        vertical-align: middle;\n",
       "    }\n",
       "\n",
       "    .dataframe tbody tr th {\n",
       "        vertical-align: top;\n",
       "    }\n",
       "\n",
       "    .dataframe thead th {\n",
       "        text-align: right;\n",
       "    }\n",
       "</style>\n",
       "<table border=\"1\" class=\"dataframe\">\n",
       "  <thead>\n",
       "    <tr style=\"text-align: right;\">\n",
       "      <th></th>\n",
       "      <th>0</th>\n",
       "      <th>1</th>\n",
       "      <th>2</th>\n",
       "      <th>3</th>\n",
       "      <th>4</th>\n",
       "      <th>5</th>\n",
       "      <th>6</th>\n",
       "      <th>7</th>\n",
       "      <th>8</th>\n",
       "      <th>9</th>\n",
       "      <th>...</th>\n",
       "      <th>140</th>\n",
       "      <th>141</th>\n",
       "      <th>142</th>\n",
       "      <th>143</th>\n",
       "      <th>144</th>\n",
       "      <th>145</th>\n",
       "      <th>146</th>\n",
       "      <th>147</th>\n",
       "      <th>148</th>\n",
       "      <th>149</th>\n",
       "    </tr>\n",
       "  </thead>\n",
       "  <tbody>\n",
       "    <tr>\n",
       "      <th>iris_y</th>\n",
       "      <td>0.000000</td>\n",
       "      <td>0.000000</td>\n",
       "      <td>0.000000</td>\n",
       "      <td>0.000000</td>\n",
       "      <td>0.000000</td>\n",
       "      <td>0.000000</td>\n",
       "      <td>0.000000</td>\n",
       "      <td>0.000000</td>\n",
       "      <td>0.000000</td>\n",
       "      <td>0.000000</td>\n",
       "      <td>...</td>\n",
       "      <td>2.000000</td>\n",
       "      <td>2.000000</td>\n",
       "      <td>2.000000</td>\n",
       "      <td>2.000000</td>\n",
       "      <td>2.000000</td>\n",
       "      <td>2.000000</td>\n",
       "      <td>2.000000</td>\n",
       "      <td>2.000000</td>\n",
       "      <td>2.000000</td>\n",
       "      <td>2.000000</td>\n",
       "    </tr>\n",
       "    <tr>\n",
       "      <th>sil_score</th>\n",
       "      <td>0.846469</td>\n",
       "      <td>0.807399</td>\n",
       "      <td>0.822367</td>\n",
       "      <td>0.796877</td>\n",
       "      <td>0.842846</td>\n",
       "      <td>0.736507</td>\n",
       "      <td>0.814515</td>\n",
       "      <td>0.847356</td>\n",
       "      <td>0.742515</td>\n",
       "      <td>0.817477</td>\n",
       "      <td>...</td>\n",
       "      <td>0.531199</td>\n",
       "      <td>0.388713</td>\n",
       "      <td>0.044986</td>\n",
       "      <td>0.548803</td>\n",
       "      <td>0.520693</td>\n",
       "      <td>0.429515</td>\n",
       "      <td>0.099808</td>\n",
       "      <td>0.374301</td>\n",
       "      <td>0.399617</td>\n",
       "      <td>0.053972</td>\n",
       "    </tr>\n",
       "  </tbody>\n",
       "</table>\n",
       "<p>2 rows × 150 columns</p>\n",
       "</div>"
      ],
      "text/plain": [
       "                0         1         2         3         4         5    \\\n",
       "iris_y     0.000000  0.000000  0.000000  0.000000  0.000000  0.000000   \n",
       "sil_score  0.846469  0.807399  0.822367  0.796877  0.842846  0.736507   \n",
       "\n",
       "                6         7         8         9    ...       140       141  \\\n",
       "iris_y     0.000000  0.000000  0.000000  0.000000  ...  2.000000  2.000000   \n",
       "sil_score  0.814515  0.847356  0.742515  0.817477  ...  0.531199  0.388713   \n",
       "\n",
       "                142       143       144       145       146       147  \\\n",
       "iris_y     2.000000  2.000000  2.000000  2.000000  2.000000  2.000000   \n",
       "sil_score  0.044986  0.548803  0.520693  0.429515  0.099808  0.374301   \n",
       "\n",
       "                148       149  \n",
       "iris_y     2.000000  2.000000  \n",
       "sil_score  0.399617  0.053972  \n",
       "\n",
       "[2 rows x 150 columns]"
      ]
     },
     "execution_count": 19,
     "metadata": {},
     "output_type": "execute_result"
    }
   ],
   "source": [
    "from sklearn.metrics import silhouette_samples, silhouette_score\n",
    "import pandas as pd \n",
    "\n",
    "sil = silhouette_samples(iris_x, iris_y)\n",
    "sil_y = pd.DataFrame([iris_y, sil], index=['iris_y', 'sil_score'])\n",
    "sil_y.head()"
   ]
  },
  {
   "cell_type": "code",
   "execution_count": 22,
   "id": "52276cf4-3232-434d-8fdf-a80f860240c0",
   "metadata": {},
   "outputs": [
    {
     "data": {
      "text/plain": [
       "iris_y\n",
       "0.0    0.789381\n",
       "1.0    0.409085\n",
       "2.0    0.311966\n",
       "Name: sil_score, dtype: float64"
      ]
     },
     "execution_count": 22,
     "metadata": {},
     "output_type": "execute_result"
    }
   ],
   "source": [
    "sil_y.T.groupby('iris_y')['sil_score'].mean()"
   ]
  },
  {
   "cell_type": "code",
   "execution_count": 25,
   "id": "d60462f1-f356-44fc-b172-17bbb0c9ffec",
   "metadata": {},
   "outputs": [
    {
     "data": {
      "text/plain": [
       "pred_y\n",
       "0.0    0.207135\n",
       "1.0    0.794336\n",
       "2.0    0.453307\n",
       "Name: sil_score, dtype: float64"
      ]
     },
     "execution_count": 25,
     "metadata": {},
     "output_type": "execute_result"
    }
   ],
   "source": [
    "sil = silhouette_samples(test_x, pred_y)\n",
    "sil_pred = pd.DataFrame([pred_y, sil], index=['pred_y', 'sil_score'])\n",
    "sil_pred.T.groupby('pred_y')['sil_score'].mean()"
   ]
  },
  {
   "cell_type": "markdown",
   "id": "8b681778-1e0d-4d7a-bf9a-568a1f6bdf3a",
   "metadata": {},
   "source": [
    "## 연습문제\n",
    "2개로 군집을 나누어서 평가하기"
   ]
  },
  {
   "cell_type": "code",
   "execution_count": null,
   "id": "d82d1c82-f81d-411a-9e44-a07fc861d0b6",
   "metadata": {},
   "outputs": [],
   "source": []
  }
 ],
 "metadata": {
  "kernelspec": {
   "display_name": "Python 3 (ipykernel)",
   "language": "python",
   "name": "python3"
  },
  "language_info": {
   "codemirror_mode": {
    "name": "ipython",
    "version": 3
   },
   "file_extension": ".py",
   "mimetype": "text/x-python",
   "name": "python",
   "nbconvert_exporter": "python",
   "pygments_lexer": "ipython3",
   "version": "3.9.13"
  }
 },
 "nbformat": 4,
 "nbformat_minor": 5
}
