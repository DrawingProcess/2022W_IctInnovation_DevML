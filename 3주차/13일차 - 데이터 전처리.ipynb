{
 "cells": [
  {
   "cell_type": "markdown",
   "id": "e74df9ba-80c1-4e53-9f0b-c768186087ed",
   "metadata": {},
   "source": [
    "# 데이터 전처리\n",
    "1. 미싱 데이터 처리\n",
    "2. K-Fold Cross Validation\n",
    "3. 피쳐 스케일링\n",
    "4. 원핫 인코딩\n",
    "\n"
   ]
  },
  {
   "cell_type": "code",
   "execution_count": 1,
   "id": "c66c534f-df15-4e9f-9b8e-1e5b573fa6d4",
   "metadata": {},
   "outputs": [],
   "source": [
    "import pandas as pd\n",
    "import numpy as np"
   ]
  },
  {
   "cell_type": "markdown",
   "id": "23733bec-67f2-497e-8a68-90b1d5216742",
   "metadata": {},
   "source": [
    "## 전처리를 위한 데이터셋 불러오기\n",
    "구매 예측 데이터를 가져온다."
   ]
  },
  {
   "cell_type": "code",
   "execution_count": 2,
   "id": "11b6c211-698f-459e-bfa6-c96b347bf5eb",
   "metadata": {},
   "outputs": [
    {
     "data": {
      "text/html": [
       "<div>\n",
       "<style scoped>\n",
       "    .dataframe tbody tr th:only-of-type {\n",
       "        vertical-align: middle;\n",
       "    }\n",
       "\n",
       "    .dataframe tbody tr th {\n",
       "        vertical-align: top;\n",
       "    }\n",
       "\n",
       "    .dataframe thead th {\n",
       "        text-align: right;\n",
       "    }\n",
       "</style>\n",
       "<table border=\"1\" class=\"dataframe\">\n",
       "  <thead>\n",
       "    <tr style=\"text-align: right;\">\n",
       "      <th></th>\n",
       "      <th>Country</th>\n",
       "      <th>Age</th>\n",
       "      <th>Salary</th>\n",
       "      <th>Purchased</th>\n",
       "    </tr>\n",
       "  </thead>\n",
       "  <tbody>\n",
       "    <tr>\n",
       "      <th>0</th>\n",
       "      <td>France</td>\n",
       "      <td>44.0</td>\n",
       "      <td>72000.0</td>\n",
       "      <td>No</td>\n",
       "    </tr>\n",
       "    <tr>\n",
       "      <th>1</th>\n",
       "      <td>Spain</td>\n",
       "      <td>27.0</td>\n",
       "      <td>48000.0</td>\n",
       "      <td>Yes</td>\n",
       "    </tr>\n",
       "    <tr>\n",
       "      <th>2</th>\n",
       "      <td>Germany</td>\n",
       "      <td>30.0</td>\n",
       "      <td>54000.0</td>\n",
       "      <td>No</td>\n",
       "    </tr>\n",
       "    <tr>\n",
       "      <th>3</th>\n",
       "      <td>Spain</td>\n",
       "      <td>38.0</td>\n",
       "      <td>61000.0</td>\n",
       "      <td>No</td>\n",
       "    </tr>\n",
       "    <tr>\n",
       "      <th>4</th>\n",
       "      <td>Germany</td>\n",
       "      <td>40.0</td>\n",
       "      <td>NaN</td>\n",
       "      <td>Yes</td>\n",
       "    </tr>\n",
       "    <tr>\n",
       "      <th>5</th>\n",
       "      <td>France</td>\n",
       "      <td>35.0</td>\n",
       "      <td>58000.0</td>\n",
       "      <td>Yes</td>\n",
       "    </tr>\n",
       "    <tr>\n",
       "      <th>6</th>\n",
       "      <td>Spain</td>\n",
       "      <td>NaN</td>\n",
       "      <td>52000.0</td>\n",
       "      <td>No</td>\n",
       "    </tr>\n",
       "    <tr>\n",
       "      <th>7</th>\n",
       "      <td>France</td>\n",
       "      <td>48.0</td>\n",
       "      <td>79000.0</td>\n",
       "      <td>Yes</td>\n",
       "    </tr>\n",
       "    <tr>\n",
       "      <th>8</th>\n",
       "      <td>Germany</td>\n",
       "      <td>50.0</td>\n",
       "      <td>83000.0</td>\n",
       "      <td>No</td>\n",
       "    </tr>\n",
       "    <tr>\n",
       "      <th>9</th>\n",
       "      <td>France</td>\n",
       "      <td>37.0</td>\n",
       "      <td>67000.0</td>\n",
       "      <td>Yes</td>\n",
       "    </tr>\n",
       "  </tbody>\n",
       "</table>\n",
       "</div>"
      ],
      "text/plain": [
       "   Country   Age   Salary Purchased\n",
       "0   France  44.0  72000.0        No\n",
       "1    Spain  27.0  48000.0       Yes\n",
       "2  Germany  30.0  54000.0        No\n",
       "3    Spain  38.0  61000.0        No\n",
       "4  Germany  40.0      NaN       Yes\n",
       "5   France  35.0  58000.0       Yes\n",
       "6    Spain   NaN  52000.0        No\n",
       "7   France  48.0  79000.0       Yes\n",
       "8  Germany  50.0  83000.0        No\n",
       "9   France  37.0  67000.0       Yes"
      ]
     },
     "execution_count": 2,
     "metadata": {},
     "output_type": "execute_result"
    }
   ],
   "source": [
    "purchased_df = pd.read_excel('DataPreprocess.xlsx')\n",
    "purchased_df"
   ]
  },
  {
   "cell_type": "code",
   "execution_count": 3,
   "id": "a1135c1a-37ce-43f2-8d55-dd143782ea6d",
   "metadata": {},
   "outputs": [
    {
     "name": "stdout",
     "output_type": "stream",
     "text": [
      "[['France' 44.0 72000.0]\n",
      " ['Spain' 27.0 48000.0]\n",
      " ['Germany' 30.0 54000.0]\n",
      " ['Spain' 38.0 61000.0]\n",
      " ['Germany' 40.0 nan]\n",
      " ['France' 35.0 58000.0]\n",
      " ['Spain' nan 52000.0]\n",
      " ['France' 48.0 79000.0]\n",
      " ['Germany' 50.0 83000.0]\n",
      " ['France' 37.0 67000.0]]\n",
      "['No' 'Yes' 'No' 'No' 'Yes' 'Yes' 'No' 'Yes' 'No' 'Yes']\n"
     ]
    }
   ],
   "source": [
    "x = purchased_df.drop(['Purchased'], axis=1).values\n",
    "y = purchased_df['Purchased'].values\n",
    "\n",
    "print(x)\n",
    "print(y)"
   ]
  },
  {
   "cell_type": "markdown",
   "id": "cab73ffe-2f9d-444c-98a6-5583e1bfef51",
   "metadata": {},
   "source": [
    "## 미싱 데이터 처리"
   ]
  },
  {
   "cell_type": "code",
   "execution_count": 4,
   "id": "604ab335-8b0f-41dd-b897-71a18d87d85c",
   "metadata": {},
   "outputs": [
    {
     "data": {
      "text/plain": [
       "array([['France', 44.0, 72000.0],\n",
       "       ['Spain', 27.0, 48000.0],\n",
       "       ['Germany', 30.0, 54000.0],\n",
       "       ['Spain', 38.0, 61000.0],\n",
       "       ['Germany', 40.0, 63777.77777777778],\n",
       "       ['France', 35.0, 58000.0],\n",
       "       ['Spain', 38.77777777777778, 52000.0],\n",
       "       ['France', 48.0, 79000.0],\n",
       "       ['Germany', 50.0, 83000.0],\n",
       "       ['France', 37.0, 67000.0]], dtype=object)"
      ]
     },
     "execution_count": 4,
     "metadata": {},
     "output_type": "execute_result"
    }
   ],
   "source": [
    "from sklearn.impute import SimpleImputer\n",
    "\n",
    "imputer = SimpleImputer(missing_values=np.nan, strategy='mean') # 산술 평균\n",
    "imputer.fit(x[:,1:3]) # 학습\n",
    "x[:,1:3] = imputer.transform(x[:,1:3]) # 빈 값을 mean으로 채워넣는다.\n",
    "x"
   ]
  },
  {
   "cell_type": "markdown",
   "id": "96a3f44d-1b0c-40fa-9d94-d008b4956fb3",
   "metadata": {},
   "source": [
    "## K-Fold Cross Validation"
   ]
  },
  {
   "cell_type": "code",
   "execution_count": 5,
   "id": "5d219573-e73a-4aea-84fa-d0dfaf8029eb",
   "metadata": {},
   "outputs": [
    {
     "name": "stdout",
     "output_type": "stream",
     "text": [
      "train index: [0 1 3 4 5 6 8 9]\n",
      "................................................................................\n",
      "test index: [2 7]\n",
      "================================================================================\n",
      "train index: [0 2 3 4 5 6 7 8]\n",
      "................................................................................\n",
      "test index: [1 9]\n",
      "================================================================================\n",
      "train index: [1 2 3 4 5 6 7 9]\n",
      "................................................................................\n",
      "test index: [0 8]\n",
      "================================================================================\n",
      "train index: [0 1 2 3 6 7 8 9]\n",
      "................................................................................\n",
      "test index: [4 5]\n",
      "================================================================================\n",
      "train index: [0 1 2 4 5 7 8 9]\n",
      "................................................................................\n",
      "test index: [3 6]\n",
      "================================================================================\n"
     ]
    }
   ],
   "source": [
    "from sklearn.model_selection import KFold\n",
    "\n",
    "cv = KFold(n_splits=5, shuffle=True, random_state=1234)\n",
    "\n",
    "## cv.split(x)의 의미\n",
    "# Generate indices to split data into training and test set.\n",
    "# 데이터를 훈련 세트와 테스트 세트로 분할하기 위한 인덱스를 생성합니다.\n",
    "for train_index, test_index in cv.split(x):\n",
    "    print(f'train index: {train_index}')\n",
    "    print('.' * 80)\n",
    "    print(f'test index: {test_index}')\n",
    "    print('=' * 80)"
   ]
  },
  {
   "cell_type": "markdown",
   "id": "0afc69e9-7bd5-46bf-b927-5f4284910c5b",
   "metadata": {},
   "source": []
  },
  {
   "cell_type": "markdown",
   "id": "5097b296-1a6c-4269-a391-cc1ba217f5a9",
   "metadata": {},
   "source": [
    "## 피쳐 스케일링\n",
    "편향된 원본 데이터 "
   ]
  },
  {
   "cell_type": "code",
   "execution_count": 6,
   "id": "0ada0876-a02b-4208-a1ea-cbb813accbda",
   "metadata": {},
   "outputs": [
    {
     "data": {
      "text/plain": [
       "array([[44.0, 72000.0],\n",
       "       [27.0, 48000.0],\n",
       "       [30.0, 54000.0],\n",
       "       [38.0, 61000.0],\n",
       "       [40.0, 63777.77777777778],\n",
       "       [35.0, 58000.0],\n",
       "       [38.77777777777778, 52000.0],\n",
       "       [48.0, 79000.0],\n",
       "       [50.0, 83000.0],\n",
       "       [37.0, 67000.0]], dtype=object)"
      ]
     },
     "execution_count": 6,
     "metadata": {},
     "output_type": "execute_result"
    }
   ],
   "source": [
    "x[:,1:3]"
   ]
  },
  {
   "cell_type": "code",
   "execution_count": 7,
   "id": "b8508621-ba48-4c5f-8f35-7222228ae5ad",
   "metadata": {},
   "outputs": [
    {
     "data": {
      "text/plain": [
       "(0.0, 80000.0)"
      ]
     },
     "execution_count": 7,
     "metadata": {},
     "output_type": "execute_result"
    },
    {
     "data": {
      "image/png": "[encoded data removed]",
      "text/plain": [
       "<Figure size 432x288 with 1 Axes>"
      ]
     },
     "metadata": {
      "needs_background": "light"
     },
     "output_type": "display_data"
    }
   ],
   "source": [
    "import matplotlib.pyplot as plt\n",
    "\n",
    "plt.scatter(x[:,1], x[:,2])\n",
    "plt.xlim(0,80000)\n",
    "plt.ylim(0,80000)"
   ]
  },
  {
   "cell_type": "code",
   "execution_count": 8,
   "id": "88db2a9f-3744-4fcc-8fd8-61c42290ba07",
   "metadata": {},
   "outputs": [],
   "source": [
    "from sklearn.preprocessing import StandardScaler\n",
    "\n",
    "# StandardScaler: 평균이 0이고 분산이 1인 가우시안 정규 분포\n",
    "sc_x = StandardScaler()\n",
    "sc_x.fit(x[:,1:3]) # 원본 데이터를 학습한다.\n",
    "x[:,1:3] = sc_x.transform(x[:,1:3]) # 데이터를 평균이 0이고 분산이 1인 가우시안 정규 분포로 변환한다."
   ]
  },
  {
   "cell_type": "code",
   "execution_count": 9,
   "id": "8b64408c-ea29-449f-a26b-5d47b9df5ca7",
   "metadata": {},
   "outputs": [
    {
     "data": {
      "text/plain": [
       "(-3.0, 3.0)"
      ]
     },
     "execution_count": 9,
     "metadata": {},
     "output_type": "execute_result"
    },
    {
     "data": {
      "image/png": "[encoded data removed]",
      "text/plain": [
       "<Figure size 432x288 with 1 Axes>"
      ]
     },
     "metadata": {
      "needs_background": "light"
     },
     "output_type": "display_data"
    }
   ],
   "source": [
    "import matplotlib.pyplot as plt\n",
    "\n",
    "plt.scatter(x[:,1], x[:,2])\n",
    "plt.axhline(y=0, color='r', linestyle='-') # y 선\n",
    "plt.axvline(x=0, color='r', linestyle='-') # x 선\n",
    "plt.xlim(-3,3)\n",
    "plt.ylim(-3,3)"
   ]
  },
  {
   "cell_type": "markdown",
   "id": "a23a7ae6-39c8-46ff-8d8a-15bf0e636666",
   "metadata": {},
   "source": [
    "## 레이블 인코딩 실행"
   ]
  },
  {
   "cell_type": "code",
   "execution_count": 11,
   "id": "4f6e0ea7-cb89-4866-b14f-56796156f5ca",
   "metadata": {},
   "outputs": [
    {
     "data": {
      "text/plain": [
       "array(['No', 'Yes', 'No', 'No', 'Yes', 'Yes', 'No', 'Yes', 'No', 'Yes'],\n",
       "      dtype=object)"
      ]
     },
     "execution_count": 11,
     "metadata": {},
     "output_type": "execute_result"
    }
   ],
   "source": [
    "y"
   ]
  },
  {
   "cell_type": "code",
   "execution_count": 13,
   "id": "4e5f3464-e908-4acf-803f-3f51af975fea",
   "metadata": {},
   "outputs": [
    {
     "data": {
      "text/plain": [
       "LabelEncoder()"
      ]
     },
     "execution_count": 13,
     "metadata": {},
     "output_type": "execute_result"
    }
   ],
   "source": [
    "from sklearn.preprocessing import LabelEncoder, OneHotEncoder\n",
    "\n",
    "purchased_le = LabelEncoder()\n",
    "purchased_le.fit(y) # 학습"
   ]
  },
  {
   "cell_type": "code",
   "execution_count": 15,
   "id": "1f022916-0734-4373-8e30-fa7e4cd46b1b",
   "metadata": {},
   "outputs": [
    {
     "data": {
      "text/plain": [
       "array([0, 1, 0, 0, 1, 1, 0, 1, 0, 1])"
      ]
     },
     "execution_count": 15,
     "metadata": {},
     "output_type": "execute_result"
    }
   ],
   "source": [
    "y = purchased_le.transform(y) # Yes, No -> 0, 1\n",
    "y"
   ]
  },
  {
   "cell_type": "code",
   "execution_count": 16,
   "id": "4d909d1d-6d1b-469d-bdf6-667786ca6a4b",
   "metadata": {},
   "outputs": [
    {
     "data": {
      "text/plain": [
       "array(['No', 'Yes', 'No', 'No', 'Yes', 'Yes', 'No', 'Yes', 'No', 'Yes'],\n",
       "      dtype=object)"
      ]
     },
     "execution_count": 16,
     "metadata": {},
     "output_type": "execute_result"
    }
   ],
   "source": [
    "purchased_le.inverse_transform(y) # 거꾸로 레이블을 다시 Yes, No"
   ]
  },
  {
   "cell_type": "code",
   "execution_count": 25,
   "id": "b5da5ad1-a4ee-4991-b75f-d9a4005ace5c",
   "metadata": {},
   "outputs": [],
   "source": [
    "Country = ['France', 'Spain', 'Germany']\n",
    "\n",
    "country_ohe = OneHotEncoder(categories=[Country], handle_unknown='ignore')\n",
    "country_ohe.fit(x[:, 0].reshape(-1,1)) # 변환할 2차원 데이터 \n",
    "\n",
    "ohe_country = country_ohe.transform(x[:, 0].reshape(-1,1)).toarray() # 변환 후 ndarray로 출력\n",
    "ohe_country"
   ]
  },
  {
   "cell_type": "code",
   "execution_count": 30,
   "id": "54837467-709c-463f-b4ad-6d87a836a8d0",
   "metadata": {},
   "outputs": [
    {
     "data": {
      "text/plain": [
       "array([[1.0, 0.0, 0.0, 0.758874361590019, 0.7494732544921677],\n",
       "       [0.0, 1.0, 0.0, -1.7115038793306814, -1.4381784072687531],\n",
       "       [0.0, 0.0, 1.0, -1.2755547779917342, -0.8912654918285229],\n",
       "       [0.0, 1.0, 0.0, -0.1130238410878753, -0.253200423814921],\n",
       "       [0.0, 0.0, 1.0, 0.17760889313808945, 6.632191985654332e-16],\n",
       "       [1.0, 0.0, 0.0, -0.5489729424268225, -0.5266568815350361],\n",
       "       [0.0, 1.0, 0.0, 0.0, -1.0735697969752662],\n",
       "       [1.0, 0.0, 0.0, 1.3401398300419485, 1.3875383225057696],\n",
       "       [0.0, 0.0, 1.0, 1.6307725642679132, 1.7521469327992565],\n",
       "       [1.0, 0.0, 0.0, -0.2583402082008577, 0.29371249162530916]],\n",
       "      dtype=object)"
      ]
     },
     "execution_count": 30,
     "metadata": {},
     "output_type": "execute_result"
    }
   ],
   "source": [
    "x[:,1:] # Country열을 제거\n",
    "\n",
    "x = np.concatenate([ohe_country, x[:,1:]], axis=1)\n",
    "x"
   ]
  },
  {
   "cell_type": "code",
   "execution_count": 31,
   "id": "c39d69c7-9995-49f0-a4f9-1cea3f4570a9",
   "metadata": {},
   "outputs": [
    {
     "data": {
      "text/html": [
       "<div>\n",
       "<style scoped>\n",
       "    .dataframe tbody tr th:only-of-type {\n",
       "        vertical-align: middle;\n",
       "    }\n",
       "\n",
       "    .dataframe tbody tr th {\n",
       "        vertical-align: top;\n",
       "    }\n",
       "\n",
       "    .dataframe thead th {\n",
       "        text-align: right;\n",
       "    }\n",
       "</style>\n",
       "<table border=\"1\" class=\"dataframe\">\n",
       "  <thead>\n",
       "    <tr style=\"text-align: right;\">\n",
       "      <th></th>\n",
       "      <th>France</th>\n",
       "      <th>Spain</th>\n",
       "      <th>Germany</th>\n",
       "      <th>Age</th>\n",
       "      <th>Salary</th>\n",
       "      <th>Purchased</th>\n",
       "    </tr>\n",
       "  </thead>\n",
       "  <tbody>\n",
       "    <tr>\n",
       "      <th>0</th>\n",
       "      <td>1.0</td>\n",
       "      <td>0.0</td>\n",
       "      <td>0.0</td>\n",
       "      <td>0.758874</td>\n",
       "      <td>0.749473</td>\n",
       "      <td>0</td>\n",
       "    </tr>\n",
       "    <tr>\n",
       "      <th>1</th>\n",
       "      <td>0.0</td>\n",
       "      <td>1.0</td>\n",
       "      <td>0.0</td>\n",
       "      <td>-1.711504</td>\n",
       "      <td>-1.438178</td>\n",
       "      <td>1</td>\n",
       "    </tr>\n",
       "    <tr>\n",
       "      <th>2</th>\n",
       "      <td>0.0</td>\n",
       "      <td>0.0</td>\n",
       "      <td>1.0</td>\n",
       "      <td>-1.275555</td>\n",
       "      <td>-0.891265</td>\n",
       "      <td>0</td>\n",
       "    </tr>\n",
       "    <tr>\n",
       "      <th>3</th>\n",
       "      <td>0.0</td>\n",
       "      <td>1.0</td>\n",
       "      <td>0.0</td>\n",
       "      <td>-0.113024</td>\n",
       "      <td>-0.2532</td>\n",
       "      <td>0</td>\n",
       "    </tr>\n",
       "    <tr>\n",
       "      <th>4</th>\n",
       "      <td>0.0</td>\n",
       "      <td>0.0</td>\n",
       "      <td>1.0</td>\n",
       "      <td>0.177609</td>\n",
       "      <td>0.0</td>\n",
       "      <td>1</td>\n",
       "    </tr>\n",
       "    <tr>\n",
       "      <th>5</th>\n",
       "      <td>1.0</td>\n",
       "      <td>0.0</td>\n",
       "      <td>0.0</td>\n",
       "      <td>-0.548973</td>\n",
       "      <td>-0.526657</td>\n",
       "      <td>1</td>\n",
       "    </tr>\n",
       "    <tr>\n",
       "      <th>6</th>\n",
       "      <td>0.0</td>\n",
       "      <td>1.0</td>\n",
       "      <td>0.0</td>\n",
       "      <td>0.0</td>\n",
       "      <td>-1.07357</td>\n",
       "      <td>0</td>\n",
       "    </tr>\n",
       "    <tr>\n",
       "      <th>7</th>\n",
       "      <td>1.0</td>\n",
       "      <td>0.0</td>\n",
       "      <td>0.0</td>\n",
       "      <td>1.34014</td>\n",
       "      <td>1.387538</td>\n",
       "      <td>1</td>\n",
       "    </tr>\n",
       "    <tr>\n",
       "      <th>8</th>\n",
       "      <td>0.0</td>\n",
       "      <td>0.0</td>\n",
       "      <td>1.0</td>\n",
       "      <td>1.630773</td>\n",
       "      <td>1.752147</td>\n",
       "      <td>0</td>\n",
       "    </tr>\n",
       "    <tr>\n",
       "      <th>9</th>\n",
       "      <td>1.0</td>\n",
       "      <td>0.0</td>\n",
       "      <td>0.0</td>\n",
       "      <td>-0.25834</td>\n",
       "      <td>0.293712</td>\n",
       "      <td>1</td>\n",
       "    </tr>\n",
       "  </tbody>\n",
       "</table>\n",
       "</div>"
      ],
      "text/plain": [
       "  France Spain Germany       Age    Salary Purchased\n",
       "0    1.0   0.0     0.0  0.758874  0.749473         0\n",
       "1    0.0   1.0     0.0 -1.711504 -1.438178         1\n",
       "2    0.0   0.0     1.0 -1.275555 -0.891265         0\n",
       "3    0.0   1.0     0.0 -0.113024   -0.2532         0\n",
       "4    0.0   0.0     1.0  0.177609       0.0         1\n",
       "5    1.0   0.0     0.0 -0.548973 -0.526657         1\n",
       "6    0.0   1.0     0.0       0.0  -1.07357         0\n",
       "7    1.0   0.0     0.0   1.34014  1.387538         1\n",
       "8    0.0   0.0     1.0  1.630773  1.752147         0\n",
       "9    1.0   0.0     0.0  -0.25834  0.293712         1"
      ]
     },
     "execution_count": 31,
     "metadata": {},
     "output_type": "execute_result"
    }
   ],
   "source": [
    "columns = ['France', 'Spain', 'Germany', 'Age', 'Salary', 'Purchased']\n",
    "preprocced_data = np.concatenate([x, y.reshape(-1,1)], axis=1)\n",
    "pd.DataFrame(preprocced_data, columns=columns)"
   ]
  },
  {
   "cell_type": "code",
   "execution_count": 32,
   "id": "7052390c-2e49-4d5e-b261-0e11585708ce",
   "metadata": {},
   "outputs": [
    {
     "data": {
      "text/html": [
       "<div>\n",
       "<style scoped>\n",
       "    .dataframe tbody tr th:only-of-type {\n",
       "        vertical-align: middle;\n",
       "    }\n",
       "\n",
       "    .dataframe tbody tr th {\n",
       "        vertical-align: top;\n",
       "    }\n",
       "\n",
       "    .dataframe thead th {\n",
       "        text-align: right;\n",
       "    }\n",
       "</style>\n",
       "<table border=\"1\" class=\"dataframe\">\n",
       "  <thead>\n",
       "    <tr style=\"text-align: right;\">\n",
       "      <th></th>\n",
       "      <th>Country</th>\n",
       "      <th>Age</th>\n",
       "      <th>Salary</th>\n",
       "      <th>Purchased</th>\n",
       "    </tr>\n",
       "  </thead>\n",
       "  <tbody>\n",
       "    <tr>\n",
       "      <th>0</th>\n",
       "      <td>France</td>\n",
       "      <td>44.0</td>\n",
       "      <td>72000.0</td>\n",
       "      <td>No</td>\n",
       "    </tr>\n",
       "    <tr>\n",
       "      <th>1</th>\n",
       "      <td>Spain</td>\n",
       "      <td>27.0</td>\n",
       "      <td>48000.0</td>\n",
       "      <td>Yes</td>\n",
       "    </tr>\n",
       "    <tr>\n",
       "      <th>2</th>\n",
       "      <td>Germany</td>\n",
       "      <td>30.0</td>\n",
       "      <td>54000.0</td>\n",
       "      <td>No</td>\n",
       "    </tr>\n",
       "    <tr>\n",
       "      <th>3</th>\n",
       "      <td>Spain</td>\n",
       "      <td>38.0</td>\n",
       "      <td>61000.0</td>\n",
       "      <td>No</td>\n",
       "    </tr>\n",
       "    <tr>\n",
       "      <th>4</th>\n",
       "      <td>Germany</td>\n",
       "      <td>40.0</td>\n",
       "      <td>NaN</td>\n",
       "      <td>Yes</td>\n",
       "    </tr>\n",
       "    <tr>\n",
       "      <th>5</th>\n",
       "      <td>France</td>\n",
       "      <td>35.0</td>\n",
       "      <td>58000.0</td>\n",
       "      <td>Yes</td>\n",
       "    </tr>\n",
       "    <tr>\n",
       "      <th>6</th>\n",
       "      <td>Spain</td>\n",
       "      <td>NaN</td>\n",
       "      <td>52000.0</td>\n",
       "      <td>No</td>\n",
       "    </tr>\n",
       "    <tr>\n",
       "      <th>7</th>\n",
       "      <td>France</td>\n",
       "      <td>48.0</td>\n",
       "      <td>79000.0</td>\n",
       "      <td>Yes</td>\n",
       "    </tr>\n",
       "    <tr>\n",
       "      <th>8</th>\n",
       "      <td>Germany</td>\n",
       "      <td>50.0</td>\n",
       "      <td>83000.0</td>\n",
       "      <td>No</td>\n",
       "    </tr>\n",
       "    <tr>\n",
       "      <th>9</th>\n",
       "      <td>France</td>\n",
       "      <td>37.0</td>\n",
       "      <td>67000.0</td>\n",
       "      <td>Yes</td>\n",
       "    </tr>\n",
       "  </tbody>\n",
       "</table>\n",
       "</div>"
      ],
      "text/plain": [
       "   Country   Age   Salary Purchased\n",
       "0   France  44.0  72000.0        No\n",
       "1    Spain  27.0  48000.0       Yes\n",
       "2  Germany  30.0  54000.0        No\n",
       "3    Spain  38.0  61000.0        No\n",
       "4  Germany  40.0      NaN       Yes\n",
       "5   France  35.0  58000.0       Yes\n",
       "6    Spain   NaN  52000.0        No\n",
       "7   France  48.0  79000.0       Yes\n",
       "8  Germany  50.0  83000.0        No\n",
       "9   France  37.0  67000.0       Yes"
      ]
     },
     "execution_count": 32,
     "metadata": {},
     "output_type": "execute_result"
    }
   ],
   "source": [
    "purchased_df"
   ]
  },
  {
   "cell_type": "code",
   "execution_count": null,
   "id": "2596a230-2e88-46aa-bdf4-a82da2334eef",
   "metadata": {},
   "outputs": [],
   "source": []
  }
 ],
 "metadata": {
  "kernelspec": {
   "display_name": "Python 3 (ipykernel)",
   "language": "python",
   "name": "python3"
  },
  "language_info": {
   "codemirror_mode": {
    "name": "ipython",
    "version": 3
   },
   "file_extension": ".py",
   "mimetype": "text/x-python",
   "name": "python",
   "nbconvert_exporter": "python",
   "pygments_lexer": "ipython3",
   "version": "3.9.12"
  }
 },
 "nbformat": 4,
 "nbformat_minor": 5
}
