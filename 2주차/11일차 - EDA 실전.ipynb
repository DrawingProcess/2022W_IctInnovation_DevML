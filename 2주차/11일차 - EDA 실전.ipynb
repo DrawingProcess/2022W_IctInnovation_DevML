{
 "cells": [
  {
   "cell_type": "markdown",
   "id": "20b5030d-96e4-433c-b4ff-2f9d776fd0f0",
   "metadata": {},
   "source": [
    "# 타이타닉 데이터 정리/탐색 연습 문제\n",
    "## 데이터의 빈 부분을 처리하라.\n",
    "1. 각 컬럼에 빈 값이 얼마나 있는지 확인하라.\n",
    "2. 각 컬럼에 빈 값을 적절히  채우고 빈 값이 200이 넘어가는 데이터는 특징에서 제외한다.\n",
    "\n",
    "## 다음 내용을 그래프로 그려 데이터를 확인하라.\n",
    "1. 생존자와 사망자 수와 생존율은 얼마인가?\n",
    "2. 성별에 따른 생존자와 사망자 수와 생존율은 얼마인가?\n",
    "3. 클래스에 따른 생존자와 사망자 수와 생존율은 얼마인가?\n",
    "4. 생애단계별 생존자수와 생존율은 얼마인가(Kid(10세이하), Teenager(20세이하), Adult(50세이하), Senior(50세 초과)?\n",
    "5. 각 특징에 얼마나 많은 고유 데이터가 있는지 나타내라.\n",
    "6. 다양한 시각화를 사용해 생존율과 각 속성 간의 어떤 관계가 있는지 나타내라."
   ]
  },
  {
   "cell_type": "code",
   "execution_count": 1,
   "id": "d3ebf9f8-e259-4190-a53a-f7d195008338",
   "metadata": {},
   "outputs": [],
   "source": [
    "# 라이브러리 가져오기\n",
    "import pandas as pd\n",
    "import numpy as np\n",
    "import matplotlib.pyplot as plt\n",
    "import seaborn as sns"
   ]
  },
  {
   "cell_type": "code",
   "execution_count": 2,
   "id": "6a92af9c-9dca-4de5-a0f1-a4483f496303",
   "metadata": {},
   "outputs": [
    {
     "data": {
      "text/html": [
       "<div>\n",
       "<style scoped>\n",
       "    .dataframe tbody tr th:only-of-type {\n",
       "        vertical-align: middle;\n",
       "    }\n",
       "\n",
       "    .dataframe tbody tr th {\n",
       "        vertical-align: top;\n",
       "    }\n",
       "\n",
       "    .dataframe thead th {\n",
       "        text-align: right;\n",
       "    }\n",
       "</style>\n",
       "<table border=\"1\" class=\"dataframe\">\n",
       "  <thead>\n",
       "    <tr style=\"text-align: right;\">\n",
       "      <th></th>\n",
       "      <th>PassengerId</th>\n",
       "      <th>Survived</th>\n",
       "      <th>Pclass</th>\n",
       "      <th>Name</th>\n",
       "      <th>Sex</th>\n",
       "      <th>Age</th>\n",
       "      <th>SibSp</th>\n",
       "      <th>Parch</th>\n",
       "      <th>Ticket</th>\n",
       "      <th>Fare</th>\n",
       "      <th>Cabin</th>\n",
       "      <th>Embarked</th>\n",
       "    </tr>\n",
       "  </thead>\n",
       "  <tbody>\n",
       "    <tr>\n",
       "      <th>0</th>\n",
       "      <td>1</td>\n",
       "      <td>0</td>\n",
       "      <td>3</td>\n",
       "      <td>Braund, Mr. Owen Harris</td>\n",
       "      <td>male</td>\n",
       "      <td>22.0</td>\n",
       "      <td>1</td>\n",
       "      <td>0</td>\n",
       "      <td>A/5 21171</td>\n",
       "      <td>7.2500</td>\n",
       "      <td>NaN</td>\n",
       "      <td>S</td>\n",
       "    </tr>\n",
       "    <tr>\n",
       "      <th>1</th>\n",
       "      <td>2</td>\n",
       "      <td>1</td>\n",
       "      <td>1</td>\n",
       "      <td>Cumings, Mrs. John Bradley (Florence Briggs Th...</td>\n",
       "      <td>female</td>\n",
       "      <td>38.0</td>\n",
       "      <td>1</td>\n",
       "      <td>0</td>\n",
       "      <td>PC 17599</td>\n",
       "      <td>71.2833</td>\n",
       "      <td>C85</td>\n",
       "      <td>C</td>\n",
       "    </tr>\n",
       "    <tr>\n",
       "      <th>2</th>\n",
       "      <td>3</td>\n",
       "      <td>1</td>\n",
       "      <td>3</td>\n",
       "      <td>Heikkinen, Miss. Laina</td>\n",
       "      <td>female</td>\n",
       "      <td>26.0</td>\n",
       "      <td>0</td>\n",
       "      <td>0</td>\n",
       "      <td>STON/O2. 3101282</td>\n",
       "      <td>7.9250</td>\n",
       "      <td>NaN</td>\n",
       "      <td>S</td>\n",
       "    </tr>\n",
       "    <tr>\n",
       "      <th>3</th>\n",
       "      <td>4</td>\n",
       "      <td>1</td>\n",
       "      <td>1</td>\n",
       "      <td>Futrelle, Mrs. Jacques Heath (Lily May Peel)</td>\n",
       "      <td>female</td>\n",
       "      <td>35.0</td>\n",
       "      <td>1</td>\n",
       "      <td>0</td>\n",
       "      <td>113803</td>\n",
       "      <td>53.1000</td>\n",
       "      <td>C123</td>\n",
       "      <td>S</td>\n",
       "    </tr>\n",
       "    <tr>\n",
       "      <th>4</th>\n",
       "      <td>5</td>\n",
       "      <td>0</td>\n",
       "      <td>3</td>\n",
       "      <td>Allen, Mr. William Henry</td>\n",
       "      <td>male</td>\n",
       "      <td>35.0</td>\n",
       "      <td>0</td>\n",
       "      <td>0</td>\n",
       "      <td>373450</td>\n",
       "      <td>8.0500</td>\n",
       "      <td>NaN</td>\n",
       "      <td>S</td>\n",
       "    </tr>\n",
       "  </tbody>\n",
       "</table>\n",
       "</div>"
      ],
      "text/plain": [
       "   PassengerId  Survived  Pclass  \\\n",
       "0            1         0       3   \n",
       "1            2         1       1   \n",
       "2            3         1       3   \n",
       "3            4         1       1   \n",
       "4            5         0       3   \n",
       "\n",
       "                                                Name     Sex   Age  SibSp  \\\n",
       "0                            Braund, Mr. Owen Harris    male  22.0      1   \n",
       "1  Cumings, Mrs. John Bradley (Florence Briggs Th...  female  38.0      1   \n",
       "2                             Heikkinen, Miss. Laina  female  26.0      0   \n",
       "3       Futrelle, Mrs. Jacques Heath (Lily May Peel)  female  35.0      1   \n",
       "4                           Allen, Mr. William Henry    male  35.0      0   \n",
       "\n",
       "   Parch            Ticket     Fare Cabin Embarked  \n",
       "0      0         A/5 21171   7.2500   NaN        S  \n",
       "1      0          PC 17599  71.2833   C85        C  \n",
       "2      0  STON/O2. 3101282   7.9250   NaN        S  \n",
       "3      0            113803  53.1000  C123        S  \n",
       "4      0            373450   8.0500   NaN        S  "
      ]
     },
     "execution_count": 2,
     "metadata": {},
     "output_type": "execute_result"
    }
   ],
   "source": [
    "titanic_df = pd.read_csv('titanic_train.csv')\n",
    "titanic_df.head()"
   ]
  },
  {
   "cell_type": "markdown",
   "id": "cf2f4ff6-40ee-4f68-b474-215ced0de969",
   "metadata": {},
   "source": [
    "## 데이터의 빈 부분을 처리하라.\n",
    "1. 각 컬럼에 빈 값이 얼마나 있는지 확인하라."
   ]
  },
  {
   "cell_type": "code",
   "execution_count": 3,
   "id": "b975a2f1-5b8a-43f2-8b6b-9f3217f703d5",
   "metadata": {},
   "outputs": [
    {
     "data": {
      "text/plain": [
       "Cabin          687\n",
       "Age            177\n",
       "Embarked         2\n",
       "PassengerId      0\n",
       "Survived         0\n",
       "Pclass           0\n",
       "Name             0\n",
       "Sex              0\n",
       "SibSp            0\n",
       "Parch            0\n",
       "Ticket           0\n",
       "Fare             0\n",
       "dtype: int64"
      ]
     },
     "execution_count": 3,
     "metadata": {},
     "output_type": "execute_result"
    }
   ],
   "source": [
    "titanic_df.isnull().sum().sort_values(ascending=False)"
   ]
  },
  {
   "cell_type": "markdown",
   "id": "d47871f4-0a3c-46e1-9398-019fe394962e",
   "metadata": {},
   "source": [
    "2. 각 컬럼에 빈 값을 적절히  채우고 빈 값이 200이 넘어가는 데이터는 특징에서 제외한다."
   ]
  },
  {
   "cell_type": "code",
   "execution_count": 4,
   "id": "aaf2bd5d-44db-4946-8472-2c95d6b79a31",
   "metadata": {},
   "outputs": [
    {
     "data": {
      "text/plain": [
       "PassengerId    0\n",
       "Survived       0\n",
       "Pclass         0\n",
       "Name           0\n",
       "Sex            0\n",
       "Age            0\n",
       "SibSp          0\n",
       "Parch          0\n",
       "Ticket         0\n",
       "Fare           0\n",
       "Embarked       0\n",
       "dtype: int64"
      ]
     },
     "execution_count": 4,
     "metadata": {},
     "output_type": "execute_result"
    }
   ],
   "source": [
    "# cabin 드랍\n",
    "titanic_df.drop(['Cabin'], axis=1, inplace=True) # inplace=True 현재 있는 데이터를 변경\n",
    "\n",
    "# age 중간값\n",
    "titanic_df['Age'] = titanic_df['Age'].fillna(titanic_df['Age'].median())\n",
    "\n",
    "# Embarked 최빈값 (선착장)\n",
    "titanic_df['Embarked'] = titanic_df['Embarked'].fillna(titanic_df['Embarked'].mode()[0])\n",
    "\n",
    "titanic_df.isnull().sum().sort_values(ascending=False)"
   ]
  },
  {
   "cell_type": "markdown",
   "id": "68e05f1a-e04c-44aa-a1fc-7f55c7b28a55",
   "metadata": {},
   "source": [
    "## 다음 내용을 그래프로 그려 데이터를 확인하라.\n",
    "1. 생존자와 사망자 수와 생존율은 얼마인가?"
   ]
  },
  {
   "cell_type": "code",
   "execution_count": 5,
   "id": "924d4480-8381-47ab-922e-296db8822624",
   "metadata": {},
   "outputs": [
    {
     "name": "stdout",
     "output_type": "stream",
     "text": [
      "생존자 수 현황\n",
      "생존자: 549\n",
      "사망자: 342\n"
     ]
    }
   ],
   "source": [
    "print(\"생존자 수 현황\")\n",
    "result = titanic_df['Survived'].value_counts()\n",
    "print('생존자:', result[0])\n",
    "print(\"사망자:\", result[1])"
   ]
  },
  {
   "cell_type": "code",
   "execution_count": 6,
   "id": "f780ac2e-f23f-4e4d-b989-fff2f2fc1ddd",
   "metadata": {},
   "outputs": [
    {
     "data": {
      "text/plain": [
       "<AxesSubplot:xlabel='Survived', ylabel='count'>"
      ]
     },
     "execution_count": 6,
     "metadata": {},
     "output_type": "execute_result"
    },
    {
     "data": {
      "image/png": "[encoded data removed]",
      "text/plain": [
       "<Figure size 432x288 with 1 Axes>"
      ]
     },
     "metadata": {
      "needs_background": "light"
     },
     "output_type": "display_data"
    }
   ],
   "source": [
    "sns.countplot(data=titanic_df, x='Survived')"
   ]
  },
  {
   "cell_type": "code",
   "execution_count": 7,
   "id": "f1de5883-85bf-40d0-badc-2549c8c6adcd",
   "metadata": {},
   "outputs": [
    {
     "name": "stdout",
     "output_type": "stream",
     "text": [
      "사망자 비율: 0.6161616161616161\n",
      "생존자 비율: 0.3838383838383838\n"
     ]
    }
   ],
   "source": [
    "result = titanic_df['Survived'].value_counts()/titanic_df['Survived'].count()\n",
    "print('사망자 비율:', result[0])\n",
    "print(\"생존자 비율:\", result[1])"
   ]
  },
  {
   "cell_type": "markdown",
   "id": "f3f6a17a-53cd-49f1-b6fa-ac8e0d8c8eec",
   "metadata": {},
   "source": [
    "2. 성별에 따른 생존자와 사망자 수와 생존율은 얼마인가?"
   ]
  },
  {
   "cell_type": "code",
   "execution_count": 8,
   "id": "d8f07962-d493-4944-bfc8-f50064344a8c",
   "metadata": {},
   "outputs": [
    {
     "data": {
      "text/html": [
       "<div>\n",
       "<style scoped>\n",
       "    .dataframe tbody tr th:only-of-type {\n",
       "        vertical-align: middle;\n",
       "    }\n",
       "\n",
       "    .dataframe tbody tr th {\n",
       "        vertical-align: top;\n",
       "    }\n",
       "\n",
       "    .dataframe thead th {\n",
       "        text-align: right;\n",
       "    }\n",
       "</style>\n",
       "<table border=\"1\" class=\"dataframe\">\n",
       "  <thead>\n",
       "    <tr style=\"text-align: right;\">\n",
       "      <th></th>\n",
       "      <th>Survived</th>\n",
       "    </tr>\n",
       "    <tr>\n",
       "      <th>Sex</th>\n",
       "      <th></th>\n",
       "    </tr>\n",
       "  </thead>\n",
       "  <tbody>\n",
       "    <tr>\n",
       "      <th>female</th>\n",
       "      <td>233</td>\n",
       "    </tr>\n",
       "    <tr>\n",
       "      <th>male</th>\n",
       "      <td>109</td>\n",
       "    </tr>\n",
       "  </tbody>\n",
       "</table>\n",
       "</div>"
      ],
      "text/plain": [
       "        Survived\n",
       "Sex             \n",
       "female       233\n",
       "male         109"
      ]
     },
     "execution_count": 8,
     "metadata": {},
     "output_type": "execute_result"
    }
   ],
   "source": [
    "surived_count_by_sex_series = titanic_df.pivot_table(index=[\"Sex\"], values=[\"Survived\"], aggfunc=np.sum)\n",
    "surived_mean_by_sex_series = titanic_df.pivot_table(index=[\"Sex\"], values=[\"Survived\"], aggfunc=np.mean)\n",
    "\n",
    "surived_count_by_sex_series"
   ]
  },
  {
   "cell_type": "code",
   "execution_count": 9,
   "id": "813f5e8d-9457-411c-9a1a-2a82ee7ef835",
   "metadata": {},
   "outputs": [
    {
     "data": {
      "text/html": [
       "<div>\n",
       "<style scoped>\n",
       "    .dataframe tbody tr th:only-of-type {\n",
       "        vertical-align: middle;\n",
       "    }\n",
       "\n",
       "    .dataframe tbody tr th {\n",
       "        vertical-align: top;\n",
       "    }\n",
       "\n",
       "    .dataframe thead th {\n",
       "        text-align: right;\n",
       "    }\n",
       "</style>\n",
       "<table border=\"1\" class=\"dataframe\">\n",
       "  <thead>\n",
       "    <tr style=\"text-align: right;\">\n",
       "      <th></th>\n",
       "      <th>Survived</th>\n",
       "    </tr>\n",
       "    <tr>\n",
       "      <th>Sex</th>\n",
       "      <th></th>\n",
       "    </tr>\n",
       "  </thead>\n",
       "  <tbody>\n",
       "    <tr>\n",
       "      <th>female</th>\n",
       "      <td>0.742038</td>\n",
       "    </tr>\n",
       "    <tr>\n",
       "      <th>male</th>\n",
       "      <td>0.188908</td>\n",
       "    </tr>\n",
       "  </tbody>\n",
       "</table>\n",
       "</div>"
      ],
      "text/plain": [
       "        Survived\n",
       "Sex             \n",
       "female  0.742038\n",
       "male    0.188908"
      ]
     },
     "execution_count": 9,
     "metadata": {},
     "output_type": "execute_result"
    }
   ],
   "source": [
    "surived_mean_by_sex_series"
   ]
  },
  {
   "cell_type": "code",
   "execution_count": 10,
   "id": "f6aafb5f-af9b-4fbf-b284-af1543814abf",
   "metadata": {},
   "outputs": [
    {
     "data": {
      "text/plain": [
       "<AxesSubplot:xlabel='Sex'>"
      ]
     },
     "execution_count": 10,
     "metadata": {},
     "output_type": "execute_result"
    },
    {
     "data": {
      "image/png": "[encoded data removed]",
      "text/plain": [
       "<Figure size 432x288 with 1 Axes>"
      ]
     },
     "metadata": {
      "needs_background": "light"
     },
     "output_type": "display_data"
    }
   ],
   "source": [
    "surived_count_by_sex_series.plot(kind='bar')"
   ]
  },
  {
   "cell_type": "code",
   "execution_count": 11,
   "id": "eeb9fe1f-97a3-4f1a-b030-54334eff8d49",
   "metadata": {},
   "outputs": [
    {
     "data": {
      "text/plain": [
       "<AxesSubplot:xlabel='Sex'>"
      ]
     },
     "execution_count": 11,
     "metadata": {},
     "output_type": "execute_result"
    },
    {
     "data": {
      "image/png": "[encoded data removed]",
      "text/plain": [
       "<Figure size 432x288 with 1 Axes>"
      ]
     },
     "metadata": {
      "needs_background": "light"
     },
     "output_type": "display_data"
    }
   ],
   "source": [
    "surived_mean_by_sex_series.plot(kind='bar')"
   ]
  },
  {
   "cell_type": "markdown",
   "id": "ace236bd-7f74-4384-86bb-0c21626d1799",
   "metadata": {},
   "source": [
    "3. 클래스에 따른 생존자와 사망자 수와 생존율은 얼마인가?\n"
   ]
  },
  {
   "cell_type": "code",
   "execution_count": 12,
   "id": "d49a5d6b-8901-4693-85dd-f1bc598d9e96",
   "metadata": {},
   "outputs": [
    {
     "data": {
      "text/html": [
       "<div>\n",
       "<style scoped>\n",
       "    .dataframe tbody tr th:only-of-type {\n",
       "        vertical-align: middle;\n",
       "    }\n",
       "\n",
       "    .dataframe tbody tr th {\n",
       "        vertical-align: top;\n",
       "    }\n",
       "\n",
       "    .dataframe thead th {\n",
       "        text-align: right;\n",
       "    }\n",
       "</style>\n",
       "<table border=\"1\" class=\"dataframe\">\n",
       "  <thead>\n",
       "    <tr style=\"text-align: right;\">\n",
       "      <th></th>\n",
       "      <th>number of survivors</th>\n",
       "      <th>survival rate</th>\n",
       "    </tr>\n",
       "  </thead>\n",
       "  <tbody>\n",
       "    <tr>\n",
       "      <th>0</th>\n",
       "      <td>136.0</td>\n",
       "      <td>0.629630</td>\n",
       "    </tr>\n",
       "    <tr>\n",
       "      <th>1</th>\n",
       "      <td>87.0</td>\n",
       "      <td>0.472826</td>\n",
       "    </tr>\n",
       "    <tr>\n",
       "      <th>2</th>\n",
       "      <td>119.0</td>\n",
       "      <td>0.242363</td>\n",
       "    </tr>\n",
       "  </tbody>\n",
       "</table>\n",
       "</div>"
      ],
      "text/plain": [
       "   number of survivors  survival rate\n",
       "0                136.0       0.629630\n",
       "1                 87.0       0.472826\n",
       "2                119.0       0.242363"
      ]
     },
     "execution_count": 12,
     "metadata": {},
     "output_type": "execute_result"
    }
   ],
   "source": [
    "surived_count_by_Pclass_series = titanic_df.pivot_table(index=[\"Pclass\"], values=[\"Survived\"], aggfunc=np.sum)\n",
    "surived_mean_by_Pclass_series = titanic_df.pivot_table(index=[\"Pclass\"], values=[\"Survived\"], aggfunc=np.mean)\n",
    " \n",
    "result_df = pd.DataFrame(np.hstack([surived_count_by_Pclass_series.values, surived_mean_by_Pclass_series.values]), columns=['number of survivors', 'survival rate'])\n",
    "result_df"
   ]
  },
  {
   "cell_type": "code",
   "execution_count": 13,
   "id": "0674821c-5ae7-4e0a-8e22-e3c19f2db9d5",
   "metadata": {},
   "outputs": [
    {
     "data": {
      "text/plain": [
       "<AxesSubplot:>"
      ]
     },
     "execution_count": 13,
     "metadata": {},
     "output_type": "execute_result"
    },
    {
     "data": {
      "image/png": "[encoded data removed]",
      "text/plain": [
       "<Figure size 432x288 with 2 Axes>"
      ]
     },
     "metadata": {
      "needs_background": "light"
     },
     "output_type": "display_data"
    }
   ],
   "source": [
    "result_df.plot(kind='bar', secondary_y='survival rate')"
   ]
  },
  {
   "cell_type": "markdown",
   "id": "ccd2626e-b14a-4784-837c-cfdac052cfd8",
   "metadata": {},
   "source": [
    "4. 생애단계별 생존자수와 생존율은 얼마인가(Kid(10세이하), Teenager(20세이하), Adult(50세이하), Senior(50세 초과)?\n"
   ]
  },
  {
   "cell_type": "code",
   "execution_count": 18,
   "id": "196babb9-9cdc-49e7-8e8c-3e00776af869",
   "metadata": {},
   "outputs": [
    {
     "name": "stderr",
     "output_type": "stream",
     "text": [
      "C:\\Users\\isc03\\AppData\\Local\\Temp\\ipykernel_22316\\1915958739.py:2: SettingWithCopyWarning: \n",
      "A value is trying to be set on a copy of a slice from a DataFrame\n",
      "\n",
      "See the caveats in the documentation: https://pandas.pydata.org/pandas-docs/stable/user_guide/indexing.html#returning-a-view-versus-a-copy\n",
      "  titanic_df[\"life_stage\"][titanic_df['Age'] <= 50] = \"Adult\"\n",
      "C:\\Users\\isc03\\AppData\\Local\\Temp\\ipykernel_22316\\1915958739.py:3: SettingWithCopyWarning: \n",
      "A value is trying to be set on a copy of a slice from a DataFrame\n",
      "\n",
      "See the caveats in the documentation: https://pandas.pydata.org/pandas-docs/stable/user_guide/indexing.html#returning-a-view-versus-a-copy\n",
      "  titanic_df[\"life_stage\"][titanic_df['Age'] <= 20] = \"Teenager\"\n",
      "C:\\Users\\isc03\\AppData\\Local\\Temp\\ipykernel_22316\\1915958739.py:4: SettingWithCopyWarning: \n",
      "A value is trying to be set on a copy of a slice from a DataFrame\n",
      "\n",
      "See the caveats in the documentation: https://pandas.pydata.org/pandas-docs/stable/user_guide/indexing.html#returning-a-view-versus-a-copy\n",
      "  titanic_df[\"life_stage\"][titanic_df['Age'] <= 10] = \"Kid\"\n"
     ]
    }
   ],
   "source": [
    "titanic_df['life_stage'] = \"Senior\"\n",
    "titanic_df[\"life_stage\"][titanic_df['Age'] <= 50] = \"Adult\"\n",
    "titanic_df[\"life_stage\"][titanic_df['Age'] <= 20] = \"Teenager\"\n",
    "titanic_df[\"life_stage\"][titanic_df['Age'] <= 10] = \"Kid\""
   ]
  },
  {
   "cell_type": "code",
   "execution_count": 21,
   "id": "2aac9bb9-19c5-4e2b-b09a-bb0c3c483701",
   "metadata": {},
   "outputs": [
    {
     "data": {
      "text/html": [
       "<div>\n",
       "<style scoped>\n",
       "    .dataframe tbody tr th:only-of-type {\n",
       "        vertical-align: middle;\n",
       "    }\n",
       "\n",
       "    .dataframe tbody tr th {\n",
       "        vertical-align: top;\n",
       "    }\n",
       "\n",
       "    .dataframe thead th {\n",
       "        text-align: right;\n",
       "    }\n",
       "</style>\n",
       "<table border=\"1\" class=\"dataframe\">\n",
       "  <thead>\n",
       "    <tr style=\"text-align: right;\">\n",
       "      <th></th>\n",
       "      <th>PassengerId</th>\n",
       "      <th>Survived</th>\n",
       "      <th>Pclass</th>\n",
       "      <th>Name</th>\n",
       "      <th>Sex</th>\n",
       "      <th>Age</th>\n",
       "      <th>SibSp</th>\n",
       "      <th>Parch</th>\n",
       "      <th>Ticket</th>\n",
       "      <th>Fare</th>\n",
       "      <th>Embarked</th>\n",
       "      <th>life_stage</th>\n",
       "    </tr>\n",
       "  </thead>\n",
       "  <tbody>\n",
       "    <tr>\n",
       "      <th>7</th>\n",
       "      <td>8</td>\n",
       "      <td>0</td>\n",
       "      <td>3</td>\n",
       "      <td>Palsson, Master. Gosta Leonard</td>\n",
       "      <td>male</td>\n",
       "      <td>2.0</td>\n",
       "      <td>3</td>\n",
       "      <td>1</td>\n",
       "      <td>349909</td>\n",
       "      <td>21.0750</td>\n",
       "      <td>S</td>\n",
       "      <td>Kid</td>\n",
       "    </tr>\n",
       "    <tr>\n",
       "      <th>9</th>\n",
       "      <td>10</td>\n",
       "      <td>1</td>\n",
       "      <td>2</td>\n",
       "      <td>Nasser, Mrs. Nicholas (Adele Achem)</td>\n",
       "      <td>female</td>\n",
       "      <td>14.0</td>\n",
       "      <td>1</td>\n",
       "      <td>0</td>\n",
       "      <td>237736</td>\n",
       "      <td>30.0708</td>\n",
       "      <td>C</td>\n",
       "      <td>Teenager</td>\n",
       "    </tr>\n",
       "    <tr>\n",
       "      <th>10</th>\n",
       "      <td>11</td>\n",
       "      <td>1</td>\n",
       "      <td>3</td>\n",
       "      <td>Sandstrom, Miss. Marguerite Rut</td>\n",
       "      <td>female</td>\n",
       "      <td>4.0</td>\n",
       "      <td>1</td>\n",
       "      <td>1</td>\n",
       "      <td>PP 9549</td>\n",
       "      <td>16.7000</td>\n",
       "      <td>S</td>\n",
       "      <td>Kid</td>\n",
       "    </tr>\n",
       "    <tr>\n",
       "      <th>12</th>\n",
       "      <td>13</td>\n",
       "      <td>0</td>\n",
       "      <td>3</td>\n",
       "      <td>Saundercock, Mr. William Henry</td>\n",
       "      <td>male</td>\n",
       "      <td>20.0</td>\n",
       "      <td>0</td>\n",
       "      <td>0</td>\n",
       "      <td>A/5. 2151</td>\n",
       "      <td>8.0500</td>\n",
       "      <td>S</td>\n",
       "      <td>Teenager</td>\n",
       "    </tr>\n",
       "    <tr>\n",
       "      <th>14</th>\n",
       "      <td>15</td>\n",
       "      <td>0</td>\n",
       "      <td>3</td>\n",
       "      <td>Vestrom, Miss. Hulda Amanda Adolfina</td>\n",
       "      <td>female</td>\n",
       "      <td>14.0</td>\n",
       "      <td>0</td>\n",
       "      <td>0</td>\n",
       "      <td>350406</td>\n",
       "      <td>7.8542</td>\n",
       "      <td>S</td>\n",
       "      <td>Teenager</td>\n",
       "    </tr>\n",
       "    <tr>\n",
       "      <th>...</th>\n",
       "      <td>...</td>\n",
       "      <td>...</td>\n",
       "      <td>...</td>\n",
       "      <td>...</td>\n",
       "      <td>...</td>\n",
       "      <td>...</td>\n",
       "      <td>...</td>\n",
       "      <td>...</td>\n",
       "      <td>...</td>\n",
       "      <td>...</td>\n",
       "      <td>...</td>\n",
       "      <td>...</td>\n",
       "    </tr>\n",
       "    <tr>\n",
       "      <th>869</th>\n",
       "      <td>870</td>\n",
       "      <td>1</td>\n",
       "      <td>3</td>\n",
       "      <td>Johnson, Master. Harold Theodor</td>\n",
       "      <td>male</td>\n",
       "      <td>4.0</td>\n",
       "      <td>1</td>\n",
       "      <td>1</td>\n",
       "      <td>347742</td>\n",
       "      <td>11.1333</td>\n",
       "      <td>S</td>\n",
       "      <td>Kid</td>\n",
       "    </tr>\n",
       "    <tr>\n",
       "      <th>875</th>\n",
       "      <td>876</td>\n",
       "      <td>1</td>\n",
       "      <td>3</td>\n",
       "      <td>Najib, Miss. Adele Kiamie \"Jane\"</td>\n",
       "      <td>female</td>\n",
       "      <td>15.0</td>\n",
       "      <td>0</td>\n",
       "      <td>0</td>\n",
       "      <td>2667</td>\n",
       "      <td>7.2250</td>\n",
       "      <td>C</td>\n",
       "      <td>Teenager</td>\n",
       "    </tr>\n",
       "    <tr>\n",
       "      <th>876</th>\n",
       "      <td>877</td>\n",
       "      <td>0</td>\n",
       "      <td>3</td>\n",
       "      <td>Gustafsson, Mr. Alfred Ossian</td>\n",
       "      <td>male</td>\n",
       "      <td>20.0</td>\n",
       "      <td>0</td>\n",
       "      <td>0</td>\n",
       "      <td>7534</td>\n",
       "      <td>9.8458</td>\n",
       "      <td>S</td>\n",
       "      <td>Teenager</td>\n",
       "    </tr>\n",
       "    <tr>\n",
       "      <th>877</th>\n",
       "      <td>878</td>\n",
       "      <td>0</td>\n",
       "      <td>3</td>\n",
       "      <td>Petroff, Mr. Nedelio</td>\n",
       "      <td>male</td>\n",
       "      <td>19.0</td>\n",
       "      <td>0</td>\n",
       "      <td>0</td>\n",
       "      <td>349212</td>\n",
       "      <td>7.8958</td>\n",
       "      <td>S</td>\n",
       "      <td>Teenager</td>\n",
       "    </tr>\n",
       "    <tr>\n",
       "      <th>887</th>\n",
       "      <td>888</td>\n",
       "      <td>1</td>\n",
       "      <td>1</td>\n",
       "      <td>Graham, Miss. Margaret Edith</td>\n",
       "      <td>female</td>\n",
       "      <td>19.0</td>\n",
       "      <td>0</td>\n",
       "      <td>0</td>\n",
       "      <td>112053</td>\n",
       "      <td>30.0000</td>\n",
       "      <td>S</td>\n",
       "      <td>Teenager</td>\n",
       "    </tr>\n",
       "  </tbody>\n",
       "</table>\n",
       "<p>179 rows × 12 columns</p>\n",
       "</div>"
      ],
      "text/plain": [
       "     PassengerId  Survived  Pclass                                  Name  \\\n",
       "7              8         0       3        Palsson, Master. Gosta Leonard   \n",
       "9             10         1       2   Nasser, Mrs. Nicholas (Adele Achem)   \n",
       "10            11         1       3       Sandstrom, Miss. Marguerite Rut   \n",
       "12            13         0       3        Saundercock, Mr. William Henry   \n",
       "14            15         0       3  Vestrom, Miss. Hulda Amanda Adolfina   \n",
       "..           ...       ...     ...                                   ...   \n",
       "869          870         1       3       Johnson, Master. Harold Theodor   \n",
       "875          876         1       3      Najib, Miss. Adele Kiamie \"Jane\"   \n",
       "876          877         0       3         Gustafsson, Mr. Alfred Ossian   \n",
       "877          878         0       3                  Petroff, Mr. Nedelio   \n",
       "887          888         1       1          Graham, Miss. Margaret Edith   \n",
       "\n",
       "        Sex   Age  SibSp  Parch     Ticket     Fare Embarked life_stage  \n",
       "7      male   2.0      3      1     349909  21.0750        S        Kid  \n",
       "9    female  14.0      1      0     237736  30.0708        C   Teenager  \n",
       "10   female   4.0      1      1    PP 9549  16.7000        S        Kid  \n",
       "12     male  20.0      0      0  A/5. 2151   8.0500        S   Teenager  \n",
       "14   female  14.0      0      0     350406   7.8542        S   Teenager  \n",
       "..      ...   ...    ...    ...        ...      ...      ...        ...  \n",
       "869    male   4.0      1      1     347742  11.1333        S        Kid  \n",
       "875  female  15.0      0      0       2667   7.2250        C   Teenager  \n",
       "876    male  20.0      0      0       7534   9.8458        S   Teenager  \n",
       "877    male  19.0      0      0     349212   7.8958        S   Teenager  \n",
       "887  female  19.0      0      0     112053  30.0000        S   Teenager  \n",
       "\n",
       "[179 rows x 12 columns]"
      ]
     },
     "execution_count": 21,
     "metadata": {},
     "output_type": "execute_result"
    }
   ],
   "source": [
    "titanic_df[titanic_df['Age']<= 20]"
   ]
  },
  {
   "cell_type": "code",
   "execution_count": 31,
   "id": "5161c42d-b746-475e-92b9-702737c3a333",
   "metadata": {},
   "outputs": [
    {
     "data": {
      "text/html": [
       "<div>\n",
       "<style scoped>\n",
       "    .dataframe tbody tr th:only-of-type {\n",
       "        vertical-align: middle;\n",
       "    }\n",
       "\n",
       "    .dataframe tbody tr th {\n",
       "        vertical-align: top;\n",
       "    }\n",
       "\n",
       "    .dataframe thead th {\n",
       "        text-align: right;\n",
       "    }\n",
       "</style>\n",
       "<table border=\"1\" class=\"dataframe\">\n",
       "  <thead>\n",
       "    <tr style=\"text-align: right;\">\n",
       "      <th></th>\n",
       "      <th>number of survivors</th>\n",
       "      <th>survival rate</th>\n",
       "    </tr>\n",
       "    <tr>\n",
       "      <th>life_stage</th>\n",
       "      <th></th>\n",
       "      <th></th>\n",
       "    </tr>\n",
       "  </thead>\n",
       "  <tbody>\n",
       "    <tr>\n",
       "      <th>Adult</th>\n",
       "      <td>238.0</td>\n",
       "      <td>0.367284</td>\n",
       "    </tr>\n",
       "    <tr>\n",
       "      <th>Kid</th>\n",
       "      <td>38.0</td>\n",
       "      <td>0.593750</td>\n",
       "    </tr>\n",
       "    <tr>\n",
       "      <th>Senior</th>\n",
       "      <td>22.0</td>\n",
       "      <td>0.343750</td>\n",
       "    </tr>\n",
       "    <tr>\n",
       "      <th>Teenager</th>\n",
       "      <td>44.0</td>\n",
       "      <td>0.382609</td>\n",
       "    </tr>\n",
       "  </tbody>\n",
       "</table>\n",
       "</div>"
      ],
      "text/plain": [
       "            number of survivors  survival rate\n",
       "life_stage                                    \n",
       "Adult                     238.0       0.367284\n",
       "Kid                        38.0       0.593750\n",
       "Senior                     22.0       0.343750\n",
       "Teenager                   44.0       0.382609"
      ]
     },
     "execution_count": 31,
     "metadata": {},
     "output_type": "execute_result"
    }
   ],
   "source": [
    "#titanic_df['life_stage'].value_counts().plot(kind='bar')\n",
    "\n",
    "surived_count_by_life_stage_series = titanic_df.pivot_table(index=[\"life_stage\"], values=[\"Survived\"], aggfunc=np.sum)\n",
    "surived_mean_by_life_stage_series = titanic_df.pivot_table(index=[\"life_stage\"], values=[\"Survived\"], aggfunc=np.mean)\n",
    "\n",
    "result_df = pd.DataFrame(np.hstack([surived_count_by_life_stage_series.values, surived_mean_by_life_stage_series.values]), \n",
    "                         columns=['number of survivors', 'survival rate'],\n",
    "                        index=surived_count_by_life_stage_series.index)\n",
    "result_df"
   ]
  },
  {
   "cell_type": "code",
   "execution_count": 32,
   "id": "af908130-ec6f-494d-9b17-02c8a6f907e7",
   "metadata": {},
   "outputs": [
    {
     "data": {
      "text/plain": [
       "<AxesSubplot:xlabel='life_stage'>"
      ]
     },
     "execution_count": 32,
     "metadata": {},
     "output_type": "execute_result"
    },
    {
     "data": {
      "image/png": "[encoded data removed]",
      "text/plain": [
       "<Figure size 432x288 with 2 Axes>"
      ]
     },
     "metadata": {
      "needs_background": "light"
     },
     "output_type": "display_data"
    }
   ],
   "source": [
    "result_df.plot(kind='bar', secondary_y='survival rate')"
   ]
  },
  {
   "cell_type": "markdown",
   "id": "4cc14dc2-d0f1-4a06-acd8-18f55aa83987",
   "metadata": {},
   "source": [
    "5. 각 특징에 얼마나 많은 고유 데이터가 있는지 나타내라.\n"
   ]
  },
  {
   "cell_type": "code",
   "execution_count": 36,
   "id": "943a65df-7396-48bb-911e-c19c7eb30e93",
   "metadata": {},
   "outputs": [
    {
     "data": {
      "text/plain": [
       "PassengerId    891\n",
       "Survived         2\n",
       "Pclass           3\n",
       "Sex              2\n",
       "SibSp            7\n",
       "Parch            7\n",
       "Embarked         3\n",
       "life_stage       4\n",
       "dtype: int64"
      ]
     },
     "execution_count": 36,
     "metadata": {},
     "output_type": "execute_result"
    }
   ],
   "source": [
    "titanic_df.drop(['Name','Age','Ticket','Fare'], axis=1).nunique()"
   ]
  },
  {
   "cell_type": "markdown",
   "id": "28d55b90-b4d5-4c49-8822-9f5271b68855",
   "metadata": {},
   "source": [
    "6. 다양한 시각화를 사용해 생존율과 각 속성 간의 어떤 관계가 있는지 나타내라."
   ]
  },
  {
   "cell_type": "code",
   "execution_count": null,
   "id": "2e28c4e8-b554-4343-b5e6-501845742fd3",
   "metadata": {},
   "outputs": [],
   "source": []
  }
 ],
 "metadata": {
  "kernelspec": {
   "display_name": "Python 3 (ipykernel)",
   "language": "python",
   "name": "python3"
  },
  "language_info": {
   "codemirror_mode": {
    "name": "ipython",
    "version": 3
   },
   "file_extension": ".py",
   "mimetype": "text/x-python",
   "name": "python",
   "nbconvert_exporter": "python",
   "pygments_lexer": "ipython3",
   "version": "3.9.12"
  }
 },
 "nbformat": 4,
 "nbformat_minor": 5
}
