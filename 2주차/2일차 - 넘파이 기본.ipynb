{
 "cells": [
  {
   "cell_type": "markdown",
   "id": "5b2f35ed-2434-49b6-8e68-569d92f499e4",
   "metadata": {},
   "source": [
    "# 넘파이 기본"
   ]
  },
  {
   "cell_type": "markdown",
   "id": "6328d1b2-ab29-4c0e-9c51-4a9e5354c4bd",
   "metadata": {},
   "source": [
    "## Numpy 배열 생성 – 연습문제\n",
    "1. 다음과 같은 2x3 배열을 만들어보세요\n",
    "\n",
    "  array([[0,1,2],\n",
    "  \n",
    "     [0,1,2]])\n",
    "\n",
    "2. 다음과 같은 3의 배수를 가진 3x3 배열을 만들어보세요\n",
    "\n",
    "array([[ 0,  3,  6],\n",
    "\n",
    "      [ 9, 12, 15],\n",
    "\n",
    "      [18, 21, 24]])"
   ]
  },
  {
   "cell_type": "code",
   "execution_count": 2,
   "id": "1896f13d-4bec-4f17-822c-e72221e54c83",
   "metadata": {},
   "outputs": [],
   "source": [
    "list0 = [0,1,2] # 이 리스트를 기본으로 시작해서 위에 ndarray를 구성하시오"
   ]
  },
  {
   "cell_type": "code",
   "execution_count": 5,
   "id": "df49db50-0363-47db-9efd-e57006f2d3c2",
   "metadata": {},
   "outputs": [
    {
     "name": "stdout",
     "output_type": "stream",
     "text": [
      "행렬: (2, 3)\n"
     ]
    },
    {
     "data": {
      "text/plain": [
       "array([[0, 1, 2],\n",
       "       [0, 1, 2]])"
      ]
     },
     "execution_count": 5,
     "metadata": {},
     "output_type": "execute_result"
    }
   ],
   "source": [
    "import numpy as np\n",
    "\n",
    "# 1\n",
    "arr0 = np.array([list0,\n",
    "                 list0])\n",
    "\n",
    "print(\"행렬:\", arr0.shape)\n",
    "arr0"
   ]
  },
  {
   "cell_type": "code",
   "execution_count": 9,
   "id": "7d5e7132-ee1a-4275-a134-9455584dda2a",
   "metadata": {},
   "outputs": [
    {
     "data": {
      "text/plain": [
       "array([0, 3, 6])"
      ]
     },
     "execution_count": 9,
     "metadata": {},
     "output_type": "execute_result"
    }
   ],
   "source": [
    "# 2\n",
    "temp_array = np.array(list0) * 3\n",
    "temp_array"
   ]
  },
  {
   "cell_type": "code",
   "execution_count": 12,
   "id": "6a30d5f0-6d30-463a-a49e-327e1009b1ee",
   "metadata": {},
   "outputs": [
    {
     "name": "stdout",
     "output_type": "stream",
     "text": [
      "행렬: (3, 3)\n"
     ]
    },
    {
     "data": {
      "text/plain": [
       "array([[ 0,  3,  6],\n",
       "       [ 9, 12, 15],\n",
       "       [18, 21, 24]])"
      ]
     },
     "execution_count": 12,
     "metadata": {},
     "output_type": "execute_result"
    }
   ],
   "source": [
    "arr1 = np.array([temp_array,\n",
    "                 temp_array + 9,\n",
    "                 temp_array + 18])\n",
    "\n",
    "print(\"행렬:\", arr1.shape)\n",
    "arr1"
   ]
  },
  {
   "cell_type": "code",
   "execution_count": 13,
   "id": "22e309c6-3aae-4fef-b220-2e98c525fcd5",
   "metadata": {},
   "outputs": [
    {
     "data": {
      "text/plain": [
       "(3, 3)"
      ]
     },
     "execution_count": 13,
     "metadata": {},
     "output_type": "execute_result"
    }
   ],
   "source": [
    "(3,3)"
   ]
  },
  {
   "cell_type": "code",
   "execution_count": 14,
   "id": "5ac99497-ff9f-43cb-be90-7aa75873884d",
   "metadata": {},
   "outputs": [
    {
     "data": {
      "text/plain": [
       "numpy.ndarray"
      ]
     },
     "execution_count": 14,
     "metadata": {},
     "output_type": "execute_result"
    }
   ],
   "source": [
    "type(arr1)"
   ]
  },
  {
   "cell_type": "code",
   "execution_count": 15,
   "id": "55f5c4e6-68bd-49c2-816a-48d733e0b0b0",
   "metadata": {},
   "outputs": [
    {
     "data": {
      "text/plain": [
       "tuple"
      ]
     },
     "execution_count": 15,
     "metadata": {},
     "output_type": "execute_result"
    }
   ],
   "source": [
    "type( arr1.shape)"
   ]
  },
  {
   "cell_type": "markdown",
   "id": "6f831693-1860-4daf-89d0-11e56fa89629",
   "metadata": {},
   "source": [
    "## ndarray의 속성들"
   ]
  },
  {
   "cell_type": "code",
   "execution_count": 19,
   "id": "03809d6c-b4ad-4541-85df-30aa398de80e",
   "metadata": {},
   "outputs": [
    {
     "data": {
      "text/plain": [
       "array([[ 0,  1,  2,  3,  4],\n",
       "       [ 5,  6,  7,  8,  9],\n",
       "       [10, 11, 12, 13, 14]])"
      ]
     },
     "execution_count": 19,
     "metadata": {},
     "output_type": "execute_result"
    }
   ],
   "source": [
    "arr2 = np.arange(15).reshape(3, 5) # 3x5의 배열로 arr2를 구성\n",
    "arr2"
   ]
  },
  {
   "cell_type": "code",
   "execution_count": 23,
   "id": "06f12ac8-10cf-4f76-8883-b09227893521",
   "metadata": {},
   "outputs": [
    {
     "name": "stdout",
     "output_type": "stream",
     "text": [
      "차원 수:        2\n",
      "각 데이터의 크기:4\n",
      "데이터의 개수:   15\n",
      "배열의 총 크기:  60\n",
      "배열의 모양:     (3, 5)\n",
      "교차된 배열:     \n",
      "[[ 0  5 10]\n",
      " [ 1  6 11]\n",
      " [ 2  7 12]\n",
      " [ 3  8 13]\n",
      " [ 4  9 14]]\n",
      "\n"
     ]
    }
   ],
   "source": [
    "print(f'''\\\n",
    "차원 수:        {arr2.ndim}\n",
    "각 데이터의 크기:{arr2.itemsize}\n",
    "데이터의 개수:   {arr2.size}\n",
    "배열의 총 크기:  {arr2.nbytes}\n",
    "배열의 모양:     {arr2.shape}\n",
    "교차된 배열:     \n",
    "{arr2.T}\n",
    "''')"
   ]
  },
  {
   "cell_type": "markdown",
   "id": "c12edd2a-e911-4165-8359-f6171fb2f0d6",
   "metadata": {},
   "source": [
    "## 마스킹\n",
    "데이터를 생성하고 마스킹을 실습해보자."
   ]
  },
  {
   "cell_type": "code",
   "execution_count": 26,
   "id": "b5b71929-385b-4c89-9dd4-18196add4f0f",
   "metadata": {},
   "outputs": [
    {
     "data": {
      "text/plain": [
       "array([[-1.25873294, -0.33729826,  0.7727157 , -1.86816001],\n",
       "       [ 0.16392851, -0.03608855,  0.96418571, -0.68979284],\n",
       "       [ 0.62276599,  1.33915308,  1.03047151,  0.53190202],\n",
       "       [-0.28644738,  1.11632809, -0.26851017,  1.23621221],\n",
       "       [-0.84667207, -1.27135422,  0.05953679, -1.886005  ],\n",
       "       [ 0.19581216,  0.82089817,  2.65553162,  2.06459259],\n",
       "       [-0.23081466, -0.5544223 ,  0.1177837 , -0.61153283]])"
      ]
     },
     "execution_count": 26,
     "metadata": {},
     "output_type": "execute_result"
    }
   ],
   "source": [
    "data_array = np.random.randn(7,4)\n",
    "data_array"
   ]
  },
  {
   "cell_type": "markdown",
   "id": "5923eb42-1b80-4dc0-b1bf-9d293a8a9bb2",
   "metadata": {},
   "source": [
    "불린 마스크: 불린 타입으로 구성된 마스크를 생성한다."
   ]
  },
  {
   "cell_type": "code",
   "execution_count": 24,
   "id": "e99df8b8-f045-4812-9801-39ae08cfe539",
   "metadata": {},
   "outputs": [
    {
     "data": {
      "text/plain": [
       "array([False,  True, False,  True, False,  True, False])"
      ]
     },
     "execution_count": 24,
     "metadata": {},
     "output_type": "execute_result"
    }
   ],
   "source": [
    "mask = np.array([0,1,0,1,0,1,0], dtype=\"bool\")\n",
    "mask"
   ]
  },
  {
   "cell_type": "markdown",
   "id": "22a0776b-0a69-457f-be21-b62e8f7ed1de",
   "metadata": {},
   "source": [
    "마스크를 씌우면 참인 데이터만 필터링되어 나타난다. 불린 타입을 사용해 행의 데이터를 선택적으로 가져왔다."
   ]
  },
  {
   "cell_type": "code",
   "execution_count": 27,
   "id": "07d5eb5e-e24b-4a92-88db-be5c5fe7364e",
   "metadata": {},
   "outputs": [
    {
     "data": {
      "text/plain": [
       "array([[ 0.16392851, -0.03608855,  0.96418571, -0.68979284],\n",
       "       [-0.28644738,  1.11632809, -0.26851017,  1.23621221],\n",
       "       [ 0.19581216,  0.82089817,  2.65553162,  2.06459259]])"
      ]
     },
     "execution_count": 27,
     "metadata": {},
     "output_type": "execute_result"
    }
   ],
   "source": [
    "data_array[mask]"
   ]
  },
  {
   "cell_type": "code",
   "execution_count": 29,
   "id": "220acdba-4e15-4efb-a951-c20359a6c35b",
   "metadata": {},
   "outputs": [
    {
     "data": {
      "text/plain": [
       "array([[-1.25873294, -0.33729826,  0.7727157 , -1.86816001],\n",
       "       [ 0.62276599,  1.33915308,  1.03047151,  0.53190202],\n",
       "       [-0.84667207, -1.27135422,  0.05953679, -1.886005  ],\n",
       "       [-0.23081466, -0.5544223 ,  0.1177837 , -0.61153283]])"
      ]
     },
     "execution_count": 29,
     "metadata": {},
     "output_type": "execute_result"
    }
   ],
   "source": [
    "data_array[~mask]"
   ]
  },
  {
   "cell_type": "markdown",
   "id": "e410a0d9-ca9d-46b2-9974-f3c815f5c69d",
   "metadata": {},
   "source": [
    "펜시 인덱싱"
   ]
  },
  {
   "cell_type": "code",
   "execution_count": 32,
   "id": "4695d8de-90be-4799-80d9-785b3e4082f4",
   "metadata": {},
   "outputs": [
    {
     "data": {
      "text/plain": [
       "array([[-1.25873294, -0.33729826,  0.7727157 , -1.86816001],\n",
       "       [-0.23081466, -0.5544223 ,  0.1177837 , -0.61153283]])"
      ]
     },
     "execution_count": 32,
     "metadata": {},
     "output_type": "execute_result"
    }
   ],
   "source": [
    "data_array[[0,6]]"
   ]
  },
  {
   "cell_type": "code",
   "execution_count": 34,
   "id": "ba408030-2c29-4b82-8c4c-e1ae69dc2047",
   "metadata": {},
   "outputs": [
    {
     "data": {
      "text/plain": [
       "array([[ 0.62276599,  1.33915308,  1.03047151,  0.53190202],\n",
       "       [-0.28644738,  1.11632809, -0.26851017,  1.23621221]])"
      ]
     },
     "execution_count": 34,
     "metadata": {},
     "output_type": "execute_result"
    }
   ],
   "source": [
    "data_array[2:4]"
   ]
  },
  {
   "cell_type": "markdown",
   "id": "bd86fc5c-9aab-4a26-bcc6-57f119c140d5",
   "metadata": {},
   "source": [
    "ndarray는 브로드캐스트로 연산되는 기능을 가지고 있다. 따라서 비교 연산자도 브로드캐스트된다."
   ]
  },
  {
   "cell_type": "code",
   "execution_count": 40,
   "id": "a9857fe3-c897-41bf-a15f-1310a8f6d9a4",
   "metadata": {},
   "outputs": [
    {
     "data": {
      "text/plain": [
       "array([[False, False,  True, False],\n",
       "       [ True, False,  True, False],\n",
       "       [ True,  True,  True,  True],\n",
       "       [False,  True, False,  True],\n",
       "       [False, False,  True, False],\n",
       "       [ True,  True,  True,  True],\n",
       "       [False, False,  True, False]])"
      ]
     },
     "execution_count": 40,
     "metadata": {},
     "output_type": "execute_result"
    }
   ],
   "source": [
    "boolean_mask = data_array > 0 # 0보다 큰지를 구별하는 불린 마스크\n",
    "boolean_mask"
   ]
  },
  {
   "cell_type": "code",
   "execution_count": 41,
   "id": "72764bf5-703f-40f8-a633-621977c7848d",
   "metadata": {},
   "outputs": [
    {
     "data": {
      "text/plain": [
       "array([0.7727157 , 0.16392851, 0.96418571, 0.62276599, 1.33915308,\n",
       "       1.03047151, 0.53190202, 1.11632809, 1.23621221, 0.05953679,\n",
       "       0.19581216, 0.82089817, 2.65553162, 2.06459259, 0.1177837 ])"
      ]
     },
     "execution_count": 41,
     "metadata": {},
     "output_type": "execute_result"
    }
   ],
   "source": [
    "data_array[boolean_mask]"
   ]
  },
  {
   "cell_type": "code",
   "execution_count": 42,
   "id": "d7f1052a-c6c3-4eed-87d7-a6cae3dd47e9",
   "metadata": {},
   "outputs": [
    {
     "data": {
      "text/plain": [
       "array([0.7727157 , 0.16392851, 0.96418571, 0.62276599, 1.33915308,\n",
       "       1.03047151, 0.53190202, 1.11632809, 1.23621221, 0.05953679,\n",
       "       0.19581216, 0.82089817, 2.65553162, 2.06459259, 0.1177837 ])"
      ]
     },
     "execution_count": 42,
     "metadata": {},
     "output_type": "execute_result"
    }
   ],
   "source": [
    "# 앞서 차례로 수행한 작업을 한 번에 적으면 다음과 같아진다.\n",
    "data_array[data_array > 0]"
   ]
  },
  {
   "cell_type": "markdown",
   "id": "374940c9-974c-4af2-9a80-681ae6edfc02",
   "metadata": {},
   "source": [
    "## 마스킹 연습 문제\n",
    "1. 1~10까지 데이터를 무작위로 생성해 100개 짜리 배열을 생성하라.\n",
    "2. 5x20의 형태로 배열을 정렬하라.\n",
    "3. 데이터 형은 int64로 정의하라.\n",
    "4. 5x20 배열에서 2,3행을 출력하라.\n",
    "5. 5보다 큰 데이터를 필터링해서 출력하라."
   ]
  },
  {
   "cell_type": "code",
   "execution_count": 57,
   "id": "29a4cc2a-4440-49b3-9a2e-3f4a1663aae4",
   "metadata": {},
   "outputs": [
    {
     "name": "stdout",
     "output_type": "stream",
     "text": [
      "모양 (5, 20)\n",
      "데이터형: int64\n",
      "2~3행 출력:\n",
      " [[8 3 9 6 4 6 9 4 7 5 2 9 4 3 7 2 5 9 3 9]\n",
      " [3 9 9 4 7 1 6 9 2 2 7 4 9 2 4 1 3 5 2 5]]\n",
      "5보다 큰 데이터 출력:\n",
      " [8 9 6 6 6 6 7 6 6 9 9 6 7 6 7 9 8 9 6 6 9 7 9 7 9 9 9 9 7 6 9 7 9 6 8 8 7\n",
      " 8 9 6 7 8 9 8 8]\n"
     ]
    }
   ],
   "source": [
    "# 1\n",
    "import numpy as np\n",
    "\n",
    "test_arr = np.random.randint(1, 10, size=100)\n",
    "\n",
    "#2\n",
    "test_arr = test_arr.reshape([5,20])\n",
    "\n",
    "print(\"모양\", test_arr.shape)\n",
    "\n",
    "#3\n",
    "test_arr = test_arr.astype('int64')\n",
    "\n",
    "print(\"데이터형:\", test_arr.dtype)\n",
    "\n",
    "#4 \n",
    "print(\"2~3행 출력:\\n\", test_arr[2:4])\n",
    "\n",
    "#5\n",
    "mask = test_arr>5\n",
    "print(\"5보다 큰 데이터 출력:\\n\", test_arr[mask])"
   ]
  },
  {
   "cell_type": "code",
   "execution_count": 50,
   "id": "0573c763-931a-4ede-bc9e-161fb7eb8313",
   "metadata": {},
   "outputs": [
    {
     "data": {
      "text/plain": [
       "array([[7, 3, 5, 2, 6, 6, 4, 9, 5, 2, 2, 8, 7, 2, 6, 2, 1, 3, 7, 5],\n",
       "       [8, 9, 6, 3, 9, 6, 8, 7, 3, 9, 9, 3, 9, 8, 1, 4, 5, 9, 2, 2],\n",
       "       [3, 2, 4, 1, 5, 8, 7, 5, 9, 9, 3, 2, 1, 3, 1, 5, 5, 3, 1, 7],\n",
       "       [1, 7, 7, 2, 3, 7, 3, 5, 1, 3, 5, 4, 4, 4, 2, 7, 7, 8, 2, 3],\n",
       "       [1, 4, 8, 5, 4, 4, 2, 9, 2, 6, 8, 8, 6, 7, 6, 2, 2, 3, 2, 8]],\n",
       "      dtype=int64)"
      ]
     },
     "execution_count": 50,
     "metadata": {},
     "output_type": "execute_result"
    }
   ],
   "source": [
    "test_arr"
   ]
  },
  {
   "cell_type": "markdown",
   "id": "7687bca1-8be9-4351-9feb-e91d7307492b",
   "metadata": {},
   "source": [
    "## 배열의 모양 조작\n",
    "ravel, flatten은 원본을 손상시키지 않으면서 새로운 메모리 배열 쭉펴서 반환한다."
   ]
  },
  {
   "cell_type": "code",
   "execution_count": 58,
   "id": "2664c888-ca7b-4a62-bd5f-b68d78898ea2",
   "metadata": {},
   "outputs": [
    {
     "data": {
      "text/plain": [
       "array([8, 9, 3, 5, 6, 1, 3, 3, 6, 6, 2, 2, 5, 6, 3, 7, 6, 6, 2, 9, 4, 9,\n",
       "       6, 7, 5, 2, 6, 2, 7, 4, 3, 5, 3, 3, 2, 2, 9, 4, 1, 1, 8, 3, 9, 6,\n",
       "       4, 6, 9, 4, 7, 5, 2, 9, 4, 3, 7, 2, 5, 9, 3, 9, 3, 9, 9, 4, 7, 1,\n",
       "       6, 9, 2, 2, 7, 4, 9, 2, 4, 1, 3, 5, 2, 5, 6, 8, 8, 7, 8, 9, 2, 6,\n",
       "       7, 2, 1, 2, 5, 5, 8, 9, 1, 4, 8, 8], dtype=int64)"
      ]
     },
     "execution_count": 58,
     "metadata": {},
     "output_type": "execute_result"
    }
   ],
   "source": [
    "test_arr.ravel()"
   ]
  },
  {
   "cell_type": "code",
   "execution_count": 59,
   "id": "b069b7f1-e8ee-4601-bd92-f41ec30db7d4",
   "metadata": {},
   "outputs": [
    {
     "data": {
      "text/plain": [
       "array([8, 9, 3, 5, 6, 1, 3, 3, 6, 6, 2, 2, 5, 6, 3, 7, 6, 6, 2, 9, 4, 9,\n",
       "       6, 7, 5, 2, 6, 2, 7, 4, 3, 5, 3, 3, 2, 2, 9, 4, 1, 1, 8, 3, 9, 6,\n",
       "       4, 6, 9, 4, 7, 5, 2, 9, 4, 3, 7, 2, 5, 9, 3, 9, 3, 9, 9, 4, 7, 1,\n",
       "       6, 9, 2, 2, 7, 4, 9, 2, 4, 1, 3, 5, 2, 5, 6, 8, 8, 7, 8, 9, 2, 6,\n",
       "       7, 2, 1, 2, 5, 5, 8, 9, 1, 4, 8, 8], dtype=int64)"
      ]
     },
     "execution_count": 59,
     "metadata": {},
     "output_type": "execute_result"
    }
   ],
   "source": [
    "test_arr.flatten()"
   ]
  },
  {
   "cell_type": "code",
   "execution_count": 60,
   "id": "cbf8a290-9414-4a85-98fa-484c1981c09d",
   "metadata": {},
   "outputs": [
    {
     "data": {
      "text/plain": [
       "array([[8, 9, 3, 5, 6, 1, 3, 3, 6, 6, 2, 2, 5, 6, 3, 7, 6, 6, 2, 9],\n",
       "       [4, 9, 6, 7, 5, 2, 6, 2, 7, 4, 3, 5, 3, 3, 2, 2, 9, 4, 1, 1],\n",
       "       [8, 3, 9, 6, 4, 6, 9, 4, 7, 5, 2, 9, 4, 3, 7, 2, 5, 9, 3, 9],\n",
       "       [3, 9, 9, 4, 7, 1, 6, 9, 2, 2, 7, 4, 9, 2, 4, 1, 3, 5, 2, 5],\n",
       "       [6, 8, 8, 7, 8, 9, 2, 6, 7, 2, 1, 2, 5, 5, 8, 9, 1, 4, 8, 8]],\n",
       "      dtype=int64)"
      ]
     },
     "execution_count": 60,
     "metadata": {},
     "output_type": "execute_result"
    }
   ],
   "source": [
    "test_arr"
   ]
  },
  {
   "cell_type": "markdown",
   "id": "719e5713-ce1b-4b13-b016-ad4b50b7bcd0",
   "metadata": {},
   "source": [
    "test_arr.shape는 test_arr의 배열 모양을 설명한다. 이 값을 변경하면 배열의 모양도 바뀐다."
   ]
  },
  {
   "cell_type": "code",
   "execution_count": 61,
   "id": "8b7c5d75-c234-4df6-84d5-84adf7a69626",
   "metadata": {},
   "outputs": [
    {
     "data": {
      "text/plain": [
       "array([[8, 9, 3, 5],\n",
       "       [6, 1, 3, 3],\n",
       "       [6, 6, 2, 2],\n",
       "       [5, 6, 3, 7],\n",
       "       [6, 6, 2, 9],\n",
       "       [4, 9, 6, 7],\n",
       "       [5, 2, 6, 2],\n",
       "       [7, 4, 3, 5],\n",
       "       [3, 3, 2, 2],\n",
       "       [9, 4, 1, 1],\n",
       "       [8, 3, 9, 6],\n",
       "       [4, 6, 9, 4],\n",
       "       [7, 5, 2, 9],\n",
       "       [4, 3, 7, 2],\n",
       "       [5, 9, 3, 9],\n",
       "       [3, 9, 9, 4],\n",
       "       [7, 1, 6, 9],\n",
       "       [2, 2, 7, 4],\n",
       "       [9, 2, 4, 1],\n",
       "       [3, 5, 2, 5],\n",
       "       [6, 8, 8, 7],\n",
       "       [8, 9, 2, 6],\n",
       "       [7, 2, 1, 2],\n",
       "       [5, 5, 8, 9],\n",
       "       [1, 4, 8, 8]], dtype=int64)"
      ]
     },
     "execution_count": 61,
     "metadata": {},
     "output_type": "execute_result"
    }
   ],
   "source": [
    "test_arr.shape = (25,4)\n",
    "test_arr"
   ]
  },
  {
   "cell_type": "code",
   "execution_count": 64,
   "id": "7951083a-8442-4b9b-9d6a-09b95f7a69a5",
   "metadata": {},
   "outputs": [
    {
     "data": {
      "text/plain": [
       "array([[8, 6, 6, 5, 6, 4, 5, 7, 3, 9, 8, 4, 7, 4, 5, 3, 7, 2, 9, 3, 6, 8,\n",
       "        7, 5, 1],\n",
       "       [9, 1, 6, 6, 6, 9, 2, 4, 3, 4, 3, 6, 5, 3, 9, 9, 1, 2, 2, 5, 8, 9,\n",
       "        2, 5, 4],\n",
       "       [3, 3, 2, 3, 2, 6, 6, 3, 2, 1, 9, 9, 2, 7, 3, 9, 6, 7, 4, 2, 8, 2,\n",
       "        1, 8, 8],\n",
       "       [5, 3, 2, 7, 9, 7, 2, 5, 2, 1, 6, 4, 9, 2, 9, 4, 9, 4, 1, 5, 7, 6,\n",
       "        2, 9, 8]], dtype=int64)"
      ]
     },
     "execution_count": 64,
     "metadata": {},
     "output_type": "execute_result"
    }
   ],
   "source": [
    "test_arr.transpose() # test_arr.T 와 같은 기능"
   ]
  },
  {
   "cell_type": "code",
   "execution_count": 66,
   "id": "396b17b1-6dad-4451-80d2-6f15565c708a",
   "metadata": {},
   "outputs": [],
   "source": [
    "test_arr.resize(5,20) # 원본을 바꾸는 기능"
   ]
  },
  {
   "cell_type": "code",
   "execution_count": 67,
   "id": "8339f66f-7e2b-4a66-9152-6797ef22bdde",
   "metadata": {},
   "outputs": [
    {
     "data": {
      "text/plain": [
       "array([[8, 9, 3, 5, 6, 1, 3, 3, 6, 6, 2, 2, 5, 6, 3, 7, 6, 6, 2, 9],\n",
       "       [4, 9, 6, 7, 5, 2, 6, 2, 7, 4, 3, 5, 3, 3, 2, 2, 9, 4, 1, 1],\n",
       "       [8, 3, 9, 6, 4, 6, 9, 4, 7, 5, 2, 9, 4, 3, 7, 2, 5, 9, 3, 9],\n",
       "       [3, 9, 9, 4, 7, 1, 6, 9, 2, 2, 7, 4, 9, 2, 4, 1, 3, 5, 2, 5],\n",
       "       [6, 8, 8, 7, 8, 9, 2, 6, 7, 2, 1, 2, 5, 5, 8, 9, 1, 4, 8, 8]],\n",
       "      dtype=int64)"
      ]
     },
     "execution_count": 67,
     "metadata": {},
     "output_type": "execute_result"
    }
   ],
   "source": [
    "test_arr.reshape(5,20) # 원본은 그대로 두고 새로운 배열을 반환하는 방법"
   ]
  },
  {
   "cell_type": "markdown",
   "id": "390fa981-1781-4631-a474-775a27371fd8",
   "metadata": {},
   "source": [
    "## 배열쌓기\n",
    "vstack: 수직 쌓기"
   ]
  },
  {
   "cell_type": "code",
   "execution_count": 69,
   "id": "a7db75ad-5e59-46f9-a58b-478f8bf38ded",
   "metadata": {},
   "outputs": [
    {
     "data": {
      "text/plain": [
       "array([0, 1, 2, 3, 4, 5, 6, 7])"
      ]
     },
     "execution_count": 69,
     "metadata": {},
     "output_type": "execute_result"
    }
   ],
   "source": [
    "arr1 = np.arange(8)\n",
    "arr1 "
   ]
  },
  {
   "cell_type": "code",
   "execution_count": 71,
   "id": "564af00c-67b6-4dcf-bb63-2f59f87f5eb5",
   "metadata": {},
   "outputs": [
    {
     "data": {
      "text/plain": [
       "array([[ 0,  1,  2,  3,  4,  5,  6,  7],\n",
       "       [ 0,  3,  6,  9, 12, 15, 18, 21]])"
      ]
     },
     "execution_count": 71,
     "metadata": {},
     "output_type": "execute_result"
    }
   ],
   "source": [
    "np.vstack([arr1, arr1 * 3])"
   ]
  },
  {
   "cell_type": "markdown",
   "id": "74090c7a-b834-40be-aac0-dac93fcf6394",
   "metadata": {},
   "source": [
    "hstack: 수평 쌓기"
   ]
  },
  {
   "cell_type": "code",
   "execution_count": 72,
   "id": "9f44dfc0-967c-47c7-8cee-9abfa15168a3",
   "metadata": {},
   "outputs": [
    {
     "data": {
      "text/plain": [
       "array([ 0,  1,  2,  3,  4,  5,  6,  7,  0,  2,  4,  6,  8, 10, 12, 14])"
      ]
     },
     "execution_count": 72,
     "metadata": {},
     "output_type": "execute_result"
    }
   ],
   "source": [
    "np.hstack([arr1, arr1*2])"
   ]
  },
  {
   "cell_type": "markdown",
   "id": "54316520-e572-4e2b-a4be-376fa4062ebd",
   "metadata": {},
   "source": [
    "dstack: 깊게"
   ]
  },
  {
   "cell_type": "code",
   "execution_count": 77,
   "id": "2e05bfa0-e805-42ab-bddf-6265da8f968d",
   "metadata": {},
   "outputs": [
    {
     "data": {
      "text/plain": [
       "array([[[ 0,  0],\n",
       "        [ 1,  1],\n",
       "        [ 2,  4],\n",
       "        [ 3,  9],\n",
       "        [ 4, 16],\n",
       "        [ 5, 25],\n",
       "        [ 6, 36],\n",
       "        [ 7, 49]]])"
      ]
     },
     "execution_count": 77,
     "metadata": {},
     "output_type": "execute_result"
    }
   ],
   "source": [
    "np.dstack([arr1, arr1**2])"
   ]
  },
  {
   "cell_type": "markdown",
   "id": "8e15303c-16e8-4d38-a162-afcde2342bdd",
   "metadata": {},
   "source": [
    "## 배열 쪼개기\n",
    "hsplit"
   ]
  },
  {
   "cell_type": "code",
   "execution_count": 78,
   "id": "50b347c0-476a-4f6e-b864-ca8ec35ed426",
   "metadata": {},
   "outputs": [
    {
     "data": {
      "text/plain": [
       "array([[0, 1, 2],\n",
       "       [3, 4, 5],\n",
       "       [6, 7, 8]])"
      ]
     },
     "execution_count": 78,
     "metadata": {},
     "output_type": "execute_result"
    }
   ],
   "source": [
    "a = np.arange(9).reshape(3,3)\n",
    "a"
   ]
  },
  {
   "cell_type": "code",
   "execution_count": 79,
   "id": "5ffe7428-6e11-4fc2-8162-cc4b9de794fd",
   "metadata": {},
   "outputs": [
    {
     "data": {
      "text/plain": [
       "[array([[0],\n",
       "        [3],\n",
       "        [6]]),\n",
       " array([[1],\n",
       "        [4],\n",
       "        [7]]),\n",
       " array([[2],\n",
       "        [5],\n",
       "        [8]])]"
      ]
     },
     "execution_count": 79,
     "metadata": {},
     "output_type": "execute_result"
    }
   ],
   "source": [
    "np.hsplit(a, 3)"
   ]
  },
  {
   "cell_type": "markdown",
   "id": "86d3dfc7-df12-4d8a-a316-574aa8b3f53e",
   "metadata": {},
   "source": [
    "vsplit"
   ]
  },
  {
   "cell_type": "code",
   "execution_count": 80,
   "id": "fa27933a-1b90-4a28-84ab-9d673134b2e9",
   "metadata": {},
   "outputs": [
    {
     "data": {
      "text/plain": [
       "[array([[0, 1, 2]]), array([[3, 4, 5]]), array([[6, 7, 8]])]"
      ]
     },
     "execution_count": 80,
     "metadata": {},
     "output_type": "execute_result"
    }
   ],
   "source": [
    "np.vsplit(a, 3)"
   ]
  },
  {
   "cell_type": "markdown",
   "id": "8805bece-8d4b-4eec-a0b0-29562fd01566",
   "metadata": {},
   "source": [
    "dsplit"
   ]
  },
  {
   "cell_type": "code",
   "execution_count": 82,
   "id": "acc02e6c-c7d7-40bb-a86f-f6e7efd99da4",
   "metadata": {},
   "outputs": [
    {
     "data": {
      "text/plain": [
       "array([[[ 0,  1,  2],\n",
       "        [ 3,  4,  5],\n",
       "        [ 6,  7,  8]],\n",
       "\n",
       "       [[ 9, 10, 11],\n",
       "        [12, 13, 14],\n",
       "        [15, 16, 17]],\n",
       "\n",
       "       [[18, 19, 20],\n",
       "        [21, 22, 23],\n",
       "        [24, 25, 26]]])"
      ]
     },
     "execution_count": 82,
     "metadata": {},
     "output_type": "execute_result"
    }
   ],
   "source": [
    "b = np.arange(27).reshape(3,3,3)\n",
    "b"
   ]
  },
  {
   "cell_type": "code",
   "execution_count": 83,
   "id": "83d8bb7f-f6fb-4c39-b99d-0953ae756080",
   "metadata": {},
   "outputs": [
    {
     "data": {
      "text/plain": [
       "[array([[[ 0],\n",
       "         [ 3],\n",
       "         [ 6]],\n",
       " \n",
       "        [[ 9],\n",
       "         [12],\n",
       "         [15]],\n",
       " \n",
       "        [[18],\n",
       "         [21],\n",
       "         [24]]]),\n",
       " array([[[ 1],\n",
       "         [ 4],\n",
       "         [ 7]],\n",
       " \n",
       "        [[10],\n",
       "         [13],\n",
       "         [16]],\n",
       " \n",
       "        [[19],\n",
       "         [22],\n",
       "         [25]]]),\n",
       " array([[[ 2],\n",
       "         [ 5],\n",
       "         [ 8]],\n",
       " \n",
       "        [[11],\n",
       "         [14],\n",
       "         [17]],\n",
       " \n",
       "        [[20],\n",
       "         [23],\n",
       "         [26]]])]"
      ]
     },
     "execution_count": 83,
     "metadata": {},
     "output_type": "execute_result"
    }
   ],
   "source": [
    "np.dsplit(b, 3)"
   ]
  },
  {
   "cell_type": "markdown",
   "id": "e296ce5d-96cd-492c-92cc-87d340fccdc4",
   "metadata": {},
   "source": [
    "## 배열 쌀기와 쪼개기\n",
    "1. iris 데이터셋 가져오기\n",
    "2. 배열 쪼개기와 쌓기 함수를 사용하여 다음 문제를 해결해보자.\n",
    "  - sepal length(cm)의 값과 petal length(cm)의 값을 추출하여 새로운 배열을 생성하라.\n",
    "  - 3번과 5번 데이터를 추출하여 새로운 배열을 생성하라. "
   ]
  },
  {
   "cell_type": "code",
   "execution_count": 84,
   "id": "846b37a1-c56c-4e5d-b69a-98fb0db9f209",
   "metadata": {},
   "outputs": [
    {
     "data": {
      "text/plain": [
       "['sepal length (cm)',\n",
       " 'sepal width (cm)',\n",
       " 'petal length (cm)',\n",
       " 'petal width (cm)']"
      ]
     },
     "execution_count": 84,
     "metadata": {},
     "output_type": "execute_result"
    }
   ],
   "source": [
    "from sklearn import datasets\n",
    "\n",
    "iris = datasets.load_iris() # iris 데이터\n",
    "irisdt = iris['data']\n",
    "colum_names = iris['feature_names'] # 피쳐, 컬럼\n",
    "\n",
    "colum_names # irisdt"
   ]
  },
  {
   "cell_type": "code",
   "execution_count": 87,
   "id": "bd2014cc-304e-4747-9bf4-21f31fe2f947",
   "metadata": {},
   "outputs": [
    {
     "data": {
      "text/html": [
       "<div>\n",
       "<style scoped>\n",
       "    .dataframe tbody tr th:only-of-type {\n",
       "        vertical-align: middle;\n",
       "    }\n",
       "\n",
       "    .dataframe tbody tr th {\n",
       "        vertical-align: top;\n",
       "    }\n",
       "\n",
       "    .dataframe thead th {\n",
       "        text-align: right;\n",
       "    }\n",
       "</style>\n",
       "<table border=\"1\" class=\"dataframe\">\n",
       "  <thead>\n",
       "    <tr style=\"text-align: right;\">\n",
       "      <th></th>\n",
       "      <th>sepal length (cm)</th>\n",
       "      <th>sepal width (cm)</th>\n",
       "      <th>petal length (cm)</th>\n",
       "      <th>petal width (cm)</th>\n",
       "    </tr>\n",
       "  </thead>\n",
       "  <tbody>\n",
       "    <tr>\n",
       "      <th>0</th>\n",
       "      <td>5.1</td>\n",
       "      <td>3.5</td>\n",
       "      <td>1.4</td>\n",
       "      <td>0.2</td>\n",
       "    </tr>\n",
       "    <tr>\n",
       "      <th>1</th>\n",
       "      <td>4.9</td>\n",
       "      <td>3.0</td>\n",
       "      <td>1.4</td>\n",
       "      <td>0.2</td>\n",
       "    </tr>\n",
       "    <tr>\n",
       "      <th>2</th>\n",
       "      <td>4.7</td>\n",
       "      <td>3.2</td>\n",
       "      <td>1.3</td>\n",
       "      <td>0.2</td>\n",
       "    </tr>\n",
       "    <tr>\n",
       "      <th>3</th>\n",
       "      <td>4.6</td>\n",
       "      <td>3.1</td>\n",
       "      <td>1.5</td>\n",
       "      <td>0.2</td>\n",
       "    </tr>\n",
       "    <tr>\n",
       "      <th>4</th>\n",
       "      <td>5.0</td>\n",
       "      <td>3.6</td>\n",
       "      <td>1.4</td>\n",
       "      <td>0.2</td>\n",
       "    </tr>\n",
       "    <tr>\n",
       "      <th>...</th>\n",
       "      <td>...</td>\n",
       "      <td>...</td>\n",
       "      <td>...</td>\n",
       "      <td>...</td>\n",
       "    </tr>\n",
       "    <tr>\n",
       "      <th>145</th>\n",
       "      <td>6.7</td>\n",
       "      <td>3.0</td>\n",
       "      <td>5.2</td>\n",
       "      <td>2.3</td>\n",
       "    </tr>\n",
       "    <tr>\n",
       "      <th>146</th>\n",
       "      <td>6.3</td>\n",
       "      <td>2.5</td>\n",
       "      <td>5.0</td>\n",
       "      <td>1.9</td>\n",
       "    </tr>\n",
       "    <tr>\n",
       "      <th>147</th>\n",
       "      <td>6.5</td>\n",
       "      <td>3.0</td>\n",
       "      <td>5.2</td>\n",
       "      <td>2.0</td>\n",
       "    </tr>\n",
       "    <tr>\n",
       "      <th>148</th>\n",
       "      <td>6.2</td>\n",
       "      <td>3.4</td>\n",
       "      <td>5.4</td>\n",
       "      <td>2.3</td>\n",
       "    </tr>\n",
       "    <tr>\n",
       "      <th>149</th>\n",
       "      <td>5.9</td>\n",
       "      <td>3.0</td>\n",
       "      <td>5.1</td>\n",
       "      <td>1.8</td>\n",
       "    </tr>\n",
       "  </tbody>\n",
       "</table>\n",
       "<p>150 rows × 4 columns</p>\n",
       "</div>"
      ],
      "text/plain": [
       "     sepal length (cm)  sepal width (cm)  petal length (cm)  petal width (cm)\n",
       "0                  5.1               3.5                1.4               0.2\n",
       "1                  4.9               3.0                1.4               0.2\n",
       "2                  4.7               3.2                1.3               0.2\n",
       "3                  4.6               3.1                1.5               0.2\n",
       "4                  5.0               3.6                1.4               0.2\n",
       "..                 ...               ...                ...               ...\n",
       "145                6.7               3.0                5.2               2.3\n",
       "146                6.3               2.5                5.0               1.9\n",
       "147                6.5               3.0                5.2               2.0\n",
       "148                6.2               3.4                5.4               2.3\n",
       "149                5.9               3.0                5.1               1.8\n",
       "\n",
       "[150 rows x 4 columns]"
      ]
     },
     "execution_count": 87,
     "metadata": {},
     "output_type": "execute_result"
    }
   ],
   "source": [
    "import pandas as pd\n",
    "pd.DataFrame(irisdt, columns=colum_names)"
   ]
  },
  {
   "cell_type": "markdown",
   "id": "5419aec2-1ce5-487d-86f2-842dbe1c7325",
   "metadata": {},
   "source": [
    "sepal length(cm)의 값과 petal length(cm)의 값을 추출하여 새로운 배열을 생성하라.\n",
    "\n",
    "옆으로 4개로 쪼개서 0번 데이터와 2번데이터를 옆으로 붙여라."
   ]
  },
  {
   "cell_type": "code",
   "execution_count": null,
   "id": "20cb934c-3f57-49ca-8ea6-dbb54da04220",
   "metadata": {},
   "outputs": [],
   "source": [
    "sepal_length, sepal_width, petal_length, petal_width = np.hsplit(irisdt,4)\n",
    "np.hstack([sepal_length, petal_length])"
   ]
  },
  {
   "cell_type": "markdown",
   "id": "e236f804-ce7b-4aff-a5d3-605ea0d12e76",
   "metadata": {},
   "source": [
    "3번과 5번 데이터를 추출하여 새로운 배열을 생성하라.\n",
    "\n",
    "수직으로 150개로 쪼개서 3번과 5번 데이터를 수직으로 붙여라."
   ]
  },
  {
   "cell_type": "code",
   "execution_count": 96,
   "id": "f6d47ac0-307a-47ad-8548-06c59e4e419d",
   "metadata": {},
   "outputs": [
    {
     "data": {
      "text/plain": [
       "array([[4.6, 3.1, 1.5, 0.2],\n",
       "       [5.4, 3.9, 1.7, 0.4]])"
      ]
     },
     "execution_count": 96,
     "metadata": {},
     "output_type": "execute_result"
    }
   ],
   "source": [
    "iris_rows = np.vsplit(irisdt, 150)\n",
    "np.vstack([iris_rows[3], iris_rows[5]])"
   ]
  },
  {
   "cell_type": "markdown",
   "id": "bf24ee2f-ed6d-4499-b1a7-0da251654029",
   "metadata": {},
   "source": [
    "## 단항 유니버설 함수"
   ]
  },
  {
   "cell_type": "markdown",
   "id": "15e94446-970a-4a4f-8127-28527bfa7278",
   "metadata": {},
   "source": [
    "1. sepal width(cm)의 값의 제곱근을 구하라.\n",
    "2. iris 배열 전체의 값을 반올림하라.\n",
    "3. petal length(cm)의 값이 숫자인지 판별하라."
   ]
  },
  {
   "cell_type": "code",
   "execution_count": null,
   "id": "9f06a635-10be-4c95-a31a-f63982a5f671",
   "metadata": {},
   "outputs": [],
   "source": [
    "#1\n",
    "np.sqrt(sepal_width) \n",
    "\n",
    "#2 \n",
    "np.rint(irisdt)\n",
    "\n",
    "#3\n",
    "~np.isnan(petal_length)"
   ]
  },
  {
   "cell_type": "markdown",
   "id": "ffbbcaa7-4fca-4537-aa68-42600b364542",
   "metadata": {},
   "source": [
    "## 이항 유니버설 함수\n",
    "1. sepal length와 sepal width의 값의 합을 구하고, 그 값 중 가장 큰 값을 가진 인덱스를 찾아라.\n",
    "2. petal length가 1.4 이상인 값을 찾아라\n"
   ]
  },
  {
   "cell_type": "code",
   "execution_count": 104,
   "id": "5f3eb272-a559-4750-8fd9-ab51981af5fe",
   "metadata": {},
   "outputs": [
    {
     "data": {
      "text/plain": [
       "(11.7, 131)"
      ]
     },
     "execution_count": 104,
     "metadata": {},
     "output_type": "execute_result"
    }
   ],
   "source": [
    "sepal_sum_result = np.add(sepal_length, sepal_width)\n",
    "\n",
    "np.max(sepal_sum_result), np.argmax(sepal_sum_result)"
   ]
  },
  {
   "cell_type": "code",
   "execution_count": 105,
   "id": "044e7feb-107c-4d32-948a-5214f6e97169",
   "metadata": {},
   "outputs": [
    {
     "data": {
      "text/plain": [
       "array([11.7])"
      ]
     },
     "execution_count": 105,
     "metadata": {},
     "output_type": "execute_result"
    }
   ],
   "source": [
    "sepal_sum_result[131]"
   ]
  },
  {
   "cell_type": "markdown",
   "id": "e1f433a1-a9bd-4b04-882f-89a3c5f5070c",
   "metadata": {},
   "source": [
    "# 카피와 뷰"
   ]
  },
  {
   "cell_type": "markdown",
   "id": "3dc784b9-3c9e-4016-8b6a-ff836a91fe3b",
   "metadata": {},
   "source": [
    "첫 번째, a를 b에 선언하면 객체의 참조를 전달하므로 b에 수정사항이 그대로 a가 가리키는 배열에 영향을 미친다."
   ]
  },
  {
   "cell_type": "code",
   "execution_count": 2,
   "id": "32273d92-2604-474b-b1b5-629dc96e3c82",
   "metadata": {},
   "outputs": [],
   "source": [
    "import numpy as np"
   ]
  },
  {
   "cell_type": "code",
   "execution_count": 4,
   "id": "453a288d-8650-4e94-a20c-fdb2681ddcba",
   "metadata": {},
   "outputs": [
    {
     "data": {
      "text/plain": [
       "True"
      ]
     },
     "execution_count": 4,
     "metadata": {},
     "output_type": "execute_result"
    }
   ],
   "source": [
    "a = np.arange(12)\n",
    "b = a\n",
    "b is a"
   ]
  },
  {
   "cell_type": "code",
   "execution_count": 7,
   "id": "35fd9cef-a7f7-4750-8592-f0e20d68fc07",
   "metadata": {},
   "outputs": [],
   "source": [
    "b.shape = 3,4"
   ]
  },
  {
   "cell_type": "code",
   "execution_count": 9,
   "id": "ea87be51-6d3f-492c-b808-22b0df8dacd0",
   "metadata": {},
   "outputs": [
    {
     "data": {
      "text/plain": [
       "(3, 4)"
      ]
     },
     "execution_count": 9,
     "metadata": {},
     "output_type": "execute_result"
    }
   ],
   "source": [
    "a.shape"
   ]
  },
  {
   "cell_type": "markdown",
   "id": "f1d2e8f9-ace1-42c4-b398-91af58f8b0fb",
   "metadata": {},
   "source": [
    "두 번째, 뷰만 가져가서 사용하는 경우에는 뷰만 다를 뿐 실제 데이터는 동일한 곳을 참조한다. 따라서 c의 뷰를 조작하면 a에는 영향이 없지만 c가 데이터를 변형하면 a에 데이터 변형된다."
   ]
  },
  {
   "cell_type": "code",
   "execution_count": 11,
   "id": "c6e1520f-769a-416f-885d-4650dc58c106",
   "metadata": {},
   "outputs": [
    {
     "data": {
      "text/plain": [
       "False"
      ]
     },
     "execution_count": 11,
     "metadata": {},
     "output_type": "execute_result"
    }
   ],
   "source": [
    "c = a.view()\n",
    "c is a"
   ]
  },
  {
   "cell_type": "code",
   "execution_count": 13,
   "id": "7d6fe08a-95c7-4b70-9f71-a125bedb0fa6",
   "metadata": {},
   "outputs": [
    {
     "data": {
      "text/plain": [
       "(3, 4)"
      ]
     },
     "execution_count": 13,
     "metadata": {},
     "output_type": "execute_result"
    }
   ],
   "source": [
    "c.shape = 2, 6 # view를 변경해도\n",
    "a.shape # 실제 모양은 변경되지 않음"
   ]
  },
  {
   "cell_type": "code",
   "execution_count": 16,
   "id": "0a4e07c2-629c-4dc7-b97f-84538f17fb65",
   "metadata": {},
   "outputs": [
    {
     "data": {
      "text/plain": [
       "array([[   0,    1,    2,    3],\n",
       "       [1234,    5,    6,    7],\n",
       "       [   8,    9,   10,   11]])"
      ]
     },
     "execution_count": 16,
     "metadata": {},
     "output_type": "execute_result"
    }
   ],
   "source": [
    "c[0,4] = 1234 # view의 데이터를 수정하면 \n",
    "a # 실제 데이터도 변경된다"
   ]
  },
  {
   "cell_type": "markdown",
   "id": "b2824fc4-2ea4-46bd-9d84-d04932c68c19",
   "metadata": {},
   "source": [
    "3. 딥 카피"
   ]
  },
  {
   "cell_type": "code",
   "execution_count": 17,
   "id": "a51c7f61-3d71-4102-a0e6-09e21a2ffac4",
   "metadata": {},
   "outputs": [
    {
     "data": {
      "text/plain": [
       "False"
      ]
     },
     "execution_count": 17,
     "metadata": {},
     "output_type": "execute_result"
    }
   ],
   "source": [
    "d = a.copy()\n",
    "d is a"
   ]
  },
  {
   "cell_type": "code",
   "execution_count": 18,
   "id": "bb96663a-7f46-433f-9f57-e1a6b5bc1a7f",
   "metadata": {},
   "outputs": [
    {
     "data": {
      "text/plain": [
       "False"
      ]
     },
     "execution_count": 18,
     "metadata": {},
     "output_type": "execute_result"
    }
   ],
   "source": [
    "d.base is a"
   ]
  },
  {
   "cell_type": "code",
   "execution_count": 19,
   "id": "bfd16daa-de87-4aee-a0e9-eb9f87160ea8",
   "metadata": {},
   "outputs": [
    {
     "data": {
      "text/plain": [
       "array([[   0,    1,    2,    3],\n",
       "       [1234,    5,    6,    7],\n",
       "       [   8,    9,   10,   11]])"
      ]
     },
     "execution_count": 19,
     "metadata": {},
     "output_type": "execute_result"
    }
   ],
   "source": [
    "d[0, 0] = 9999\n",
    "a"
   ]
  },
  {
   "cell_type": "code",
   "execution_count": 20,
   "id": "c0038f97-2eb0-47b4-ba09-06f11b3f86c0",
   "metadata": {},
   "outputs": [
    {
     "data": {
      "text/plain": [
       "array([[9999,    1,    2,    3],\n",
       "       [1234,    5,    6,    7],\n",
       "       [   8,    9,   10,   11]])"
      ]
     },
     "execution_count": 20,
     "metadata": {},
     "output_type": "execute_result"
    }
   ],
   "source": [
    "d"
   ]
  },
  {
   "cell_type": "markdown",
   "id": "2533c6f9-0b79-408e-853c-8204f924d0b1",
   "metadata": {},
   "source": [
    "## numpy와 python 누가 빠를까?"
   ]
  },
  {
   "cell_type": "code",
   "execution_count": 22,
   "id": "a42d63c4-2a80-412b-b083-f3892a19552c",
   "metadata": {},
   "outputs": [
    {
     "data": {
      "text/plain": [
       "[0, 2, 12, 36, 80, 150, 252, 392, 576, 810]"
      ]
     },
     "execution_count": 22,
     "metadata": {},
     "output_type": "execute_result"
    }
   ],
   "source": [
    "def pythonsum(n):\n",
    "    a = list(range(n))\n",
    "    b = list(range(n))\n",
    "    c = []\n",
    "    for i in range(n):\n",
    "        a[i] = i ** 2\n",
    "        b[i] = i ** 3\n",
    "        c.append(a[i] + b[i])\n",
    "    return c\n",
    "\n",
    "pythonsum(10)"
   ]
  },
  {
   "cell_type": "code",
   "execution_count": 23,
   "id": "85f4ea68-58f2-49d6-bbee-a02701f17ddb",
   "metadata": {},
   "outputs": [
    {
     "data": {
      "text/plain": [
       "array([  0,   2,  12,  36,  80, 150, 252, 392, 576, 810], dtype=int32)"
      ]
     },
     "execution_count": 23,
     "metadata": {},
     "output_type": "execute_result"
    }
   ],
   "source": [
    "def numpysum(n):\n",
    "    a = np.arange(n) ** 2\n",
    "    b = np.arange(n) ** 3\n",
    "    c = a + b\n",
    "    return c\n",
    "\n",
    "numpysum(10)"
   ]
  },
  {
   "cell_type": "code",
   "execution_count": 24,
   "id": "14400a57-6f33-4513-be5f-60ae5628a861",
   "metadata": {},
   "outputs": [
    {
     "name": "stdout",
     "output_type": "stream",
     "text": [
      "55.7 ms ± 208 µs per loop (mean ± std. dev. of 7 runs, 10 loops each)\n"
     ]
    }
   ],
   "source": [
    "%timeit pythonsum(100000)"
   ]
  },
  {
   "cell_type": "code",
   "execution_count": 25,
   "id": "98367581-487b-4284-97f5-565cf38bcdc0",
   "metadata": {},
   "outputs": [
    {
     "name": "stdout",
     "output_type": "stream",
     "text": [
      "297 µs ± 3.86 µs per loop (mean ± std. dev. of 7 runs, 1,000 loops each)\n"
     ]
    }
   ],
   "source": [
    "%timeit numpysum(100000)"
   ]
  },
  {
   "cell_type": "markdown",
   "id": "ab60fd3e-f4e4-4bab-a24c-92502b7dd07e",
   "metadata": {},
   "source": [
    "- 마이크로초 -> 1000000분의 1초\n",
    "- 밀리초 -> 1000분의 1초\n",
    "\n",
    "파이썬: 55700 마이크로초\n",
    "넘파이: 297 마이크로초"
   ]
  },
  {
   "cell_type": "code",
   "execution_count": 28,
   "id": "b73188eb-2d2e-44ff-8cff-ef19d6f92419",
   "metadata": {},
   "outputs": [
    {
     "name": "stdout",
     "output_type": "stream",
     "text": [
      "넘파이는 파이썬보다 187.54208754208753배 빠르다.\n"
     ]
    }
   ],
   "source": [
    "print(f\"넘파이는 파이썬보다 {55700/297}배 빠르다.\")"
   ]
  },
  {
   "cell_type": "code",
   "execution_count": null,
   "id": "a8f2aca8-b6e7-4e87-9f80-d00c5f7b3ecf",
   "metadata": {},
   "outputs": [],
   "source": []
  }
 ],
 "metadata": {
  "kernelspec": {
   "display_name": "Python 3 (ipykernel)",
   "language": "python",
   "name": "python3"
  },
  "language_info": {
   "codemirror_mode": {
    "name": "ipython",
    "version": 3
   },
   "file_extension": ".py",
   "mimetype": "text/x-python",
   "name": "python",
   "nbconvert_exporter": "python",
   "pygments_lexer": "ipython3",
   "version": "3.9.12"
  }
 },
 "nbformat": 4,
 "nbformat_minor": 5
}
