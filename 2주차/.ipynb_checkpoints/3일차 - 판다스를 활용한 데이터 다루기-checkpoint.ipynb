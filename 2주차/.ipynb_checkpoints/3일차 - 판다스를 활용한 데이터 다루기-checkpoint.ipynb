{
 "cells": [
  {
   "cell_type": "markdown",
   "id": "e90a1345-b3df-4098-a435-5ffc8ffe438a",
   "metadata": {
    "tags": []
   },
   "source": [
    "# 시리즈와 데이터프레임\n",
    "## 시리즈\n",
    "시리즈 생성하기"
   ]
  },
  {
   "cell_type": "code",
   "execution_count": 2,
   "id": "316635eb-8e5c-4840-8c6c-f78f62fdf304",
   "metadata": {},
   "outputs": [
    {
     "data": {
      "text/plain": [
       "0    1\n",
       "1    2\n",
       "2    3\n",
       "3    4\n",
       "4    5\n",
       "dtype: int64"
      ]
     },
     "execution_count": 2,
     "metadata": {},
     "output_type": "execute_result"
    }
   ],
   "source": [
    "import pandas as pd\n",
    "import numpy as np\n",
    "\n",
    "a = pd.Series([1,2,3,4,5])\n",
    "\n",
    "a"
   ]
  },
  {
   "cell_type": "code",
   "execution_count": 4,
   "id": "966fc3c5-3734-457c-9308-5a7ab2b0f597",
   "metadata": {},
   "outputs": [
    {
     "data": {
      "text/plain": [
       "RangeIndex(start=0, stop=5, step=1)"
      ]
     },
     "execution_count": 4,
     "metadata": {},
     "output_type": "execute_result"
    }
   ],
   "source": [
    "a.index"
   ]
  },
  {
   "cell_type": "code",
   "execution_count": 5,
   "id": "0c1d7d1c-4a4c-4af2-aef5-1ddb4f574954",
   "metadata": {},
   "outputs": [
    {
     "data": {
      "text/plain": [
       "array([1, 2, 3, 4, 5], dtype=int64)"
      ]
     },
     "execution_count": 5,
     "metadata": {},
     "output_type": "execute_result"
    }
   ],
   "source": [
    "a.values"
   ]
  },
  {
   "cell_type": "markdown",
   "id": "994b64d0-2153-4c2f-a9bd-6dbc35f1ec2e",
   "metadata": {},
   "source": [
    "인덱스 변경하기"
   ]
  },
  {
   "cell_type": "code",
   "execution_count": 8,
   "id": "1027440b-d124-408f-b89c-3acef4840ca0",
   "metadata": {},
   "outputs": [
    {
     "name": "stdout",
     "output_type": "stream",
     "text": [
      "A 인덱스의 데이터: 1\n"
     ]
    },
    {
     "data": {
      "text/plain": [
       "A    1\n",
       "B    2\n",
       "C    3\n",
       "D    4\n",
       "E    5\n",
       "dtype: int64"
      ]
     },
     "execution_count": 8,
     "metadata": {},
     "output_type": "execute_result"
    }
   ],
   "source": [
    "a.index = ['A', 'B', 'C', 'D', 'E'] \n",
    "print(\"A 인덱스의 데이터:\", a['A'])\n",
    "a"
   ]
  },
  {
   "cell_type": "code",
   "execution_count": 9,
   "id": "dbdb7a8d-fc3b-4dac-82c0-a4cb6468b438",
   "metadata": {},
   "outputs": [
    {
     "data": {
      "text/plain": [
       "가    0\n",
       "나    1\n",
       "다    2\n",
       "dtype: int32"
      ]
     },
     "execution_count": 9,
     "metadata": {},
     "output_type": "execute_result"
    }
   ],
   "source": [
    "b = pd.Series(np.arange(3), index=[\"가\", \"나\", \"다\"])\n",
    "b"
   ]
  },
  {
   "cell_type": "code",
   "execution_count": 10,
   "id": "383a6882-7a7d-4977-bf46-831b2c98688e",
   "metadata": {},
   "outputs": [
    {
     "data": {
      "text/plain": [
       "0"
      ]
     },
     "execution_count": 10,
     "metadata": {},
     "output_type": "execute_result"
    }
   ],
   "source": [
    "b[\"가\"]"
   ]
  },
  {
   "cell_type": "markdown",
   "id": "952affb3-100c-460a-ba60-4935b3794a8e",
   "metadata": {},
   "source": [
    "시리즈는 리스트, 넘파이 배열, 딕셔너리 등 다양한 데이터를 사용해 구성할 수 있다."
   ]
  },
  {
   "cell_type": "markdown",
   "id": "6fcef822-f205-499b-bbae-aa73a33dd1bc",
   "metadata": {},
   "source": [
    "넘파이의 기능인 마스킹 기능이 그대로 판다스에서도 동작한다."
   ]
  },
  {
   "cell_type": "code",
   "execution_count": 15,
   "id": "cdc87be0-569b-4389-a138-ba842261c415",
   "metadata": {},
   "outputs": [
    {
     "data": {
      "text/plain": [
       "D    4\n",
       "E    5\n",
       "dtype: int64"
      ]
     },
     "execution_count": 15,
     "metadata": {},
     "output_type": "execute_result"
    }
   ],
   "source": [
    "a[a > 3]"
   ]
  },
  {
   "cell_type": "code",
   "execution_count": 16,
   "id": "e1877936-ca53-4569-b4d9-afbab447ead4",
   "metadata": {},
   "outputs": [
    {
     "data": {
      "text/plain": [
       "A     2\n",
       "B     4\n",
       "C     6\n",
       "D     8\n",
       "E    10\n",
       "dtype: int64"
      ]
     },
     "execution_count": 16,
     "metadata": {},
     "output_type": "execute_result"
    }
   ],
   "source": [
    "a * 2"
   ]
  },
  {
   "cell_type": "code",
   "execution_count": 13,
   "id": "7dbbcc39-6011-4737-bbb9-d78b124512f8",
   "metadata": {},
   "outputs": [
    {
     "data": {
      "text/plain": [
       "이름         최일선\n",
       "거주지         서울\n",
       "고등학교    서울고등학교\n",
       "거리           1\n",
       "dtype: object"
      ]
     },
     "execution_count": 13,
     "metadata": {},
     "output_type": "execute_result"
    }
   ],
   "source": [
    "data_dict = {\n",
    "    \"이름\": \"최일선\",\n",
    "    \"거주지\": \"서울\",\n",
    "    \"고등학교\": \"서울고등학교\",\n",
    "    \"거리\": 1\n",
    "}\n",
    "\n",
    "se0 = pd.Series(data_dict)\n",
    "se0"
   ]
  },
  {
   "cell_type": "markdown",
   "id": "c185bcb9-8033-4ec0-9d39-bf8b3e686be3",
   "metadata": {},
   "source": [
    "데이터 추가 및 빈 데이터 확인"
   ]
  },
  {
   "cell_type": "code",
   "execution_count": 18,
   "id": "003b1ffc-f286-4595-b6cb-50dee5bc3e17",
   "metadata": {},
   "outputs": [
    {
     "data": {
      "text/plain": [
       "이름         최일선\n",
       "거주지         서울\n",
       "고등학교    서울고등학교\n",
       "거리           1\n",
       "약점        None\n",
       "dtype: object"
      ]
     },
     "execution_count": 18,
     "metadata": {},
     "output_type": "execute_result"
    }
   ],
   "source": [
    "se0[\"약점\"] = None\n",
    "se0"
   ]
  },
  {
   "cell_type": "code",
   "execution_count": 19,
   "id": "e2d765a1-eeb5-4ecf-8feb-34e4e268ac76",
   "metadata": {},
   "outputs": [
    {
     "data": {
      "text/plain": [
       "이름      False\n",
       "거주지     False\n",
       "고등학교    False\n",
       "거리      False\n",
       "약점       True\n",
       "dtype: bool"
      ]
     },
     "execution_count": 19,
     "metadata": {},
     "output_type": "execute_result"
    }
   ],
   "source": [
    "se0.isnull()"
   ]
  },
  {
   "cell_type": "code",
   "execution_count": 23,
   "id": "fc828437-5dde-400e-b864-5dfe01448132",
   "metadata": {},
   "outputs": [
    {
     "data": {
      "text/plain": [
       "속성\n",
       "이름         최일선\n",
       "거주지         서울\n",
       "고등학교    서울고등학교\n",
       "거리           1\n",
       "약점        None\n",
       "Name: 개인 정보, dtype: object"
      ]
     },
     "execution_count": 23,
     "metadata": {},
     "output_type": "execute_result"
    }
   ],
   "source": [
    "se0.index.name = '속성'\n",
    "se0.name = '개인 정보'\n",
    "se0"
   ]
  },
  {
   "cell_type": "markdown",
   "id": "a5370bf4-716f-41e2-9410-cf68b4c4477a",
   "metadata": {},
   "source": [
    "## Series 연습 문제\n",
    "1. 2의 배수이면서 0부터 30까지 정수를 가진 시리즈 se1을 만들어라.\n",
    "2. se1의 인덱스도 데이터와 같은 값으로 만들어라.\n",
    "3. se1의 값 중에 4의 배수인 값에 None을 삽입하라.\n",
    "4. se1의 값이 None인지 확인하라."
   ]
  },
  {
   "cell_type": "code",
   "execution_count": 34,
   "id": "7098ea51-056f-4e87-bd5b-48411b293ae1",
   "metadata": {},
   "outputs": [
    {
     "data": {
      "text/plain": [
       "2     False\n",
       "4      True\n",
       "6     False\n",
       "8      True\n",
       "10    False\n",
       "12     True\n",
       "14    False\n",
       "16     True\n",
       "18    False\n",
       "20     True\n",
       "22    False\n",
       "24     True\n",
       "26    False\n",
       "28     True\n",
       "30    False\n",
       "dtype: bool"
      ]
     },
     "execution_count": 34,
     "metadata": {},
     "output_type": "execute_result"
    }
   ],
   "source": [
    "# 1\n",
    "se1 = pd.Series(np.arange(1,16) * 2)\n",
    "\n",
    "# 2\n",
    "se1.index = se1.values\n",
    "\n",
    "# 3\n",
    "se1[se1%4==0] = None\n",
    "\n",
    "# 4\n",
    "se1.isnull()"
   ]
  },
  {
   "cell_type": "markdown",
   "id": "76fec59d-a46a-40a2-8f8e-a037f7e47595",
   "metadata": {},
   "source": [
    "## 데이터프레임"
   ]
  },
  {
   "cell_type": "code",
   "execution_count": 37,
   "id": "43454b12-0c28-4f37-a891-f3a18a2de032",
   "metadata": {},
   "outputs": [
    {
     "data": {
      "text/html": [
       "<div>\n",
       "<style scoped>\n",
       "    .dataframe tbody tr th:only-of-type {\n",
       "        vertical-align: middle;\n",
       "    }\n",
       "\n",
       "    .dataframe tbody tr th {\n",
       "        vertical-align: top;\n",
       "    }\n",
       "\n",
       "    .dataframe thead th {\n",
       "        text-align: right;\n",
       "    }\n",
       "</style>\n",
       "<table border=\"1\" class=\"dataframe\">\n",
       "  <thead>\n",
       "    <tr style=\"text-align: right;\">\n",
       "      <th></th>\n",
       "      <th>id</th>\n",
       "      <th>name</th>\n",
       "      <th>age</th>\n",
       "      <th>asets</th>\n",
       "      <th>job</th>\n",
       "    </tr>\n",
       "  </thead>\n",
       "  <tbody>\n",
       "    <tr>\n",
       "      <th>0</th>\n",
       "      <td>1</td>\n",
       "      <td>Choi</td>\n",
       "      <td>10</td>\n",
       "      <td>150.40</td>\n",
       "      <td>student</td>\n",
       "    </tr>\n",
       "    <tr>\n",
       "      <th>1</th>\n",
       "      <td>2</td>\n",
       "      <td>Lee</td>\n",
       "      <td>20</td>\n",
       "      <td>123.40</td>\n",
       "      <td>CEO</td>\n",
       "    </tr>\n",
       "    <tr>\n",
       "      <th>2</th>\n",
       "      <td>3</td>\n",
       "      <td>Kim</td>\n",
       "      <td>30</td>\n",
       "      <td>88.88</td>\n",
       "      <td>Dad</td>\n",
       "    </tr>\n",
       "  </tbody>\n",
       "</table>\n",
       "</div>"
      ],
      "text/plain": [
       "   id  name  age   asets      job\n",
       "0   1  Choi   10  150.40  student\n",
       "1   2   Lee   20  123.40      CEO\n",
       "2   3   Kim   30   88.88      Dad"
      ]
     },
     "execution_count": 37,
     "metadata": {},
     "output_type": "execute_result"
    }
   ],
   "source": [
    "data_table = {\n",
    "    'id': [1,2,3],\n",
    "    'name': ['Choi', 'Lee', 'Kim'],\n",
    "    'age': [10,20,30],\n",
    "    'asets': [150.4, 123.4, 88.88],\n",
    "    'job': ['student', 'CEO', 'Dad']\n",
    "}\n",
    "\n",
    "df = pd.DataFrame(data_table)\n",
    "df"
   ]
  },
  {
   "cell_type": "markdown",
   "id": "0b707834-b431-4d18-bb2c-953c26c8c5be",
   "metadata": {},
   "source": [
    "컬럼 별로 데이터를 가져오려면 다음과 같이 데이터를 설정하면 된다."
   ]
  },
  {
   "cell_type": "code",
   "execution_count": 38,
   "id": "a28a9f9d-e750-4168-a344-363800d76b1b",
   "metadata": {},
   "outputs": [
    {
     "data": {
      "text/plain": [
       "0    1\n",
       "1    2\n",
       "2    3\n",
       "Name: id, dtype: int64"
      ]
     },
     "execution_count": 38,
     "metadata": {},
     "output_type": "execute_result"
    }
   ],
   "source": [
    "df['id']"
   ]
  },
  {
   "cell_type": "code",
   "execution_count": 39,
   "id": "2a2e4419-a291-4be0-af07-d55483226c77",
   "metadata": {},
   "outputs": [
    {
     "data": {
      "text/plain": [
       "0    Choi\n",
       "1     Lee\n",
       "2     Kim\n",
       "Name: name, dtype: object"
      ]
     },
     "execution_count": 39,
     "metadata": {},
     "output_type": "execute_result"
    }
   ],
   "source": [
    "df['name']"
   ]
  },
  {
   "cell_type": "markdown",
   "id": "e572f3b8-5ea0-4917-a3d0-6254ec5d15b0",
   "metadata": {},
   "source": [
    "df에 loc 변수를 사용하면 인덱스 별로 정보를 질의할 수 있다."
   ]
  },
  {
   "cell_type": "code",
   "execution_count": 41,
   "id": "de77ba40-bdbe-4531-9d22-48733e6504dd",
   "metadata": {},
   "outputs": [
    {
     "data": {
      "text/plain": [
       "id             1\n",
       "name        Choi\n",
       "age           10\n",
       "asets      150.4\n",
       "job      student\n",
       "Name: 0, dtype: object"
      ]
     },
     "execution_count": 41,
     "metadata": {},
     "output_type": "execute_result"
    }
   ],
   "source": [
    "df.loc[0]"
   ]
  },
  {
   "cell_type": "code",
   "execution_count": 43,
   "id": "76e1b850-4086-4715-8ef2-69f16ba3ba2f",
   "metadata": {},
   "outputs": [
    {
     "data": {
      "text/plain": [
       "id           3\n",
       "name       Kim\n",
       "age         30\n",
       "asets    88.88\n",
       "job        Dad\n",
       "Name: 2, dtype: object"
      ]
     },
     "execution_count": 43,
     "metadata": {},
     "output_type": "execute_result"
    }
   ],
   "source": [
    "df.loc[2]"
   ]
  },
  {
   "cell_type": "markdown",
   "id": "e7870aa1-12c7-4a42-ac6d-aa791b99428f",
   "metadata": {},
   "source": [
    "컬럼 추가"
   ]
  },
  {
   "cell_type": "code",
   "execution_count": 44,
   "id": "b8889464-4232-4d7b-8cc5-802ac77b6aea",
   "metadata": {},
   "outputs": [
    {
     "data": {
      "text/html": [
       "<div>\n",
       "<style scoped>\n",
       "    .dataframe tbody tr th:only-of-type {\n",
       "        vertical-align: middle;\n",
       "    }\n",
       "\n",
       "    .dataframe tbody tr th {\n",
       "        vertical-align: top;\n",
       "    }\n",
       "\n",
       "    .dataframe thead th {\n",
       "        text-align: right;\n",
       "    }\n",
       "</style>\n",
       "<table border=\"1\" class=\"dataframe\">\n",
       "  <thead>\n",
       "    <tr style=\"text-align: right;\">\n",
       "      <th></th>\n",
       "      <th>id</th>\n",
       "      <th>name</th>\n",
       "      <th>age</th>\n",
       "      <th>asets</th>\n",
       "      <th>job</th>\n",
       "      <th>hobby</th>\n",
       "    </tr>\n",
       "  </thead>\n",
       "  <tbody>\n",
       "    <tr>\n",
       "      <th>0</th>\n",
       "      <td>1</td>\n",
       "      <td>Choi</td>\n",
       "      <td>10</td>\n",
       "      <td>150.40</td>\n",
       "      <td>student</td>\n",
       "      <td>reading books</td>\n",
       "    </tr>\n",
       "    <tr>\n",
       "      <th>1</th>\n",
       "      <td>2</td>\n",
       "      <td>Lee</td>\n",
       "      <td>20</td>\n",
       "      <td>123.40</td>\n",
       "      <td>CEO</td>\n",
       "      <td>reading books</td>\n",
       "    </tr>\n",
       "    <tr>\n",
       "      <th>2</th>\n",
       "      <td>3</td>\n",
       "      <td>Kim</td>\n",
       "      <td>30</td>\n",
       "      <td>88.88</td>\n",
       "      <td>Dad</td>\n",
       "      <td>reading books</td>\n",
       "    </tr>\n",
       "  </tbody>\n",
       "</table>\n",
       "</div>"
      ],
      "text/plain": [
       "   id  name  age   asets      job          hobby\n",
       "0   1  Choi   10  150.40  student  reading books\n",
       "1   2   Lee   20  123.40      CEO  reading books\n",
       "2   3   Kim   30   88.88      Dad  reading books"
      ]
     },
     "execution_count": 44,
     "metadata": {},
     "output_type": "execute_result"
    }
   ],
   "source": [
    "df['hobby'] = 'reading books'\n",
    "df"
   ]
  },
  {
   "cell_type": "markdown",
   "id": "2b138d60-aafa-4ddc-8dfb-cf7525910f93",
   "metadata": {},
   "source": [
    "컬럼 데이터 변경"
   ]
  },
  {
   "cell_type": "code",
   "execution_count": 47,
   "id": "47214e40-0384-4b5f-8672-06accd5a53d4",
   "metadata": {},
   "outputs": [
    {
     "data": {
      "text/html": [
       "<div>\n",
       "<style scoped>\n",
       "    .dataframe tbody tr th:only-of-type {\n",
       "        vertical-align: middle;\n",
       "    }\n",
       "\n",
       "    .dataframe tbody tr th {\n",
       "        vertical-align: top;\n",
       "    }\n",
       "\n",
       "    .dataframe thead th {\n",
       "        text-align: right;\n",
       "    }\n",
       "</style>\n",
       "<table border=\"1\" class=\"dataframe\">\n",
       "  <thead>\n",
       "    <tr style=\"text-align: right;\">\n",
       "      <th></th>\n",
       "      <th>id</th>\n",
       "      <th>name</th>\n",
       "      <th>age</th>\n",
       "      <th>asets</th>\n",
       "      <th>job</th>\n",
       "      <th>hobby</th>\n",
       "    </tr>\n",
       "  </thead>\n",
       "  <tbody>\n",
       "    <tr>\n",
       "      <th>0</th>\n",
       "      <td>1</td>\n",
       "      <td>Choi</td>\n",
       "      <td>11</td>\n",
       "      <td>150.40</td>\n",
       "      <td>student</td>\n",
       "      <td>reading books</td>\n",
       "    </tr>\n",
       "    <tr>\n",
       "      <th>1</th>\n",
       "      <td>2</td>\n",
       "      <td>Lee</td>\n",
       "      <td>21</td>\n",
       "      <td>123.40</td>\n",
       "      <td>CEO</td>\n",
       "      <td>reading books</td>\n",
       "    </tr>\n",
       "    <tr>\n",
       "      <th>2</th>\n",
       "      <td>3</td>\n",
       "      <td>Kim</td>\n",
       "      <td>31</td>\n",
       "      <td>88.88</td>\n",
       "      <td>Dad</td>\n",
       "      <td>reading books</td>\n",
       "    </tr>\n",
       "  </tbody>\n",
       "</table>\n",
       "</div>"
      ],
      "text/plain": [
       "   id  name  age   asets      job          hobby\n",
       "0   1  Choi   11  150.40  student  reading books\n",
       "1   2   Lee   21  123.40      CEO  reading books\n",
       "2   3   Kim   31   88.88      Dad  reading books"
      ]
     },
     "execution_count": 47,
     "metadata": {},
     "output_type": "execute_result"
    }
   ],
   "source": [
    "df['age'] = [11, 21, 31]\n",
    "df"
   ]
  },
  {
   "cell_type": "markdown",
   "id": "b57c9d03-8893-4618-9028-1c7287e8562d",
   "metadata": {},
   "source": [
    "순서가 일정하지 않은 컬럼 데이터 입력"
   ]
  },
  {
   "cell_type": "code",
   "execution_count": 48,
   "id": "3976e5ed-2743-4f2e-be1f-1c0edd032764",
   "metadata": {},
   "outputs": [
    {
     "data": {
      "text/html": [
       "<div>\n",
       "<style scoped>\n",
       "    .dataframe tbody tr th:only-of-type {\n",
       "        vertical-align: middle;\n",
       "    }\n",
       "\n",
       "    .dataframe tbody tr th {\n",
       "        vertical-align: top;\n",
       "    }\n",
       "\n",
       "    .dataframe thead th {\n",
       "        text-align: right;\n",
       "    }\n",
       "</style>\n",
       "<table border=\"1\" class=\"dataframe\">\n",
       "  <thead>\n",
       "    <tr style=\"text-align: right;\">\n",
       "      <th></th>\n",
       "      <th>id</th>\n",
       "      <th>name</th>\n",
       "      <th>age</th>\n",
       "      <th>asets</th>\n",
       "      <th>job</th>\n",
       "      <th>hobby</th>\n",
       "      <th>residence</th>\n",
       "    </tr>\n",
       "  </thead>\n",
       "  <tbody>\n",
       "    <tr>\n",
       "      <th>0</th>\n",
       "      <td>1</td>\n",
       "      <td>Choi</td>\n",
       "      <td>11</td>\n",
       "      <td>150.40</td>\n",
       "      <td>student</td>\n",
       "      <td>reading books</td>\n",
       "      <td>Bucheon</td>\n",
       "    </tr>\n",
       "    <tr>\n",
       "      <th>1</th>\n",
       "      <td>2</td>\n",
       "      <td>Lee</td>\n",
       "      <td>21</td>\n",
       "      <td>123.40</td>\n",
       "      <td>CEO</td>\n",
       "      <td>reading books</td>\n",
       "      <td>Incheon</td>\n",
       "    </tr>\n",
       "    <tr>\n",
       "      <th>2</th>\n",
       "      <td>3</td>\n",
       "      <td>Kim</td>\n",
       "      <td>31</td>\n",
       "      <td>88.88</td>\n",
       "      <td>Dad</td>\n",
       "      <td>reading books</td>\n",
       "      <td>Seoul</td>\n",
       "    </tr>\n",
       "  </tbody>\n",
       "</table>\n",
       "</div>"
      ],
      "text/plain": [
       "   id  name  age   asets      job          hobby residence\n",
       "0   1  Choi   11  150.40  student  reading books   Bucheon\n",
       "1   2   Lee   21  123.40      CEO  reading books   Incheon\n",
       "2   3   Kim   31   88.88      Dad  reading books     Seoul"
      ]
     },
     "execution_count": 48,
     "metadata": {},
     "output_type": "execute_result"
    }
   ],
   "source": [
    "residence = pd.Series({2: 'Seoul', 1: 'Incheon', 0: 'Bucheon'})\n",
    "df['residence'] = residence\n",
    "df"
   ]
  },
  {
   "cell_type": "markdown",
   "id": "b889d96d-4b4f-4c11-95af-6ffb31eef6c5",
   "metadata": {},
   "source": [
    "로우 데이터 입력"
   ]
  },
  {
   "cell_type": "code",
   "execution_count": 51,
   "id": "f1d7db7b-c082-4e04-bd61-740fe6a050ec",
   "metadata": {},
   "outputs": [
    {
     "data": {
      "text/html": [
       "<div>\n",
       "<style scoped>\n",
       "    .dataframe tbody tr th:only-of-type {\n",
       "        vertical-align: middle;\n",
       "    }\n",
       "\n",
       "    .dataframe tbody tr th {\n",
       "        vertical-align: top;\n",
       "    }\n",
       "\n",
       "    .dataframe thead th {\n",
       "        text-align: right;\n",
       "    }\n",
       "</style>\n",
       "<table border=\"1\" class=\"dataframe\">\n",
       "  <thead>\n",
       "    <tr style=\"text-align: right;\">\n",
       "      <th></th>\n",
       "      <th>id</th>\n",
       "      <th>name</th>\n",
       "      <th>age</th>\n",
       "      <th>asets</th>\n",
       "      <th>job</th>\n",
       "      <th>hobby</th>\n",
       "      <th>residence</th>\n",
       "    </tr>\n",
       "  </thead>\n",
       "  <tbody>\n",
       "    <tr>\n",
       "      <th>0</th>\n",
       "      <td>1</td>\n",
       "      <td>Choi</td>\n",
       "      <td>11</td>\n",
       "      <td>150.40</td>\n",
       "      <td>student</td>\n",
       "      <td>reading books</td>\n",
       "      <td>Bucheon</td>\n",
       "    </tr>\n",
       "    <tr>\n",
       "      <th>1</th>\n",
       "      <td>2</td>\n",
       "      <td>Lee</td>\n",
       "      <td>21</td>\n",
       "      <td>123.40</td>\n",
       "      <td>CEO</td>\n",
       "      <td>reading books</td>\n",
       "      <td>Incheon</td>\n",
       "    </tr>\n",
       "    <tr>\n",
       "      <th>2</th>\n",
       "      <td>3</td>\n",
       "      <td>Kim</td>\n",
       "      <td>31</td>\n",
       "      <td>88.88</td>\n",
       "      <td>Dad</td>\n",
       "      <td>reading books</td>\n",
       "      <td>Seoul</td>\n",
       "    </tr>\n",
       "    <tr>\n",
       "      <th>3</th>\n",
       "      <td>4</td>\n",
       "      <td>Hong</td>\n",
       "      <td>60</td>\n",
       "      <td>2000.00</td>\n",
       "      <td>FreeLancer</td>\n",
       "      <td>Swimming</td>\n",
       "      <td>Gangnam</td>\n",
       "    </tr>\n",
       "  </tbody>\n",
       "</table>\n",
       "</div>"
      ],
      "text/plain": [
       "  id  name  age    asets         job          hobby residence\n",
       "0  1  Choi   11   150.40     student  reading books   Bucheon\n",
       "1  2   Lee   21   123.40         CEO  reading books   Incheon\n",
       "2  3   Kim   31    88.88         Dad  reading books     Seoul\n",
       "3  4  Hong   60  2000.00  FreeLancer       Swimming   Gangnam"
      ]
     },
     "execution_count": 51,
     "metadata": {},
     "output_type": "execute_result"
    }
   ],
   "source": [
    "df.loc[3] = ['4', 'Hong', 60, 2000, 'FreeLancer', 'Swimming', 'Gangnam']\n",
    "df"
   ]
  },
  {
   "cell_type": "markdown",
   "id": "27587400-a622-4dc4-bc9a-4c8b82f1b448",
   "metadata": {},
   "source": [
    "드랍 함수를 사용하면 데이터를 삭제할 수 있다."
   ]
  },
  {
   "cell_type": "code",
   "execution_count": 56,
   "id": "27e3bff0-938c-43c7-a81b-067200fa206b",
   "metadata": {},
   "outputs": [
    {
     "data": {
      "text/html": [
       "<div>\n",
       "<style scoped>\n",
       "    .dataframe tbody tr th:only-of-type {\n",
       "        vertical-align: middle;\n",
       "    }\n",
       "\n",
       "    .dataframe tbody tr th {\n",
       "        vertical-align: top;\n",
       "    }\n",
       "\n",
       "    .dataframe thead th {\n",
       "        text-align: right;\n",
       "    }\n",
       "</style>\n",
       "<table border=\"1\" class=\"dataframe\">\n",
       "  <thead>\n",
       "    <tr style=\"text-align: right;\">\n",
       "      <th></th>\n",
       "      <th>id</th>\n",
       "      <th>name</th>\n",
       "      <th>age</th>\n",
       "      <th>asets</th>\n",
       "      <th>job</th>\n",
       "      <th>hobby</th>\n",
       "      <th>residence</th>\n",
       "    </tr>\n",
       "  </thead>\n",
       "  <tbody>\n",
       "    <tr>\n",
       "      <th>0</th>\n",
       "      <td>1</td>\n",
       "      <td>Choi</td>\n",
       "      <td>11</td>\n",
       "      <td>150.4</td>\n",
       "      <td>student</td>\n",
       "      <td>reading books</td>\n",
       "      <td>Bucheon</td>\n",
       "    </tr>\n",
       "    <tr>\n",
       "      <th>3</th>\n",
       "      <td>4</td>\n",
       "      <td>Hong</td>\n",
       "      <td>60</td>\n",
       "      <td>2000.0</td>\n",
       "      <td>FreeLancer</td>\n",
       "      <td>Swimming</td>\n",
       "      <td>Gangnam</td>\n",
       "    </tr>\n",
       "  </tbody>\n",
       "</table>\n",
       "</div>"
      ],
      "text/plain": [
       "  id  name  age   asets         job          hobby residence\n",
       "0  1  Choi   11   150.4     student  reading books   Bucheon\n",
       "3  4  Hong   60  2000.0  FreeLancer       Swimming   Gangnam"
      ]
     },
     "execution_count": 56,
     "metadata": {},
     "output_type": "execute_result"
    }
   ],
   "source": [
    "df = df.drop([1,2], axis=0) \n",
    "df"
   ]
  },
  {
   "cell_type": "code",
   "execution_count": 58,
   "id": "f86faf34-cd28-4012-acb3-3751553c12d3",
   "metadata": {},
   "outputs": [
    {
     "data": {
      "text/html": [
       "<div>\n",
       "<style scoped>\n",
       "    .dataframe tbody tr th:only-of-type {\n",
       "        vertical-align: middle;\n",
       "    }\n",
       "\n",
       "    .dataframe tbody tr th {\n",
       "        vertical-align: top;\n",
       "    }\n",
       "\n",
       "    .dataframe thead th {\n",
       "        text-align: right;\n",
       "    }\n",
       "</style>\n",
       "<table border=\"1\" class=\"dataframe\">\n",
       "  <thead>\n",
       "    <tr style=\"text-align: right;\">\n",
       "      <th></th>\n",
       "      <th>id</th>\n",
       "      <th>name</th>\n",
       "      <th>age</th>\n",
       "      <th>asets</th>\n",
       "      <th>hobby</th>\n",
       "      <th>residence</th>\n",
       "    </tr>\n",
       "  </thead>\n",
       "  <tbody>\n",
       "    <tr>\n",
       "      <th>0</th>\n",
       "      <td>1</td>\n",
       "      <td>Choi</td>\n",
       "      <td>11</td>\n",
       "      <td>150.4</td>\n",
       "      <td>reading books</td>\n",
       "      <td>Bucheon</td>\n",
       "    </tr>\n",
       "    <tr>\n",
       "      <th>3</th>\n",
       "      <td>4</td>\n",
       "      <td>Hong</td>\n",
       "      <td>60</td>\n",
       "      <td>2000.0</td>\n",
       "      <td>Swimming</td>\n",
       "      <td>Gangnam</td>\n",
       "    </tr>\n",
       "  </tbody>\n",
       "</table>\n",
       "</div>"
      ],
      "text/plain": [
       "  id  name  age   asets          hobby residence\n",
       "0  1  Choi   11   150.4  reading books   Bucheon\n",
       "3  4  Hong   60  2000.0       Swimming   Gangnam"
      ]
     },
     "execution_count": 58,
     "metadata": {},
     "output_type": "execute_result"
    }
   ],
   "source": [
    "df = df.drop(['job'], axis=1)\n",
    "df"
   ]
  },
  {
   "cell_type": "markdown",
   "id": "7e467200-088d-4e03-9058-19066578f71e",
   "metadata": {},
   "source": [
    "데이터프레임의 전치와 numpy 출력"
   ]
  },
  {
   "cell_type": "code",
   "execution_count": 59,
   "id": "29171e16-bec5-4a2c-b43a-df8b055d1a99",
   "metadata": {},
   "outputs": [
    {
     "data": {
      "text/html": [
       "<div>\n",
       "<style scoped>\n",
       "    .dataframe tbody tr th:only-of-type {\n",
       "        vertical-align: middle;\n",
       "    }\n",
       "\n",
       "    .dataframe tbody tr th {\n",
       "        vertical-align: top;\n",
       "    }\n",
       "\n",
       "    .dataframe thead th {\n",
       "        text-align: right;\n",
       "    }\n",
       "</style>\n",
       "<table border=\"1\" class=\"dataframe\">\n",
       "  <thead>\n",
       "    <tr style=\"text-align: right;\">\n",
       "      <th></th>\n",
       "      <th>0</th>\n",
       "      <th>3</th>\n",
       "    </tr>\n",
       "  </thead>\n",
       "  <tbody>\n",
       "    <tr>\n",
       "      <th>id</th>\n",
       "      <td>1</td>\n",
       "      <td>4</td>\n",
       "    </tr>\n",
       "    <tr>\n",
       "      <th>name</th>\n",
       "      <td>Choi</td>\n",
       "      <td>Hong</td>\n",
       "    </tr>\n",
       "    <tr>\n",
       "      <th>age</th>\n",
       "      <td>11</td>\n",
       "      <td>60</td>\n",
       "    </tr>\n",
       "    <tr>\n",
       "      <th>asets</th>\n",
       "      <td>150.4</td>\n",
       "      <td>2000.0</td>\n",
       "    </tr>\n",
       "    <tr>\n",
       "      <th>hobby</th>\n",
       "      <td>reading books</td>\n",
       "      <td>Swimming</td>\n",
       "    </tr>\n",
       "    <tr>\n",
       "      <th>residence</th>\n",
       "      <td>Bucheon</td>\n",
       "      <td>Gangnam</td>\n",
       "    </tr>\n",
       "  </tbody>\n",
       "</table>\n",
       "</div>"
      ],
      "text/plain": [
       "                       0         3\n",
       "id                     1         4\n",
       "name                Choi      Hong\n",
       "age                   11        60\n",
       "asets              150.4    2000.0\n",
       "hobby      reading books  Swimming\n",
       "residence        Bucheon   Gangnam"
      ]
     },
     "execution_count": 59,
     "metadata": {},
     "output_type": "execute_result"
    }
   ],
   "source": [
    "df.T"
   ]
  },
  {
   "cell_type": "code",
   "execution_count": 60,
   "id": "4584244b-3f76-4d0f-9302-d609d9eccc98",
   "metadata": {},
   "outputs": [
    {
     "data": {
      "text/plain": [
       "array([[1, 'Choi', 11, 150.4, 'reading books', 'Bucheon'],\n",
       "       ['4', 'Hong', 60, 2000.0, 'Swimming', 'Gangnam']], dtype=object)"
      ]
     },
     "execution_count": 60,
     "metadata": {},
     "output_type": "execute_result"
    }
   ],
   "source": [
    "df.values"
   ]
  },
  {
   "cell_type": "markdown",
   "id": "92caf412-045d-4a1d-82b3-0f3dc423352b",
   "metadata": {
    "tags": []
   },
   "source": [
    "## 데이터프레임 연습 문제\n",
    "1. 구구단 1단부터 3단까지 출력하는 데이터프레임 df1을 생성하라(컬럼3x로우9).\n",
    "2. df1의 인덱스를 한글로 바꿔라(1 -> '일', 2 -> '이'...)\n",
    "3. df1에 4단을 추가하라.\n",
    "4. df1의 1단을 11단으로 교체하라.\n",
    "5. df1의 11단을 삭제하라.\n",
    "6. 컬럼과 로우를 교차 시켜라.\n",
    "7. '오'와 ‘칠’ 인덱스를 제거하라.\n"
   ]
  },
  {
   "cell_type": "code",
   "execution_count": 65,
   "id": "264d7a1b-0af5-4568-ad17-defc7114bb18",
   "metadata": {},
   "outputs": [
    {
     "data": {
      "text/html": [
       "<div>\n",
       "<style scoped>\n",
       "    .dataframe tbody tr th:only-of-type {\n",
       "        vertical-align: middle;\n",
       "    }\n",
       "\n",
       "    .dataframe tbody tr th {\n",
       "        vertical-align: top;\n",
       "    }\n",
       "\n",
       "    .dataframe thead th {\n",
       "        text-align: right;\n",
       "    }\n",
       "</style>\n",
       "<table border=\"1\" class=\"dataframe\">\n",
       "  <thead>\n",
       "    <tr style=\"text-align: right;\">\n",
       "      <th></th>\n",
       "      <th>1단</th>\n",
       "      <th>2단</th>\n",
       "      <th>3단</th>\n",
       "    </tr>\n",
       "  </thead>\n",
       "  <tbody>\n",
       "    <tr>\n",
       "      <th>1</th>\n",
       "      <td>1</td>\n",
       "      <td>2</td>\n",
       "      <td>3</td>\n",
       "    </tr>\n",
       "    <tr>\n",
       "      <th>2</th>\n",
       "      <td>2</td>\n",
       "      <td>4</td>\n",
       "      <td>6</td>\n",
       "    </tr>\n",
       "    <tr>\n",
       "      <th>3</th>\n",
       "      <td>3</td>\n",
       "      <td>6</td>\n",
       "      <td>9</td>\n",
       "    </tr>\n",
       "    <tr>\n",
       "      <th>4</th>\n",
       "      <td>4</td>\n",
       "      <td>8</td>\n",
       "      <td>12</td>\n",
       "    </tr>\n",
       "    <tr>\n",
       "      <th>5</th>\n",
       "      <td>5</td>\n",
       "      <td>10</td>\n",
       "      <td>15</td>\n",
       "    </tr>\n",
       "    <tr>\n",
       "      <th>6</th>\n",
       "      <td>6</td>\n",
       "      <td>12</td>\n",
       "      <td>18</td>\n",
       "    </tr>\n",
       "    <tr>\n",
       "      <th>7</th>\n",
       "      <td>7</td>\n",
       "      <td>14</td>\n",
       "      <td>21</td>\n",
       "    </tr>\n",
       "    <tr>\n",
       "      <th>8</th>\n",
       "      <td>8</td>\n",
       "      <td>16</td>\n",
       "      <td>24</td>\n",
       "    </tr>\n",
       "    <tr>\n",
       "      <th>9</th>\n",
       "      <td>9</td>\n",
       "      <td>18</td>\n",
       "      <td>27</td>\n",
       "    </tr>\n",
       "  </tbody>\n",
       "</table>\n",
       "</div>"
      ],
      "text/plain": [
       "   1단  2단  3단\n",
       "1   1   2   3\n",
       "2   2   4   6\n",
       "3   3   6   9\n",
       "4   4   8  12\n",
       "5   5  10  15\n",
       "6   6  12  18\n",
       "7   7  14  21\n",
       "8   8  16  24\n",
       "9   9  18  27"
      ]
     },
     "execution_count": 65,
     "metadata": {},
     "output_type": "execute_result"
    }
   ],
   "source": [
    "# 1 \n",
    "one_dan = np.arange(0,10)\n",
    "\n",
    "googoodan_data = {\n",
    "    '1단': one_dan,\n",
    "    '2단': one_dan * 2,\n",
    "    '3단': one_dan * 3\n",
    "}\n",
    "\n",
    "\n",
    "googoodan_df = pd.DataFrame(googoodan_data)\n",
    "googoodan_df = googoodan_df.drop(0)\n",
    "googoodan_df"
   ]
  },
  {
   "cell_type": "code",
   "execution_count": 68,
   "id": "adb5fb18-6cba-467d-8824-94159f706caa",
   "metadata": {},
   "outputs": [
    {
     "data": {
      "text/html": [
       "<div>\n",
       "<style scoped>\n",
       "    .dataframe tbody tr th:only-of-type {\n",
       "        vertical-align: middle;\n",
       "    }\n",
       "\n",
       "    .dataframe tbody tr th {\n",
       "        vertical-align: top;\n",
       "    }\n",
       "\n",
       "    .dataframe thead th {\n",
       "        text-align: right;\n",
       "    }\n",
       "</style>\n",
       "<table border=\"1\" class=\"dataframe\">\n",
       "  <thead>\n",
       "    <tr style=\"text-align: right;\">\n",
       "      <th></th>\n",
       "      <th>1단</th>\n",
       "      <th>2단</th>\n",
       "      <th>3단</th>\n",
       "    </tr>\n",
       "  </thead>\n",
       "  <tbody>\n",
       "    <tr>\n",
       "      <th>일</th>\n",
       "      <td>1</td>\n",
       "      <td>2</td>\n",
       "      <td>3</td>\n",
       "    </tr>\n",
       "    <tr>\n",
       "      <th>이</th>\n",
       "      <td>2</td>\n",
       "      <td>4</td>\n",
       "      <td>6</td>\n",
       "    </tr>\n",
       "    <tr>\n",
       "      <th>삼</th>\n",
       "      <td>3</td>\n",
       "      <td>6</td>\n",
       "      <td>9</td>\n",
       "    </tr>\n",
       "    <tr>\n",
       "      <th>사</th>\n",
       "      <td>4</td>\n",
       "      <td>8</td>\n",
       "      <td>12</td>\n",
       "    </tr>\n",
       "    <tr>\n",
       "      <th>오</th>\n",
       "      <td>5</td>\n",
       "      <td>10</td>\n",
       "      <td>15</td>\n",
       "    </tr>\n",
       "    <tr>\n",
       "      <th>육</th>\n",
       "      <td>6</td>\n",
       "      <td>12</td>\n",
       "      <td>18</td>\n",
       "    </tr>\n",
       "    <tr>\n",
       "      <th>칠</th>\n",
       "      <td>7</td>\n",
       "      <td>14</td>\n",
       "      <td>21</td>\n",
       "    </tr>\n",
       "    <tr>\n",
       "      <th>팔</th>\n",
       "      <td>8</td>\n",
       "      <td>16</td>\n",
       "      <td>24</td>\n",
       "    </tr>\n",
       "    <tr>\n",
       "      <th>구</th>\n",
       "      <td>9</td>\n",
       "      <td>18</td>\n",
       "      <td>27</td>\n",
       "    </tr>\n",
       "  </tbody>\n",
       "</table>\n",
       "</div>"
      ],
      "text/plain": [
       "   1단  2단  3단\n",
       "일   1   2   3\n",
       "이   2   4   6\n",
       "삼   3   6   9\n",
       "사   4   8  12\n",
       "오   5  10  15\n",
       "육   6  12  18\n",
       "칠   7  14  21\n",
       "팔   8  16  24\n",
       "구   9  18  27"
      ]
     },
     "execution_count": 68,
     "metadata": {},
     "output_type": "execute_result"
    }
   ],
   "source": [
    "#2\n",
    "googoodan_df.index = ['일', '이', '삼', '사', '오', '육', '칠', '팔', '구']\n",
    "googoodan_df"
   ]
  },
  {
   "cell_type": "code",
   "execution_count": 72,
   "id": "65fae2f5-8c77-4185-9162-fdc71319a8b4",
   "metadata": {},
   "outputs": [
    {
     "data": {
      "text/html": [
       "<div>\n",
       "<style scoped>\n",
       "    .dataframe tbody tr th:only-of-type {\n",
       "        vertical-align: middle;\n",
       "    }\n",
       "\n",
       "    .dataframe tbody tr th {\n",
       "        vertical-align: top;\n",
       "    }\n",
       "\n",
       "    .dataframe thead th {\n",
       "        text-align: right;\n",
       "    }\n",
       "</style>\n",
       "<table border=\"1\" class=\"dataframe\">\n",
       "  <thead>\n",
       "    <tr style=\"text-align: right;\">\n",
       "      <th></th>\n",
       "      <th>1단</th>\n",
       "      <th>2단</th>\n",
       "      <th>3단</th>\n",
       "      <th>4단</th>\n",
       "    </tr>\n",
       "  </thead>\n",
       "  <tbody>\n",
       "    <tr>\n",
       "      <th>일</th>\n",
       "      <td>1</td>\n",
       "      <td>2</td>\n",
       "      <td>3</td>\n",
       "      <td>4</td>\n",
       "    </tr>\n",
       "    <tr>\n",
       "      <th>이</th>\n",
       "      <td>2</td>\n",
       "      <td>4</td>\n",
       "      <td>6</td>\n",
       "      <td>8</td>\n",
       "    </tr>\n",
       "    <tr>\n",
       "      <th>삼</th>\n",
       "      <td>3</td>\n",
       "      <td>6</td>\n",
       "      <td>9</td>\n",
       "      <td>12</td>\n",
       "    </tr>\n",
       "    <tr>\n",
       "      <th>사</th>\n",
       "      <td>4</td>\n",
       "      <td>8</td>\n",
       "      <td>12</td>\n",
       "      <td>16</td>\n",
       "    </tr>\n",
       "    <tr>\n",
       "      <th>오</th>\n",
       "      <td>5</td>\n",
       "      <td>10</td>\n",
       "      <td>15</td>\n",
       "      <td>20</td>\n",
       "    </tr>\n",
       "    <tr>\n",
       "      <th>육</th>\n",
       "      <td>6</td>\n",
       "      <td>12</td>\n",
       "      <td>18</td>\n",
       "      <td>24</td>\n",
       "    </tr>\n",
       "    <tr>\n",
       "      <th>칠</th>\n",
       "      <td>7</td>\n",
       "      <td>14</td>\n",
       "      <td>21</td>\n",
       "      <td>28</td>\n",
       "    </tr>\n",
       "    <tr>\n",
       "      <th>팔</th>\n",
       "      <td>8</td>\n",
       "      <td>16</td>\n",
       "      <td>24</td>\n",
       "      <td>32</td>\n",
       "    </tr>\n",
       "    <tr>\n",
       "      <th>구</th>\n",
       "      <td>9</td>\n",
       "      <td>18</td>\n",
       "      <td>27</td>\n",
       "      <td>36</td>\n",
       "    </tr>\n",
       "  </tbody>\n",
       "</table>\n",
       "</div>"
      ],
      "text/plain": [
       "   1단  2단  3단  4단\n",
       "일   1   2   3   4\n",
       "이   2   4   6   8\n",
       "삼   3   6   9  12\n",
       "사   4   8  12  16\n",
       "오   5  10  15  20\n",
       "육   6  12  18  24\n",
       "칠   7  14  21  28\n",
       "팔   8  16  24  32\n",
       "구   9  18  27  36"
      ]
     },
     "execution_count": 72,
     "metadata": {},
     "output_type": "execute_result"
    }
   ],
   "source": [
    "# 3\n",
    "googoodan_df['4단']= one_dan[1:] * 4\n",
    "googoodan_df"
   ]
  },
  {
   "cell_type": "code",
   "execution_count": 77,
   "id": "458706cb-080a-4534-ae19-6a8d86a2ef22",
   "metadata": {},
   "outputs": [
    {
     "data": {
      "text/html": [
       "<div>\n",
       "<style scoped>\n",
       "    .dataframe tbody tr th:only-of-type {\n",
       "        vertical-align: middle;\n",
       "    }\n",
       "\n",
       "    .dataframe tbody tr th {\n",
       "        vertical-align: top;\n",
       "    }\n",
       "\n",
       "    .dataframe thead th {\n",
       "        text-align: right;\n",
       "    }\n",
       "</style>\n",
       "<table border=\"1\" class=\"dataframe\">\n",
       "  <thead>\n",
       "    <tr style=\"text-align: right;\">\n",
       "      <th></th>\n",
       "      <th>11단</th>\n",
       "      <th>2단</th>\n",
       "      <th>3단</th>\n",
       "      <th>4단</th>\n",
       "    </tr>\n",
       "  </thead>\n",
       "  <tbody>\n",
       "    <tr>\n",
       "      <th>일</th>\n",
       "      <td>11</td>\n",
       "      <td>2</td>\n",
       "      <td>3</td>\n",
       "      <td>4</td>\n",
       "    </tr>\n",
       "    <tr>\n",
       "      <th>이</th>\n",
       "      <td>22</td>\n",
       "      <td>4</td>\n",
       "      <td>6</td>\n",
       "      <td>8</td>\n",
       "    </tr>\n",
       "    <tr>\n",
       "      <th>삼</th>\n",
       "      <td>33</td>\n",
       "      <td>6</td>\n",
       "      <td>9</td>\n",
       "      <td>12</td>\n",
       "    </tr>\n",
       "    <tr>\n",
       "      <th>사</th>\n",
       "      <td>44</td>\n",
       "      <td>8</td>\n",
       "      <td>12</td>\n",
       "      <td>16</td>\n",
       "    </tr>\n",
       "    <tr>\n",
       "      <th>오</th>\n",
       "      <td>55</td>\n",
       "      <td>10</td>\n",
       "      <td>15</td>\n",
       "      <td>20</td>\n",
       "    </tr>\n",
       "    <tr>\n",
       "      <th>육</th>\n",
       "      <td>66</td>\n",
       "      <td>12</td>\n",
       "      <td>18</td>\n",
       "      <td>24</td>\n",
       "    </tr>\n",
       "    <tr>\n",
       "      <th>칠</th>\n",
       "      <td>77</td>\n",
       "      <td>14</td>\n",
       "      <td>21</td>\n",
       "      <td>28</td>\n",
       "    </tr>\n",
       "    <tr>\n",
       "      <th>팔</th>\n",
       "      <td>88</td>\n",
       "      <td>16</td>\n",
       "      <td>24</td>\n",
       "      <td>32</td>\n",
       "    </tr>\n",
       "    <tr>\n",
       "      <th>구</th>\n",
       "      <td>99</td>\n",
       "      <td>18</td>\n",
       "      <td>27</td>\n",
       "      <td>36</td>\n",
       "    </tr>\n",
       "  </tbody>\n",
       "</table>\n",
       "</div>"
      ],
      "text/plain": [
       "   11단  2단  3단  4단\n",
       "일   11   2   3   4\n",
       "이   22   4   6   8\n",
       "삼   33   6   9  12\n",
       "사   44   8  12  16\n",
       "오   55  10  15  20\n",
       "육   66  12  18  24\n",
       "칠   77  14  21  28\n",
       "팔   88  16  24  32\n",
       "구   99  18  27  36"
      ]
     },
     "execution_count": 77,
     "metadata": {},
     "output_type": "execute_result"
    }
   ],
   "source": [
    "# 4\n",
    "googoodan_df['1단']= one_dan[1:] * 11\n",
    "googoodan_df.columns = ['11단', '2단', '3단', '4단']\n",
    "googoodan_df"
   ]
  },
  {
   "cell_type": "code",
   "execution_count": 80,
   "id": "7cf49deb-4d47-4cb3-9605-65f0d41da376",
   "metadata": {},
   "outputs": [
    {
     "data": {
      "text/html": [
       "<div>\n",
       "<style scoped>\n",
       "    .dataframe tbody tr th:only-of-type {\n",
       "        vertical-align: middle;\n",
       "    }\n",
       "\n",
       "    .dataframe tbody tr th {\n",
       "        vertical-align: top;\n",
       "    }\n",
       "\n",
       "    .dataframe thead th {\n",
       "        text-align: right;\n",
       "    }\n",
       "</style>\n",
       "<table border=\"1\" class=\"dataframe\">\n",
       "  <thead>\n",
       "    <tr style=\"text-align: right;\">\n",
       "      <th></th>\n",
       "      <th>2단</th>\n",
       "      <th>3단</th>\n",
       "      <th>4단</th>\n",
       "    </tr>\n",
       "  </thead>\n",
       "  <tbody>\n",
       "    <tr>\n",
       "      <th>일</th>\n",
       "      <td>2</td>\n",
       "      <td>3</td>\n",
       "      <td>4</td>\n",
       "    </tr>\n",
       "    <tr>\n",
       "      <th>이</th>\n",
       "      <td>4</td>\n",
       "      <td>6</td>\n",
       "      <td>8</td>\n",
       "    </tr>\n",
       "    <tr>\n",
       "      <th>삼</th>\n",
       "      <td>6</td>\n",
       "      <td>9</td>\n",
       "      <td>12</td>\n",
       "    </tr>\n",
       "    <tr>\n",
       "      <th>사</th>\n",
       "      <td>8</td>\n",
       "      <td>12</td>\n",
       "      <td>16</td>\n",
       "    </tr>\n",
       "    <tr>\n",
       "      <th>오</th>\n",
       "      <td>10</td>\n",
       "      <td>15</td>\n",
       "      <td>20</td>\n",
       "    </tr>\n",
       "    <tr>\n",
       "      <th>육</th>\n",
       "      <td>12</td>\n",
       "      <td>18</td>\n",
       "      <td>24</td>\n",
       "    </tr>\n",
       "    <tr>\n",
       "      <th>칠</th>\n",
       "      <td>14</td>\n",
       "      <td>21</td>\n",
       "      <td>28</td>\n",
       "    </tr>\n",
       "    <tr>\n",
       "      <th>팔</th>\n",
       "      <td>16</td>\n",
       "      <td>24</td>\n",
       "      <td>32</td>\n",
       "    </tr>\n",
       "    <tr>\n",
       "      <th>구</th>\n",
       "      <td>18</td>\n",
       "      <td>27</td>\n",
       "      <td>36</td>\n",
       "    </tr>\n",
       "  </tbody>\n",
       "</table>\n",
       "</div>"
      ],
      "text/plain": [
       "   2단  3단  4단\n",
       "일   2   3   4\n",
       "이   4   6   8\n",
       "삼   6   9  12\n",
       "사   8  12  16\n",
       "오  10  15  20\n",
       "육  12  18  24\n",
       "칠  14  21  28\n",
       "팔  16  24  32\n",
       "구  18  27  36"
      ]
     },
     "execution_count": 80,
     "metadata": {},
     "output_type": "execute_result"
    }
   ],
   "source": [
    "# 5\n",
    "googoodan_df = googoodan_df.drop('11단', axis=1)\n",
    "googoodan_df"
   ]
  },
  {
   "cell_type": "code",
   "execution_count": 84,
   "id": "cca31de8-df0c-4719-b071-e0389a4a8122",
   "metadata": {},
   "outputs": [
    {
     "data": {
      "text/html": [
       "<div>\n",
       "<style scoped>\n",
       "    .dataframe tbody tr th:only-of-type {\n",
       "        vertical-align: middle;\n",
       "    }\n",
       "\n",
       "    .dataframe tbody tr th {\n",
       "        vertical-align: top;\n",
       "    }\n",
       "\n",
       "    .dataframe thead th {\n",
       "        text-align: right;\n",
       "    }\n",
       "</style>\n",
       "<table border=\"1\" class=\"dataframe\">\n",
       "  <thead>\n",
       "    <tr style=\"text-align: right;\">\n",
       "      <th></th>\n",
       "      <th>일</th>\n",
       "      <th>이</th>\n",
       "      <th>삼</th>\n",
       "      <th>사</th>\n",
       "      <th>오</th>\n",
       "      <th>육</th>\n",
       "      <th>칠</th>\n",
       "      <th>팔</th>\n",
       "      <th>구</th>\n",
       "    </tr>\n",
       "  </thead>\n",
       "  <tbody>\n",
       "    <tr>\n",
       "      <th>2단</th>\n",
       "      <td>2</td>\n",
       "      <td>4</td>\n",
       "      <td>6</td>\n",
       "      <td>8</td>\n",
       "      <td>10</td>\n",
       "      <td>12</td>\n",
       "      <td>14</td>\n",
       "      <td>16</td>\n",
       "      <td>18</td>\n",
       "    </tr>\n",
       "    <tr>\n",
       "      <th>3단</th>\n",
       "      <td>3</td>\n",
       "      <td>6</td>\n",
       "      <td>9</td>\n",
       "      <td>12</td>\n",
       "      <td>15</td>\n",
       "      <td>18</td>\n",
       "      <td>21</td>\n",
       "      <td>24</td>\n",
       "      <td>27</td>\n",
       "    </tr>\n",
       "    <tr>\n",
       "      <th>4단</th>\n",
       "      <td>4</td>\n",
       "      <td>8</td>\n",
       "      <td>12</td>\n",
       "      <td>16</td>\n",
       "      <td>20</td>\n",
       "      <td>24</td>\n",
       "      <td>28</td>\n",
       "      <td>32</td>\n",
       "      <td>36</td>\n",
       "    </tr>\n",
       "  </tbody>\n",
       "</table>\n",
       "</div>"
      ],
      "text/plain": [
       "    일  이   삼   사   오   육   칠   팔   구\n",
       "2단  2  4   6   8  10  12  14  16  18\n",
       "3단  3  6   9  12  15  18  21  24  27\n",
       "4단  4  8  12  16  20  24  28  32  36"
      ]
     },
     "execution_count": 84,
     "metadata": {},
     "output_type": "execute_result"
    }
   ],
   "source": [
    "# 6\n",
    "googoodan_df = googoodan_df.T\n",
    "googoodan_df"
   ]
  },
  {
   "cell_type": "code",
   "execution_count": 86,
   "id": "86de6bad-752c-41de-b3ee-8af3a87a0a5f",
   "metadata": {},
   "outputs": [
    {
     "data": {
      "text/html": [
       "<div>\n",
       "<style scoped>\n",
       "    .dataframe tbody tr th:only-of-type {\n",
       "        vertical-align: middle;\n",
       "    }\n",
       "\n",
       "    .dataframe tbody tr th {\n",
       "        vertical-align: top;\n",
       "    }\n",
       "\n",
       "    .dataframe thead th {\n",
       "        text-align: right;\n",
       "    }\n",
       "</style>\n",
       "<table border=\"1\" class=\"dataframe\">\n",
       "  <thead>\n",
       "    <tr style=\"text-align: right;\">\n",
       "      <th></th>\n",
       "      <th>일</th>\n",
       "      <th>이</th>\n",
       "      <th>삼</th>\n",
       "      <th>사</th>\n",
       "      <th>육</th>\n",
       "      <th>팔</th>\n",
       "      <th>구</th>\n",
       "    </tr>\n",
       "  </thead>\n",
       "  <tbody>\n",
       "    <tr>\n",
       "      <th>2단</th>\n",
       "      <td>2</td>\n",
       "      <td>4</td>\n",
       "      <td>6</td>\n",
       "      <td>8</td>\n",
       "      <td>12</td>\n",
       "      <td>16</td>\n",
       "      <td>18</td>\n",
       "    </tr>\n",
       "    <tr>\n",
       "      <th>3단</th>\n",
       "      <td>3</td>\n",
       "      <td>6</td>\n",
       "      <td>9</td>\n",
       "      <td>12</td>\n",
       "      <td>18</td>\n",
       "      <td>24</td>\n",
       "      <td>27</td>\n",
       "    </tr>\n",
       "    <tr>\n",
       "      <th>4단</th>\n",
       "      <td>4</td>\n",
       "      <td>8</td>\n",
       "      <td>12</td>\n",
       "      <td>16</td>\n",
       "      <td>24</td>\n",
       "      <td>32</td>\n",
       "      <td>36</td>\n",
       "    </tr>\n",
       "  </tbody>\n",
       "</table>\n",
       "</div>"
      ],
      "text/plain": [
       "    일  이   삼   사   육   팔   구\n",
       "2단  2  4   6   8  12  16  18\n",
       "3단  3  6   9  12  18  24  27\n",
       "4단  4  8  12  16  24  32  36"
      ]
     },
     "execution_count": 86,
     "metadata": {},
     "output_type": "execute_result"
    }
   ],
   "source": [
    "# 7\n",
    "googoodan_df = googoodan_df.drop(['오','칠'], axis=1)\n",
    "googoodan_df"
   ]
  },
  {
   "cell_type": "code",
   "execution_count": null,
   "id": "254474ee-8379-4b3a-8fc4-88cca7308ec0",
   "metadata": {},
   "outputs": [],
   "source": []
  }
 ],
 "metadata": {
  "kernelspec": {
   "display_name": "Python 3 (ipykernel)",
   "language": "python",
   "name": "python3"
  },
  "language_info": {
   "codemirror_mode": {
    "name": "ipython",
    "version": 3
   },
   "file_extension": ".py",
   "mimetype": "text/x-python",
   "name": "python",
   "nbconvert_exporter": "python",
   "pygments_lexer": "ipython3",
   "version": "3.9.12"
  }
 },
 "nbformat": 4,
 "nbformat_minor": 5
}
