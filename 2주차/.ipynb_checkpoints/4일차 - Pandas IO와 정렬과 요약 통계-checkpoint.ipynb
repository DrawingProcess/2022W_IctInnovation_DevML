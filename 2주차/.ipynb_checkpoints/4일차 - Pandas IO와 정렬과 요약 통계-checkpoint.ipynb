{
 "cells": [
  {
   "cell_type": "markdown",
   "id": "ed221323-ab18-415d-9c9c-6caeacae88b2",
   "metadata": {},
   "source": [
    "# Pandas IO 도구들"
   ]
  },
  {
   "cell_type": "code",
   "execution_count": 2,
   "id": "8ea5f741-7f3b-4913-b659-4e8a8379cbbb",
   "metadata": {},
   "outputs": [],
   "source": [
    "import pandas as pd\n",
    "import numpy as np"
   ]
  },
  {
   "cell_type": "markdown",
   "id": "d1f5f382-584d-47e6-92e8-27e6d0f015d7",
   "metadata": {},
   "source": [
    "## CSV 파일 입출력\n",
    "csv 가져오기"
   ]
  },
  {
   "cell_type": "code",
   "execution_count": 3,
   "id": "276b49c9-d7e9-4af6-ae85-af3a4016d7a2",
   "metadata": {},
   "outputs": [
    {
     "data": {
      "text/html": [
       "<div>\n",
       "<style scoped>\n",
       "    .dataframe tbody tr th:only-of-type {\n",
       "        vertical-align: middle;\n",
       "    }\n",
       "\n",
       "    .dataframe tbody tr th {\n",
       "        vertical-align: top;\n",
       "    }\n",
       "\n",
       "    .dataframe thead th {\n",
       "        text-align: right;\n",
       "    }\n",
       "</style>\n",
       "<table border=\"1\" class=\"dataframe\">\n",
       "  <thead>\n",
       "    <tr style=\"text-align: right;\">\n",
       "      <th></th>\n",
       "      <th>col1</th>\n",
       "      <th>col2</th>\n",
       "      <th>col3</th>\n",
       "    </tr>\n",
       "  </thead>\n",
       "  <tbody>\n",
       "    <tr>\n",
       "      <th>0</th>\n",
       "      <td>a</td>\n",
       "      <td>b</td>\n",
       "      <td>1</td>\n",
       "    </tr>\n",
       "    <tr>\n",
       "      <th>1</th>\n",
       "      <td>a</td>\n",
       "      <td>b</td>\n",
       "      <td>2</td>\n",
       "    </tr>\n",
       "    <tr>\n",
       "      <th>2</th>\n",
       "      <td>c</td>\n",
       "      <td>d</td>\n",
       "      <td>3</td>\n",
       "    </tr>\n",
       "  </tbody>\n",
       "</table>\n",
       "</div>"
      ],
      "text/plain": [
       "  col1 col2  col3\n",
       "0    a    b     1\n",
       "1    a    b     2\n",
       "2    c    d     3"
      ]
     },
     "execution_count": 3,
     "metadata": {},
     "output_type": "execute_result"
    }
   ],
   "source": [
    "csv_df = pd.read_csv('test.csv')\n",
    "csv_df"
   ]
  },
  {
   "cell_type": "code",
   "execution_count": 4,
   "id": "c619e29a-c30b-4e37-b45b-3e7827888743",
   "metadata": {},
   "outputs": [],
   "source": [
    "csv_df.to_csv('output.csv')"
   ]
  },
  {
   "cell_type": "markdown",
   "id": "a8698770-94d0-487f-b8d7-32244b26a9b3",
   "metadata": {},
   "source": [
    "## 엑셀 파일 입출력\n",
    "데이터 프레임을 excel 데이터로 저장하기"
   ]
  },
  {
   "cell_type": "code",
   "execution_count": 6,
   "id": "4d257c17-b014-4b5d-9576-ee5fb69058a3",
   "metadata": {},
   "outputs": [
    {
     "name": "stdout",
     "output_type": "stream",
     "text": [
      "Collecting xlwt\n",
      "  Using cached xlwt-1.3.0-py2.py3-none-any.whl (99 kB)\n",
      "Installing collected packages: xlwt\n",
      "Successfully installed xlwt-1.3.0\n"
     ]
    }
   ],
   "source": [
    "!pip install xlwt # xls로 입출력할 떄 필요한 라이브러리 설치"
   ]
  },
  {
   "cell_type": "code",
   "execution_count": 7,
   "id": "826570a1-bf5e-4e44-8430-deb16246f45e",
   "metadata": {},
   "outputs": [
    {
     "name": "stderr",
     "output_type": "stream",
     "text": [
      "C:\\Users\\isc03\\AppData\\Local\\Temp\\ipykernel_20924\\124954584.py:4: FutureWarning: As the xlwt package is no longer maintained, the xlwt engine will be removed in a future version of pandas. This is the only engine in pandas that supports writing in the xls format. Install openpyxl and write to an xlsx file instead. You can set the option io.excel.xls.writer to 'xlwt' to silence this warning. While this option is deprecated and will also raise a warning, it can be globally set and the warning suppressed.\n",
      "  csv_df.to_excel('a.xls')\n"
     ]
    }
   ],
   "source": [
    "# a.xls: 파일시스템, 바이너리로 구성된 시스템\n",
    "# a.xlsx: xml 파일이 zip으로 압축된 형식을 지님\n",
    "csv_df.to_excel('a.xlsx')\n",
    "csv_df.to_excel('a.xls')"
   ]
  },
  {
   "cell_type": "code",
   "execution_count": 12,
   "id": "dc68f7fd-d920-4f43-a950-ca281917c93a",
   "metadata": {},
   "outputs": [
    {
     "data": {
      "text/html": [
       "<div>\n",
       "<style scoped>\n",
       "    .dataframe tbody tr th:only-of-type {\n",
       "        vertical-align: middle;\n",
       "    }\n",
       "\n",
       "    .dataframe tbody tr th {\n",
       "        vertical-align: top;\n",
       "    }\n",
       "\n",
       "    .dataframe thead th {\n",
       "        text-align: right;\n",
       "    }\n",
       "</style>\n",
       "<table border=\"1\" class=\"dataframe\">\n",
       "  <thead>\n",
       "    <tr style=\"text-align: right;\">\n",
       "      <th></th>\n",
       "      <th>Unnamed: 0</th>\n",
       "      <th>col1</th>\n",
       "      <th>col2</th>\n",
       "      <th>col3</th>\n",
       "    </tr>\n",
       "  </thead>\n",
       "  <tbody>\n",
       "    <tr>\n",
       "      <th>0</th>\n",
       "      <td>0</td>\n",
       "      <td>a</td>\n",
       "      <td>b</td>\n",
       "      <td>1</td>\n",
       "    </tr>\n",
       "    <tr>\n",
       "      <th>1</th>\n",
       "      <td>1</td>\n",
       "      <td>a</td>\n",
       "      <td>b</td>\n",
       "      <td>2</td>\n",
       "    </tr>\n",
       "    <tr>\n",
       "      <th>2</th>\n",
       "      <td>2</td>\n",
       "      <td>c</td>\n",
       "      <td>d</td>\n",
       "      <td>3</td>\n",
       "    </tr>\n",
       "  </tbody>\n",
       "</table>\n",
       "</div>"
      ],
      "text/plain": [
       "   Unnamed: 0 col1 col2  col3\n",
       "0           0    a    b     1\n",
       "1           1    a    b     2\n",
       "2           2    c    d     3"
      ]
     },
     "execution_count": 12,
     "metadata": {},
     "output_type": "execute_result"
    }
   ],
   "source": [
    "xlsx_df = pd.read_excel('a.xlsx', sheet_name='Sheet1')\n",
    "xlsx_df"
   ]
  },
  {
   "cell_type": "code",
   "execution_count": 10,
   "id": "2df551e4-59d3-4db9-bc18-ccc8f4b590af",
   "metadata": {},
   "outputs": [
    {
     "data": {
      "text/html": [
       "<div>\n",
       "<style scoped>\n",
       "    .dataframe tbody tr th:only-of-type {\n",
       "        vertical-align: middle;\n",
       "    }\n",
       "\n",
       "    .dataframe tbody tr th {\n",
       "        vertical-align: top;\n",
       "    }\n",
       "\n",
       "    .dataframe thead th {\n",
       "        text-align: right;\n",
       "    }\n",
       "</style>\n",
       "<table border=\"1\" class=\"dataframe\">\n",
       "  <thead>\n",
       "    <tr style=\"text-align: right;\">\n",
       "      <th></th>\n",
       "      <th>Unnamed: 0</th>\n",
       "      <th>col1</th>\n",
       "      <th>col2</th>\n",
       "      <th>col3</th>\n",
       "    </tr>\n",
       "  </thead>\n",
       "  <tbody>\n",
       "    <tr>\n",
       "      <th>0</th>\n",
       "      <td>0</td>\n",
       "      <td>a</td>\n",
       "      <td>b</td>\n",
       "      <td>1</td>\n",
       "    </tr>\n",
       "    <tr>\n",
       "      <th>1</th>\n",
       "      <td>1</td>\n",
       "      <td>a</td>\n",
       "      <td>b</td>\n",
       "      <td>2</td>\n",
       "    </tr>\n",
       "    <tr>\n",
       "      <th>2</th>\n",
       "      <td>2</td>\n",
       "      <td>c</td>\n",
       "      <td>d</td>\n",
       "      <td>3</td>\n",
       "    </tr>\n",
       "  </tbody>\n",
       "</table>\n",
       "</div>"
      ],
      "text/plain": [
       "   Unnamed: 0 col1 col2  col3\n",
       "0           0    a    b     1\n",
       "1           1    a    b     2\n",
       "2           2    c    d     3"
      ]
     },
     "execution_count": 10,
     "metadata": {},
     "output_type": "execute_result"
    }
   ],
   "source": [
    "xls_df = pd.read_excel('a.xls')\n",
    "xls_df"
   ]
  },
  {
   "cell_type": "markdown",
   "id": "c5066677-c881-4e62-8561-f12a3a40e67f",
   "metadata": {},
   "source": [
    "## HTML 파일에서 데이터 입출력"
   ]
  },
  {
   "cell_type": "code",
   "execution_count": 18,
   "id": "b083315a-cf8d-47a2-a444-e5eac914f6b5",
   "metadata": {},
   "outputs": [
    {
     "name": "stdout",
     "output_type": "stream",
     "text": [
      "TOP 종목\n"
     ]
    },
    {
     "data": {
      "text/html": [
       "<div>\n",
       "<style scoped>\n",
       "    .dataframe tbody tr th:only-of-type {\n",
       "        vertical-align: middle;\n",
       "    }\n",
       "\n",
       "    .dataframe tbody tr th {\n",
       "        vertical-align: top;\n",
       "    }\n",
       "\n",
       "    .dataframe thead th {\n",
       "        text-align: right;\n",
       "    }\n",
       "</style>\n",
       "<table border=\"1\" class=\"dataframe\">\n",
       "  <thead>\n",
       "    <tr style=\"text-align: right;\">\n",
       "      <th></th>\n",
       "      <th>종목명</th>\n",
       "      <th>현재가</th>\n",
       "      <th>전일대비</th>\n",
       "      <th>등락률</th>\n",
       "    </tr>\n",
       "  </thead>\n",
       "  <tbody>\n",
       "    <tr>\n",
       "      <th>0</th>\n",
       "      <td>베트남개발1</td>\n",
       "      <td>297</td>\n",
       "      <td>하락 124</td>\n",
       "      <td>-29.45%</td>\n",
       "    </tr>\n",
       "    <tr>\n",
       "      <th>1</th>\n",
       "      <td>KODEX 200선물인버스2X</td>\n",
       "      <td>3675</td>\n",
       "      <td>상승 70</td>\n",
       "      <td>+1.94%</td>\n",
       "    </tr>\n",
       "    <tr>\n",
       "      <th>2</th>\n",
       "      <td>에이프로젠</td>\n",
       "      <td>992</td>\n",
       "      <td>상승 69</td>\n",
       "      <td>+7.48%</td>\n",
       "    </tr>\n",
       "    <tr>\n",
       "      <th>3</th>\n",
       "      <td>씨케이에이치</td>\n",
       "      <td>254</td>\n",
       "      <td>하락 24</td>\n",
       "      <td>-8.63%</td>\n",
       "    </tr>\n",
       "    <tr>\n",
       "      <th>4</th>\n",
       "      <td>KODEX 코스닥150선물인버스</td>\n",
       "      <td>5670</td>\n",
       "      <td>상승 125</td>\n",
       "      <td>+2.25%</td>\n",
       "    </tr>\n",
       "    <tr>\n",
       "      <th>5</th>\n",
       "      <td>KODEX 레버리지</td>\n",
       "      <td>12335</td>\n",
       "      <td>하락 260</td>\n",
       "      <td>-2.06%</td>\n",
       "    </tr>\n",
       "    <tr>\n",
       "      <th>6</th>\n",
       "      <td>KODEX 코스닥150레버리지</td>\n",
       "      <td>6210</td>\n",
       "      <td>하락 285</td>\n",
       "      <td>-4.39%</td>\n",
       "    </tr>\n",
       "    <tr>\n",
       "      <th>7</th>\n",
       "      <td>KODEX 인버스</td>\n",
       "      <td>5315</td>\n",
       "      <td>상승 45</td>\n",
       "      <td>+0.85%</td>\n",
       "    </tr>\n",
       "    <tr>\n",
       "      <th>8</th>\n",
       "      <td>이엔플러스</td>\n",
       "      <td>4920</td>\n",
       "      <td>상승 1,050</td>\n",
       "      <td>+27.13%</td>\n",
       "    </tr>\n",
       "    <tr>\n",
       "      <th>9</th>\n",
       "      <td>조광ILI</td>\n",
       "      <td>1385</td>\n",
       "      <td>상승 110</td>\n",
       "      <td>+8.63%</td>\n",
       "    </tr>\n",
       "    <tr>\n",
       "      <th>10</th>\n",
       "      <td>이스트아시아홀딩스</td>\n",
       "      <td>213</td>\n",
       "      <td>하락 2</td>\n",
       "      <td>-0.93%</td>\n",
       "    </tr>\n",
       "    <tr>\n",
       "      <th>11</th>\n",
       "      <td>한신기계</td>\n",
       "      <td>7510</td>\n",
       "      <td>상승 1,460</td>\n",
       "      <td>+24.13%</td>\n",
       "    </tr>\n",
       "    <tr>\n",
       "      <th>12</th>\n",
       "      <td>스킨앤스킨</td>\n",
       "      <td>269</td>\n",
       "      <td>상승 62</td>\n",
       "      <td>+29.95%</td>\n",
       "    </tr>\n",
       "    <tr>\n",
       "      <th>13</th>\n",
       "      <td>EDGC</td>\n",
       "      <td>2305</td>\n",
       "      <td>상승 115</td>\n",
       "      <td>+5.25%</td>\n",
       "    </tr>\n",
       "    <tr>\n",
       "      <th>14</th>\n",
       "      <td>글로벌에스엠</td>\n",
       "      <td>870</td>\n",
       "      <td>상승 37</td>\n",
       "      <td>+4.44%</td>\n",
       "    </tr>\n",
       "  </tbody>\n",
       "</table>\n",
       "</div>"
      ],
      "text/plain": [
       "                  종목명    현재가      전일대비      등락률\n",
       "0              베트남개발1    297    하락 124  -29.45%\n",
       "1    KODEX 200선물인버스2X   3675     상승 70   +1.94%\n",
       "2               에이프로젠    992     상승 69   +7.48%\n",
       "3              씨케이에이치    254     하락 24   -8.63%\n",
       "4   KODEX 코스닥150선물인버스   5670    상승 125   +2.25%\n",
       "5          KODEX 레버리지  12335    하락 260   -2.06%\n",
       "6    KODEX 코스닥150레버리지   6210    하락 285   -4.39%\n",
       "7           KODEX 인버스   5315     상승 45   +0.85%\n",
       "8               이엔플러스   4920  상승 1,050  +27.13%\n",
       "9               조광ILI   1385    상승 110   +8.63%\n",
       "10          이스트아시아홀딩스    213      하락 2   -0.93%\n",
       "11               한신기계   7510  상승 1,460  +24.13%\n",
       "12              스킨앤스킨    269     상승 62  +29.95%\n",
       "13               EDGC   2305    상승 115   +5.25%\n",
       "14             글로벌에스엠    870     상승 37   +4.44%"
      ]
     },
     "execution_count": 18,
     "metadata": {},
     "output_type": "execute_result"
    }
   ],
   "source": [
    "naver_finance_url = \"https://finance.naver.com/\"\n",
    "html_dfs = pd.read_html(naver_finance_url, encoding='euc-kr')\n",
    "print(\"TOP 종목\")\n",
    "html_dfs[0]"
   ]
  },
  {
   "cell_type": "code",
   "execution_count": 20,
   "id": "778528de-c903-4307-9287-944250202d51",
   "metadata": {},
   "outputs": [
    {
     "data": {
      "text/plain": [
       "12"
      ]
     },
     "execution_count": 20,
     "metadata": {},
     "output_type": "execute_result"
    }
   ],
   "source": [
    "# table의 개수 \n",
    "len(html_dfs)"
   ]
  },
  {
   "cell_type": "code",
   "execution_count": 21,
   "id": "a1e076e3-4a0a-459c-990f-b2c026182343",
   "metadata": {},
   "outputs": [],
   "source": [
    "html_dfs[0].to_html('naver_finance.html')"
   ]
  },
  {
   "cell_type": "markdown",
   "id": "eff70fca-06a5-485c-b80f-387ca6c1fd2f",
   "metadata": {},
   "source": [
    "## mysql 데이터베이스\n",
    "\n",
    "GCP에 mysql 서비스를 오픈해두겠다. 파이썬 라이브러리를 사용해 34.123.229.9:3306포트로 접속하면 된다.\n",
    "```bash\n",
    "sudo -i\n",
    "apt update\n",
    "apt install docker.io -y\n",
    "docker run --name some-mysql -e MYSQL_ROOT_PASSWORD=test1234 -d mysql:5.7 -p 3306:3306\n",
    "```"
   ]
  },
  {
   "cell_type": "code",
   "execution_count": 23,
   "id": "96a06015-99c3-4a83-97b8-00ca86825831",
   "metadata": {},
   "outputs": [
    {
     "name": "stdout",
     "output_type": "stream",
     "text": [
      "Collecting pymysql\n",
      "  Downloading PyMySQL-1.0.2-py3-none-any.whl (43 kB)\n",
      "Installing collected packages: pymysql\n",
      "Successfully installed pymysql-1.0.2\n"
     ]
    }
   ],
   "source": [
    "!pip install pymysql"
   ]
  },
  {
   "cell_type": "code",
   "execution_count": 26,
   "id": "8f141b06-c8d9-4970-b658-d96dbaf78be6",
   "metadata": {},
   "outputs": [
    {
     "name": "stderr",
     "output_type": "stream",
     "text": [
      "C:\\Users\\isc03\\anaconda3\\lib\\site-packages\\pandas\\io\\sql.py:761: UserWarning: pandas only support SQLAlchemy connectable(engine/connection) ordatabase string URI or sqlite3 DBAPI2 connectionother DBAPI2 objects are not tested, please consider using SQLAlchemy\n",
      "  warnings.warn(\n"
     ]
    },
    {
     "data": {
      "text/html": [
       "<div>\n",
       "<style scoped>\n",
       "    .dataframe tbody tr th:only-of-type {\n",
       "        vertical-align: middle;\n",
       "    }\n",
       "\n",
       "    .dataframe tbody tr th {\n",
       "        vertical-align: top;\n",
       "    }\n",
       "\n",
       "    .dataframe thead th {\n",
       "        text-align: right;\n",
       "    }\n",
       "</style>\n",
       "<table border=\"1\" class=\"dataframe\">\n",
       "  <thead>\n",
       "    <tr style=\"text-align: right;\">\n",
       "      <th></th>\n",
       "      <th>Host</th>\n",
       "      <th>User</th>\n",
       "      <th>Select_priv</th>\n",
       "      <th>Insert_priv</th>\n",
       "      <th>Update_priv</th>\n",
       "      <th>Delete_priv</th>\n",
       "      <th>Create_priv</th>\n",
       "      <th>Drop_priv</th>\n",
       "      <th>Reload_priv</th>\n",
       "      <th>Shutdown_priv</th>\n",
       "      <th>...</th>\n",
       "      <th>max_questions</th>\n",
       "      <th>max_updates</th>\n",
       "      <th>max_connections</th>\n",
       "      <th>max_user_connections</th>\n",
       "      <th>plugin</th>\n",
       "      <th>authentication_string</th>\n",
       "      <th>password_expired</th>\n",
       "      <th>password_last_changed</th>\n",
       "      <th>password_lifetime</th>\n",
       "      <th>account_locked</th>\n",
       "    </tr>\n",
       "  </thead>\n",
       "  <tbody>\n",
       "    <tr>\n",
       "      <th>0</th>\n",
       "      <td>localhost</td>\n",
       "      <td>root</td>\n",
       "      <td>Y</td>\n",
       "      <td>Y</td>\n",
       "      <td>Y</td>\n",
       "      <td>Y</td>\n",
       "      <td>Y</td>\n",
       "      <td>Y</td>\n",
       "      <td>Y</td>\n",
       "      <td>Y</td>\n",
       "      <td>...</td>\n",
       "      <td>0</td>\n",
       "      <td>0</td>\n",
       "      <td>0</td>\n",
       "      <td>0</td>\n",
       "      <td>mysql_native_password</td>\n",
       "      <td>*3D3B92F242033365AE5BC6A8E6FC3E1679F4140A</td>\n",
       "      <td>N</td>\n",
       "      <td>2022-10-20 11:31:41</td>\n",
       "      <td>None</td>\n",
       "      <td>N</td>\n",
       "    </tr>\n",
       "    <tr>\n",
       "      <th>1</th>\n",
       "      <td>localhost</td>\n",
       "      <td>mysql.session</td>\n",
       "      <td>N</td>\n",
       "      <td>N</td>\n",
       "      <td>N</td>\n",
       "      <td>N</td>\n",
       "      <td>N</td>\n",
       "      <td>N</td>\n",
       "      <td>N</td>\n",
       "      <td>N</td>\n",
       "      <td>...</td>\n",
       "      <td>0</td>\n",
       "      <td>0</td>\n",
       "      <td>0</td>\n",
       "      <td>0</td>\n",
       "      <td>mysql_native_password</td>\n",
       "      <td>*THISISNOTAVALIDPASSWORDTHATCANBEUSEDHERE</td>\n",
       "      <td>N</td>\n",
       "      <td>2022-10-20 11:31:36</td>\n",
       "      <td>None</td>\n",
       "      <td>Y</td>\n",
       "    </tr>\n",
       "    <tr>\n",
       "      <th>2</th>\n",
       "      <td>localhost</td>\n",
       "      <td>mysql.sys</td>\n",
       "      <td>N</td>\n",
       "      <td>N</td>\n",
       "      <td>N</td>\n",
       "      <td>N</td>\n",
       "      <td>N</td>\n",
       "      <td>N</td>\n",
       "      <td>N</td>\n",
       "      <td>N</td>\n",
       "      <td>...</td>\n",
       "      <td>0</td>\n",
       "      <td>0</td>\n",
       "      <td>0</td>\n",
       "      <td>0</td>\n",
       "      <td>mysql_native_password</td>\n",
       "      <td>*THISISNOTAVALIDPASSWORDTHATCANBEUSEDHERE</td>\n",
       "      <td>N</td>\n",
       "      <td>2022-10-20 11:31:36</td>\n",
       "      <td>None</td>\n",
       "      <td>Y</td>\n",
       "    </tr>\n",
       "    <tr>\n",
       "      <th>3</th>\n",
       "      <td>%</td>\n",
       "      <td>root</td>\n",
       "      <td>Y</td>\n",
       "      <td>Y</td>\n",
       "      <td>Y</td>\n",
       "      <td>Y</td>\n",
       "      <td>Y</td>\n",
       "      <td>Y</td>\n",
       "      <td>Y</td>\n",
       "      <td>Y</td>\n",
       "      <td>...</td>\n",
       "      <td>0</td>\n",
       "      <td>0</td>\n",
       "      <td>0</td>\n",
       "      <td>0</td>\n",
       "      <td>mysql_native_password</td>\n",
       "      <td>*3D3B92F242033365AE5BC6A8E6FC3E1679F4140A</td>\n",
       "      <td>N</td>\n",
       "      <td>2022-10-20 11:31:41</td>\n",
       "      <td>None</td>\n",
       "      <td>N</td>\n",
       "    </tr>\n",
       "  </tbody>\n",
       "</table>\n",
       "<p>4 rows × 45 columns</p>\n",
       "</div>"
      ],
      "text/plain": [
       "        Host           User Select_priv Insert_priv Update_priv Delete_priv  \\\n",
       "0  localhost           root           Y           Y           Y           Y   \n",
       "1  localhost  mysql.session           N           N           N           N   \n",
       "2  localhost      mysql.sys           N           N           N           N   \n",
       "3          %           root           Y           Y           Y           Y   \n",
       "\n",
       "  Create_priv Drop_priv Reload_priv Shutdown_priv  ... max_questions  \\\n",
       "0           Y         Y           Y             Y  ...             0   \n",
       "1           N         N           N             N  ...             0   \n",
       "2           N         N           N             N  ...             0   \n",
       "3           Y         Y           Y             Y  ...             0   \n",
       "\n",
       "  max_updates max_connections max_user_connections                 plugin  \\\n",
       "0           0               0                    0  mysql_native_password   \n",
       "1           0               0                    0  mysql_native_password   \n",
       "2           0               0                    0  mysql_native_password   \n",
       "3           0               0                    0  mysql_native_password   \n",
       "\n",
       "                       authentication_string password_expired  \\\n",
       "0  *3D3B92F242033365AE5BC6A8E6FC3E1679F4140A                N   \n",
       "1  *THISISNOTAVALIDPASSWORDTHATCANBEUSEDHERE                N   \n",
       "2  *THISISNOTAVALIDPASSWORDTHATCANBEUSEDHERE                N   \n",
       "3  *3D3B92F242033365AE5BC6A8E6FC3E1679F4140A                N   \n",
       "\n",
       "  password_last_changed password_lifetime account_locked  \n",
       "0   2022-10-20 11:31:41              None              N  \n",
       "1   2022-10-20 11:31:36              None              Y  \n",
       "2   2022-10-20 11:31:36              None              Y  \n",
       "3   2022-10-20 11:31:41              None              N  \n",
       "\n",
       "[4 rows x 45 columns]"
      ]
     },
     "execution_count": 26,
     "metadata": {},
     "output_type": "execute_result"
    }
   ],
   "source": [
    "import pymysql\n",
    "\n",
    "# pymysql 라이브러리는 파이썬으로 mysql 데이터베이스 접근하는 기능을 가지고 있다.\n",
    "# db -> 엑셀 파일\n",
    "# table -> 시트\n",
    "\n",
    "conn = pymysql.connect(\n",
    "    host='34.123.229.9', # db 서버의 아이피 \n",
    "    user='root',         # 유저 이름\n",
    "    password='test1234', # 패스워드\n",
    "    db='mysql',          # 접근하려는 데이터베이스\n",
    "    charset='utf8'\n",
    ")\n",
    "sql = 'select * from user' # user 테이블을 조회하는 구문\n",
    "\n",
    "sql_df = pd.read_sql_query(sql, conn)\n",
    "sql_df"
   ]
  },
  {
   "cell_type": "markdown",
   "id": "1adca5b2-4d83-4544-9235-0b46a923d63a",
   "metadata": {},
   "source": [
    "# 데이터 정렬하기"
   ]
  },
  {
   "cell_type": "code",
   "execution_count": 27,
   "id": "7e6fe4ed-2e82-4219-b422-9eb3ebc7a6f4",
   "metadata": {},
   "outputs": [
    {
     "data": {
      "text/plain": [
       "index\n",
       "10    0\n",
       "9     1\n",
       "8     2\n",
       "7     3\n",
       "6     4\n",
       "5     5\n",
       "4     6\n",
       "3     7\n",
       "2     8\n",
       "1     9\n",
       "dtype: int64"
      ]
     },
     "execution_count": 27,
     "metadata": {},
     "output_type": "execute_result"
    }
   ],
   "source": [
    "se = pd.Series(range(10), index=[10,9,8,7,6,5,4,3,2,1])\n",
    "se.index.name = 'index'\n",
    "se"
   ]
  },
  {
   "cell_type": "code",
   "execution_count": 31,
   "id": "04d9fe4e-065d-4f34-971d-c6842c538797",
   "metadata": {},
   "outputs": [
    {
     "data": {
      "text/plain": [
       "index\n",
       "1     9\n",
       "2     8\n",
       "3     7\n",
       "4     6\n",
       "5     5\n",
       "6     4\n",
       "7     3\n",
       "8     2\n",
       "9     1\n",
       "10    0\n",
       "dtype: int64"
      ]
     },
     "execution_count": 31,
     "metadata": {},
     "output_type": "execute_result"
    }
   ],
   "source": [
    "se = se.sort_index() # 오름차순(ascending의 기본값은 True)\n",
    "se"
   ]
  },
  {
   "cell_type": "code",
   "execution_count": 32,
   "id": "4e73fcfe-1187-4712-a311-3e3f7429d7aa",
   "metadata": {},
   "outputs": [
    {
     "data": {
      "text/plain": [
       "index\n",
       "10    0\n",
       "9     1\n",
       "8     2\n",
       "7     3\n",
       "6     4\n",
       "5     5\n",
       "4     6\n",
       "3     7\n",
       "2     8\n",
       "1     9\n",
       "dtype: int64"
      ]
     },
     "execution_count": 32,
     "metadata": {},
     "output_type": "execute_result"
    }
   ],
   "source": [
    "se.sort_index(ascending=False) # 내림차순"
   ]
  },
  {
   "cell_type": "code",
   "execution_count": 33,
   "id": "149d01f3-1c83-410d-b426-666d9dfffef1",
   "metadata": {},
   "outputs": [
    {
     "data": {
      "text/html": [
       "<div>\n",
       "<style scoped>\n",
       "    .dataframe tbody tr th:only-of-type {\n",
       "        vertical-align: middle;\n",
       "    }\n",
       "\n",
       "    .dataframe tbody tr th {\n",
       "        vertical-align: top;\n",
       "    }\n",
       "\n",
       "    .dataframe thead th {\n",
       "        text-align: right;\n",
       "    }\n",
       "</style>\n",
       "<table border=\"1\" class=\"dataframe\">\n",
       "  <thead>\n",
       "    <tr style=\"text-align: right;\">\n",
       "      <th></th>\n",
       "      <th>id</th>\n",
       "      <th>name</th>\n",
       "      <th>age</th>\n",
       "      <th>asets</th>\n",
       "      <th>job</th>\n",
       "    </tr>\n",
       "  </thead>\n",
       "  <tbody>\n",
       "    <tr>\n",
       "      <th>0</th>\n",
       "      <td>1</td>\n",
       "      <td>Choi</td>\n",
       "      <td>10</td>\n",
       "      <td>150.40</td>\n",
       "      <td>student</td>\n",
       "    </tr>\n",
       "    <tr>\n",
       "      <th>1</th>\n",
       "      <td>2</td>\n",
       "      <td>Lee</td>\n",
       "      <td>20</td>\n",
       "      <td>123.40</td>\n",
       "      <td>CEO</td>\n",
       "    </tr>\n",
       "    <tr>\n",
       "      <th>2</th>\n",
       "      <td>3</td>\n",
       "      <td>Kim</td>\n",
       "      <td>30</td>\n",
       "      <td>88.88</td>\n",
       "      <td>Dad</td>\n",
       "    </tr>\n",
       "  </tbody>\n",
       "</table>\n",
       "</div>"
      ],
      "text/plain": [
       "   id  name  age   asets      job\n",
       "0   1  Choi   10  150.40  student\n",
       "1   2   Lee   20  123.40      CEO\n",
       "2   3   Kim   30   88.88      Dad"
      ]
     },
     "execution_count": 33,
     "metadata": {},
     "output_type": "execute_result"
    }
   ],
   "source": [
    "data_table = {\n",
    "    'id': [1,2,3],\n",
    "    'name': ['Choi', 'Lee', 'Kim'],\n",
    "    'age': [10,20,30],\n",
    "    'asets': [150.4, 123.4, 88.88],\n",
    "    'job': ['student', 'CEO', 'Dad']\n",
    "}\n",
    "\n",
    "df = pd.DataFrame(data_table)\n",
    "df"
   ]
  },
  {
   "cell_type": "code",
   "execution_count": 35,
   "id": "0a36567a-df79-421c-b4fb-e3cbb7865a7d",
   "metadata": {},
   "outputs": [
    {
     "data": {
      "text/html": [
       "<div>\n",
       "<style scoped>\n",
       "    .dataframe tbody tr th:only-of-type {\n",
       "        vertical-align: middle;\n",
       "    }\n",
       "\n",
       "    .dataframe tbody tr th {\n",
       "        vertical-align: top;\n",
       "    }\n",
       "\n",
       "    .dataframe thead th {\n",
       "        text-align: right;\n",
       "    }\n",
       "</style>\n",
       "<table border=\"1\" class=\"dataframe\">\n",
       "  <thead>\n",
       "    <tr style=\"text-align: right;\">\n",
       "      <th></th>\n",
       "      <th>id</th>\n",
       "      <th>name</th>\n",
       "      <th>age</th>\n",
       "      <th>asets</th>\n",
       "      <th>job</th>\n",
       "    </tr>\n",
       "  </thead>\n",
       "  <tbody>\n",
       "    <tr>\n",
       "      <th>2</th>\n",
       "      <td>3</td>\n",
       "      <td>Kim</td>\n",
       "      <td>30</td>\n",
       "      <td>88.88</td>\n",
       "      <td>Dad</td>\n",
       "    </tr>\n",
       "    <tr>\n",
       "      <th>1</th>\n",
       "      <td>2</td>\n",
       "      <td>Lee</td>\n",
       "      <td>20</td>\n",
       "      <td>123.40</td>\n",
       "      <td>CEO</td>\n",
       "    </tr>\n",
       "    <tr>\n",
       "      <th>0</th>\n",
       "      <td>1</td>\n",
       "      <td>Choi</td>\n",
       "      <td>10</td>\n",
       "      <td>150.40</td>\n",
       "      <td>student</td>\n",
       "    </tr>\n",
       "  </tbody>\n",
       "</table>\n",
       "</div>"
      ],
      "text/plain": [
       "   id  name  age   asets      job\n",
       "2   3   Kim   30   88.88      Dad\n",
       "1   2   Lee   20  123.40      CEO\n",
       "0   1  Choi   10  150.40  student"
      ]
     },
     "execution_count": 35,
     "metadata": {},
     "output_type": "execute_result"
    }
   ],
   "source": [
    "df.sort_index(ascending=False)"
   ]
  },
  {
   "cell_type": "code",
   "execution_count": 37,
   "id": "9bb03d2d-965f-4150-8cc3-d3af56da0764",
   "metadata": {},
   "outputs": [
    {
     "data": {
      "text/html": [
       "<div>\n",
       "<style scoped>\n",
       "    .dataframe tbody tr th:only-of-type {\n",
       "        vertical-align: middle;\n",
       "    }\n",
       "\n",
       "    .dataframe tbody tr th {\n",
       "        vertical-align: top;\n",
       "    }\n",
       "\n",
       "    .dataframe thead th {\n",
       "        text-align: right;\n",
       "    }\n",
       "</style>\n",
       "<table border=\"1\" class=\"dataframe\">\n",
       "  <thead>\n",
       "    <tr style=\"text-align: right;\">\n",
       "      <th></th>\n",
       "      <th>id</th>\n",
       "      <th>name</th>\n",
       "      <th>age</th>\n",
       "      <th>asets</th>\n",
       "      <th>job</th>\n",
       "    </tr>\n",
       "  </thead>\n",
       "  <tbody>\n",
       "    <tr>\n",
       "      <th>2</th>\n",
       "      <td>3</td>\n",
       "      <td>Kim</td>\n",
       "      <td>30</td>\n",
       "      <td>88.88</td>\n",
       "      <td>Dad</td>\n",
       "    </tr>\n",
       "    <tr>\n",
       "      <th>1</th>\n",
       "      <td>2</td>\n",
       "      <td>Lee</td>\n",
       "      <td>20</td>\n",
       "      <td>123.40</td>\n",
       "      <td>CEO</td>\n",
       "    </tr>\n",
       "    <tr>\n",
       "      <th>0</th>\n",
       "      <td>1</td>\n",
       "      <td>Choi</td>\n",
       "      <td>10</td>\n",
       "      <td>150.40</td>\n",
       "      <td>student</td>\n",
       "    </tr>\n",
       "  </tbody>\n",
       "</table>\n",
       "</div>"
      ],
      "text/plain": [
       "   id  name  age   asets      job\n",
       "2   3   Kim   30   88.88      Dad\n",
       "1   2   Lee   20  123.40      CEO\n",
       "0   1  Choi   10  150.40  student"
      ]
     },
     "execution_count": 37,
     "metadata": {},
     "output_type": "execute_result"
    }
   ],
   "source": [
    "df.sort_values('asets')"
   ]
  },
  {
   "cell_type": "code",
   "execution_count": 39,
   "id": "48ffddb5-4f05-4251-878e-1683b1de1381",
   "metadata": {},
   "outputs": [
    {
     "data": {
      "text/html": [
       "<div>\n",
       "<style scoped>\n",
       "    .dataframe tbody tr th:only-of-type {\n",
       "        vertical-align: middle;\n",
       "    }\n",
       "\n",
       "    .dataframe tbody tr th {\n",
       "        vertical-align: top;\n",
       "    }\n",
       "\n",
       "    .dataframe thead th {\n",
       "        text-align: right;\n",
       "    }\n",
       "</style>\n",
       "<table border=\"1\" class=\"dataframe\">\n",
       "  <thead>\n",
       "    <tr style=\"text-align: right;\">\n",
       "      <th></th>\n",
       "      <th>id</th>\n",
       "      <th>name</th>\n",
       "      <th>age</th>\n",
       "      <th>asets</th>\n",
       "      <th>job</th>\n",
       "    </tr>\n",
       "  </thead>\n",
       "  <tbody>\n",
       "    <tr>\n",
       "      <th>2</th>\n",
       "      <td>3</td>\n",
       "      <td>Kim</td>\n",
       "      <td>30</td>\n",
       "      <td>88.88</td>\n",
       "      <td>Dad</td>\n",
       "    </tr>\n",
       "    <tr>\n",
       "      <th>1</th>\n",
       "      <td>2</td>\n",
       "      <td>Lee</td>\n",
       "      <td>20</td>\n",
       "      <td>123.40</td>\n",
       "      <td>CEO</td>\n",
       "    </tr>\n",
       "    <tr>\n",
       "      <th>0</th>\n",
       "      <td>1</td>\n",
       "      <td>Choi</td>\n",
       "      <td>10</td>\n",
       "      <td>150.40</td>\n",
       "      <td>student</td>\n",
       "    </tr>\n",
       "  </tbody>\n",
       "</table>\n",
       "</div>"
      ],
      "text/plain": [
       "   id  name  age   asets      job\n",
       "2   3   Kim   30   88.88      Dad\n",
       "1   2   Lee   20  123.40      CEO\n",
       "0   1  Choi   10  150.40  student"
      ]
     },
     "execution_count": 39,
     "metadata": {},
     "output_type": "execute_result"
    }
   ],
   "source": [
    "df.sort_values(['asets', 'name']) # 1순위 assets, 2순위 name"
   ]
  },
  {
   "cell_type": "code",
   "execution_count": 40,
   "id": "f068fa84-16c1-4b5d-a6aa-6d61d0b34475",
   "metadata": {},
   "outputs": [
    {
     "data": {
      "text/html": [
       "<div>\n",
       "<style scoped>\n",
       "    .dataframe tbody tr th:only-of-type {\n",
       "        vertical-align: middle;\n",
       "    }\n",
       "\n",
       "    .dataframe tbody tr th {\n",
       "        vertical-align: top;\n",
       "    }\n",
       "\n",
       "    .dataframe thead th {\n",
       "        text-align: right;\n",
       "    }\n",
       "</style>\n",
       "<table border=\"1\" class=\"dataframe\">\n",
       "  <thead>\n",
       "    <tr style=\"text-align: right;\">\n",
       "      <th></th>\n",
       "      <th>age</th>\n",
       "      <th>asets</th>\n",
       "      <th>id</th>\n",
       "      <th>job</th>\n",
       "      <th>name</th>\n",
       "    </tr>\n",
       "  </thead>\n",
       "  <tbody>\n",
       "    <tr>\n",
       "      <th>0</th>\n",
       "      <td>10</td>\n",
       "      <td>150.40</td>\n",
       "      <td>1</td>\n",
       "      <td>student</td>\n",
       "      <td>Choi</td>\n",
       "    </tr>\n",
       "    <tr>\n",
       "      <th>1</th>\n",
       "      <td>20</td>\n",
       "      <td>123.40</td>\n",
       "      <td>2</td>\n",
       "      <td>CEO</td>\n",
       "      <td>Lee</td>\n",
       "    </tr>\n",
       "    <tr>\n",
       "      <th>2</th>\n",
       "      <td>30</td>\n",
       "      <td>88.88</td>\n",
       "      <td>3</td>\n",
       "      <td>Dad</td>\n",
       "      <td>Kim</td>\n",
       "    </tr>\n",
       "  </tbody>\n",
       "</table>\n",
       "</div>"
      ],
      "text/plain": [
       "   age   asets  id      job  name\n",
       "0   10  150.40   1  student  Choi\n",
       "1   20  123.40   2      CEO   Lee\n",
       "2   30   88.88   3      Dad   Kim"
      ]
     },
     "execution_count": 40,
     "metadata": {},
     "output_type": "execute_result"
    }
   ],
   "source": [
    "df.sort_index(axis=1)"
   ]
  },
  {
   "cell_type": "markdown",
   "id": "176aca60-8d73-4f8f-89a8-8df15cb78aad",
   "metadata": {},
   "source": [
    "## 데이터 정렬 - 연습문제\n",
    "1. 구구단 9단의 시리즈 se2를 생성하되, 인덱스를 거꾸로 생성하라.\n",
    "2. 구구단을 거꾸로 출력하라.\n",
    "3. 구구단 7단과 8단을 만들어 df2에 추가하라.\n",
    "4. df2의 컬럼을 오름차순으로 정렬하라. "
   ]
  },
  {
   "cell_type": "code",
   "execution_count": 48,
   "id": "ce9690d0-41bc-4dc3-940a-a41708f92650",
   "metadata": {},
   "outputs": [
    {
     "data": {
      "text/plain": [
       "8     9\n",
       "7    18\n",
       "6    27\n",
       "5    36\n",
       "4    45\n",
       "3    54\n",
       "2    63\n",
       "1    72\n",
       "0    81\n",
       "dtype: int32"
      ]
     },
     "execution_count": 48,
     "metadata": {},
     "output_type": "execute_result"
    }
   ],
   "source": [
    "# 1\n",
    "goodan_se = pd.Series(np.arange(1,10) * 9)\n",
    "goodan_se.index = goodan_se.index[::-1]\n",
    "goodan_se"
   ]
  },
  {
   "cell_type": "code",
   "execution_count": 50,
   "id": "c06df05d-f0f2-4d18-8cfb-75372655e940",
   "metadata": {},
   "outputs": [
    {
     "data": {
      "text/plain": [
       "0    81\n",
       "1    72\n",
       "2    63\n",
       "3    54\n",
       "4    45\n",
       "5    36\n",
       "6    27\n",
       "7    18\n",
       "8     9\n",
       "dtype: int32"
      ]
     },
     "execution_count": 50,
     "metadata": {},
     "output_type": "execute_result"
    }
   ],
   "source": [
    "# 2\n",
    "goodan_se.sort_values(ascending=False)"
   ]
  },
  {
   "cell_type": "code",
   "execution_count": 56,
   "id": "90c4abae-15ca-40fb-b159-b43bcb37e402",
   "metadata": {},
   "outputs": [
    {
     "data": {
      "text/html": [
       "<div>\n",
       "<style scoped>\n",
       "    .dataframe tbody tr th:only-of-type {\n",
       "        vertical-align: middle;\n",
       "    }\n",
       "\n",
       "    .dataframe tbody tr th {\n",
       "        vertical-align: top;\n",
       "    }\n",
       "\n",
       "    .dataframe thead th {\n",
       "        text-align: right;\n",
       "    }\n",
       "</style>\n",
       "<table border=\"1\" class=\"dataframe\">\n",
       "  <thead>\n",
       "    <tr style=\"text-align: right;\">\n",
       "      <th></th>\n",
       "      <th>7단</th>\n",
       "      <th>8단</th>\n",
       "    </tr>\n",
       "  </thead>\n",
       "  <tbody>\n",
       "    <tr>\n",
       "      <th>0</th>\n",
       "      <td>7</td>\n",
       "      <td>8</td>\n",
       "    </tr>\n",
       "    <tr>\n",
       "      <th>1</th>\n",
       "      <td>14</td>\n",
       "      <td>16</td>\n",
       "    </tr>\n",
       "    <tr>\n",
       "      <th>2</th>\n",
       "      <td>21</td>\n",
       "      <td>24</td>\n",
       "    </tr>\n",
       "    <tr>\n",
       "      <th>3</th>\n",
       "      <td>28</td>\n",
       "      <td>32</td>\n",
       "    </tr>\n",
       "    <tr>\n",
       "      <th>4</th>\n",
       "      <td>35</td>\n",
       "      <td>40</td>\n",
       "    </tr>\n",
       "    <tr>\n",
       "      <th>5</th>\n",
       "      <td>42</td>\n",
       "      <td>48</td>\n",
       "    </tr>\n",
       "    <tr>\n",
       "      <th>6</th>\n",
       "      <td>49</td>\n",
       "      <td>56</td>\n",
       "    </tr>\n",
       "    <tr>\n",
       "      <th>7</th>\n",
       "      <td>56</td>\n",
       "      <td>64</td>\n",
       "    </tr>\n",
       "    <tr>\n",
       "      <th>8</th>\n",
       "      <td>63</td>\n",
       "      <td>72</td>\n",
       "    </tr>\n",
       "  </tbody>\n",
       "</table>\n",
       "</div>"
      ],
      "text/plain": [
       "   7단  8단\n",
       "0   7   8\n",
       "1  14  16\n",
       "2  21  24\n",
       "3  28  32\n",
       "4  35  40\n",
       "5  42  48\n",
       "6  49  56\n",
       "7  56  64\n",
       "8  63  72"
      ]
     },
     "execution_count": 56,
     "metadata": {},
     "output_type": "execute_result"
    }
   ],
   "source": [
    "df2 = pd.DataFrame([np.arange(1,10) * 7, np.arange(1,10) * 8], \n",
    "                   index=['7단', '8단'])\n",
    "df2 = df2.T\n",
    "df2"
   ]
  },
  {
   "cell_type": "code",
   "execution_count": 57,
   "id": "b21c6a33-6bb1-404d-97dc-cc03a46c464b",
   "metadata": {},
   "outputs": [
    {
     "data": {
      "text/html": [
       "<div>\n",
       "<style scoped>\n",
       "    .dataframe tbody tr th:only-of-type {\n",
       "        vertical-align: middle;\n",
       "    }\n",
       "\n",
       "    .dataframe tbody tr th {\n",
       "        vertical-align: top;\n",
       "    }\n",
       "\n",
       "    .dataframe thead th {\n",
       "        text-align: right;\n",
       "    }\n",
       "</style>\n",
       "<table border=\"1\" class=\"dataframe\">\n",
       "  <thead>\n",
       "    <tr style=\"text-align: right;\">\n",
       "      <th></th>\n",
       "      <th>7단</th>\n",
       "      <th>8단</th>\n",
       "    </tr>\n",
       "  </thead>\n",
       "  <tbody>\n",
       "    <tr>\n",
       "      <th>0</th>\n",
       "      <td>7</td>\n",
       "      <td>8</td>\n",
       "    </tr>\n",
       "    <tr>\n",
       "      <th>1</th>\n",
       "      <td>14</td>\n",
       "      <td>16</td>\n",
       "    </tr>\n",
       "    <tr>\n",
       "      <th>2</th>\n",
       "      <td>21</td>\n",
       "      <td>24</td>\n",
       "    </tr>\n",
       "    <tr>\n",
       "      <th>3</th>\n",
       "      <td>28</td>\n",
       "      <td>32</td>\n",
       "    </tr>\n",
       "    <tr>\n",
       "      <th>4</th>\n",
       "      <td>35</td>\n",
       "      <td>40</td>\n",
       "    </tr>\n",
       "    <tr>\n",
       "      <th>5</th>\n",
       "      <td>42</td>\n",
       "      <td>48</td>\n",
       "    </tr>\n",
       "    <tr>\n",
       "      <th>6</th>\n",
       "      <td>49</td>\n",
       "      <td>56</td>\n",
       "    </tr>\n",
       "    <tr>\n",
       "      <th>7</th>\n",
       "      <td>56</td>\n",
       "      <td>64</td>\n",
       "    </tr>\n",
       "    <tr>\n",
       "      <th>8</th>\n",
       "      <td>63</td>\n",
       "      <td>72</td>\n",
       "    </tr>\n",
       "  </tbody>\n",
       "</table>\n",
       "</div>"
      ],
      "text/plain": [
       "   7단  8단\n",
       "0   7   8\n",
       "1  14  16\n",
       "2  21  24\n",
       "3  28  32\n",
       "4  35  40\n",
       "5  42  48\n",
       "6  49  56\n",
       "7  56  64\n",
       "8  63  72"
      ]
     },
     "execution_count": 57,
     "metadata": {},
     "output_type": "execute_result"
    }
   ],
   "source": [
    "df2.sort_index(axis=1, ascending=True)"
   ]
  },
  {
   "cell_type": "markdown",
   "id": "a68e423f-c079-4f4b-b3c4-f668418f7044",
   "metadata": {},
   "source": [
    "# 기술/요약 통계"
   ]
  },
  {
   "cell_type": "code",
   "execution_count": 58,
   "id": "3295d915-cb09-4e52-bb38-c3d957f6d295",
   "metadata": {},
   "outputs": [
    {
     "data": {
      "text/html": [
       "<div>\n",
       "<style scoped>\n",
       "    .dataframe tbody tr th:only-of-type {\n",
       "        vertical-align: middle;\n",
       "    }\n",
       "\n",
       "    .dataframe tbody tr th {\n",
       "        vertical-align: top;\n",
       "    }\n",
       "\n",
       "    .dataframe thead th {\n",
       "        text-align: right;\n",
       "    }\n",
       "</style>\n",
       "<table border=\"1\" class=\"dataframe\">\n",
       "  <thead>\n",
       "    <tr style=\"text-align: right;\">\n",
       "      <th></th>\n",
       "      <th>id</th>\n",
       "      <th>name</th>\n",
       "      <th>age</th>\n",
       "      <th>asets</th>\n",
       "      <th>job</th>\n",
       "    </tr>\n",
       "  </thead>\n",
       "  <tbody>\n",
       "    <tr>\n",
       "      <th>0</th>\n",
       "      <td>1</td>\n",
       "      <td>Choi</td>\n",
       "      <td>10</td>\n",
       "      <td>150.40</td>\n",
       "      <td>student</td>\n",
       "    </tr>\n",
       "    <tr>\n",
       "      <th>1</th>\n",
       "      <td>2</td>\n",
       "      <td>Lee</td>\n",
       "      <td>20</td>\n",
       "      <td>123.40</td>\n",
       "      <td>CEO</td>\n",
       "    </tr>\n",
       "    <tr>\n",
       "      <th>2</th>\n",
       "      <td>3</td>\n",
       "      <td>Kim</td>\n",
       "      <td>30</td>\n",
       "      <td>88.88</td>\n",
       "      <td>Dad</td>\n",
       "    </tr>\n",
       "  </tbody>\n",
       "</table>\n",
       "</div>"
      ],
      "text/plain": [
       "   id  name  age   asets      job\n",
       "0   1  Choi   10  150.40  student\n",
       "1   2   Lee   20  123.40      CEO\n",
       "2   3   Kim   30   88.88      Dad"
      ]
     },
     "execution_count": 58,
     "metadata": {},
     "output_type": "execute_result"
    }
   ],
   "source": [
    "data_table = {\n",
    "    'id': [1,2,3],\n",
    "    'name': ['Choi', 'Lee', 'Kim'],\n",
    "    'age': [10,20,30],\n",
    "    'asets': [150.4, 123.4, 88.88],\n",
    "    'job': ['student', 'CEO', 'Dad']\n",
    "}\n",
    "\n",
    "df = pd.DataFrame(data_table)\n",
    "df"
   ]
  },
  {
   "cell_type": "markdown",
   "id": "286d12b4-bef6-4277-a99d-db0cd68c4e95",
   "metadata": {},
   "source": [
    "시리즈를 사용하거나 df를 사용해서 합계를 구한다."
   ]
  },
  {
   "cell_type": "code",
   "execution_count": 60,
   "id": "30c2a0e1-b77e-43c6-87e6-ca4da32a7df0",
   "metadata": {},
   "outputs": [
    {
     "data": {
      "text/plain": [
       "362.68"
      ]
     },
     "execution_count": 60,
     "metadata": {},
     "output_type": "execute_result"
    }
   ],
   "source": [
    "df['asets'].sum()"
   ]
  },
  {
   "cell_type": "code",
   "execution_count": 61,
   "id": "9c13cccc-119a-41d7-8f2f-b95c4deb8809",
   "metadata": {},
   "outputs": [
    {
     "data": {
      "text/plain": [
       "id                   6\n",
       "name        ChoiLeeKim\n",
       "age                 60\n",
       "asets           362.68\n",
       "job      studentCEODad\n",
       "dtype: object"
      ]
     },
     "execution_count": 61,
     "metadata": {},
     "output_type": "execute_result"
    }
   ],
   "source": [
    "df.sum()"
   ]
  },
  {
   "cell_type": "code",
   "execution_count": 62,
   "id": "d068375f-98e6-474a-a157-288205f0f973",
   "metadata": {},
   "outputs": [
    {
     "data": {
      "text/plain": [
       "120.89333333333333"
      ]
     },
     "execution_count": 62,
     "metadata": {},
     "output_type": "execute_result"
    }
   ],
   "source": [
    "df['asets'].mean() # 산술평균"
   ]
  },
  {
   "cell_type": "code",
   "execution_count": 63,
   "id": "f6ea5b56-9424-4b56-a231-cabcb39c9850",
   "metadata": {},
   "outputs": [
    {
     "data": {
      "text/plain": [
       "123.4"
      ]
     },
     "execution_count": 63,
     "metadata": {},
     "output_type": "execute_result"
    }
   ],
   "source": [
    "df['asets'].median() # 중위값"
   ]
  },
  {
   "cell_type": "code",
   "execution_count": 65,
   "id": "cff60ca7-27ff-4803-a9d7-3fcb2f905a9d",
   "metadata": {},
   "outputs": [
    {
     "data": {
      "text/plain": [
       "0     88.88\n",
       "1    123.40\n",
       "2    150.40\n",
       "Name: asets, dtype: float64"
      ]
     },
     "execution_count": 65,
     "metadata": {},
     "output_type": "execute_result"
    }
   ],
   "source": [
    "df['asets'].mode() # 최빈값"
   ]
  },
  {
   "cell_type": "code",
   "execution_count": 68,
   "id": "51325edd-d9ad-4e15-95d5-286ea462907d",
   "metadata": {},
   "outputs": [
    {
     "data": {
      "text/html": [
       "<div>\n",
       "<style scoped>\n",
       "    .dataframe tbody tr th:only-of-type {\n",
       "        vertical-align: middle;\n",
       "    }\n",
       "\n",
       "    .dataframe tbody tr th {\n",
       "        vertical-align: top;\n",
       "    }\n",
       "\n",
       "    .dataframe thead th {\n",
       "        text-align: right;\n",
       "    }\n",
       "</style>\n",
       "<table border=\"1\" class=\"dataframe\">\n",
       "  <thead>\n",
       "    <tr style=\"text-align: right;\">\n",
       "      <th></th>\n",
       "      <th>id</th>\n",
       "      <th>age</th>\n",
       "      <th>asets</th>\n",
       "    </tr>\n",
       "  </thead>\n",
       "  <tbody>\n",
       "    <tr>\n",
       "      <th>count</th>\n",
       "      <td>3.0</td>\n",
       "      <td>3.0</td>\n",
       "      <td>3.000000</td>\n",
       "    </tr>\n",
       "    <tr>\n",
       "      <th>mean</th>\n",
       "      <td>2.0</td>\n",
       "      <td>20.0</td>\n",
       "      <td>120.893333</td>\n",
       "    </tr>\n",
       "    <tr>\n",
       "      <th>std</th>\n",
       "      <td>1.0</td>\n",
       "      <td>10.0</td>\n",
       "      <td>30.836507</td>\n",
       "    </tr>\n",
       "    <tr>\n",
       "      <th>min</th>\n",
       "      <td>1.0</td>\n",
       "      <td>10.0</td>\n",
       "      <td>88.880000</td>\n",
       "    </tr>\n",
       "    <tr>\n",
       "      <th>25%</th>\n",
       "      <td>1.5</td>\n",
       "      <td>15.0</td>\n",
       "      <td>106.140000</td>\n",
       "    </tr>\n",
       "    <tr>\n",
       "      <th>50%</th>\n",
       "      <td>2.0</td>\n",
       "      <td>20.0</td>\n",
       "      <td>123.400000</td>\n",
       "    </tr>\n",
       "    <tr>\n",
       "      <th>75%</th>\n",
       "      <td>2.5</td>\n",
       "      <td>25.0</td>\n",
       "      <td>136.900000</td>\n",
       "    </tr>\n",
       "    <tr>\n",
       "      <th>max</th>\n",
       "      <td>3.0</td>\n",
       "      <td>30.0</td>\n",
       "      <td>150.400000</td>\n",
       "    </tr>\n",
       "  </tbody>\n",
       "</table>\n",
       "</div>"
      ],
      "text/plain": [
       "        id   age       asets\n",
       "count  3.0   3.0    3.000000\n",
       "mean   2.0  20.0  120.893333\n",
       "std    1.0  10.0   30.836507\n",
       "min    1.0  10.0   88.880000\n",
       "25%    1.5  15.0  106.140000\n",
       "50%    2.0  20.0  123.400000\n",
       "75%    2.5  25.0  136.900000\n",
       "max    3.0  30.0  150.400000"
      ]
     },
     "execution_count": 68,
     "metadata": {},
     "output_type": "execute_result"
    }
   ],
   "source": [
    "df.describe()"
   ]
  },
  {
   "cell_type": "markdown",
   "id": "f11363f5-8e31-4ed1-978e-06693d5a30c5",
   "metadata": {},
   "source": [
    "# 기술, 요약 통계 – 연습문제\n",
    "다음 표를 기술통계하라.\n",
    "1. 전체 평균 나이는 얼마인가?\n",
    "2. 업계에서 가장 많이 받는 임금은 얼마인가?\n",
    "3. 가장 적은 경력으로 일할 수 있는 직종은 어는 것인가?\n",
    "4. 가장 많은 사람이 종사하는 직종은 어느 것인가?\n"
   ]
  },
  {
   "cell_type": "code",
   "execution_count": 72,
   "id": "c0f28ae0-ab10-4b9f-a517-9cc9303a3ad8",
   "metadata": {},
   "outputs": [
    {
     "data": {
      "text/html": [
       "<div>\n",
       "<style scoped>\n",
       "    .dataframe tbody tr th:only-of-type {\n",
       "        vertical-align: middle;\n",
       "    }\n",
       "\n",
       "    .dataframe tbody tr th {\n",
       "        vertical-align: top;\n",
       "    }\n",
       "\n",
       "    .dataframe thead th {\n",
       "        text-align: right;\n",
       "    }\n",
       "</style>\n",
       "<table border=\"1\" class=\"dataframe\">\n",
       "  <thead>\n",
       "    <tr style=\"text-align: right;\">\n",
       "      <th></th>\n",
       "      <th>Code</th>\n",
       "      <th>Classification</th>\n",
       "      <th>task</th>\n",
       "      <th>Number of employees (Unit: persons)</th>\n",
       "      <th>Average age</th>\n",
       "      <th>Average career</th>\n",
       "      <th>Monthly average wage</th>\n",
       "      <th>Employment premium</th>\n",
       "    </tr>\n",
       "  </thead>\n",
       "  <tbody>\n",
       "    <tr>\n",
       "      <th>1</th>\n",
       "      <td>AP</td>\n",
       "      <td>Web developer</td>\n",
       "      <td>Development</td>\n",
       "      <td>24500.0</td>\n",
       "      <td>31.0</td>\n",
       "      <td>4.0</td>\n",
       "      <td>3200000</td>\n",
       "      <td>128000.0</td>\n",
       "    </tr>\n",
       "    <tr>\n",
       "      <th>2</th>\n",
       "      <td>SD</td>\n",
       "      <td>System planning and design</td>\n",
       "      <td>plan</td>\n",
       "      <td>2450.0</td>\n",
       "      <td>35.0</td>\n",
       "      <td>9.0</td>\n",
       "      <td>3420000</td>\n",
       "      <td>137000.0</td>\n",
       "    </tr>\n",
       "    <tr>\n",
       "      <th>3</th>\n",
       "      <td>SA</td>\n",
       "      <td>SW manager</td>\n",
       "      <td>management</td>\n",
       "      <td>45000.0</td>\n",
       "      <td>34.0</td>\n",
       "      <td>5.5</td>\n",
       "      <td>2800000</td>\n",
       "      <td>112000.0</td>\n",
       "    </tr>\n",
       "    <tr>\n",
       "      <th>4</th>\n",
       "      <td>SD</td>\n",
       "      <td>Web designer</td>\n",
       "      <td>Development</td>\n",
       "      <td>54500.0</td>\n",
       "      <td>28.0</td>\n",
       "      <td>2.0</td>\n",
       "      <td>2500000</td>\n",
       "      <td>75000.0</td>\n",
       "    </tr>\n",
       "  </tbody>\n",
       "</table>\n",
       "</div>"
      ],
      "text/plain": [
       "  Code              Classification         task  \\\n",
       "1   AP               Web developer  Development   \n",
       "2   SD  System planning and design         plan   \n",
       "3   SA                  SW manager   management   \n",
       "4   SD                Web designer  Development   \n",
       "\n",
       "   Number of employees (Unit: persons)  Average age  Average career  \\\n",
       "1                              24500.0         31.0             4.0   \n",
       "2                               2450.0         35.0             9.0   \n",
       "3                              45000.0         34.0             5.5   \n",
       "4                              54500.0         28.0             2.0   \n",
       "\n",
       "  Monthly average wage  Employment premium  \n",
       "1              3200000            128000.0  \n",
       "2              3420000            137000.0  \n",
       "3              2800000            112000.0  \n",
       "4              2500000             75000.0  "
      ]
     },
     "execution_count": 72,
     "metadata": {},
     "output_type": "execute_result"
    }
   ],
   "source": [
    "it_worker_df = pd.read_excel('IT_related_worker_status.xlsx')\n",
    "it_worker_df = it_worker_df.drop(0)\n",
    "it_worker_df"
   ]
  },
  {
   "cell_type": "code",
   "execution_count": 74,
   "id": "588537a6-556a-4ee4-9170-03ddbbca74e0",
   "metadata": {},
   "outputs": [
    {
     "data": {
      "text/plain": [
       "32.0"
      ]
     },
     "execution_count": 74,
     "metadata": {},
     "output_type": "execute_result"
    }
   ],
   "source": [
    "# 1\n",
    "it_worker_df[\"Average age\"].mean()"
   ]
  },
  {
   "cell_type": "code",
   "execution_count": 76,
   "id": "4f8fecb7-be96-4abd-9220-62b24a94292c",
   "metadata": {},
   "outputs": [
    {
     "data": {
      "text/plain": [
       "3420000"
      ]
     },
     "execution_count": 76,
     "metadata": {},
     "output_type": "execute_result"
    }
   ],
   "source": [
    "# 2 \n",
    "it_worker_df[\"Monthly average wage\"].max()"
   ]
  },
  {
   "cell_type": "code",
   "execution_count": 91,
   "id": "54789525-58e2-4c3c-b20a-1069971f104f",
   "metadata": {},
   "outputs": [
    {
     "data": {
      "text/plain": [
       "'Web designer'"
      ]
     },
     "execution_count": 91,
     "metadata": {},
     "output_type": "execute_result"
    }
   ],
   "source": [
    "# 3\n",
    "index_min_career = it_worker_df[\"Average career\"].idxmin()\n",
    "it_worker_df.loc[index_min_career]['Classification']"
   ]
  },
  {
   "cell_type": "code",
   "execution_count": 93,
   "id": "31add787-4750-4425-aff9-bafd84326cb7",
   "metadata": {},
   "outputs": [
    {
     "data": {
      "text/plain": [
       "'Web designer'"
      ]
     },
     "execution_count": 93,
     "metadata": {},
     "output_type": "execute_result"
    }
   ],
   "source": [
    "# 4\n",
    "index_max_employees = it_worker_df[\"Number of employees (Unit: persons)\"].idxmax()\n",
    "it_worker_df.loc[index_max_employees]['Classification']"
   ]
  },
  {
   "cell_type": "code",
   "execution_count": 95,
   "id": "19bafb1f-9321-43c6-ae69-a9a4e5116e0e",
   "metadata": {},
   "outputs": [
    {
     "data": {
      "text/plain": [
       "30.852115460656385"
      ]
     },
     "execution_count": 95,
     "metadata": {},
     "output_type": "execute_result"
    }
   ],
   "source": [
    "# 1번 어렵게 풀기\n",
    "(it_worker_df[\"Average age\"] *  it_worker_df[\"Number of employees (Unit: persons)\"]).sum()/it_worker_df[\"Number of employees (Unit: persons)\"].sum()"
   ]
  },
  {
   "cell_type": "markdown",
   "id": "a8796d99-9eca-46ca-835b-d5e511733940",
   "metadata": {},
   "source": [
    "# 누락 값 처리"
   ]
  },
  {
   "cell_type": "code",
   "execution_count": 97,
   "id": "8f27bd35-20c5-4720-8900-560bf8143a8e",
   "metadata": {},
   "outputs": [
    {
     "data": {
      "text/plain": [
       "0    1.0\n",
       "1    NaN\n",
       "2    2.0\n",
       "3    NaN\n",
       "4    3.0\n",
       "5    NaN\n",
       "6    4.0\n",
       "7    NaN\n",
       "8    5.0\n",
       "dtype: float64"
      ]
     },
     "execution_count": 97,
     "metadata": {},
     "output_type": "execute_result"
    }
   ],
   "source": [
    "se = pd.Series([1, np.nan, 2, np.nan, 3, np.nan, 4, np.nan, 5])\n",
    "se"
   ]
  },
  {
   "cell_type": "markdown",
   "id": "c456e8c3-fae7-4df7-b7b6-eaaa03b5679c",
   "metadata": {},
   "source": [
    "빈 값을 드랍하는 방법을 알아보자."
   ]
  },
  {
   "cell_type": "code",
   "execution_count": 98,
   "id": "965bb8de-dfe6-4df0-a0a0-160d2960c612",
   "metadata": {},
   "outputs": [
    {
     "data": {
      "text/plain": [
       "0    1.0\n",
       "2    2.0\n",
       "4    3.0\n",
       "6    4.0\n",
       "8    5.0\n",
       "dtype: float64"
      ]
     },
     "execution_count": 98,
     "metadata": {},
     "output_type": "execute_result"
    }
   ],
   "source": [
    "se.dropna()"
   ]
  },
  {
   "cell_type": "code",
   "execution_count": 100,
   "id": "d18e0a78-561c-4163-9391-a9609726fdc8",
   "metadata": {},
   "outputs": [
    {
     "data": {
      "text/plain": [
       "0    False\n",
       "1     True\n",
       "2    False\n",
       "3     True\n",
       "4    False\n",
       "5     True\n",
       "6    False\n",
       "7     True\n",
       "8    False\n",
       "dtype: bool"
      ]
     },
     "execution_count": 100,
     "metadata": {},
     "output_type": "execute_result"
    }
   ],
   "source": [
    "se.isnull()"
   ]
  },
  {
   "cell_type": "code",
   "execution_count": 101,
   "id": "fd7ef923-48fb-4d1a-a66a-274db81aede8",
   "metadata": {},
   "outputs": [
    {
     "data": {
      "text/plain": [
       "0     True\n",
       "1    False\n",
       "2     True\n",
       "3    False\n",
       "4     True\n",
       "5    False\n",
       "6     True\n",
       "7    False\n",
       "8     True\n",
       "dtype: bool"
      ]
     },
     "execution_count": 101,
     "metadata": {},
     "output_type": "execute_result"
    }
   ],
   "source": [
    "se.notnull()"
   ]
  },
  {
   "cell_type": "code",
   "execution_count": 102,
   "id": "7804be56-0dea-4e59-a539-917dab4ec2e8",
   "metadata": {},
   "outputs": [
    {
     "data": {
      "text/plain": [
       "0    1.0\n",
       "2    2.0\n",
       "4    3.0\n",
       "6    4.0\n",
       "8    5.0\n",
       "dtype: float64"
      ]
     },
     "execution_count": 102,
     "metadata": {},
     "output_type": "execute_result"
    }
   ],
   "source": [
    "se[se.notnull()]"
   ]
  },
  {
   "cell_type": "markdown",
   "id": "e7da9f11-a0da-42ea-9fd9-1ca21d1e1de1",
   "metadata": {},
   "source": [
    " 빈 값 채우기"
   ]
  },
  {
   "cell_type": "code",
   "execution_count": 103,
   "id": "4ddf979b-9098-4c2d-af85-8d35b05ff57c",
   "metadata": {},
   "outputs": [
    {
     "data": {
      "text/plain": [
       "0    1.0\n",
       "1    0.0\n",
       "2    2.0\n",
       "3    0.0\n",
       "4    3.0\n",
       "5    0.0\n",
       "6    4.0\n",
       "7    0.0\n",
       "8    5.0\n",
       "dtype: float64"
      ]
     },
     "execution_count": 103,
     "metadata": {},
     "output_type": "execute_result"
    }
   ],
   "source": [
    "se.fillna(0) # 빈 값을 0으로 채운다."
   ]
  },
  {
   "cell_type": "code",
   "execution_count": 104,
   "id": "ddb0c541-3e71-4f66-b78a-77f070803413",
   "metadata": {},
   "outputs": [
    {
     "data": {
      "text/plain": [
       "0    1.0\n",
       "1    3.0\n",
       "2    2.0\n",
       "3    3.0\n",
       "4    3.0\n",
       "5    3.0\n",
       "6    4.0\n",
       "7    3.0\n",
       "8    5.0\n",
       "dtype: float64"
      ]
     },
     "execution_count": 104,
     "metadata": {},
     "output_type": "execute_result"
    }
   ],
   "source": [
    "se.fillna(se.mean()) # 빈값을 산술 평균으로 채운다."
   ]
  },
  {
   "cell_type": "code",
   "execution_count": null,
   "id": "01142f86-2961-417d-ae38-f52da297bf3e",
   "metadata": {},
   "outputs": [],
   "source": []
  }
 ],
 "metadata": {
  "kernelspec": {
   "display_name": "Python 3 (ipykernel)",
   "language": "python",
   "name": "python3"
  },
  "language_info": {
   "codemirror_mode": {
    "name": "ipython",
    "version": 3
   },
   "file_extension": ".py",
   "mimetype": "text/x-python",
   "name": "python",
   "nbconvert_exporter": "python",
   "pygments_lexer": "ipython3",
   "version": "3.9.12"
  }
 },
 "nbformat": 4,
 "nbformat_minor": 5
}
