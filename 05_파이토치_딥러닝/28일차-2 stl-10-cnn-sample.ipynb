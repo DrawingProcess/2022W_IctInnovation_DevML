{
 "cells": [
  {
   "cell_type": "code",
   "execution_count": 1,
   "metadata": {
    "_cell_guid": "b1076dfc-b9ad-4769-8c92-a6c4dae69d19",
    "_uuid": "8f2839f25d086af736a60e9eeb907d3b93b6e0e5",
    "tags": []
   },
   "outputs": [
    {
     "name": "stdout",
     "output_type": "stream",
     "text": [
      "Downloading http://ai.stanford.edu/~acoates/stl10/stl10_binary.tar.gz to STL10_data/stl10_binary.tar.gz\n"
     ]
    },
    {
     "data": {
      "application/vnd.jupyter.widget-view+json": {
       "model_id": "6a69b8e9630f47838944e2a95df18834",
       "version_major": 2,
       "version_minor": 0
      },
      "text/plain": [
       "  0%|          | 0/2640397119 [00:00<?, ?it/s]"
      ]
     },
     "metadata": {},
     "output_type": "display_data"
    },
    {
     "name": "stdout",
     "output_type": "stream",
     "text": [
      "Extracting STL10_data/stl10_binary.tar.gz to STL10_data/\n",
      "Files already downloaded and verified\n"
     ]
    }
   ],
   "source": [
    "import torch\n",
    "import torchvision.datasets as dsets\n",
    "import torchvision.transforms as transforms\n",
    "import torch.nn.init\n",
    "\n",
    "device = 'cuda' if torch.cuda.is_available() else 'cpu'\n",
    "\n",
    "# 랜덤 시드 고정\n",
    "torch.manual_seed(0)\n",
    "\n",
    "# GPU 사용 가능일 경우 랜덤 시드 고정\n",
    "if device == 'cuda':\n",
    "    torch.cuda.manual_seed_all(0)\n",
    "\n",
    "# 데이터셋 가져오기\n",
    "mnist_train = dsets.STL10(root='STL10_data/',\n",
    "                          split=\"train\", \n",
    "                          transform=transforms.ToTensor(), \n",
    "                          download=True)\n",
    "\n",
    "mnist_test = dsets.STL10(root='STL10_data/',\n",
    "                         split=\"test\",\n",
    "                         transform=transforms.ToTensor(),\n",
    "                         download=True)\n",
    "\n",
    "# 하이퍼 파라미터 설정\n",
    "learning_rate = 0.001\n",
    "training_epochs = 40\n",
    "batch_size = 64\n",
    "\n",
    "# 데이터 로더 정의\n",
    "data_loader = torch.utils.data.DataLoader(dataset=mnist_train,\n",
    "                                          batch_size=batch_size,\n",
    "                                          shuffle=True,\n",
    "                                          drop_last=True)\n"
   ]
  },
  {
   "cell_type": "code",
   "execution_count": 2,
   "metadata": {
    "tags": []
   },
   "outputs": [
    {
     "name": "stdout",
     "output_type": "stream",
     "text": [
      "총 배치의 수 : 78\n",
      "[Epoch:    1] cost = 1.83426309\n",
      "[Epoch:    2] cost = 1.39173377\n",
      "[Epoch:    3] cost = 1.17180395\n",
      "[Epoch:    4] cost = 1.02868271\n",
      "[Epoch:    5] cost = 0.850036621\n",
      "[Epoch:    6] cost = 0.699811935\n",
      "[Epoch:    7] cost = 0.559210241\n",
      "[Epoch:    8] cost = 0.444498241\n",
      "[Epoch:    9] cost = 0.31807518\n",
      "[Epoch:   10] cost = 0.242877632\n",
      "[Epoch:   11] cost = 0.194770262\n",
      "[Epoch:   12] cost = 0.0987904817\n",
      "[Epoch:   13] cost = 0.0872299746\n",
      "[Epoch:   14] cost = 0.0641077682\n",
      "[Epoch:   15] cost = 0.0357013643\n",
      "[Epoch:   16] cost = 0.0434335321\n",
      "[Epoch:   17] cost = 0.0265754275\n",
      "[Epoch:   18] cost = 0.0335303508\n",
      "[Epoch:   19] cost = 0.0713022947\n",
      "[Epoch:   20] cost = 0.0684004873\n",
      "[Epoch:   21] cost = 0.0555687919\n",
      "[Epoch:   22] cost = 0.0607545562\n",
      "[Epoch:   23] cost = 0.0204086602\n",
      "[Epoch:   24] cost = 0.00459905528\n",
      "[Epoch:   25] cost = 0.0014774584\n",
      "[Epoch:   26] cost = 0.00103421952\n",
      "[Epoch:   27] cost = 0.000837682863\n",
      "[Epoch:   28] cost = 0.000705713232\n",
      "[Epoch:   29] cost = 0.000605451118\n",
      "[Epoch:   30] cost = 0.000540122506\n",
      "[Epoch:   31] cost = 0.00047930982\n",
      "[Epoch:   32] cost = 0.000426682527\n",
      "[Epoch:   33] cost = 0.000384949992\n",
      "[Epoch:   34] cost = 0.000354045711\n",
      "[Epoch:   35] cost = 0.000322688604\n",
      "[Epoch:   36] cost = 0.000296808372\n",
      "[Epoch:   37] cost = 0.000271090801\n",
      "[Epoch:   38] cost = 0.000251833029\n",
      "[Epoch:   39] cost = 0.000232628314\n",
      "[Epoch:   40] cost = 0.000216959612\n"
     ]
    }
   ],
   "source": [
    "\n",
    "# CNN 모델 정의\n",
    "class CNN(torch.nn.Module):\n",
    "    def __init__(self):\n",
    "        super(CNN, self).__init__()\n",
    "        # 첫번째층\n",
    "        # ImgIn shape=(?, 96, 96, 3)\n",
    "        #    Conv     -> (?, 96, 96, 32)\n",
    "        #    Pool     -> (?, 48, 48, 32)\n",
    "        self.layer1 = torch.nn.Sequential(\n",
    "            torch.nn.Conv2d(3, 32, kernel_size=3, stride=1, padding=1),\n",
    "            torch.nn.ReLU(),\n",
    "            torch.nn.MaxPool2d(kernel_size=2, stride=2))\n",
    "\n",
    "        # 두번째층\n",
    "        # ImgIn shape=(?, 48, 48, 32)\n",
    "        #    Conv      ->(?, 48, 48, 64)\n",
    "        #    Pool      ->(?, 24, 24, 64)\n",
    "        self.layer2 = torch.nn.Sequential(\n",
    "            torch.nn.Conv2d(32, 64, kernel_size=3, stride=1, padding=1),\n",
    "            torch.nn.ReLU(),\n",
    "            torch.nn.MaxPool2d(kernel_size=2, stride=2))\n",
    "        \n",
    "        # 세번째층\n",
    "        # ImgIn shape=(?, 24, 24, 64)\n",
    "        #    Conv      ->(?, 24, 24, 128)\n",
    "        #    Pool      ->(?, 12, 12, 128)\n",
    "        self.layer3 = torch.nn.Sequential(\n",
    "            torch.nn.Conv2d(64, 128, kernel_size=3, stride=1, padding=1),\n",
    "            torch.nn.ReLU(),\n",
    "            torch.nn.MaxPool2d(kernel_size=2, stride=2))\n",
    "\n",
    "        # 전결합층 7x7x64 inputs -> 10 outputs\n",
    "        self.fc = torch.nn.Linear(12 * 12 * 128, 10, bias=True)\n",
    "\n",
    "        # 전결합층 한정으로 가중치 초기화\n",
    "        torch.nn.init.xavier_uniform_(self.fc.weight)\n",
    "\n",
    "    def forward(self, x):\n",
    "        out = self.layer1(x)\n",
    "        out = self.layer2(out)\n",
    "        out = self.layer3(out)\n",
    "        out = out.view(out.size(0), -1)   # 전결합층을 위해서 Flatten\n",
    "        out = self.fc(out)\n",
    "        return out\n",
    "\n",
    "    \n",
    "# CNN 모델 생성\n",
    "model = CNN().to(device)\n",
    "\n",
    "# 로스와 최적화 함수 설정\n",
    "criterion = torch.nn.CrossEntropyLoss().to(device)\n",
    "optimizer = torch.optim.Adam(model.parameters(), lr=learning_rate)\n",
    "\n",
    "# 데이터 로드\n",
    "total_batch = len(data_loader)\n",
    "print('총 배치의 수 : {}'.format(total_batch))\n",
    "\n",
    "# 트레이닝 데이터셋으로 epoch 실행\n",
    "for epoch in range(training_epochs):\n",
    "    avg_cost = 0\n",
    "\n",
    "    for X, Y in data_loader: # 미니 배치 단위로 꺼내온다. X는 미니 배치, Y는 레이블.\n",
    "        X = X.to(device)\n",
    "        Y = Y.to(device)\n",
    "\n",
    "        optimizer.zero_grad()\n",
    "        hypothesis = model(X)\n",
    "        cost = criterion(hypothesis, Y)\n",
    "        cost.backward()\n",
    "        optimizer.step()\n",
    "\n",
    "        avg_cost += cost / total_batch\n",
    "        \n",
    "\n",
    "    print('[Epoch: {:>4}] cost = {:>.9}'.format(epoch + 1, avg_cost))"
   ]
  },
  {
   "cell_type": "code",
   "execution_count": 3,
   "metadata": {
    "tags": []
   },
   "outputs": [
    {
     "name": "stdout",
     "output_type": "stream",
     "text": [
      "Accuracy: tensor(0.5803)\n"
     ]
    }
   ],
   "source": [
    "data_loader = torch.utils.data.DataLoader(dataset=mnist_test, batch_size=32)\n",
    "\n",
    "import numpy as np\n",
    "\n",
    "accuracy_list = []\n",
    "with torch.no_grad():\n",
    "    accuracy = 0\n",
    "    for X, Y in data_loader: # 미니 배치 단위로 꺼내온다. X는 미니 배치, Y는 레이블.\n",
    "        X_test = X.to(device)\n",
    "        Y_test = Y.to(device)\n",
    "        # 학습을 진행하지 않을 것이므로 torch.no_grad()\n",
    "\n",
    "        prediction = model(X_test)\n",
    "        accuracy += (torch.argmax(prediction, 1) == Y_test).float().mean()\n",
    "    accuracy /= len(data_loader)\n",
    "    print('Accuracy:', accuracy)"
   ]
  },
  {
   "cell_type": "code",
   "execution_count": null,
   "metadata": {},
   "outputs": [],
   "source": []
  }
 ],
 "metadata": {
  "kernelspec": {
   "display_name": "Python 3 (ipykernel)",
   "language": "python",
   "name": "python3"
  },
  "language_info": {
   "codemirror_mode": {
    "name": "ipython",
    "version": 3
   },
   "file_extension": ".py",
   "mimetype": "text/x-python",
   "name": "python",
   "nbconvert_exporter": "python",
   "pygments_lexer": "ipython3",
   "version": "3.9.12"
  }
 },
 "nbformat": 4,
 "nbformat_minor": 4
}
