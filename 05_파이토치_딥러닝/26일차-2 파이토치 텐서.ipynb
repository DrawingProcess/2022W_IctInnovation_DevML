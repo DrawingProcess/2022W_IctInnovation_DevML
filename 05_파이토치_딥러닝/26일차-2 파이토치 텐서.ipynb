{
 "cells": [
  {
   "cell_type": "markdown",
   "id": "d9bfe871-d708-4a69-9d3f-e3558913c6e3",
   "metadata": {},
   "source": [
    "# 파이토치 텐서 "
   ]
  },
  {
   "cell_type": "markdown",
   "id": "c135df25-e321-4ea8-a0d3-275ae684c448",
   "metadata": {},
   "source": [
    "필요한 라이브러리 임포트"
   ]
  },
  {
   "cell_type": "code",
   "execution_count": 1,
   "id": "ee7db451-c48c-473c-9b3f-80d34790916f",
   "metadata": {},
   "outputs": [],
   "source": [
    "import torch\n",
    "import numpy as np"
   ]
  },
  {
   "cell_type": "markdown",
   "id": "f4c1ce8a-f333-4b51-9455-d7b53dda5a78",
   "metadata": {},
   "source": [
    "## 배열 생성하기\n",
    "리스트나 넘파이 배열로부터 텐서 생성하기"
   ]
  },
  {
   "cell_type": "code",
   "execution_count": 4,
   "id": "d021ddb2-2807-481d-80bc-1dccd0745fb1",
   "metadata": {},
   "outputs": [
    {
     "data": {
      "text/plain": [
       "tensor([[1, 2],\n",
       "        [3, 4]])"
      ]
     },
     "execution_count": 4,
     "metadata": {},
     "output_type": "execute_result"
    }
   ],
   "source": [
    "data = [[1,2], [3,4]]\n",
    "x_data = torch.tensor(data)\n",
    "x_data"
   ]
  },
  {
   "cell_type": "code",
   "execution_count": 5,
   "id": "526cb6b2-ccf3-4fd0-ad74-b703e945b51f",
   "metadata": {},
   "outputs": [
    {
     "data": {
      "text/plain": [
       "tensor([[1, 2],\n",
       "        [3, 4]], dtype=torch.int32)"
      ]
     },
     "execution_count": 5,
     "metadata": {},
     "output_type": "execute_result"
    }
   ],
   "source": [
    "np_array = np.array(data)\n",
    "x_np = torch.from_numpy(np_array) \n",
    "x_np"
   ]
  },
  {
   "cell_type": "markdown",
   "id": "73bc17a2-eaed-4c71-81c7-9be8a2141659",
   "metadata": {},
   "source": [
    "이미 선언된 텐서의 모양을 사용해 새로운 텐서 만들기"
   ]
  },
  {
   "cell_type": "code",
   "execution_count": 6,
   "id": "3eb56bff-b3c8-47ed-a311-680e8d6a3889",
   "metadata": {},
   "outputs": [
    {
     "data": {
      "text/plain": [
       "tensor([[1, 1],\n",
       "        [1, 1]])"
      ]
     },
     "execution_count": 6,
     "metadata": {},
     "output_type": "execute_result"
    }
   ],
   "source": [
    "x_ones = torch.ones_like(x_data)\n",
    "x_ones # 1로 채운 데이터"
   ]
  },
  {
   "cell_type": "code",
   "execution_count": 8,
   "id": "0dd0fb10-867e-4736-84e8-99cf6b80d019",
   "metadata": {},
   "outputs": [
    {
     "data": {
      "text/plain": [
       "tensor([[0.0261, 0.5401],\n",
       "        [0.2447, 0.0942]])"
      ]
     },
     "execution_count": 8,
     "metadata": {},
     "output_type": "execute_result"
    }
   ],
   "source": [
    "x_rand = torch.rand_like(x_data, dtype=torch.float)\n",
    "x_rand # 랜덤으로 채운 데이터"
   ]
  },
  {
   "cell_type": "markdown",
   "id": "ccbecc30-96f4-4918-b320-38f6021794ed",
   "metadata": {},
   "source": [
    "모양을 선언해서 텐서 만들기"
   ]
  },
  {
   "cell_type": "code",
   "execution_count": 9,
   "id": "a2622cca-6a6c-41f8-8676-db88c1b27c8a",
   "metadata": {},
   "outputs": [
    {
     "data": {
      "text/plain": [
       "(tensor([[0.8098, 0.4554, 0.9781],\n",
       "         [0.8564, 0.9337, 0.0785]]),\n",
       " tensor([[1., 1., 1.],\n",
       "         [1., 1., 1.]]),\n",
       " tensor([[0., 0., 0.],\n",
       "         [0., 0., 0.]]))"
      ]
     },
     "execution_count": 9,
     "metadata": {},
     "output_type": "execute_result"
    }
   ],
   "source": [
    "shape = (2,3)\n",
    "rand_tensor = torch.rand(shape)\n",
    "ones_tensor = torch.ones(shape)\n",
    "zeros_tensor = torch.zeros(shape)\n",
    "\n",
    "rand_tensor, ones_tensor, zeros_tensor"
   ]
  },
  {
   "cell_type": "markdown",
   "id": "fa5613db-29ab-46a1-be00-9cdeb7b477cc",
   "metadata": {},
   "source": [
    "## 텐서의 속성\n",
    "텐서의 속성은 넘파이와 유사하다."
   ]
  },
  {
   "cell_type": "code",
   "execution_count": 10,
   "id": "76223541-e871-4a77-811f-5813864a1fec",
   "metadata": {},
   "outputs": [
    {
     "name": "stdout",
     "output_type": "stream",
     "text": [
      "텐서의 모양: torch.Size([2, 3])\n",
      "텐서의 데이터타입: torch.float32\n",
      "텐서의 저장 위치: cpu\n"
     ]
    }
   ],
   "source": [
    "print(f'텐서의 모양: {rand_tensor.shape}')\n",
    "print(f'텐서의 데이터타입: {rand_tensor.dtype}')\n",
    "print(f'텐서의 저장 위치: {rand_tensor.device}')"
   ]
  },
  {
   "cell_type": "code",
   "execution_count": 11,
   "id": "81ea2ae9-89d0-4c59-a0a8-a26cf103cc48",
   "metadata": {},
   "outputs": [],
   "source": [
    "if torch.cuda.is_available():\n",
    "    rand_tensor = rand_tensor.to('cuda')"
   ]
  },
  {
   "cell_type": "markdown",
   "id": "dcda7868-4afd-4d30-9f1a-4a19684247d0",
   "metadata": {},
   "source": [
    "## 텐서 인덱싱하기"
   ]
  },
  {
   "cell_type": "markdown",
   "id": "b7a89812-d015-4a06-bd04-d2314df02b21",
   "metadata": {},
   "source": [
    "인덱싱하기"
   ]
  },
  {
   "cell_type": "code",
   "execution_count": 14,
   "id": "12b88ef2-aaa5-45f0-8a12-82ad4288ecd7",
   "metadata": {},
   "outputs": [
    {
     "data": {
      "text/plain": [
       "tensor([[0.7679, 0.8059, 0.4540, 0.0241],\n",
       "        [0.8200, 0.9407, 0.1871, 0.4521],\n",
       "        [0.0504, 0.4232, 0.1339, 0.6958],\n",
       "        [0.8049, 0.2667, 0.5386, 0.1615]])"
      ]
     },
     "execution_count": 14,
     "metadata": {},
     "output_type": "execute_result"
    }
   ],
   "source": [
    "tensor = torch.rand(4,4)\n",
    "tensor"
   ]
  },
  {
   "cell_type": "code",
   "execution_count": 15,
   "id": "22b6017d-adb1-45b9-99a5-14dfcba5a38a",
   "metadata": {},
   "outputs": [
    {
     "data": {
      "text/plain": [
       "tensor([0.7679, 0.8059, 0.4540, 0.0241])"
      ]
     },
     "execution_count": 15,
     "metadata": {},
     "output_type": "execute_result"
    }
   ],
   "source": [
    "tensor[0] # 첫 번째 행"
   ]
  },
  {
   "cell_type": "code",
   "execution_count": 16,
   "id": "75795fa9-9ce9-4fc3-bc61-1c35241ce0e8",
   "metadata": {},
   "outputs": [
    {
     "data": {
      "text/plain": [
       "tensor([0.7679, 0.8200, 0.0504, 0.8049])"
      ]
     },
     "execution_count": 16,
     "metadata": {},
     "output_type": "execute_result"
    }
   ],
   "source": [
    "tensor[:,0] # 첫 번째 열"
   ]
  },
  {
   "cell_type": "code",
   "execution_count": 17,
   "id": "f39a21dd-1669-42ae-9372-45aed0abfa16",
   "metadata": {},
   "outputs": [
    {
     "data": {
      "text/plain": [
       "tensor(0.9407)"
      ]
     },
     "execution_count": 17,
     "metadata": {},
     "output_type": "execute_result"
    }
   ],
   "source": [
    "tensor[1,1] # 첫 번째 행의 첫 번째 열"
   ]
  },
  {
   "cell_type": "code",
   "execution_count": 18,
   "id": "f05d6661-cfb9-425b-8e2d-6f82c2c2ce82",
   "metadata": {},
   "outputs": [
    {
     "data": {
      "text/plain": [
       "tensor([[0.7679, 0.0000, 0.4540, 0.0241],\n",
       "        [0.8200, 0.0000, 0.1871, 0.4521],\n",
       "        [0.0504, 0.0000, 0.1339, 0.6958],\n",
       "        [0.8049, 0.0000, 0.5386, 0.1615]])"
      ]
     },
     "execution_count": 18,
     "metadata": {},
     "output_type": "execute_result"
    }
   ],
   "source": [
    "tensor[:,1] = 0 \n",
    "tensor"
   ]
  },
  {
   "cell_type": "markdown",
   "id": "077b6c1c-ae64-4262-9a3e-f233afe1bde0",
   "metadata": {},
   "source": [
    "## 배열 합치기 "
   ]
  },
  {
   "cell_type": "code",
   "execution_count": 21,
   "id": "154686f0-2d5d-4559-9845-12b526c5a127",
   "metadata": {},
   "outputs": [
    {
     "data": {
      "text/plain": [
       "tensor([[0.7679, 0.0000, 0.4540, 0.0241, 0.7679, 0.0000, 0.4540, 0.0241, 0.7679,\n",
       "         0.0000, 0.4540, 0.0241],\n",
       "        [0.8200, 0.0000, 0.1871, 0.4521, 0.8200, 0.0000, 0.1871, 0.4521, 0.8200,\n",
       "         0.0000, 0.1871, 0.4521],\n",
       "        [0.0504, 0.0000, 0.1339, 0.6958, 0.0504, 0.0000, 0.1339, 0.6958, 0.0504,\n",
       "         0.0000, 0.1339, 0.6958],\n",
       "        [0.8049, 0.0000, 0.5386, 0.1615, 0.8049, 0.0000, 0.5386, 0.1615, 0.8049,\n",
       "         0.0000, 0.5386, 0.1615]])"
      ]
     },
     "execution_count": 21,
     "metadata": {},
     "output_type": "execute_result"
    }
   ],
   "source": [
    "torch.cat([tensor, tensor, tensor], dim=1) # 옆으로 합치기"
   ]
  },
  {
   "cell_type": "code",
   "execution_count": 22,
   "id": "4221aaaa-0e07-4887-8a78-48d0cbd79a4f",
   "metadata": {},
   "outputs": [
    {
     "data": {
      "text/plain": [
       "tensor([[0.7679, 0.0000, 0.4540, 0.0241],\n",
       "        [0.8200, 0.0000, 0.1871, 0.4521],\n",
       "        [0.0504, 0.0000, 0.1339, 0.6958],\n",
       "        [0.8049, 0.0000, 0.5386, 0.1615],\n",
       "        [0.7679, 0.0000, 0.4540, 0.0241],\n",
       "        [0.8200, 0.0000, 0.1871, 0.4521],\n",
       "        [0.0504, 0.0000, 0.1339, 0.6958],\n",
       "        [0.8049, 0.0000, 0.5386, 0.1615],\n",
       "        [0.7679, 0.0000, 0.4540, 0.0241],\n",
       "        [0.8200, 0.0000, 0.1871, 0.4521],\n",
       "        [0.0504, 0.0000, 0.1339, 0.6958],\n",
       "        [0.8049, 0.0000, 0.5386, 0.1615]])"
      ]
     },
     "execution_count": 22,
     "metadata": {},
     "output_type": "execute_result"
    }
   ],
   "source": [
    "torch.cat([tensor, tensor, tensor], dim=0) # 위아래로 합치기"
   ]
  },
  {
   "cell_type": "markdown",
   "id": "86410674-80a1-4583-b5d4-103c3cb09781",
   "metadata": {},
   "source": [
    "## 산술 연산"
   ]
  },
  {
   "cell_type": "code",
   "execution_count": null,
   "id": "272f1908-dbcf-498c-bc41-671c2aa41715",
   "metadata": {},
   "outputs": [],
   "source": []
  }
 ],
 "metadata": {
  "kernelspec": {
   "display_name": "Python 3 (ipykernel)",
   "language": "python",
   "name": "python3"
  },
  "language_info": {
   "codemirror_mode": {
    "name": "ipython",
    "version": 3
   },
   "file_extension": ".py",
   "mimetype": "text/x-python",
   "name": "python",
   "nbconvert_exporter": "python",
   "pygments_lexer": "ipython3",
   "version": "3.9.12"
  }
 },
 "nbformat": 4,
 "nbformat_minor": 5
}
