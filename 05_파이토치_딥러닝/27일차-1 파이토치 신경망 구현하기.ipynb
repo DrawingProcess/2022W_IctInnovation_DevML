{
 "cells": [
  {
   "cell_type": "markdown",
   "id": "c6b56ec2-ebc8-4693-9f8d-0ec8b80e13a5",
   "metadata": {},
   "source": [
    "# 파이토치 신경망 구현하기\n",
    "\n",
    "## 필요한 라이브러리 임포트"
   ]
  },
  {
   "cell_type": "code",
   "execution_count": 2,
   "id": "2451d7a0-27ec-4ab0-8092-7440ad153dba",
   "metadata": {},
   "outputs": [
    {
     "name": "stdout",
     "output_type": "stream",
     "text": [
      "Using cpu device\n"
     ]
    }
   ],
   "source": [
    "import os\n",
    "import torch\n",
    "from torch import nn\n",
    "from torch.utils.data import DataLoader\n",
    "from torchvision import datasets, transforms\n",
    "\n",
    "device = 'cuda' if torch.cuda.is_available() else 'cpu'\n",
    "print(f\"Using {device} device\")"
   ]
  },
  {
   "cell_type": "markdown",
   "id": "3392747f-4a01-46c8-9455-66a72a03e9e9",
   "metadata": {},
   "source": [
    "## 신경망 정의하기"
   ]
  },
  {
   "cell_type": "code",
   "execution_count": null,
   "id": "27857cfe-8fe7-492b-a6c3-9c0affd2f59d",
   "metadata": {},
   "outputs": [],
   "source": [
    "# nn.Module로부터 딥러닝에 필요한 상당부분의 기능을 상속받기 때문에 \n",
    "# NeuralNetwork class를 정의할 때 중복되는 코드를 작성할 필요가 없다.\n",
    "class NeuralNetwork(nn.Module):\n",
    "    def __init__(self):\n",
    "        super(NeuralNetwork, self).__init__() # 상속 받은 모듈의 init을 수행\n",
    "        # 커스터마이징할 내용을 정의\n",
    "        self.flatten = nn.Flatten()\n",
    "        self.linear_relu_stack = nn.Sequential(\n",
    "            nn.Linear(784, 512),\n",
    "            nn.ReLU(),\n",
    "            nn.Linear(512, 512),\n",
    "            nn.ReLU(),\n",
    "            nn.Linear(512, 10),\n",
    "            nn.Softmax(dim=1)\n",
    "        )\n",
    "        \n",
    "    def forward(self, x):\n",
    "        x = self.flatten(x) # 28*28 이미지를 784로 변환\n",
    "        pred_probab = self.linear_relu_stack(x) # 포워드 패스\n",
    "        return logits\n",
    "    \n",
    "model = NeuralNetwork().to(device)\n",
    "print(model)"
   ]
  },
  {
   "cell_type": "markdown",
   "id": "caec4fce-e1d5-4dbe-810a-918dc6b5cf29",
   "metadata": {},
   "source": [
    "## 정의된 모델로 연산하기"
   ]
  },
  {
   "cell_type": "code",
   "execution_count": 14,
   "id": "cf1e22a8-c506-43ac-bccd-04e57ea21727",
   "metadata": {},
   "outputs": [
    {
     "name": "stdout",
     "output_type": "stream",
     "text": [
      "softmax result: tensor([[ 0.0194,  0.0492, -0.0925, -0.0618, -0.0200,  0.0044,  0.0103, -0.0351,\n",
      "         -0.0476,  0.0005]], grad_fn=<AddmmBackward0>)\n",
      "Predicted class: tensor([1])\n"
     ]
    }
   ],
   "source": [
    "X = torch.rand(1, 28, 28, device=device)\n",
    "pred_probab = model(X)\n",
    "y_pred = pred_probab.argmax(1)\n",
    "print(f'softmax result: {pred_probab}')\n",
    "print(f\"Predicted class: {y_pred}\")"
   ]
  },
  {
   "cell_type": "code",
   "execution_count": null,
   "id": "e96b1cbd-0f39-41d6-ba82-00c0685a738c",
   "metadata": {},
   "outputs": [],
   "source": []
  }
 ],
 "metadata": {
  "kernelspec": {
   "display_name": "Python 3 (ipykernel)",
   "language": "python",
   "name": "python3"
  },
  "language_info": {
   "codemirror_mode": {
    "name": "ipython",
    "version": 3
   },
   "file_extension": ".py",
   "mimetype": "text/x-python",
   "name": "python",
   "nbconvert_exporter": "python",
   "pygments_lexer": "ipython3",
   "version": "3.9.12"
  }
 },
 "nbformat": 4,
 "nbformat_minor": 5
}
