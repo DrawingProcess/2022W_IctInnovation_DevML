{
 "cells": [
  {
   "cell_type": "markdown",
   "id": "c6b56ec2-ebc8-4693-9f8d-0ec8b80e13a5",
   "metadata": {},
   "source": [
    "# 파이토치 신경망 구현하기\n",
    "\n",
    "## 필요한 라이브러리 임포트"
   ]
  },
  {
   "cell_type": "code",
   "execution_count": 2,
   "id": "2451d7a0-27ec-4ab0-8092-7440ad153dba",
   "metadata": {},
   "outputs": [
    {
     "name": "stdout",
     "output_type": "stream",
     "text": [
      "Using cpu device\n"
     ]
    }
   ],
   "source": [
    "import os\n",
    "import torch\n",
    "from torch import nn\n",
    "from torch.utils.data import DataLoader\n",
    "from torchvision import datasets, transforms\n",
    "\n",
    "device = 'cuda' if torch.cuda.is_available() else 'cpu'\n",
    "print(f\"Using {device} device\")"
   ]
  },
  {
   "cell_type": "markdown",
   "id": "3392747f-4a01-46c8-9455-66a72a03e9e9",
   "metadata": {},
   "source": [
    "## 신경망 정의하기"
   ]
  },
  {
   "cell_type": "code",
   "execution_count": 17,
   "id": "27857cfe-8fe7-492b-a6c3-9c0affd2f59d",
   "metadata": {},
   "outputs": [
    {
     "name": "stdout",
     "output_type": "stream",
     "text": [
      "NeuralNetwork(\n",
      "  (linear_relu_stack): Sequential(\n",
      "    (0): Flatten(start_dim=1, end_dim=-1)\n",
      "    (1): Linear(in_features=784, out_features=512, bias=True)\n",
      "    (2): ReLU()\n",
      "    (3): Linear(in_features=512, out_features=512, bias=True)\n",
      "    (4): ReLU()\n",
      "    (5): Linear(in_features=512, out_features=10, bias=True)\n",
      "    (6): Softmax(dim=1)\n",
      "  )\n",
      ")\n"
     ]
    }
   ],
   "source": [
    "# nn.Module로부터 딥러닝에 필요한 상당부분의 기능을 상속받기 때문에 \n",
    "# NeuralNetwork class를 정의할 때 중복되는 코드를 작성할 필요가 없다.\n",
    "class NeuralNetwork(nn.Module):\n",
    "    def __init__(self):\n",
    "        super(NeuralNetwork, self).__init__() # 상속 받은 모듈의 init을 수행\n",
    "        # 커스터마이징할 내용을 정의\n",
    "        self.linear_relu_stack = nn.Sequential(\n",
    "            nn.Flatten(),  # 28*28 이미지를 784로 변환\n",
    "            nn.Linear(784, 512),\n",
    "            nn.ReLU(),\n",
    "            nn.Linear(512, 512),\n",
    "            nn.ReLU(),\n",
    "            nn.Linear(512, 10),\n",
    "            nn.Softmax(dim=1)\n",
    "        )\n",
    "        \n",
    "    def forward(self, x):\n",
    "        pred_probab = self.linear_relu_stack(x) # 포워드 패스\n",
    "        return pred_probab\n",
    "    \n",
    "model = NeuralNetwork().to(device)\n",
    "print(model)"
   ]
  },
  {
   "cell_type": "markdown",
   "id": "caec4fce-e1d5-4dbe-810a-918dc6b5cf29",
   "metadata": {},
   "source": [
    "## 정의된 모델로 연산하기"
   ]
  },
  {
   "cell_type": "code",
   "execution_count": 18,
   "id": "cf1e22a8-c506-43ac-bccd-04e57ea21727",
   "metadata": {},
   "outputs": [
    {
     "name": "stdout",
     "output_type": "stream",
     "text": [
      "softmax result: tensor([[0.0941, 0.1048, 0.1013, 0.0966, 0.1118, 0.0861, 0.1033, 0.0935, 0.1065,\n",
      "         0.1020]], grad_fn=<SoftmaxBackward0>)\n",
      "Predicted class: tensor([4])\n"
     ]
    }
   ],
   "source": [
    "X = torch.rand(1, 28, 28, device=device)\n",
    "pred_probab = model(X)\n",
    "y_pred = pred_probab.argmax(1)\n",
    "print(f'softmax result: {pred_probab}')\n",
    "print(f\"Predicted class: {y_pred}\")"
   ]
  },
  {
   "cell_type": "markdown",
   "id": "b7a282d5-5d84-4aed-82bc-2cfbf1a4ec06",
   "metadata": {},
   "source": [
    "## 각 레이어의 파라미터 확인\n",
    "\n",
    "파이토치에 설정된 각 레이어와 파라미터 정보를 for문으로 확인"
   ]
  },
  {
   "cell_type": "code",
   "execution_count": 20,
   "id": "b53565d9-bd15-4d43-a1c3-c98879fbd931",
   "metadata": {},
   "outputs": [
    {
     "name": "stdout",
     "output_type": "stream",
     "text": [
      "모델 구조: NeuralNetwork(\n",
      "  (linear_relu_stack): Sequential(\n",
      "    (0): Flatten(start_dim=1, end_dim=-1)\n",
      "    (1): Linear(in_features=784, out_features=512, bias=True)\n",
      "    (2): ReLU()\n",
      "    (3): Linear(in_features=512, out_features=512, bias=True)\n",
      "    (4): ReLU()\n",
      "    (5): Linear(in_features=512, out_features=10, bias=True)\n",
      "    (6): Softmax(dim=1)\n",
      "  )\n",
      ")\n",
      "\n",
      "\n",
      "레이어: linear_relu_stack.1.weight | 사이즈: torch.Size([512, 784]) | 값: tensor([[ 0.0019,  0.0114,  0.0165,  ...,  0.0062, -0.0329,  0.0032],\n",
      "        [ 0.0231, -0.0262,  0.0025,  ..., -0.0341,  0.0324, -0.0098]],\n",
      "       grad_fn=<SliceBackward0>) \n",
      "\n",
      "레이어: linear_relu_stack.1.bias | 사이즈: torch.Size([512]) | 값: tensor([0.0049, 0.0109], grad_fn=<SliceBackward0>) \n",
      "\n",
      "레이어: linear_relu_stack.3.weight | 사이즈: torch.Size([512, 512]) | 값: tensor([[-0.0355, -0.0406,  0.0153,  ...,  0.0055, -0.0229,  0.0009],\n",
      "        [ 0.0391, -0.0169,  0.0360,  ...,  0.0361,  0.0010,  0.0404]],\n",
      "       grad_fn=<SliceBackward0>) \n",
      "\n",
      "레이어: linear_relu_stack.3.bias | 사이즈: torch.Size([512]) | 값: tensor([-0.0189, -0.0391], grad_fn=<SliceBackward0>) \n",
      "\n",
      "레이어: linear_relu_stack.5.weight | 사이즈: torch.Size([10, 512]) | 값: tensor([[-0.0166,  0.0115,  0.0080,  ...,  0.0132,  0.0148,  0.0024],\n",
      "        [ 0.0026, -0.0422, -0.0411,  ...,  0.0236,  0.0292, -0.0386]],\n",
      "       grad_fn=<SliceBackward0>) \n",
      "\n",
      "레이어: linear_relu_stack.5.bias | 사이즈: torch.Size([10]) | 값: tensor([-0.0221, -0.0075], grad_fn=<SliceBackward0>) \n",
      "\n"
     ]
    }
   ],
   "source": [
    "print(f\"모델 구조: {model}\\n\\n\")\n",
    "\n",
    "for name, param in model.named_parameters():\n",
    "    print(f\"레이어: {name} | 사이즈: {param.size()} | 값: {param[:2]} \\n\")"
   ]
  },
  {
   "cell_type": "code",
   "execution_count": null,
   "id": "fca7312e-2f3f-4989-b576-65fdb341bcc1",
   "metadata": {},
   "outputs": [],
   "source": []
  }
 ],
 "metadata": {
  "kernelspec": {
   "display_name": "Python 3 (ipykernel)",
   "language": "python",
   "name": "python3"
  },
  "language_info": {
   "codemirror_mode": {
    "name": "ipython",
    "version": 3
   },
   "file_extension": ".py",
   "mimetype": "text/x-python",
   "name": "python",
   "nbconvert_exporter": "python",
   "pygments_lexer": "ipython3",
   "version": "3.9.12"
  }
 },
 "nbformat": 4,
 "nbformat_minor": 5
}
