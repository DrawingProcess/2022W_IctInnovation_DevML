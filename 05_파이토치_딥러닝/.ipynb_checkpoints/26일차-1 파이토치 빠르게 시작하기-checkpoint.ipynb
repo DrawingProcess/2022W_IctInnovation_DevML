{
 "cells": [
  {
   "cell_type": "markdown",
   "id": "466c145c-4b46-4d47-a031-90f4aa30dacd",
   "metadata": {},
   "source": [
    "# 파이토치 빠르게 시작하기\n",
    "\n",
    "## 파이토치 설치와 라이브러리 임포트"
   ]
  },
  {
   "cell_type": "code",
   "execution_count": 1,
   "id": "326d500f-e51c-4d04-a5ad-45edb9c4f14a",
   "metadata": {},
   "outputs": [],
   "source": [
    "#!pip install torch torchvision"
   ]
  },
  {
   "cell_type": "code",
   "execution_count": 1,
   "id": "25ecc7e8-a8d5-4fd8-9d13-0dab1e5b2141",
   "metadata": {},
   "outputs": [],
   "source": [
    "import torch\n",
    "from torch import nn\n",
    "from torch.utils.data import DataLoader\n",
    "from torchvision import datasets\n",
    "from torchvision.transforms import ToTensor\n",
    "import matplotlib.pyplot as plt\n",
    "import matplotlib.cm as cm\n",
    "import numpy as np"
   ]
  },
  {
   "cell_type": "markdown",
   "id": "cc744271-857f-4779-bd2a-aafc7216a239",
   "metadata": {},
   "source": [
    "## 패션 MNIST 데이터셋 다운로드"
   ]
  },
  {
   "cell_type": "code",
   "execution_count": 2,
   "id": "071e5891-2e05-41ad-a735-5ec305fd2d5e",
   "metadata": {},
   "outputs": [],
   "source": [
    "# 트레이닝 데이터셋을 다운로드한다.\n",
    "training_data = datasets.FashionMNIST(\n",
    "    root=\"data\",\n",
    "    train=True,\n",
    "    download=True,\n",
    "    transform=ToTensor()\n",
    ")\n",
    "\n",
    "# 테스트 데이터셋을 다운로드한다.\n",
    "test_data = datasets.FashionMNIST(\n",
    "    root=\"data\",\n",
    "    train=False,\n",
    "    download=True,\n",
    "    transform=ToTensor()\n",
    ")"
   ]
  },
  {
   "cell_type": "code",
   "execution_count": null,
   "id": "3fad3ff6",
   "metadata": {},
   "outputs": [],
   "source": [
    "img = test_data[0][0].numpy() * 255\n",
    "img = img.astype(np.int32).reshape(28,28)\n",
    "#plt.imshow(img, cmap=\"gray\")\n",
    "\n",
    "Z = np.array([[20,5,2],[2,20,3],[11,2,20]])\n",
    "plt.imshow(Z, cmap = cm.gray)\n",
    "#plt.show()"
   ]
  },
  {
   "cell_type": "markdown",
   "id": "21d89266-fc6e-4fbc-9205-1d69044b01f3",
   "metadata": {},
   "source": [
    "## 배치사이즈를 설정하고 데이터 로더를 정의"
   ]
  },
  {
   "cell_type": "code",
   "execution_count": 4,
   "id": "2650ff86-7588-46c4-b225-8510e1d5b437",
   "metadata": {},
   "outputs": [
    {
     "name": "stdout",
     "output_type": "stream",
     "text": [
      "Shape of X [N, C, H, W]: torch.Size([64, 1, 28, 28])\n",
      "Shape of y: torch.Size([64]) torch.int64\n"
     ]
    }
   ],
   "source": [
    "batch_size = 64\n",
    "\n",
    "# 데이터로더 정의\n",
    "train_dataloader = DataLoader(training_data, batch_size=batch_size)\n",
    "test_dataloader = DataLoader(test_data, batch_size=batch_size)\n",
    "\n",
    "for X, y in test_dataloader:\n",
    "    print(f\"Shape of X [N, C, H, W]: {X.shape}\")\n",
    "    print(f\"Shape of y: {y.shape} {y.dtype}\")\n",
    "    break"
   ]
  },
  {
   "cell_type": "markdown",
   "id": "7bcd433f-038f-42fa-8455-2b372a26bc5f",
   "metadata": {},
   "source": [
    "## CPU 대신에 GPU를 사용하도록 설정하기"
   ]
  },
  {
   "cell_type": "code",
   "execution_count": 5,
   "id": "61f546e6-cfdf-4c38-bdac-14075b19d33f",
   "metadata": {},
   "outputs": [
    {
     "name": "stdout",
     "output_type": "stream",
     "text": [
      "Using cpu device\n"
     ]
    }
   ],
   "source": [
    "device = \"cuda\" if torch.cuda.is_available() else  \"cpu\"\n",
    "\n",
    "# 위 코드는 아래 코드 내용을 한 줄로 표현한 것\n",
    "'''\n",
    "if torch.cuda.is_available():\n",
    "    device = \"cuda\"\n",
    "else:\n",
    "    device = \"cpu\"\n",
    "'''\n",
    "\n",
    "print(f\"Using {device} device\")"
   ]
  },
  {
   "cell_type": "markdown",
   "id": "f0d77d4f-26ea-4937-bc41-9eaec35cf66c",
   "metadata": {},
   "source": [
    "## 간단한 NN 작성\n",
    "\n",
    "784x512, 512x512, 512x10의 노드를 가진 네트워크를 구성한다."
   ]
  },
  {
   "cell_type": "code",
   "execution_count": 6,
   "id": "ce8e7031-25d2-4613-9728-7c56b4b41259",
   "metadata": {},
   "outputs": [
    {
     "name": "stdout",
     "output_type": "stream",
     "text": [
      "NerualNetwork(\n",
      "  (flatten): Flatten(start_dim=1, end_dim=-1)\n",
      "  (linear_relu_stack): Sequential(\n",
      "    (0): Linear(in_features=784, out_features=512, bias=True)\n",
      "    (1): ReLU()\n",
      "    (2): Linear(in_features=512, out_features=512, bias=True)\n",
      "    (3): ReLU()\n",
      "    (4): Linear(in_features=512, out_features=10, bias=True)\n",
      "  )\n",
      ")\n"
     ]
    }
   ],
   "source": [
    "class NerualNetwork(nn.Module):\n",
    "    def __init__(self):\n",
    "        super().__init__()\n",
    "        self.flatten = nn.Flatten()\n",
    "        self.linear_relu_stack = nn.Sequential(\n",
    "            nn.Linear(28*28, 512),\n",
    "            nn.ReLU(),\n",
    "            nn.Linear(512, 512),\n",
    "            nn.ReLU(),\n",
    "            nn.Linear(512, 10)\n",
    "        )\n",
    "        \n",
    "    def forward(self, x):\n",
    "        x = self.flatten(x)\n",
    "        logits = self.linear_relu_stack(x)\n",
    "        return logits\n",
    "\n",
    "model = NerualNetwork().to(device) # 변수를 cuda로 보냄\n",
    "print(model)"
   ]
  },
  {
   "cell_type": "markdown",
   "id": "2ac4dc8b-4b40-4604-b7c3-98236fd828b3",
   "metadata": {},
   "source": [
    "## 하이퍼파라미터를 구성\n",
    "손실 함수와 최적화 알고리즘을 선택한다."
   ]
  },
  {
   "cell_type": "code",
   "execution_count": 7,
   "id": "f2e07ce4-afb6-4906-8a82-8b4de8148e50",
   "metadata": {},
   "outputs": [],
   "source": [
    "loss_fn = nn.CrossEntropyLoss()\n",
    "optimizer = torch.optim.SGD(model.parameters(), lr=1e-3) # 0.001"
   ]
  },
  {
   "cell_type": "markdown",
   "id": "08992f90-284f-4e96-8fe2-8461d8fd4261",
   "metadata": {},
   "source": [
    "## 학습 및 평가 함수 정의"
   ]
  },
  {
   "cell_type": "code",
   "execution_count": 8,
   "id": "c377d281-83f7-4af5-b824-b534351fca18",
   "metadata": {},
   "outputs": [
    {
     "name": "stdout",
     "output_type": "stream",
     "text": [
      "Epoch 1\n",
      "--------------------------------------\n",
      "loss: 2.307231 [    0/60000]\n",
      "loss: 2.299702 [ 6400/60000]\n",
      "loss: 2.279458 [12800/60000]\n",
      "loss: 2.273656 [19200/60000]\n",
      "loss: 2.250270 [25600/60000]\n",
      "loss: 2.220974 [32000/60000]\n",
      "loss: 2.225788 [38400/60000]\n",
      "loss: 2.195484 [44800/60000]\n",
      "loss: 2.194387 [51200/60000]\n",
      "loss: 2.165670 [57600/60000]\n",
      "Test Error: \n",
      " Accuracy: 39.6%, Avg loss: 2.157649\n",
      "\n",
      "Epoch 2\n",
      "--------------------------------------\n",
      "loss: 2.164121 [    0/60000]\n",
      "loss: 2.161587 [ 6400/60000]\n",
      "loss: 2.100460 [12800/60000]\n",
      "loss: 2.122881 [19200/60000]\n",
      "loss: 2.064241 [25600/60000]\n",
      "loss: 2.003417 [32000/60000]\n",
      "loss: 2.033519 [38400/60000]\n",
      "loss: 1.958148 [44800/60000]\n",
      "loss: 1.964223 [51200/60000]\n",
      "loss: 1.894610 [57600/60000]\n",
      "Test Error: \n",
      " Accuracy: 58.8%, Avg loss: 1.887942\n",
      "\n",
      "Epoch 3\n",
      "--------------------------------------\n",
      "loss: 1.916966 [    0/60000]\n",
      "loss: 1.891675 [ 6400/60000]\n",
      "loss: 1.771557 [12800/60000]\n",
      "loss: 1.818075 [19200/60000]\n",
      "loss: 1.695525 [25600/60000]\n",
      "loss: 1.652908 [32000/60000]\n",
      "loss: 1.672649 [38400/60000]\n",
      "loss: 1.580376 [44800/60000]\n",
      "loss: 1.603621 [51200/60000]\n",
      "loss: 1.500111 [57600/60000]\n",
      "Test Error: \n",
      " Accuracy: 61.2%, Avg loss: 1.515262\n",
      "\n",
      "Epoch 4\n",
      "--------------------------------------\n",
      "loss: 1.578522 [    0/60000]\n",
      "loss: 1.548521 [ 6400/60000]\n",
      "loss: 1.395527 [12800/60000]\n",
      "loss: 1.471946 [19200/60000]\n",
      "loss: 1.341699 [25600/60000]\n",
      "loss: 1.346438 [32000/60000]\n",
      "loss: 1.356805 [38400/60000]\n",
      "loss: 1.288836 [44800/60000]\n",
      "loss: 1.323451 [51200/60000]\n",
      "loss: 1.226695 [57600/60000]\n",
      "Test Error: \n",
      " Accuracy: 63.0%, Avg loss: 1.248180\n",
      "\n",
      "Epoch 5\n",
      "--------------------------------------\n",
      "loss: 1.322634 [    0/60000]\n",
      "loss: 1.309027 [ 6400/60000]\n",
      "loss: 1.138044 [12800/60000]\n",
      "loss: 1.249734 [19200/60000]\n",
      "loss: 1.113699 [25600/60000]\n",
      "loss: 1.145613 [32000/60000]\n",
      "loss: 1.165094 [38400/60000]\n",
      "loss: 1.108349 [44800/60000]\n",
      "loss: 1.149455 [51200/60000]\n",
      "loss: 1.068524 [57600/60000]\n",
      "Test Error: \n",
      " Accuracy: 64.4%, Avg loss: 1.083551\n",
      "\n",
      "Done!\n"
     ]
    }
   ],
   "source": [
    "def train(dataloader, model, loss_fn, optimizer):\n",
    "    size = len(dataloader.dataset)\n",
    "    model.train() # 모델이 학습하도록 트레인 단계를 활성화\n",
    "    \n",
    "    for batch, (X,y) in enumerate(dataloader):\n",
    "        X, y = X.to(device), y.to(device)\n",
    "        \n",
    "        # 모델의 에러를 계산\n",
    "        pred = model(X) # 포워드 연산\n",
    "        loss = loss_fn(pred, y) # loss 연산\n",
    "        \n",
    "        # 역전파\n",
    "        optimizer.zero_grad() # 매 이터레이션마다 그래디언트를 초기화\n",
    "        loss.backward() # 역전파가 진행되어 w,r,t 그래프잎의 기울기를 계산한다.\n",
    "        optimizer.step() # 가중치 업데이트\n",
    "        \n",
    "        if batch % 100 == 0: # 매 100회 배치를 돌 때마다 리포트 수행\n",
    "            loss, current = loss.item(), batch * len(X)\n",
    "            print(f\"loss: {loss:>7f} [{current:>5d}/{size:>5d}]\")\n",
    "            \n",
    "def test(dataloader, model, loss_fn):\n",
    "    size = len(dataloader.dataset)\n",
    "    num_batches = len(dataloader)\n",
    "    model.eval() # 평가를 수행한다는 의미\n",
    "    test_loss, correct = 0, 0\n",
    "    \n",
    "    with torch.no_grad(): # 그라데이션 계산을 비활성화\n",
    "        for X,y in dataloader:\n",
    "            X, y = X.to(device), y.to(device)\n",
    "\n",
    "            # 모델의 에러를 계산\n",
    "            pred = model(X) # 포워드 연산\n",
    "            test_loss += loss_fn(pred, y).item() # loss 연산\n",
    "            correct += (pred.argmax(1) == y).type(torch.float).sum().item()\n",
    "    test_loss /= num_batches\n",
    "    correct /= size\n",
    "    print(f\"Test Error: \\n Accuracy: {(100*correct):>0.1f}%, Avg loss: {test_loss:>8f}\\n\")\n",
    "\n",
    "    \n",
    "epochs = 5\n",
    "for t in range(epochs):\n",
    "    print(f'Epoch {t+1}\\n--------------------------------------')\n",
    "    train(train_dataloader, model, loss_fn, optimizer)\n",
    "    test(test_dataloader, model, loss_fn)\n",
    "print('Done!')"
   ]
  },
  {
   "cell_type": "markdown",
   "id": "5681066f-d562-42a0-99af-e5d63366b996",
   "metadata": {},
   "source": [
    "## 모델 저장과 불러오기"
   ]
  },
  {
   "cell_type": "code",
   "execution_count": 9,
   "id": "fc6b9897-4069-4656-acf3-71f8e3d33996",
   "metadata": {},
   "outputs": [
    {
     "name": "stdout",
     "output_type": "stream",
     "text": [
      "Pytorch 모델의 상태를 model.pth에 저장했다.\n"
     ]
    }
   ],
   "source": [
    "torch.save(model.state_dict(), \"model.pth\")\n",
    "print(\"Pytorch 모델의 상태를 model.pth에 저장했다.\")"
   ]
  },
  {
   "cell_type": "code",
   "execution_count": 10,
   "id": "f0d315e7-1089-44e0-957f-4b4e7b54e7f4",
   "metadata": {},
   "outputs": [
    {
     "data": {
      "text/plain": [
       "<All keys matched successfully>"
      ]
     },
     "execution_count": 10,
     "metadata": {},
     "output_type": "execute_result"
    }
   ],
   "source": [
    "mode = NerualNetwork()\n",
    "model.load_state_dict(torch.load(\"model.pth\"))"
   ]
  },
  {
   "cell_type": "markdown",
   "id": "d6099647-b49d-4bb4-842e-95e73b72d719",
   "metadata": {},
   "source": [
    "## 불러온 모델을 사용해 예측 수행하기"
   ]
  },
  {
   "cell_type": "code",
   "execution_count": 11,
   "id": "1c8ea473-eed8-4ecf-9040-df5c37f754c0",
   "metadata": {},
   "outputs": [
    {
     "name": "stdout",
     "output_type": "stream",
     "text": [
      "Predicted: \"Ankle boot\", Actual: \"Ankle boot\"\n"
     ]
    }
   ],
   "source": [
    "classes = [\n",
    "    \"T-shirt/top\",\n",
    "    \"Trouse\",\n",
    "    \"Pullover\",\n",
    "    \"Dress\",\n",
    "    \"Coat\",\n",
    "    \"Sandal\",\n",
    "    \"Shirt\",\n",
    "    \"Sneaker\",\n",
    "    \"Bag\",\n",
    "    \"Ankle boot\",\n",
    "]\n",
    "\n",
    "model.eval()\n",
    "x, y = test_data[0][0], test_data[0][1]\n",
    "with torch.no_grad():\n",
    "    pred = model(x)\n",
    "    predicted, actual = classes[pred[0].argmax(0)], classes[y]\n",
    "    print(f'Predicted: \"{predicted}\", Actual: \"{actual}\"')"
   ]
  },
  {
   "cell_type": "code",
   "execution_count": null,
   "id": "b4c49db8-37f1-400b-a617-4b8df165e4a0",
   "metadata": {},
   "outputs": [],
   "source": [
    "import matplotlib.pyplot as plt\n",
    "import numpy as np \n",
    "img = test_data[0][0].numpy() * 255\n",
    "img = img.astype(np.int32).reshape(28,28)\n"
   ]
  },
  {
   "cell_type": "code",
   "execution_count": null,
   "id": "f7689e1e-3c89-433a-b699-dfd910eec651",
   "metadata": {},
   "outputs": [],
   "source": []
  },
  {
   "cell_type": "code",
   "execution_count": null,
   "id": "7cce0b61",
   "metadata": {},
   "outputs": [],
   "source": []
  }
 ],
 "metadata": {
  "kernelspec": {
   "display_name": "Python 3 (ipykernel)",
   "language": "python",
   "name": "python3"
  },
  "language_info": {
   "codemirror_mode": {
    "name": "ipython",
    "version": 3
   },
   "file_extension": ".py",
   "mimetype": "text/x-python",
   "name": "python",
   "nbconvert_exporter": "python",
   "pygments_lexer": "ipython3",
   "version": "3.9.12"
  }
 },
 "nbformat": 4,
 "nbformat_minor": 5
}
