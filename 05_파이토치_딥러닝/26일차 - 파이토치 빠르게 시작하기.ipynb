{
 "cells": [
  {
   "cell_type": "markdown",
   "id": "466c145c-4b46-4d47-a031-90f4aa30dacd",
   "metadata": {},
   "source": [
    "# 파이토치 빠르게 시작하기\n",
    "\n",
    "## 파이토치 설치와 라이브러리 임포트"
   ]
  },
  {
   "cell_type": "code",
   "execution_count": 3,
   "id": "326d500f-e51c-4d04-a5ad-45edb9c4f14a",
   "metadata": {},
   "outputs": [
    {
     "name": "stdout",
     "output_type": "stream",
     "text": [
      "Requirement already satisfied: torch in c:\\users\\isc03\\anaconda3\\lib\\site-packages (1.13.0)\n",
      "Requirement already satisfied: torchvision in c:\\users\\isc03\\anaconda3\\lib\\site-packages (0.14.0)\n",
      "Requirement already satisfied: typing-extensions in c:\\users\\isc03\\anaconda3\\lib\\site-packages (from torch) (4.1.1)\n",
      "Requirement already satisfied: requests in c:\\users\\isc03\\anaconda3\\lib\\site-packages (from torchvision) (2.27.1)\n",
      "Requirement already satisfied: numpy in c:\\users\\isc03\\anaconda3\\lib\\site-packages (from torchvision) (1.21.5)\n",
      "Requirement already satisfied: pillow!=8.3.*,>=5.3.0 in c:\\users\\isc03\\anaconda3\\lib\\site-packages (from torchvision) (9.0.1)\n",
      "Requirement already satisfied: idna<4,>=2.5 in c:\\users\\isc03\\anaconda3\\lib\\site-packages (from requests->torchvision) (3.3)\n",
      "Requirement already satisfied: urllib3<1.27,>=1.21.1 in c:\\users\\isc03\\anaconda3\\lib\\site-packages (from requests->torchvision) (1.26.9)\n",
      "Requirement already satisfied: certifi>=2017.4.17 in c:\\users\\isc03\\anaconda3\\lib\\site-packages (from requests->torchvision) (2021.10.8)\n",
      "Requirement already satisfied: charset-normalizer~=2.0.0 in c:\\users\\isc03\\anaconda3\\lib\\site-packages (from requests->torchvision) (2.0.4)\n"
     ]
    }
   ],
   "source": [
    "!pip install torch torchvision"
   ]
  },
  {
   "cell_type": "code",
   "execution_count": 2,
   "id": "25ecc7e8-a8d5-4fd8-9d13-0dab1e5b2141",
   "metadata": {},
   "outputs": [],
   "source": [
    "import torch\n",
    "from torch import nn\n",
    "from torch.utils.data import DataLoader\n",
    "from torchvision import datasets\n",
    "from torchvision.transforms import ToTensor"
   ]
  },
  {
   "cell_type": "markdown",
   "id": "cc744271-857f-4779-bd2a-aafc7216a239",
   "metadata": {},
   "source": [
    "## 패션 MNIST 데이터셋 다운로드"
   ]
  },
  {
   "cell_type": "code",
   "execution_count": 3,
   "id": "071e5891-2e05-41ad-a735-5ec305fd2d5e",
   "metadata": {},
   "outputs": [],
   "source": [
    "# 트레이닝 데이터셋을 다운로드한다.\n",
    "training_data = datasets.FashionMNIST(\n",
    "    root=\"data\",\n",
    "    train=True,\n",
    "    download=True,\n",
    "    transform=ToTensor()\n",
    ")\n",
    "\n",
    "# 테스트 데이터셋을 다운로드한다.\n",
    "test_data = datasets.FashionMNIST(\n",
    "    root=\"data\",\n",
    "    train=False,\n",
    "    download=True,\n",
    "    transform=ToTensor()\n",
    ")"
   ]
  },
  {
   "cell_type": "markdown",
   "id": "21d89266-fc6e-4fbc-9205-1d69044b01f3",
   "metadata": {},
   "source": [
    "## 배치사이즈를 설정하고 데이터 로더를 정의"
   ]
  },
  {
   "cell_type": "code",
   "execution_count": 4,
   "id": "2650ff86-7588-46c4-b225-8510e1d5b437",
   "metadata": {},
   "outputs": [
    {
     "name": "stdout",
     "output_type": "stream",
     "text": [
      "Shape of X [N, C, H, W]: torch.Size([64, 1, 28, 28])\n",
      "Shape of y: torch.Size([64]) torch.int64\n"
     ]
    }
   ],
   "source": [
    "batch_size = 64\n",
    "\n",
    "# 데이터로더 정의\n",
    "train_dataloader = DataLoader(training_data, batch_size=batch_size)\n",
    "test_dataloader = DataLoader(test_data, batch_size=batch_size)\n",
    "\n",
    "for X, y in test_dataloader:\n",
    "    print(f\"Shape of X [N, C, H, W]: {X.shape}\")\n",
    "    print(f\"Shape of y: {y.shape} {y.dtype}\")\n",
    "    break"
   ]
  },
  {
   "cell_type": "markdown",
   "id": "7bcd433f-038f-42fa-8455-2b372a26bc5f",
   "metadata": {},
   "source": [
    "## CPU 대신에 GPU를 사용하도록 설정하기"
   ]
  },
  {
   "cell_type": "code",
   "execution_count": 5,
   "id": "61f546e6-cfdf-4c38-bdac-14075b19d33f",
   "metadata": {},
   "outputs": [
    {
     "name": "stdout",
     "output_type": "stream",
     "text": [
      "Using cpu device\n"
     ]
    }
   ],
   "source": [
    "device = \"cuda\" if torch.cuda.is_available() else  \"cpu\"\n",
    "\n",
    "# 위 코드는 아래 코드 내용을 한 줄로 표현한 것\n",
    "'''\n",
    "if torch.cuda.is_available():\n",
    "    device = \"cuda\"\n",
    "else:\n",
    "    device = \"cpu\"\n",
    "'''\n",
    "\n",
    "print(f\"Using {device} device\")"
   ]
  },
  {
   "cell_type": "markdown",
   "id": "f0d77d4f-26ea-4937-bc41-9eaec35cf66c",
   "metadata": {},
   "source": [
    "## 간단한 NN 작성\n",
    "\n",
    "784x512, 512x512, 512x10의 노드를 가진 네트워크를 구성한다."
   ]
  },
  {
   "cell_type": "code",
   "execution_count": 6,
   "id": "ce8e7031-25d2-4613-9728-7c56b4b41259",
   "metadata": {},
   "outputs": [
    {
     "name": "stdout",
     "output_type": "stream",
     "text": [
      "NerualNetwork(\n",
      "  (flatten): Flatten(start_dim=1, end_dim=-1)\n",
      "  (linear_relu_stack): Sequential(\n",
      "    (0): Linear(in_features=784, out_features=512, bias=True)\n",
      "    (1): ReLU()\n",
      "    (2): Linear(in_features=512, out_features=512, bias=True)\n",
      "    (3): ReLU()\n",
      "    (4): Linear(in_features=512, out_features=10, bias=True)\n",
      "  )\n",
      ")\n"
     ]
    }
   ],
   "source": [
    "class NerualNetwork(nn.Module):\n",
    "    def __init__(self):\n",
    "        super().__init__()\n",
    "        self.flatten = nn.Flatten()\n",
    "        self.linear_relu_stack = nn.Sequential(\n",
    "            nn.Linear(28*28, 512),\n",
    "            nn.ReLU(),\n",
    "            nn.Linear(512, 512),\n",
    "            nn.ReLU(),\n",
    "            nn.Linear(512, 10)\n",
    "        )\n",
    "        \n",
    "    def forward(self, x):\n",
    "        x = self.flatten(x)\n",
    "        logits = self.linear_relu_stack(x)\n",
    "        return logits\n",
    "\n",
    "model = NerualNetwork().to(device) # 변수를 cuda로 보냄\n",
    "print(model)"
   ]
  },
  {
   "cell_type": "markdown",
   "id": "2ac4dc8b-4b40-4604-b7c3-98236fd828b3",
   "metadata": {},
   "source": [
    "## 하이퍼파라미터를 구성\n",
    "손실 함수와 최적화 알고리즘을 선택한다."
   ]
  },
  {
   "cell_type": "code",
   "execution_count": 7,
   "id": "f2e07ce4-afb6-4906-8a82-8b4de8148e50",
   "metadata": {},
   "outputs": [],
   "source": [
    "loss_fn = nn.CrossEntropyLoss()\n",
    "optimizer = torch.optim.SGD(model.parameters(), lr=1e-3) # 0.001"
   ]
  },
  {
   "cell_type": "markdown",
   "id": "08992f90-284f-4e96-8fe2-8461d8fd4261",
   "metadata": {},
   "source": [
    "## 학습 및 평가 함수 정의"
   ]
  },
  {
   "cell_type": "code",
   "execution_count": 22,
   "id": "c377d281-83f7-4af5-b824-b534351fca18",
   "metadata": {},
   "outputs": [
    {
     "name": "stdout",
     "output_type": "stream",
     "text": [
      "Epoch 1\n",
      "--------------------------------------\n",
      "loss: 2.149423 [    0/60000]\n",
      "loss: 2.138850 [ 6400/60000]\n",
      "loss: 2.073230 [12800/60000]\n",
      "loss: 2.098103 [19200/60000]\n",
      "loss: 2.030332 [25600/60000]\n",
      "loss: 1.979895 [32000/60000]\n",
      "loss: 2.014087 [38400/60000]\n",
      "loss: 1.918466 [44800/60000]\n",
      "loss: 1.931206 [51200/60000]\n",
      "loss: 1.853734 [57600/60000]\n",
      "Test Error: \n",
      " Accuracy: 55.6%, Avg loss: 1.849798\n",
      "\n",
      "Epoch 2\n",
      "--------------------------------------\n",
      "loss: 1.893505 [    0/60000]\n",
      "loss: 1.860598 [ 6400/60000]\n",
      "loss: 1.730820 [12800/60000]\n",
      "loss: 1.775319 [19200/60000]\n",
      "loss: 1.653491 [25600/60000]\n",
      "loss: 1.622808 [32000/60000]\n",
      "loss: 1.648919 [38400/60000]\n",
      "loss: 1.537064 [44800/60000]\n",
      "loss: 1.570298 [51200/60000]\n",
      "loss: 1.464267 [57600/60000]\n",
      "Test Error: \n",
      " Accuracy: 60.3%, Avg loss: 1.481035\n",
      "\n",
      "Epoch 3\n",
      "--------------------------------------\n",
      "loss: 1.556883 [    0/60000]\n",
      "loss: 1.523690 [ 6400/60000]\n",
      "loss: 1.364284 [12800/60000]\n",
      "loss: 1.435637 [19200/60000]\n",
      "loss: 1.311860 [25600/60000]\n",
      "loss: 1.323286 [32000/60000]\n",
      "loss: 1.341657 [38400/60000]\n",
      "loss: 1.255004 [44800/60000]\n",
      "loss: 1.297245 [51200/60000]\n",
      "loss: 1.199847 [57600/60000]\n",
      "Test Error: \n",
      " Accuracy: 63.0%, Avg loss: 1.224134\n",
      "\n",
      "Epoch 4\n",
      "--------------------------------------\n",
      "loss: 1.305125 [    0/60000]\n",
      "loss: 1.292535 [ 6400/60000]\n",
      "loss: 1.117761 [12800/60000]\n",
      "loss: 1.221004 [19200/60000]\n",
      "loss: 1.093387 [25600/60000]\n",
      "loss: 1.128926 [32000/60000]\n",
      "loss: 1.155511 [38400/60000]\n",
      "loss: 1.082148 [44800/60000]\n",
      "loss: 1.127556 [51200/60000]\n",
      "loss: 1.045421 [57600/60000]\n",
      "Test Error: \n",
      " Accuracy: 64.5%, Avg loss: 1.065679\n",
      "\n",
      "Epoch 5\n",
      "--------------------------------------\n",
      "loss: 1.137673 [    0/60000]\n",
      "loss: 1.148178 [ 6400/60000]\n",
      "loss: 0.955889 [12800/60000]\n",
      "loss: 1.087736 [19200/60000]\n",
      "loss: 0.960196 [25600/60000]\n",
      "loss: 0.999093 [32000/60000]\n",
      "loss: 1.041187 [38400/60000]\n",
      "loss: 0.973944 [44800/60000]\n",
      "loss: 1.017059 [51200/60000]\n",
      "loss: 0.949259 [57600/60000]\n",
      "Test Error: \n",
      " Accuracy: 65.8%, Avg loss: 0.964320\n",
      "\n",
      "Done!\n"
     ]
    }
   ],
   "source": [
    "def train(dataloader, model, loss_fn, optimizer):\n",
    "    size = len(dataloader.dataset)\n",
    "    model.train() # 모델이 학습하도록 트레인 단계를 활성화\n",
    "    \n",
    "    for batch, (X,y) in enumerate(dataloader):\n",
    "        X, y = X.to(device), y.to(device)\n",
    "        \n",
    "        # 모델의 에러를 계산\n",
    "        pred = model(X) # 포워드 연산\n",
    "        loss = loss_fn(pred, y) # loss 연산\n",
    "        \n",
    "        # 역전파\n",
    "        optimizer.zero_grad() # 매 이터레이션마다 그래디언트를 초기화\n",
    "        loss.backward() # 역전파가 진행되어 w,r,t 그래프잎의 기울기를 계산한다.\n",
    "        optimizer.step() # 가중치 업데이트\n",
    "        \n",
    "        if batch % 100 == 0: # 매 100회 배치를 돌 때마다 리포트 수행\n",
    "            loss, current = loss.item(), batch * len(X)\n",
    "            print(f\"loss: {loss:>7f} [{current:>5d}/{size:>5d}]\")\n",
    "            \n",
    "def test(dataloader, model, loss_fn):\n",
    "    size = len(dataloader.dataset)\n",
    "    num_batches = len(dataloader)\n",
    "    model.eval() # 평가를 수행한다는 의미\n",
    "    test_loss, correct = 0, 0\n",
    "    \n",
    "    with torch.no_grad(): # 그라데이션 계산을 비활성화\n",
    "        for X,y in dataloader:\n",
    "            X, y = X.to(device), y.to(device)\n",
    "\n",
    "            # 모델의 에러를 계산\n",
    "            pred = model(X) # 포워드 연산\n",
    "            test_loss += loss_fn(pred, y).item() # loss 연산\n",
    "            correct += (pred.argmax(1) == y).type(torch.float).sum().item()\n",
    "    test_loss /= num_batches\n",
    "    correct /= size\n",
    "    print(f\"Test Error: \\n Accuracy: {(100*correct):>0.1f}%, Avg loss: {test_loss:>8f}\\n\")\n",
    "\n",
    "    \n",
    "epochs = 5\n",
    "for t in range(epochs):\n",
    "    print(f'Epoch {t+1}\\n--------------------------------------')\n",
    "    train(train_dataloader, model, loss_fn, optimizer)\n",
    "    test(test_dataloader, model, loss_fn)\n",
    "print('Done!')"
   ]
  },
  {
   "cell_type": "markdown",
   "id": "5681066f-d562-42a0-99af-e5d63366b996",
   "metadata": {},
   "source": [
    "## 모델 저장과 불러오기"
   ]
  },
  {
   "cell_type": "code",
   "execution_count": 4,
   "id": "fc6b9897-4069-4656-acf3-71f8e3d33996",
   "metadata": {},
   "outputs": [
    {
     "ename": "NameError",
     "evalue": "name 'model' is not defined",
     "output_type": "error",
     "traceback": [
      "\u001b[1;31m---------------------------------------------------------------------------\u001b[0m",
      "\u001b[1;31mNameError\u001b[0m                                 Traceback (most recent call last)",
      "Input \u001b[1;32mIn [4]\u001b[0m, in \u001b[0;36m<cell line: 1>\u001b[1;34m()\u001b[0m\n\u001b[1;32m----> 1\u001b[0m torch\u001b[38;5;241m.\u001b[39msave(\u001b[43mmodel\u001b[49m\u001b[38;5;241m.\u001b[39mstate_dict(), \u001b[38;5;124m\"\u001b[39m\u001b[38;5;124mmodel.pth\u001b[39m\u001b[38;5;124m\"\u001b[39m)\n\u001b[0;32m      2\u001b[0m \u001b[38;5;28mprint\u001b[39m(\u001b[38;5;124m\"\u001b[39m\u001b[38;5;124mPytorch 모델의 상태를 model.pth에 저장했다.\u001b[39m\u001b[38;5;124m\"\u001b[39m)\n",
      "\u001b[1;31mNameError\u001b[0m: name 'model' is not defined"
     ]
    }
   ],
   "source": [
    "torch.save(model.state_dict(), \"model.pth\")\n",
    "print(\"Pytorch 모델의 상태를 model.pth에 저장했다.\")"
   ]
  },
  {
   "cell_type": "code",
   "execution_count": 8,
   "id": "f0d315e7-1089-44e0-957f-4b4e7b54e7f4",
   "metadata": {},
   "outputs": [
    {
     "data": {
      "text/plain": [
       "<All keys matched successfully>"
      ]
     },
     "execution_count": 8,
     "metadata": {},
     "output_type": "execute_result"
    }
   ],
   "source": [
    "mode = NerualNetwork()\n",
    "model.load_state_dict(torch.load(\"model.pth\"))"
   ]
  },
  {
   "cell_type": "markdown",
   "id": "d6099647-b49d-4bb4-842e-95e73b72d719",
   "metadata": {},
   "source": [
    "## 불러온 모델을 사용해 예측 수행하기"
   ]
  },
  {
   "cell_type": "code",
   "execution_count": 9,
   "id": "1c8ea473-eed8-4ecf-9040-df5c37f754c0",
   "metadata": {},
   "outputs": [
    {
     "name": "stdout",
     "output_type": "stream",
     "text": [
      "Predicted: \"Ankle boot\", Actual: \"Ankle boot\"\n"
     ]
    }
   ],
   "source": [
    "classes = [\n",
    "    \"T-shirt/top\",\n",
    "    \"Trouse\",\n",
    "    \"Pullover\",\n",
    "    \"Dress\",\n",
    "    \"Coat\",\n",
    "    \"Sandal\",\n",
    "    \"Shirt\",\n",
    "    \"Sneaker\",\n",
    "    \"Bag\",\n",
    "    \"Ankle boot\",\n",
    "]\n",
    "\n",
    "model.eval()\n",
    "x, y = test_data[0][0], test_data[0][1]\n",
    "with torch.no_grad():\n",
    "    pred = model(x)\n",
    "    predicted, actual = classes[pred[0].argmax(0)], classes[y]\n",
    "    print(f'Predicted: \"{predicted}\", Actual: \"{actual}\"')"
   ]
  },
  {
   "cell_type": "code",
   "execution_count": null,
   "id": "8d7ec084-84d0-483d-ab5e-ae87e8632341",
   "metadata": {},
   "outputs": [],
   "source": [
    "import matplotlib.pyplot as plt\n",
    "import matplotlib.cm as cm\n",
    "\n",
    "plt.imshow(test_data[0][0][0].shape, cmap=cm.gray)"
   ]
  },
  {
   "cell_type": "code",
   "execution_count": 11,
   "id": "b4c49db8-37f1-400b-a617-4b8df165e4a0",
   "metadata": {},
   "outputs": [
    {
     "data": {
      "text/plain": [
       "torch.Size([28, 28])"
      ]
     },
     "execution_count": 11,
     "metadata": {},
     "output_type": "execute_result"
    }
   ],
   "source": []
  },
  {
   "cell_type": "code",
   "execution_count": null,
   "id": "5743c532-eb71-4fb4-a9cb-e77edf4c8811",
   "metadata": {},
   "outputs": [],
   "source": []
  }
 ],
 "metadata": {
  "kernelspec": {
   "display_name": "Python 3 (ipykernel)",
   "language": "python",
   "name": "python3"
  },
  "language_info": {
   "codemirror_mode": {
    "name": "ipython",
    "version": 3
   },
   "file_extension": ".py",
   "mimetype": "text/x-python",
   "name": "python",
   "nbconvert_exporter": "python",
   "pygments_lexer": "ipython3",
   "version": "3.9.12"
  }
 },
 "nbformat": 4,
 "nbformat_minor": 5
}
