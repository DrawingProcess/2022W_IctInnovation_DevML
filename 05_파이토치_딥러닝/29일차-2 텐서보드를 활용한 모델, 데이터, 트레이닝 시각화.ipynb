{
 "cells": [
  {
   "cell_type": "markdown",
   "id": "1f3d66a3-9278-4dae-a40b-fc3afefee7c2",
   "metadata": {},
   "source": [
    "# 텐서보드를 활용한 모델, 데이터, 트레이닝 시각화\n",
    "\n",
    "## 텐서보드에 필요한 라이브러리, 데이터셋, 네트워크 구성"
   ]
  },
  {
   "cell_type": "code",
   "execution_count": 1,
   "id": "8485441b-944f-44ac-a749-5832d8dd6d05",
   "metadata": {},
   "outputs": [],
   "source": [
    "# imports\n",
    "import matplotlib.pyplot as plt\n",
    "import numpy as np\n",
    "\n",
    "import torch\n",
    "import torchvision\n",
    "import torchvision.transforms as transforms\n",
    "\n",
    "import torch.nn as nn\n",
    "import torch.nn.functional as F\n",
    "import torch.optim as optim\n",
    "\n",
    "# transforms\n",
    "transform = transforms.Compose(\n",
    "    [transforms.ToTensor(),\n",
    "    transforms.Normalize((0.5,), (0.5,))])\n",
    "\n",
    "# datasets\n",
    "trainset = torchvision.datasets.FashionMNIST('./data',\n",
    "    download=True,\n",
    "    train=True,\n",
    "    transform=transform)\n",
    "testset = torchvision.datasets.FashionMNIST('./data',\n",
    "    download=True,\n",
    "    train=False,\n",
    "    transform=transform)\n",
    "\n",
    "# dataloaders\n",
    "trainloader = torch.utils.data.DataLoader(trainset, batch_size=4,\n",
    "                                        shuffle=True, num_workers=2)\n",
    "\n",
    "\n",
    "testloader = torch.utils.data.DataLoader(testset, batch_size=4,\n",
    "                                        shuffle=False, num_workers=2)\n",
    "\n",
    "# constant for classes\n",
    "classes = ('T-shirt/top', 'Trouser', 'Pullover', 'Dress', 'Coat',\n",
    "        'Sandal', 'Shirt', 'Sneaker', 'Bag', 'Ankle Boot')\n",
    "\n",
    "# helper function to show an image\n",
    "# (used in the `plot_classes_preds` function below)\n",
    "def matplotlib_imshow(img, one_channel=False):\n",
    "    if one_channel:\n",
    "        img = img.mean(dim=0)\n",
    "    img = img / 2 + 0.5     # unnormalize\n",
    "    npimg = img.numpy()\n",
    "    if one_channel:\n",
    "        plt.imshow(npimg, cmap=\"Greys\")\n",
    "    else:\n",
    "        plt.imshow(np.transpose(npimg, (1, 2, 0)))\n",
    "\n",
    "\n",
    "\n",
    "class Net(nn.Module):\n",
    "    def __init__(self):\n",
    "        super(Net, self).__init__()\n",
    "        self.conv1 = nn.Conv2d(1, 6, 5)\n",
    "        self.pool = nn.MaxPool2d(2, 2)\n",
    "        self.conv2 = nn.Conv2d(6, 16, 5)\n",
    "        self.fc1 = nn.Linear(16 * 4 * 4, 120)\n",
    "        self.fc2 = nn.Linear(120, 84)\n",
    "        self.fc3 = nn.Linear(84, 10)\n",
    "\n",
    "    def forward(self, x):\n",
    "        x = self.pool(F.relu(self.conv1(x)))\n",
    "        x = self.pool(F.relu(self.conv2(x)))\n",
    "        x = x.view(-1, 16 * 4 * 4)\n",
    "        x = F.relu(self.fc1(x))\n",
    "        x = F.relu(self.fc2(x))\n",
    "        x = self.fc3(x)\n",
    "        return x\n",
    "\n",
    "\n",
    "net = Net()\n",
    "\n",
    "\n",
    "criterion = nn.CrossEntropyLoss()\n",
    "optimizer = optim.SGD(net.parameters(), lr=0.001, momentum=0.9)"
   ]
  },
  {
   "cell_type": "markdown",
   "id": "43bb564c-7cfa-4b14-906e-615faa036785",
   "metadata": {},
   "source": [
    "## 텐서보드 설정하기\n",
    "- 텐서보드를 섲어하고 torch.utils에서 텐서보드를 임포트한다.\n",
    "- 텐서보드에 정보를 쓰기 위한 핵심 객체를 SummaryWriter를 정의"
   ]
  },
  {
   "cell_type": "code",
   "execution_count": 3,
   "id": "37f0882b-5c30-400f-89a0-17d5f09c3fb5",
   "metadata": {},
   "outputs": [],
   "source": [
    "from torch.utils.tensorboard import SummaryWriter\n",
    "\n",
    "writer = SummaryWriter('runs/fashion_mnist_experiment_1') # runs 폴더가 생성됨"
   ]
  },
  {
   "cell_type": "markdown",
   "id": "79e2f75a-ede8-44c5-909b-7e491ce65061",
   "metadata": {},
   "source": [
    "make_grid를 사용해 TensorBoard의 그리드에 이미지를 작성한다."
   ]
  },
  {
   "cell_type": "code",
   "execution_count": 4,
   "id": "5c58f9fc-25ba-4851-ac0d-6374d2e82d6d",
   "metadata": {},
   "outputs": [],
   "source": [
    "import os\n",
    "os.environ['KMP_DUPLICATE_LIB_OK'] = 'True' # Jupyter 이미지 출력 오류를 잡음"
   ]
  },
  {
   "cell_type": "code",
   "execution_count": 6,
   "id": "24ceb936-59bf-435f-a7ec-59d6742874f6",
   "metadata": {},
   "outputs": [
    {
     "data": {
      "image/png": "[encoded data removed]",
      "text/plain": [
       "<Figure size 432x288 with 1 Axes>"
      ]
     },
     "metadata": {
      "needs_background": "light"
     },
     "output_type": "display_data"
    }
   ],
   "source": [
    "# 트레이닝 데이터 셋을 일부 가져온다.\n",
    "dataiter = iter(trainloader) # 원래는 for문으로 루프를 구성해야 하나 iter를 사용해서 데이터를 하나만 출력할 수 있다.\n",
    "images, labels = next(dataiter) \n",
    "\n",
    "# 이미지의 그리드를 생성하고 이미지로 확인한다.\n",
    "img_grid = torchvision.utils.make_grid(images)\n",
    "matplotlib_imshow(img_grid, one_channel=True) # 주피터에 그림을 그림\n",
    "writer.add_image('four_fashion_mnist_images', img_grid) # runs에 정보를 작성한다."
   ]
  },
  {
   "cell_type": "markdown",
   "id": "efc1d171-13e1-4a98-a5dc-a34b3c1879c1",
   "metadata": {},
   "source": [
    "## 텐서보드를 사용하여 모델 검사"
   ]
  },
  {
   "cell_type": "code",
   "execution_count": 8,
   "id": "ffd2b0ab-ac77-4c3b-a604-ac055b570bb5",
   "metadata": {},
   "outputs": [],
   "source": [
    "writer.add_graph(net, images)\n",
    "writer.close()"
   ]
  },
  {
   "cell_type": "markdown",
   "id": "7d62a4f1-3db3-402c-b2ba-20abed2dd3cd",
   "metadata": {},
   "source": [
    "## 텐서보드에 \"프로젝트\" 추가하기"
   ]
  },
  {
   "cell_type": "code",
   "execution_count": 16,
   "id": "d69e3ca1-e5e2-4ce0-a0c7-2386e02a814c",
   "metadata": {},
   "outputs": [
    {
     "name": "stdout",
     "output_type": "stream",
     "text": [
      "warning: Embedding dir exists, did you set global_step for add_embedding()?\n"
     ]
    }
   ],
   "source": [
    "import tensorflow as tf\n",
    "import tensorboard as tb\n",
    "\n",
    "tf.io.gfile = tb.compat.tensorflow_stub.io.gfile # 오류 방지용\n",
    "\n",
    "# 데이터셋에서 n개의 임의의 데이터 포인트와 그에 해당하는 라벨을 선택한다.\n",
    "def select_n_random(data, labels, n=100):\n",
    "    assert len(data) == len(labels)\n",
    "    perm = torch.randperm(len(data))\n",
    "    return data[perm][:n], labels[perm][:n]\n",
    "\n",
    "# 트레인 데이터셋으로 부터 100개의 데이터 추출\n",
    "writer = SummaryWriter('runs/fashion_mnist_experiment_1') # runs 폴더가 생성됨\n",
    "images, labels = select_n_random(trainset.data, trainset.targets)\n",
    "class_labels = [classes[lab] for lab in labels]\n",
    "features = images.view(-1, 28*28)\n",
    "writer.add_embedding(features,\n",
    "                    metadata=class_labels,\n",
    "                    label_img=images.unsqueeze(1),\n",
    "                    global_step=111\n",
    "                   )\n",
    "\n",
    "writer.close()"
   ]
  },
  {
   "cell_type": "markdown",
   "id": "1381fab3-bcd5-4ec2-8f23-402b265524e9",
   "metadata": {},
   "source": [
    "## 텐서보드로 모델 학습 추적하기"
   ]
  },
  {
   "cell_type": "code",
   "execution_count": 24,
   "id": "80f922ee-2a7c-4832-a3b7-dda30ee49284",
   "metadata": {},
   "outputs": [
    {
     "name": "stdout",
     "output_type": "stream",
     "text": [
      "Finished Training\n"
     ]
    }
   ],
   "source": [
    "# 학습된 신경망과 이미지 목록으로부터 예측 결과 및 확률을 생성합니다.\n",
    "def images_to_probs(net, images):\n",
    "    output = net(images) # 포워드 패스\n",
    "    _, preds_tensor = torch.max(output, 1)\n",
    "    preds = np.squeeze(preds_tensor.numpy())\n",
    "    return preds, [F.softmax(el, dim=0)[i].item() for i, el in zip(preds, output)]\n",
    "\n",
    "def plot_classes_preds(net, images, labels):\n",
    "    preds, probs= images_to_probs(net, images)\n",
    "    fig = plt.figure(figsize=(12,48))\n",
    "    \n",
    "    for idx in np.arange(4):\n",
    "        ax = fig.add_subplot(1,4, idx+1, xticks=[], yticks=[])\n",
    "        matplotlib_imshow(images[idx], one_channel=True)\n",
    "        ax.set_title(\n",
    "            \"{0}, {1:.1f}%\\n(labels: {2})\".format(\n",
    "                classes[preds[idx]], probs[idx] * 100.0, classes[labels[idx]]),\n",
    "            color=(\"green\" if preds[idx]==labels[idx].item() else \"red\"))\n",
    "        \n",
    "    return fig\n",
    "\n",
    "running_loss = 0.0\n",
    "for epoch in range(1):  # 데이터셋을 여러번 반복\n",
    "    for i, data in enumerate(trainloader, 0):\n",
    "        inputs, labels = data # [inputs, labels]의 목록인 data로부터 입력을 받은 후;\n",
    "        \n",
    "        # 포워드 패스\n",
    "        outputs = net(inputs) \n",
    "        loss = criterion(outputs, labels) # 오류 연산\n",
    "        \n",
    "        # 역전파 및 업데이트 수행\n",
    "        optimizer.zero_grad() \n",
    "        loss.backward()\n",
    "        optimizer.step()\n",
    "        \n",
    "        running_loss += loss.item()\n",
    "        if i % 1000 == 999:\n",
    "            writer.add_scalar('training loss', running_loss/1000,\n",
    "                               epoch * len(trainloader) + i)\n",
    "            \n",
    "            # 무작위 미니배치(mini-batch)에 대한 모델의 예측 결과를 보여주도록\n",
    "            # Matplotlib Figure를 기록합니다\n",
    "            writer.add_figure('predictions vs. actuals',\n",
    "                            plot_classes_preds(net, inputs, labels),\n",
    "                            global_step=epoch * len(trainloader) + i)\n",
    "            running_loss = 0.0\n",
    "print('Finished Training')"
   ]
  },
  {
   "cell_type": "markdown",
   "id": "88135bcd-1788-4167-92d7-11f66d7249d2",
   "metadata": {},
   "source": [
    "## 텐서보드 서버 구동"
   ]
  },
  {
   "cell_type": "code",
   "execution_count": 25,
   "id": "b07ab38b-66a0-4be2-8f61-397f5260b22d",
   "metadata": {},
   "outputs": [
    {
     "name": "stdout",
     "output_type": "stream",
     "text": [
      "^C\n"
     ]
    }
   ],
   "source": [
    "# runs에 기록된 정보를 시각화\n",
    "# 아래 명령을 실행하고 localhost:6006\n",
    "!tensorboard --logdir=runs"
   ]
  },
  {
   "cell_type": "code",
   "execution_count": null,
   "id": "261484c6-17ea-4369-b557-8d06507033f1",
   "metadata": {},
   "outputs": [],
   "source": []
  }
 ],
 "metadata": {
  "kernelspec": {
   "display_name": "Python 3 (ipykernel)",
   "language": "python",
   "name": "python3"
  },
  "language_info": {
   "codemirror_mode": {
    "name": "ipython",
    "version": 3
   },
   "file_extension": ".py",
   "mimetype": "text/x-python",
   "name": "python",
   "nbconvert_exporter": "python",
   "pygments_lexer": "ipython3",
   "version": "3.9.12"
  }
 },
 "nbformat": 4,
 "nbformat_minor": 5
}
